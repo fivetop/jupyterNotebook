{
  "nbformat": 4,
  "nbformat_minor": 0,
  "metadata": {
    "kernelspec": {
      "display_name": "Python 3",
      "language": "python",
      "name": "python3"
    },
    "language_info": {
      "codemirror_mode": {
        "name": "ipython",
        "version": 3
      },
      "file_extension": ".py",
      "mimetype": "text/x-python",
      "name": "python",
      "nbconvert_exporter": "python",
      "pygments_lexer": "ipython3",
      "version": "3.7.3"
    },
    "colab": {
      "name": "TF_2_x_CNN_Example_0_DI.ipynb",
      "provenance": [],
      "collapsed_sections": []
    }
  },
  "cells": [
    {
      "cell_type": "markdown",
      "metadata": {
        "id": "nwhO_AlIUsBB"
      },
      "source": [
        "#### [예제 0] 컨벌루션 파이썬 코드 구현 및 컨벌루션 결과 이미지 확인\n",
        "\n"
      ]
    },
    {
      "cell_type": "code",
      "metadata": {
        "id": "DhtfWPY5UsBE",
        "colab": {
          "base_uri": "https://localhost:8080/",
          "height": 265
        },
        "outputId": "0b3ea37f-909e-4e99-d9ae-7fb132a9b18a"
      },
      "source": [
        "from tensorflow.keras.datasets import mnist\n",
        "import matplotlib.pyplot as plt\n",
        "\n",
        "# mnist data download\n",
        "(x_train, y_train), (x_test, y_test) = mnist.load_data()\n",
        "\n",
        "plt.imshow(x_train[2], cmap='gray') # 2 번째 데이터 \n",
        "plt.show()"
      ],
      "execution_count": null,
      "outputs": [
        {
          "output_type": "display_data",
          "data": {
            "image/png": "[encoded data removed]",
            "text/plain": [
              "<Figure size 432x288 with 1 Axes>"
            ]
          },
          "metadata": {
            "tags": [],
            "needs_background": "light"
          }
        }
      ]
    },
    {
      "cell_type": "markdown",
      "metadata": {
        "id": "u5E7hcGfUsBL"
      },
      "source": [
        "#### 이미지 필터 정의 (예전에는 직접 계산하였지만, 이젠 딥러닝으로 자동학습함)"
      ]
    },
    {
      "cell_type": "code",
      "metadata": {
        "id": "d1rf6-t-UsBM"
      },
      "source": [
        "import numpy as np\n",
        "\n",
        "horizontal_filter = np.array([[1., 1., 1.], \n",
        "                             [0., 0., 0.], \n",
        "                             [-1., -1., -1.]])\n",
        "\n",
        "vertical_filter = np.array([[1., 0., -1.],\n",
        "                           [1., 0., -1.],\n",
        "                           [1., 0., -1.]])\n",
        "\n",
        "sharpen_filter = np.array([[0., -1., 0.],\n",
        "                           [-1., 5., -1.],\n",
        "                           [0., -1., 0.]])\n",
        "\n",
        "blur_filter = np.array([[0.11, 0.11, 0.11],\n",
        "                        [0.11, 0.11, 0.11],\n",
        "                        [0.11, 0.11, 0.11]])\n",
        "\n",
        "edge_1_filter = np.array([[1., 0., -1.],\n",
        "                           [0., 0., 0.],\n",
        "                           [-1., 0., 1.]])\n",
        "\n",
        "edge_2_filter = np.array([[0., -1., 0.],\n",
        "                           [-1., 4., -1.],\n",
        "                           [0., -1., 0.]])\n",
        "\n",
        "edge_3_filter = np.array([[-1., -1., -1.],\n",
        "                           [-1., 8., -1.],\n",
        "                           [-1., -1., -1.]])\n"
      ],
      "execution_count": null,
      "outputs": []
    },
    {
      "cell_type": "markdown",
      "metadata": {
        "id": "-xBMAsdrHtpr"
      },
      "source": [
        "# conv2d_simple()\n",
        "컨볼루션 연산 함수, stride = 1, padding 없이 순수 연산 수행"
      ]
    },
    {
      "cell_type": "code",
      "metadata": {
        "id": "NsHzaufQ73Oa"
      },
      "source": [
        "def conv2d_simple(input_image, filter, filter_size):\n",
        "\n",
        "    original_image_size = input_image.shape[0]\n",
        "\n",
        "    conv_output_size = int((original_image_size - 3)/1 + 1)\n",
        "\n",
        "    filtered_image = np.zeros((conv_output_size, conv_output_size))\n",
        "\n",
        "    for i in range(conv_output_size):\n",
        "\n",
        "        for j in range(conv_output_size):\n",
        "\n",
        "            # 컨볼루션 연산\n",
        "            conv_result = input_image[i:(i + filter_size), j:(j + filter_size)] * filter\n",
        "            conv_sum = np.sum(conv_result)\n",
        "\n",
        "            if(conv_sum > 255):\n",
        "                conv_sum = 255\n",
        "                \n",
        "            filtered_image[i, j] = conv_sum\n",
        "      \n",
        "    return filtered_image"
      ],
      "execution_count": null,
      "outputs": []
    },
    {
      "cell_type": "markdown",
      "metadata": {
        "id": "WgLxyM8aDAxn"
      },
      "source": [
        "컨볼루션 연산 수행 및 결과 확인"
      ]
    },
    {
      "cell_type": "code",
      "metadata": {
        "id": "jJ3TiXErApef"
      },
      "source": [
        "vertical_filtered_image = conv2d_simple(x_train[2], vertical_filter, 3)\n",
        "\n",
        "horizontal_filtered_image = conv2d_simple(x_train[2], horizontal_filter, 3)"
      ],
      "execution_count": null,
      "outputs": []
    },
    {
      "cell_type": "code",
      "metadata": {
        "colab": {
          "base_uri": "https://localhost:8080/",
          "height": 244
        },
        "id": "Uw5lZRVIHg-B",
        "outputId": "1383e8ea-f332-4b48-db11-120cd9e49b30"
      },
      "source": [
        "plt.figure(figsize=(6,4))\n",
        "\n",
        "plt.subplot(1, 2, 1)\n",
        "plt.title('vertical')\n",
        "plt.imshow(vertical_filtered_image, cmap='gray')\n",
        "\n",
        "plt.subplot(1, 2, 2)\n",
        "plt.title('horizontal')\n",
        "plt.imshow(horizontal_filtered_image, cmap='gray')\n",
        "\n",
        "plt.tight_layout()\n",
        "plt.show()"
      ],
      "execution_count": null,
      "outputs": [
        {
          "output_type": "display_data",
          "data": {
            "image/png": "[encoded data removed]",
            "text/plain": [
              "<Figure size 432x288 with 2 Axes>"
            ]
          },
          "metadata": {
            "tags": [],
            "needs_background": "light"
          }
        }
      ]
    },
    {
      "cell_type": "code",
      "metadata": {
        "id": "c5Tqwm816JgG"
      },
      "source": [
        "blur_filtered_image = conv2d_simple(x_train[2], blur_filter, 3)\n",
        "\n",
        "sharpen_filtered_image = conv2d_simple(x_train[2], sharpen_filter, 3)"
      ],
      "execution_count": null,
      "outputs": []
    },
    {
      "cell_type": "code",
      "metadata": {
        "colab": {
          "base_uri": "https://localhost:8080/",
          "height": 244
        },
        "id": "SemfmentHFZ2",
        "outputId": "b79d6c04-083e-4346-c591-87790262c28a"
      },
      "source": [
        "plt.figure(figsize=(6,4))\n",
        "\n",
        "plt.subplot(1, 2, 1)\n",
        "plt.title('blur')\n",
        "plt.imshow(blur_filtered_image,cmap='gray')\n",
        "\n",
        "plt.subplot(1, 2, 2)\n",
        "plt.title('sharpen')\n",
        "plt.imshow(sharpen_filtered_image,cmap='gray')\n",
        "\n",
        "plt.tight_layout()\n",
        "plt.show()"
      ],
      "execution_count": null,
      "outputs": [
        {
          "output_type": "display_data",
          "data": {
            "image/png": "[encoded data removed]",
            "text/plain": [
              "<Figure size 432x288 with 2 Axes>"
            ]
          },
          "metadata": {
            "tags": [],
            "needs_background": "light"
          }
        }
      ]
    },
    {
      "cell_type": "code",
      "metadata": {
        "id": "VE7d1l0i79Sh"
      },
      "source": [
        "edge_1_filtered_image = conv2d_simple(x_train[2], edge_1_filter, 3)\n",
        "\n",
        "edge_2_filtered_image = conv2d_simple(x_train[2], edge_2_filter, 3)\n",
        "\n",
        "edge_3_filtered_image = conv2d_simple(x_train[2], edge_3_filter, 3)"
      ],
      "execution_count": null,
      "outputs": []
    },
    {
      "cell_type": "code",
      "metadata": {
        "colab": {
          "base_uri": "https://localhost:8080/",
          "height": 222
        },
        "id": "yddZA0PVHACk",
        "outputId": "f7499f6d-7e14-462c-93c7-eb8cb12d5b4b"
      },
      "source": [
        "plt.figure(figsize=(8,8))\n",
        "\n",
        "plt.subplot(1, 3, 1)\n",
        "plt.title('edge1')\n",
        "plt.imshow(edge_1_filtered_image,cmap='gray')\n",
        "\n",
        "plt.subplot(1, 3, 2)\n",
        "plt.title('edge2')\n",
        "plt.imshow(edge_2_filtered_image,cmap='gray')\n",
        "\n",
        "plt.subplot(1, 3, 3)\n",
        "plt.title('edge3')\n",
        "plt.imshow(edge_3_filtered_image,cmap='gray')\n",
        "\n",
        "plt.tight_layout()\n",
        "plt.show()"
      ],
      "execution_count": null,
      "outputs": [
        {
          "output_type": "display_data",
          "data": {
            "image/png": "[encoded data removed]",
            "text/plain": [
              "<Figure size 576x576 with 3 Axes>"
            ]
          },
          "metadata": {
            "tags": [],
            "needs_background": "light"
          }
        }
      ]
    },
    {
      "cell_type": "markdown",
      "metadata": {
        "id": "0DfXOenYUsBY"
      },
      "source": [
        "#### 다야한 이미지 필터를 적용한 sobel image"
      ]
    },
    {
      "cell_type": "code",
      "metadata": {
        "id": "mN_PI73bUsBa",
        "colab": {
          "base_uri": "https://localhost:8080/",
          "height": 297
        },
        "outputId": "beda54db-66ac-411a-b7c5-02e8e6382877"
      },
      "source": [
        "sobel_image = np.sqrt(np.square(horizontal_filtered_image) \n",
        "+ np.square(vertical_filtered_image)\n",
        "+np.square(blur_filtered_image)\n",
        "+np.square(sharpen_filtered_image))\n",
        "\n",
        "plt.imshow(sobel_image,cmap='gray')\n",
        "\n",
        "plt.tight_layout()\n",
        "plt.show()"
      ],
      "execution_count": null,
      "outputs": [
        {
          "output_type": "display_data",
          "data": {
            "image/png": "[encoded data removed]",
            "text/plain": [
              "<Figure size 432x288 with 1 Axes>"
            ]
          },
          "metadata": {
            "tags": [],
            "needs_background": "light"
          }
        }
      ]
    },
    {
      "cell_type": "code",
      "metadata": {
        "id": "An4HUnJaXdD5"
      },
      "source": [
        ""
      ],
      "execution_count": null,
      "outputs": []
    }
  ]
}