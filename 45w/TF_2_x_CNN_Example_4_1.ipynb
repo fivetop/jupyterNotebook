{
  "cells": [
    {
      "cell_type": "markdown",
      "metadata": {
        "id": "view-in-github",
        "colab_type": "text"
      },
      "source": [
        "<a href=\"https://colab.research.google.com/github/fivetop/romee/blob/main/TF_2_x_CNN_Example_4_1.ipynb\" target=\"_parent\"><img src=\"https://colab.research.google.com/assets/colab-badge.svg\" alt=\"Open In Colab\"/></a>"
      ]
    },
    {
      "cell_type": "markdown",
      "metadata": {
        "id": "AMxhCaVt8uqn"
      },
      "source": [
        "### Basic CNN Architecture (2 Conv / 1 Flatten) 예제\n",
        "\n",
        "1. 입력층 개념은 없애고, Conv2D(input_shape=(28,28,1), ...) 형태여야 한다\n",
        "\n",
        "2. model.fit(), model.evaluate(), model.predict() 실행시킬때 입력데이터의 형변환을 reshape(-1, 28, 28, 1) 같이 tensor 로 해주어야 한다\n",
        "\n",
        "3. 1st conv => 3 x 3 크기의 32 개 필터, padding 있음, 2 x 2 max pooling, 1stride\n",
        "\n",
        "4. 2nd conv => 4 x 4 크기의 64 개 필터, padding 있음, 2 x 2 max pooling, 1stride\n",
        "\n",
        "5. index_label_prediction_list 구현"
      ]
    },
    {
      "cell_type": "code",
      "execution_count": 1,
      "metadata": {
        "id": "Mz7L7JQA0zBd"
      },
      "outputs": [],
      "source": [
        "import tensorflow as tf\n",
        "\n",
        "from tensorflow.keras.layers import Flatten, Dense, Conv2D, MaxPooling2D\n",
        "from tensorflow.keras.models import Sequential\n",
        "from tensorflow.keras.optimizers import Adam\n",
        "from tensorflow.keras.datasets import mnist\n",
        "\n",
        "import numpy as np\n",
        "from datetime import datetime\n",
        "import matplotlib.pyplot as plt\n"
      ]
    },
    {
      "cell_type": "code",
      "execution_count": 2,
      "metadata": {
        "colab": {
          "base_uri": "https://localhost:8080/"
        },
        "id": "hWSWQdg61_pp",
        "outputId": "ce765b65-486e-4816-ded2-b24d3d43c903"
      },
      "outputs": [
        {
          "output_type": "stream",
          "name": "stdout",
          "text": [
            "Downloading data from https://storage.googleapis.com/tensorflow/tf-keras-datasets/mnist.npz\n",
            "11490434/11490434 [==============================] - 0s 0us/step\n",
            "x_train.shape =  (60000, 28, 28)  , x_test.shape =  (10000, 28, 28)\n",
            "t_train.shape =  (60000,)  , t_test.shape =  (10000,)\n"
          ]
        }
      ],
      "source": [
        "(x_train, t_train), (x_test, t_test) = mnist.load_data()\n",
        "\n",
        "x_train = x_train / 255.0\n",
        "x_test = x_test / 255.0\n",
        "\n",
        "print('x_train.shape = ', x_train.shape, ' , x_test.shape = ', x_test.shape)\n",
        "print('t_train.shape = ', t_train.shape, ' , t_test.shape = ', t_test.shape)"
      ]
    },
    {
      "cell_type": "code",
      "execution_count": 3,
      "metadata": {
        "colab": {
          "base_uri": "https://localhost:8080/",
          "height": 589
        },
        "id": "8dvRVX7M_0dY",
        "outputId": "e8d742c8-0fa6-4b49-a581-17f0aed23087"
      },
      "outputs": [
        {
          "output_type": "display_data",
          "data": {
            "text/plain": [
              "<Figure size 720x720 with 25 Axes>"
            ],
            "image/png": "[encoded data removed]"
          },
          "metadata": {}
        }
      ],
      "source": [
        "# 데이터 출력\n",
        "\n",
        "plt.figure(figsize=(10,10))\n",
        "\n",
        "for index in range(25):\n",
        "\n",
        "    plt.subplot(5, 5, index+1)\n",
        "    plt.xticks([])\n",
        "    plt.yticks([])\n",
        "    plt.grid(False)\n",
        "    plt.imshow(x_train[index], cmap='gray')\n",
        "    plt.xlabel(str(t_train[index]))\n",
        "\n",
        "plt.show()"
      ]
    },
    {
      "cell_type": "code",
      "execution_count": 4,
      "metadata": {
        "id": "TyTj4TLi3L2Q"
      },
      "outputs": [],
      "source": [
        "# sequential model construction\n",
        "\n",
        "# conv2D 계산 = 입력채널 32 * 필터 * 출력채널 + 바이어스 => 파라미터 \n",
        "\n",
        "model = Sequential()\n",
        "\n",
        "# 1st conv => 3 x 3 x 32 필터\n",
        "model.add(Conv2D(input_shape=(28,28,1), kernel_size=3, filters=32, strides=(1,1), activation='relu', use_bias=True, padding='SAME'))\n",
        "\n",
        "# 1st pooling\n",
        "model.add(MaxPooling2D(pool_size=(2,2), padding='SAME'))\n",
        "\n",
        "# 2nd conv => 4 x 4 x 64 필터\n",
        "model.add(Conv2D(kernel_size=4, filters=64, strides=(1,1), activation='relu', use_bias=True, padding='SAME'))\n",
        "\n",
        "# 2nd pooling\n",
        "model.add(MaxPooling2D(pool_size=(2,2), padding='SAME'))\n",
        "\n",
        "model.add(Flatten())\n",
        "\n",
        "model.add(Dense(10, activation='softmax'))"
      ]
    },
    {
      "cell_type": "code",
      "execution_count": 5,
      "metadata": {
        "colab": {
          "base_uri": "https://localhost:8080/"
        },
        "id": "PRkYkMr6Dk1H",
        "outputId": "fe25b2f8-af95-4a85-aaf2-d41f3f657b63"
      },
      "outputs": [
        {
          "output_type": "stream",
          "name": "stderr",
          "text": [
            "/usr/local/lib/python3.7/dist-packages/keras/optimizers/optimizer_v2/adam.py:110: UserWarning: The `lr` argument is deprecated, use `learning_rate` instead.\n",
            "  super(Adam, self).__init__(name, **kwargs)\n"
          ]
        }
      ],
      "source": [
        "# model compile\n",
        "# one hot encoding 방식이 아니기 때문에, loss=sparse_categorical_crossentropy 정의\n",
        "\n",
        "model.compile(optimizer=Adam(lr=0.001), loss='sparse_categorical_crossentropy', metrics=['accuracy'])"
      ]
    },
    {
      "cell_type": "code",
      "execution_count": 6,
      "metadata": {
        "colab": {
          "base_uri": "https://localhost:8080/"
        },
        "id": "EB7zqH_H5MTO",
        "outputId": "b6318cb4-18c2-4786-8534-6f9d6731285e"
      },
      "outputs": [
        {
          "output_type": "stream",
          "name": "stdout",
          "text": [
            "Model: \"sequential\"\n",
            "_________________________________________________________________\n",
            " Layer (type)                Output Shape              Param #   \n",
            "=================================================================\n",
            " conv2d (Conv2D)             (None, 28, 28, 32)        320       \n",
            "                                                                 \n",
            " max_pooling2d (MaxPooling2D  (None, 14, 14, 32)       0         \n",
            " )                                                               \n",
            "                                                                 \n",
            " conv2d_1 (Conv2D)           (None, 14, 14, 64)        32832     \n",
            "                                                                 \n",
            " max_pooling2d_1 (MaxPooling  (None, 7, 7, 64)         0         \n",
            " 2D)                                                             \n",
            "                                                                 \n",
            " flatten (Flatten)           (None, 3136)              0         \n",
            "                                                                 \n",
            " dense (Dense)               (None, 10)                31370     \n",
            "                                                                 \n",
            "=================================================================\n",
            "Total params: 64,522\n",
            "Trainable params: 64,522\n",
            "Non-trainable params: 0\n",
            "_________________________________________________________________\n"
          ]
        }
      ],
      "source": [
        "model.summary()"
      ]
    },
    {
      "cell_type": "code",
      "execution_count": 7,
      "metadata": {
        "colab": {
          "base_uri": "https://localhost:8080/"
        },
        "id": "4XxgT7RFva9m",
        "outputId": "23ef6673-154b-4d49-c6ef-fbeb1284b5e3"
      },
      "outputs": [
        {
          "output_type": "stream",
          "name": "stdout",
          "text": [
            "(None, 28, 28, 1) (None, 10)\n"
          ]
        }
      ],
      "source": [
        "# model shape 확인\n",
        "\n",
        "print(model.input_shape, model.output_shape)"
      ]
    },
    {
      "cell_type": "code",
      "execution_count": 8,
      "metadata": {
        "colab": {
          "base_uri": "https://localhost:8080/"
        },
        "id": "lWC9NA-G5vvz",
        "outputId": "1948dae3-ef04-4fc1-ad72-251cb58c8449"
      },
      "outputs": [
        {
          "output_type": "stream",
          "name": "stdout",
          "text": [
            "Epoch 1/50\n",
            "960/960 [==============================] - 12s 4ms/step - loss: 0.1844 - accuracy: 0.9436 - val_loss: 0.0667 - val_accuracy: 0.9789\n",
            "Epoch 2/50\n",
            "960/960 [==============================] - 3s 3ms/step - loss: 0.0553 - accuracy: 0.9831 - val_loss: 0.0588 - val_accuracy: 0.9815\n",
            "Epoch 3/50\n",
            "960/960 [==============================] - 3s 3ms/step - loss: 0.0396 - accuracy: 0.9874 - val_loss: 0.0464 - val_accuracy: 0.9870\n",
            "Epoch 4/50\n",
            "960/960 [==============================] - 4s 4ms/step - loss: 0.0300 - accuracy: 0.9903 - val_loss: 0.0357 - val_accuracy: 0.9882\n",
            "Epoch 5/50\n",
            "960/960 [==============================] - 3s 4ms/step - loss: 0.0227 - accuracy: 0.9923 - val_loss: 0.0390 - val_accuracy: 0.9887\n",
            "Epoch 6/50\n",
            "960/960 [==============================] - 3s 3ms/step - loss: 0.0178 - accuracy: 0.9940 - val_loss: 0.0396 - val_accuracy: 0.9883\n",
            "Epoch 7/50\n",
            "960/960 [==============================] - 3s 4ms/step - loss: 0.0137 - accuracy: 0.9955 - val_loss: 0.0420 - val_accuracy: 0.9886\n",
            "Epoch 8/50\n",
            "960/960 [==============================] - 4s 4ms/step - loss: 0.0125 - accuracy: 0.9959 - val_loss: 0.0468 - val_accuracy: 0.9886\n",
            "Epoch 9/50\n",
            "960/960 [==============================] - 4s 4ms/step - loss: 0.0087 - accuracy: 0.9971 - val_loss: 0.0388 - val_accuracy: 0.9889\n",
            "Epoch 10/50\n",
            "960/960 [==============================] - 4s 4ms/step - loss: 0.0074 - accuracy: 0.9974 - val_loss: 0.0446 - val_accuracy: 0.9900\n",
            "Epoch 11/50\n",
            "960/960 [==============================] - 4s 4ms/step - loss: 0.0073 - accuracy: 0.9974 - val_loss: 0.0453 - val_accuracy: 0.9890\n",
            "Epoch 12/50\n",
            "960/960 [==============================] - 4s 4ms/step - loss: 0.0060 - accuracy: 0.9983 - val_loss: 0.0500 - val_accuracy: 0.9886\n",
            "Epoch 13/50\n",
            "960/960 [==============================] - 4s 4ms/step - loss: 0.0046 - accuracy: 0.9984 - val_loss: 0.0492 - val_accuracy: 0.9888\n",
            "Epoch 14/50\n",
            "960/960 [==============================] - 3s 4ms/step - loss: 0.0047 - accuracy: 0.9985 - val_loss: 0.0558 - val_accuracy: 0.9884\n",
            "Epoch 15/50\n",
            "960/960 [==============================] - 3s 3ms/step - loss: 0.0032 - accuracy: 0.9990 - val_loss: 0.0507 - val_accuracy: 0.9896\n",
            "Epoch 16/50\n",
            "960/960 [==============================] - 3s 3ms/step - loss: 0.0049 - accuracy: 0.9984 - val_loss: 0.0617 - val_accuracy: 0.9882\n",
            "Epoch 17/50\n",
            "960/960 [==============================] - 3s 4ms/step - loss: 0.0036 - accuracy: 0.9989 - val_loss: 0.0604 - val_accuracy: 0.9898\n",
            "Epoch 18/50\n",
            "960/960 [==============================] - 3s 3ms/step - loss: 0.0042 - accuracy: 0.9987 - val_loss: 0.0589 - val_accuracy: 0.9896\n",
            "Epoch 19/50\n",
            "960/960 [==============================] - 3s 4ms/step - loss: 0.0014 - accuracy: 0.9996 - val_loss: 0.0583 - val_accuracy: 0.9898\n",
            "Epoch 20/50\n",
            "960/960 [==============================] - 4s 4ms/step - loss: 0.0019 - accuracy: 0.9994 - val_loss: 0.0951 - val_accuracy: 0.9841\n",
            "Epoch 21/50\n",
            "960/960 [==============================] - 3s 3ms/step - loss: 0.0044 - accuracy: 0.9983 - val_loss: 0.0549 - val_accuracy: 0.9900\n",
            "Epoch 22/50\n",
            "960/960 [==============================] - 4s 4ms/step - loss: 0.0019 - accuracy: 0.9993 - val_loss: 0.0674 - val_accuracy: 0.9898\n",
            "Epoch 23/50\n",
            "960/960 [==============================] - 3s 3ms/step - loss: 0.0033 - accuracy: 0.9990 - val_loss: 0.0644 - val_accuracy: 0.9885\n",
            "Epoch 24/50\n",
            "960/960 [==============================] - 4s 4ms/step - loss: 0.0024 - accuracy: 0.9991 - val_loss: 0.0561 - val_accuracy: 0.9910\n",
            "Epoch 25/50\n",
            "960/960 [==============================] - 3s 3ms/step - loss: 0.0015 - accuracy: 0.9995 - val_loss: 0.0660 - val_accuracy: 0.9900\n",
            "Epoch 26/50\n",
            "960/960 [==============================] - 3s 3ms/step - loss: 0.0034 - accuracy: 0.9989 - val_loss: 0.0659 - val_accuracy: 0.9910\n",
            "Epoch 27/50\n",
            "960/960 [==============================] - 3s 4ms/step - loss: 0.0021 - accuracy: 0.9993 - val_loss: 0.0556 - val_accuracy: 0.9908\n",
            "Epoch 28/50\n",
            "960/960 [==============================] - 3s 3ms/step - loss: 0.0015 - accuracy: 0.9995 - val_loss: 0.0545 - val_accuracy: 0.9918\n",
            "Epoch 29/50\n",
            "960/960 [==============================] - 4s 4ms/step - loss: 0.0013 - accuracy: 0.9996 - val_loss: 0.0641 - val_accuracy: 0.9913\n",
            "Epoch 30/50\n",
            "960/960 [==============================] - 3s 4ms/step - loss: 0.0035 - accuracy: 0.9989 - val_loss: 0.0612 - val_accuracy: 0.9908\n",
            "Epoch 31/50\n",
            "960/960 [==============================] - 3s 3ms/step - loss: 0.0025 - accuracy: 0.9991 - val_loss: 0.0650 - val_accuracy: 0.9904\n",
            "Epoch 32/50\n",
            "960/960 [==============================] - 3s 3ms/step - loss: 8.2922e-04 - accuracy: 0.9998 - val_loss: 0.0797 - val_accuracy: 0.9895\n",
            "Epoch 33/50\n",
            "960/960 [==============================] - 3s 3ms/step - loss: 0.0026 - accuracy: 0.9990 - val_loss: 0.0786 - val_accuracy: 0.9879\n",
            "Epoch 34/50\n",
            "960/960 [==============================] - 4s 4ms/step - loss: 0.0018 - accuracy: 0.9994 - val_loss: 0.0710 - val_accuracy: 0.9904\n",
            "Epoch 35/50\n",
            "960/960 [==============================] - 3s 3ms/step - loss: 0.0010 - accuracy: 0.9997 - val_loss: 0.0732 - val_accuracy: 0.9898\n",
            "Epoch 36/50\n",
            "960/960 [==============================] - 3s 3ms/step - loss: 0.0031 - accuracy: 0.9990 - val_loss: 0.0775 - val_accuracy: 0.9893\n",
            "Epoch 37/50\n",
            "960/960 [==============================] - 3s 4ms/step - loss: 0.0012 - accuracy: 0.9996 - val_loss: 0.0720 - val_accuracy: 0.9908\n",
            "Epoch 38/50\n",
            "960/960 [==============================] - 3s 3ms/step - loss: 0.0010 - accuracy: 0.9997 - val_loss: 0.0764 - val_accuracy: 0.9896\n",
            "Epoch 39/50\n",
            "960/960 [==============================] - 3s 4ms/step - loss: 0.0028 - accuracy: 0.9993 - val_loss: 0.0802 - val_accuracy: 0.9892\n",
            "Epoch 40/50\n",
            "960/960 [==============================] - 4s 4ms/step - loss: 2.7462e-04 - accuracy: 0.9999 - val_loss: 0.0755 - val_accuracy: 0.9912\n",
            "Epoch 41/50\n",
            "960/960 [==============================] - 4s 4ms/step - loss: 3.7911e-05 - accuracy: 1.0000 - val_loss: 0.0759 - val_accuracy: 0.9912\n",
            "Epoch 42/50\n",
            "960/960 [==============================] - 3s 4ms/step - loss: 0.0018 - accuracy: 0.9995 - val_loss: 0.0753 - val_accuracy: 0.9893\n",
            "Epoch 43/50\n",
            "960/960 [==============================] - 4s 4ms/step - loss: 0.0022 - accuracy: 0.9993 - val_loss: 0.0713 - val_accuracy: 0.9912\n",
            "Epoch 44/50\n",
            "960/960 [==============================] - 4s 4ms/step - loss: 3.5180e-04 - accuracy: 0.9999 - val_loss: 0.0731 - val_accuracy: 0.9911\n",
            "Epoch 45/50\n",
            "960/960 [==============================] - 3s 4ms/step - loss: 0.0012 - accuracy: 0.9996 - val_loss: 0.0795 - val_accuracy: 0.9895\n",
            "Epoch 46/50\n",
            "960/960 [==============================] - 3s 3ms/step - loss: 0.0032 - accuracy: 0.9990 - val_loss: 0.0888 - val_accuracy: 0.9888\n",
            "Epoch 47/50\n",
            "960/960 [==============================] - 3s 3ms/step - loss: 0.0014 - accuracy: 0.9995 - val_loss: 0.0895 - val_accuracy: 0.9901\n",
            "Epoch 48/50\n",
            "960/960 [==============================] - 4s 4ms/step - loss: 0.0013 - accuracy: 0.9996 - val_loss: 0.0770 - val_accuracy: 0.9898\n",
            "Epoch 49/50\n",
            "960/960 [==============================] - 4s 4ms/step - loss: 7.0586e-04 - accuracy: 0.9998 - val_loss: 0.0877 - val_accuracy: 0.9903\n",
            "Epoch 50/50\n",
            "960/960 [==============================] - 3s 3ms/step - loss: 6.8547e-04 - accuracy: 0.9999 - val_loss: 0.0746 - val_accuracy: 0.9905\n",
            "\n",
            "\n",
            "Elapsed Time =>  0:03:22.924112\n"
          ]
        }
      ],
      "source": [
        "# 원래 x_train, x_test 의 shape(차원) 은 (이미지 수, 28, 28) 의 3차원 데이터.\n",
        "# 이것을 4차원으로 바꾸기 위해 reshape() 을 사용함.\n",
        "# 가장 처음의 -1 은 batch_size 에 지정된 데이터가 한번에 오는것임.\n",
        "\n",
        "start_time = datetime.now()\n",
        "\n",
        "hist = model.fit(x_train.reshape(-1,28,28,1), t_train, batch_size=50, epochs=50, validation_split=0.2)\n",
        "\n",
        "end_time = datetime.now()\n",
        "\n",
        "print('\\n\\nElapsed Time => ', end_time - start_time)"
      ]
    },
    {
      "cell_type": "code",
      "execution_count": null,
      "metadata": {
        "colab": {
          "base_uri": "https://localhost:8080/",
          "height": 52
        },
        "id": "2C2fV-8K6XsU",
        "outputId": "1b6a4eec-804c-4a13-9aa2-197efa92f1d6"
      },
      "outputs": [
        {
          "name": "stdout",
          "output_type": "stream",
          "text": [
            "313/313 [==============================] - 1s 2ms/step - loss: 0.0643 - accuracy: 0.9902\n"
          ]
        },
        {
          "data": {
            "text/plain": [
              "[0.06431673467159271, 0.9901999831199646]"
            ]
          },
          "execution_count": 9,
          "metadata": {
            "tags": []
          },
          "output_type": "execute_result"
        }
      ],
      "source": [
        "# x_test 도 마찬가지로 데이터를 4차원으로 reshape 으로 변환 해주지 않으면 error\n",
        "\n",
        "model.evaluate(x_test.reshape(-1,28,28,1), t_test)"
      ]
    },
    {
      "cell_type": "code",
      "execution_count": null,
      "metadata": {
        "colab": {
          "base_uri": "https://localhost:8080/",
          "height": 70
        },
        "id": "HrkrXtQ_GXsh",
        "outputId": "0ddb09c3-fc4e-43ce-91ef-9d7348c405e1"
      },
      "outputs": [
        {
          "name": "stdout",
          "output_type": "stream",
          "text": [
            "type(ret_val) =  <class 'numpy.ndarray'> , ret_val.shape =  (10000, 10)\n",
            "98\n",
            "Accuracy =  0.9902\n"
          ]
        }
      ],
      "source": [
        "# index_label_prediction 코드 구현\n",
        "\n",
        "ret_val = model.predict(x_test.reshape(-1,28,28,1))\n",
        "\n",
        "print('type(ret_val) = ', type(ret_val), ', ret_val.shape = ', ret_val.shape)\n",
        "\n",
        "# predict 실행 결과는 softmax 에 의한 확률 결과이므로, argmax 이용해서 10진수로 바꾸어 주어야함\n",
        "\n",
        "predicted_val = np.argmax(ret_val, axis=1)  # 행 단위로 argmax 실행\n",
        "\n",
        "prediction_label_comp_val = np.equal(predicted_val, t_test)\n",
        "\n",
        "# list comprehension 이용하여 index_label_prediction 구현\n",
        "\n",
        "index_label_prediction_list = [ [index, t_test[index], predicted_val[index] ]  for index, result in enumerate(prediction_label_comp_val)  if result == False ]\n",
        "\n",
        "print(len(index_label_prediction_list))\n",
        "\n",
        "print('Accuracy = ', 1 - ( len(index_label_prediction_list) / len(t_test) ))"
      ]
    },
    {
      "cell_type": "code",
      "execution_count": null,
      "metadata": {
        "colab": {
          "base_uri": "https://localhost:8080/",
          "height": 54
        },
        "id": "VHqeirkrdW6r",
        "outputId": "d9905e4b-a909-44e4-dd49-65404daf34d0"
      },
      "outputs": [
        {
          "name": "stdout",
          "output_type": "stream",
          "text": [
            "[[87, 3, 7], [211, 5, 3], [340, 5, 3], [582, 8, 2], [646, 2, 1], [659, 2, 1], [720, 5, 8], [958, 3, 2], [1014, 6, 5], [1039, 7, 2], [1112, 4, 6], [1206, 7, 1], [1232, 9, 4], [1247, 9, 5], [1260, 7, 1], [1319, 8, 0], [1364, 8, 2], [1393, 5, 3], [1414, 9, 7], [1621, 0, 6], [1709, 9, 5], [1790, 2, 7], [1901, 9, 4], [2035, 5, 3], [2043, 4, 8], [2070, 7, 9], [2118, 6, 0], [2129, 9, 8], [2130, 4, 9], [2135, 6, 1], [2185, 0, 8], [2189, 9, 1], [2280, 3, 5], [2293, 9, 4], [2329, 0, 2], [2369, 5, 8], [2406, 9, 4], [2414, 9, 4], [2437, 2, 1], [2447, 4, 9], [2578, 7, 2], [2582, 9, 5], [2597, 5, 3], [2654, 6, 1], [2720, 9, 4], [2743, 5, 8], [2930, 5, 1], [2938, 4, 9], [2939, 9, 5], [2953, 3, 5], [2995, 6, 8], [3060, 9, 3], [3225, 7, 1], [3520, 6, 4], [3534, 4, 8], [3558, 5, 0], [3662, 8, 6], [3727, 8, 9], [3742, 3, 8], [3762, 6, 8], [3808, 7, 8], [4163, 9, 7], [4176, 2, 7], [4201, 1, 4], [4238, 7, 3], [4284, 9, 5], [4289, 2, 7], [4297, 7, 1], [4360, 5, 3], [4500, 9, 1], [4575, 4, 2], [4740, 3, 5], [4761, 9, 8], [4771, 5, 8], [4823, 9, 4], [5127, 2, 7], [5654, 7, 2], [5937, 5, 3], [5955, 3, 8], [6011, 3, 5], [6505, 9, 0], [6532, 0, 5], [6560, 9, 5], [6561, 7, 9], [6576, 7, 1], [6597, 0, 7], [6651, 0, 8], [6847, 6, 4], [7049, 0, 6], [7216, 0, 6], [7574, 4, 1], [8332, 9, 7], [8408, 8, 5], [9540, 1, 8], [9642, 9, 7], [9664, 2, 7], [9692, 9, 3], [9729, 5, 6]]\n"
          ]
        }
      ],
      "source": [
        "print(index_label_prediction_list)"
      ]
    },
    {
      "cell_type": "code",
      "execution_count": null,
      "metadata": {
        "colab": {
          "base_uri": "https://localhost:8080/",
          "height": 281
        },
        "id": "eXg0Lh6V7coF",
        "outputId": "1aea45d0-abf7-4269-8f21-ec78a6ce4ee7"
      },
      "outputs": [
        {
          "data": {
            "image/png": "[encoded data removed]",
            "text/plain": [
              "<Figure size 432x288 with 1 Axes>"
            ]
          },
          "metadata": {
            "needs_background": "light",
            "tags": []
          },
          "output_type": "display_data"
        }
      ],
      "source": [
        "# 임의의 false prediction 이미지 출력\n",
        "\n",
        "false_data_index = np.random.randint(len(index_label_prediction_list))\n",
        "\n",
        "#print('len of index_label_prediction_list => ', len(index_label_prediction_list), ', false_data_index => ', false_data_index)\n",
        "\n",
        "mnist_index = index_label_prediction_list[false_data_index][0]\n",
        "label = index_label_prediction_list[false_data_index][1]\n",
        "prediction = index_label_prediction_list[false_data_index][2]\n",
        "\n",
        "title_str = 'index = ' + str(mnist_index) + ' , label = ' + str(label) + ' , prediction = ' + str(prediction)\n",
        "\n",
        "img = x_test[mnist_index].reshape(28,28)\n",
        "\n",
        "\n",
        "plt.title(title_str)\n",
        "plt.imshow(img, cmap='gray')\n",
        "plt.show()"
      ]
    },
    {
      "cell_type": "code",
      "execution_count": null,
      "metadata": {
        "id": "V2H-ARVci04l"
      },
      "outputs": [],
      "source": []
    }
  ],
  "metadata": {
    "accelerator": "GPU",
    "colab": {
      "collapsed_sections": [],
      "provenance": [],
      "include_colab_link": true
    },
    "kernelspec": {
      "display_name": "Python 3 (ipykernel)",
      "language": "python",
      "name": "python3"
    },
    "language_info": {
      "codemirror_mode": {
        "name": "ipython",
        "version": 3
      },
      "file_extension": ".py",
      "mimetype": "text/x-python",
      "name": "python",
      "nbconvert_exporter": "python",
      "pygments_lexer": "ipython3",
      "version": "3.9.12"
    }
  },
  "nbformat": 4,
  "nbformat_minor": 0
}