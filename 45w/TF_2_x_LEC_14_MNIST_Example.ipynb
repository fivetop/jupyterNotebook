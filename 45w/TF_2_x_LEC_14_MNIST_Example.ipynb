{
  "nbformat": 4,
  "nbformat_minor": 0,
  "metadata": {
    "colab": {
      "provenance": [],
      "collapsed_sections": [],
      "include_colab_link": true
    },
    "kernelspec": {
      "name": "python3",
      "display_name": "Python 3"
    },
    "accelerator": "GPU"
  },
  "cells": [
    {
      "cell_type": "markdown",
      "metadata": {
        "id": "view-in-github",
        "colab_type": "text"
      },
      "source": [
        "<a href=\"https://colab.research.google.com/github/fivetop/romee/blob/main/TF_2_x_LEC_14_MNIST_Example.ipynb\" target=\"_parent\"><img src=\"https://colab.research.google.com/assets/colab-badge.svg\" alt=\"Open In Colab\"/></a>"
      ]
    },
    {
      "cell_type": "code",
      "metadata": {
        "id": "nWhPUUnPveS3",
        "colab": {
          "base_uri": "https://localhost:8080/"
        },
        "outputId": "e1083738-95b5-45d4-b37f-50a47b1b2c1f"
      },
      "source": [
        "import numpy as np\n",
        "import tensorflow as tf\n",
        "from tensorflow.keras.datasets import mnist\n",
        "from tensorflow.keras.models import Sequential\n",
        "from tensorflow.keras.layers import Conv2D, MaxPool2D, Flatten, Dense, Dropout\n",
        "from tensorflow.keras.datasets import mnist\n",
        "from tensorflow.keras.optimizers  import Adam\n",
        "\n",
        "print(tf.__version__)"
      ],
      "execution_count": 8,
      "outputs": [
        {
          "output_type": "stream",
          "name": "stdout",
          "text": [
            "2.9.2\n"
          ]
        }
      ]
    },
    {
      "cell_type": "code",
      "metadata": {
        "colab": {
          "base_uri": "https://localhost:8080/"
        },
        "id": "Q4Xh-9FkvsKE",
        "outputId": "831d3361-e1cd-4e3a-b209-2e5edcffdf41"
      },
      "source": [
        "(x_train, t_train),(x_test, t_test) = mnist.load_data()\n",
        "\n",
        "x_train=x_train /255.0\n",
        "x_test=x_test / 255.0\n",
        "\n",
        "print(x_train.shape, x_test.shape)\n",
        "print(t_train.shape, t_test.shape)\n"
      ],
      "execution_count": 9,
      "outputs": [
        {
          "output_type": "stream",
          "name": "stdout",
          "text": [
            "(60000, 28, 28) (10000, 28, 28)\n",
            "(60000,) (10000,)\n"
          ]
        }
      ]
    },
    {
      "cell_type": "code",
      "metadata": {
        "id": "ISOTB0okwnAc"
      },
      "source": [
        "model = Sequential()\n",
        "\n",
        "model.add(Conv2D(input_shape=(28,28,1), kernel_size=3, filters=32, \n",
        "                 strides=(1,1), activation='relu', use_bias=True, padding='SAME' ))\n",
        "model.add(MaxPool2D(pool_size=(2,2), padding='SAME'))\n",
        "model.add(Flatten())\n",
        "model.add(Dense(10, activation='softmax'))"
      ],
      "execution_count": 10,
      "outputs": []
    },
    {
      "cell_type": "code",
      "metadata": {
        "colab": {
          "base_uri": "https://localhost:8080/"
        },
        "id": "ndPGvLsXx0XF",
        "outputId": "77c5896f-11d6-4210-d9c2-ad56a64a14a3"
      },
      "source": [
        "model.compile(loss='sparse_categorical_crossentropy',\n",
        "            optimizer=tf.keras.optimizers.Adam(learning_rate=0.01), metrics=['accuracy'])\n",
        "\n",
        "model.summary()"
      ],
      "execution_count": 11,
      "outputs": [
        {
          "output_type": "stream",
          "name": "stdout",
          "text": [
            "Model: \"sequential_1\"\n",
            "_________________________________________________________________\n",
            " Layer (type)                Output Shape              Param #   \n",
            "=================================================================\n",
            " conv2d_1 (Conv2D)           (None, 28, 28, 32)        320       \n",
            "                                                                 \n",
            " max_pooling2d_1 (MaxPooling  (None, 14, 14, 32)       0         \n",
            " 2D)                                                             \n",
            "                                                                 \n",
            " flatten_1 (Flatten)         (None, 6272)              0         \n",
            "                                                                 \n",
            " dense_1 (Dense)             (None, 10)                62730     \n",
            "                                                                 \n",
            "=================================================================\n",
            "Total params: 63,050\n",
            "Trainable params: 63,050\n",
            "Non-trainable params: 0\n",
            "_________________________________________________________________\n"
          ]
        }
      ]
    },
    {
      "cell_type": "code",
      "metadata": {
        "colab": {
          "base_uri": "https://localhost:8080/"
        },
        "id": "Rsq5HiT5yEA_",
        "outputId": "dd08fb65-89f0-4c4f-af62-91f01bbaa5ba"
      },
      "source": [
        "hist = model.fit(x_train.reshape(-1,28,28,1) , t_train, batch_size=50, \n",
        "               epochs=50, validation_split=0.2)"
      ],
      "execution_count": 5,
      "outputs": [
        {
          "output_type": "stream",
          "name": "stdout",
          "text": [
            "Epoch 1/50\n",
            "960/960 [==============================] - 12s 3ms/step - loss: 0.1425 - accuracy: 0.9575 - val_loss: 0.0800 - val_accuracy: 0.9761\n",
            "Epoch 2/50\n",
            "960/960 [==============================] - 3s 3ms/step - loss: 0.0641 - accuracy: 0.9802 - val_loss: 0.0774 - val_accuracy: 0.9781\n",
            "Epoch 3/50\n",
            "960/960 [==============================] - 3s 3ms/step - loss: 0.0465 - accuracy: 0.9849 - val_loss: 0.0869 - val_accuracy: 0.9780\n",
            "Epoch 4/50\n",
            "960/960 [==============================] - 3s 3ms/step - loss: 0.0336 - accuracy: 0.9890 - val_loss: 0.0866 - val_accuracy: 0.9759\n",
            "Epoch 5/50\n",
            "960/960 [==============================] - 3s 3ms/step - loss: 0.0281 - accuracy: 0.9904 - val_loss: 0.0925 - val_accuracy: 0.9791\n",
            "Epoch 6/50\n",
            "960/960 [==============================] - 3s 4ms/step - loss: 0.0240 - accuracy: 0.9919 - val_loss: 0.1019 - val_accuracy: 0.9778\n",
            "Epoch 7/50\n",
            "960/960 [==============================] - 3s 3ms/step - loss: 0.0198 - accuracy: 0.9933 - val_loss: 0.1041 - val_accuracy: 0.9807\n",
            "Epoch 8/50\n",
            "960/960 [==============================] - 3s 3ms/step - loss: 0.0162 - accuracy: 0.9944 - val_loss: 0.1036 - val_accuracy: 0.9796\n",
            "Epoch 9/50\n",
            "960/960 [==============================] - 3s 3ms/step - loss: 0.0171 - accuracy: 0.9942 - val_loss: 0.1154 - val_accuracy: 0.9785\n",
            "Epoch 10/50\n",
            "960/960 [==============================] - 3s 3ms/step - loss: 0.0146 - accuracy: 0.9950 - val_loss: 0.1309 - val_accuracy: 0.9788\n",
            "Epoch 11/50\n",
            "960/960 [==============================] - 4s 4ms/step - loss: 0.0144 - accuracy: 0.9954 - val_loss: 0.1419 - val_accuracy: 0.9800\n",
            "Epoch 12/50\n",
            "960/960 [==============================] - 5s 5ms/step - loss: 0.0169 - accuracy: 0.9947 - val_loss: 0.1321 - val_accuracy: 0.9792\n",
            "Epoch 13/50\n",
            "960/960 [==============================] - 4s 4ms/step - loss: 0.0113 - accuracy: 0.9961 - val_loss: 0.1512 - val_accuracy: 0.9782\n",
            "Epoch 14/50\n",
            "960/960 [==============================] - 4s 4ms/step - loss: 0.0115 - accuracy: 0.9963 - val_loss: 0.1817 - val_accuracy: 0.9768\n",
            "Epoch 15/50\n",
            "960/960 [==============================] - 4s 4ms/step - loss: 0.0119 - accuracy: 0.9962 - val_loss: 0.1634 - val_accuracy: 0.9808\n",
            "Epoch 16/50\n",
            "960/960 [==============================] - 4s 4ms/step - loss: 0.0110 - accuracy: 0.9967 - val_loss: 0.1893 - val_accuracy: 0.9772\n",
            "Epoch 17/50\n",
            "960/960 [==============================] - 4s 4ms/step - loss: 0.0138 - accuracy: 0.9963 - val_loss: 0.1798 - val_accuracy: 0.9785\n",
            "Epoch 18/50\n",
            "960/960 [==============================] - 4s 4ms/step - loss: 0.0074 - accuracy: 0.9978 - val_loss: 0.2014 - val_accuracy: 0.9774\n",
            "Epoch 19/50\n",
            "960/960 [==============================] - 4s 4ms/step - loss: 0.0116 - accuracy: 0.9969 - val_loss: 0.1940 - val_accuracy: 0.9809\n",
            "Epoch 20/50\n",
            "960/960 [==============================] - 3s 3ms/step - loss: 0.0110 - accuracy: 0.9970 - val_loss: 0.2344 - val_accuracy: 0.9744\n",
            "Epoch 21/50\n",
            "960/960 [==============================] - 3s 4ms/step - loss: 0.0087 - accuracy: 0.9971 - val_loss: 0.2454 - val_accuracy: 0.9784\n",
            "Epoch 22/50\n",
            "960/960 [==============================] - 4s 4ms/step - loss: 0.0098 - accuracy: 0.9971 - val_loss: 0.2268 - val_accuracy: 0.9777\n",
            "Epoch 23/50\n",
            "960/960 [==============================] - 3s 4ms/step - loss: 0.0108 - accuracy: 0.9974 - val_loss: 0.2179 - val_accuracy: 0.9793\n",
            "Epoch 24/50\n",
            "960/960 [==============================] - 4s 4ms/step - loss: 0.0104 - accuracy: 0.9973 - val_loss: 0.2377 - val_accuracy: 0.9786\n",
            "Epoch 25/50\n",
            "960/960 [==============================] - 3s 3ms/step - loss: 0.0073 - accuracy: 0.9982 - val_loss: 0.2094 - val_accuracy: 0.9810\n",
            "Epoch 26/50\n",
            "960/960 [==============================] - 3s 3ms/step - loss: 0.0088 - accuracy: 0.9980 - val_loss: 0.2338 - val_accuracy: 0.9812\n",
            "Epoch 27/50\n",
            "960/960 [==============================] - 3s 3ms/step - loss: 0.0077 - accuracy: 0.9979 - val_loss: 0.2848 - val_accuracy: 0.9759\n",
            "Epoch 28/50\n",
            "960/960 [==============================] - 3s 3ms/step - loss: 0.0141 - accuracy: 0.9972 - val_loss: 0.2724 - val_accuracy: 0.9791\n",
            "Epoch 29/50\n",
            "960/960 [==============================] - 3s 4ms/step - loss: 0.0065 - accuracy: 0.9984 - val_loss: 0.3086 - val_accuracy: 0.9786\n",
            "Epoch 30/50\n",
            "960/960 [==============================] - 3s 3ms/step - loss: 0.0129 - accuracy: 0.9971 - val_loss: 0.2943 - val_accuracy: 0.9788\n",
            "Epoch 31/50\n",
            "960/960 [==============================] - 3s 3ms/step - loss: 0.0078 - accuracy: 0.9984 - val_loss: 0.3034 - val_accuracy: 0.9785\n",
            "Epoch 32/50\n",
            "960/960 [==============================] - 3s 3ms/step - loss: 0.0064 - accuracy: 0.9982 - val_loss: 0.2822 - val_accuracy: 0.9787\n",
            "Epoch 33/50\n",
            "960/960 [==============================] - 3s 3ms/step - loss: 0.0051 - accuracy: 0.9986 - val_loss: 0.2909 - val_accuracy: 0.9795\n",
            "Epoch 34/50\n",
            "960/960 [==============================] - 3s 3ms/step - loss: 0.0130 - accuracy: 0.9973 - val_loss: 0.3276 - val_accuracy: 0.9794\n",
            "Epoch 35/50\n",
            "960/960 [==============================] - 3s 3ms/step - loss: 0.0112 - accuracy: 0.9978 - val_loss: 0.3308 - val_accuracy: 0.9793\n",
            "Epoch 36/50\n",
            "960/960 [==============================] - 3s 3ms/step - loss: 0.0094 - accuracy: 0.9977 - val_loss: 0.3439 - val_accuracy: 0.9788\n",
            "Epoch 37/50\n",
            "960/960 [==============================] - 3s 3ms/step - loss: 0.0058 - accuracy: 0.9986 - val_loss: 0.3529 - val_accuracy: 0.9766\n",
            "Epoch 38/50\n",
            "960/960 [==============================] - 3s 3ms/step - loss: 0.0072 - accuracy: 0.9986 - val_loss: 0.3313 - val_accuracy: 0.9795\n",
            "Epoch 39/50\n",
            "960/960 [==============================] - 3s 3ms/step - loss: 0.0129 - accuracy: 0.9978 - val_loss: 0.3163 - val_accuracy: 0.9803\n",
            "Epoch 40/50\n",
            "960/960 [==============================] - 3s 3ms/step - loss: 0.0068 - accuracy: 0.9985 - val_loss: 0.3795 - val_accuracy: 0.9786\n",
            "Epoch 41/50\n",
            "960/960 [==============================] - 3s 3ms/step - loss: 0.0072 - accuracy: 0.9985 - val_loss: 0.3911 - val_accuracy: 0.9791\n",
            "Epoch 42/50\n",
            "960/960 [==============================] - 3s 3ms/step - loss: 0.0090 - accuracy: 0.9985 - val_loss: 0.3675 - val_accuracy: 0.9809\n",
            "Epoch 43/50\n",
            "960/960 [==============================] - 3s 3ms/step - loss: 0.0085 - accuracy: 0.9986 - val_loss: 0.3508 - val_accuracy: 0.9800\n",
            "Epoch 44/50\n",
            "960/960 [==============================] - 3s 3ms/step - loss: 0.0096 - accuracy: 0.9981 - val_loss: 0.3972 - val_accuracy: 0.9799\n",
            "Epoch 45/50\n",
            "960/960 [==============================] - 3s 3ms/step - loss: 0.0066 - accuracy: 0.9987 - val_loss: 0.3485 - val_accuracy: 0.9796\n",
            "Epoch 46/50\n",
            "960/960 [==============================] - 3s 3ms/step - loss: 0.0071 - accuracy: 0.9986 - val_loss: 0.3850 - val_accuracy: 0.9803\n",
            "Epoch 47/50\n",
            "960/960 [==============================] - 3s 3ms/step - loss: 0.0085 - accuracy: 0.9985 - val_loss: 0.3875 - val_accuracy: 0.9791\n",
            "Epoch 48/50\n",
            "960/960 [==============================] - 3s 3ms/step - loss: 0.0071 - accuracy: 0.9984 - val_loss: 0.3935 - val_accuracy: 0.9801\n",
            "Epoch 49/50\n",
            "960/960 [==============================] - 3s 3ms/step - loss: 0.0075 - accuracy: 0.9988 - val_loss: 0.3847 - val_accuracy: 0.9796\n",
            "Epoch 50/50\n",
            "960/960 [==============================] - 3s 3ms/step - loss: 0.0090 - accuracy: 0.9985 - val_loss: 0.3967 - val_accuracy: 0.9812\n"
          ]
        }
      ]
    },
    {
      "cell_type": "code",
      "metadata": {
        "colab": {
          "base_uri": "https://localhost:8080/"
        },
        "id": "TNQbhxp_yOU4",
        "outputId": "305e21fa-a357-47fb-be26-a70cc4fa09e5"
      },
      "source": [
        "model.evaluate(x_test.reshape(-1,28,28,1), t_test)"
      ],
      "execution_count": 17,
      "outputs": [
        {
          "output_type": "stream",
          "name": "stdout",
          "text": [
            "313/313 [==============================] - 1s 3ms/step - loss: 2.3221 - accuracy: 0.0826\n"
          ]
        },
        {
          "output_type": "execute_result",
          "data": {
            "text/plain": [
              "[2.3221492767333984, 0.08259999752044678]"
            ]
          },
          "metadata": {},
          "execution_count": 17
        }
      ]
    },
    {
      "cell_type": "code",
      "metadata": {
        "colab": {
          "base_uri": "https://localhost:8080/",
          "height": 295
        },
        "id": "z7hIF36fyR6O",
        "outputId": "d083da51-d347-4de0-fbac-a5457497689c"
      },
      "source": [
        "import matplotlib.pyplot as plt\n",
        "\n",
        "plt.plot(hist.history['accuracy'])\n",
        "plt.plot(hist.history['val_accuracy'])\n",
        "plt.title('Accuracy Trend')\n",
        "plt.ylabel('accuracy')\n",
        "plt.xlabel('epoch')\n",
        "plt.legend(['train','validation'], loc='best')\n",
        "plt.grid()\n",
        "plt.show()"
      ],
      "execution_count": null,
      "outputs": [
        {
          "output_type": "display_data",
          "data": {
            "image/png": "[encoded data removed]",
            "text/plain": [
              "<Figure size 432x288 with 1 Axes>"
            ]
          },
          "metadata": {
            "tags": [],
            "needs_background": "light"
          }
        }
      ]
    },
    {
      "cell_type": "code",
      "metadata": {
        "colab": {
          "base_uri": "https://localhost:8080/",
          "height": 295
        },
        "id": "ikuZTLbMybAQ",
        "outputId": "51fcca2b-ee74-4f9f-e102-0b609ecd6974"
      },
      "source": [
        "plt.plot(hist.history['loss'])\n",
        "plt.plot(hist.history['val_loss'])\n",
        "plt.title('Loss Trend')\n",
        "plt.ylabel('loss')\n",
        "plt.xlabel('epoch')\n",
        "plt.legend(['train','validation'], loc='best')\n",
        "plt.grid()\n",
        "plt.show()"
      ],
      "execution_count": null,
      "outputs": [
        {
          "output_type": "display_data",
          "data": {
            "image/png": "[encoded data removed]",
            "text/plain": [
              "<Figure size 432x288 with 1 Axes>"
            ]
          },
          "metadata": {
            "tags": [],
            "needs_background": "light"
          }
        }
      ]
    },
    {
      "cell_type": "code",
      "metadata": {
        "id": "PByUMR0n0Z8B",
        "colab": {
          "base_uri": "https://localhost:8080/",
          "height": 211
        },
        "outputId": "38c24b25-2d5a-49e3-a077-4b50dc97cfd3"
      },
      "source": [
        "a= np.array([[1,2,3],[2,3,4]])\n",
        "b = a.shape(2,3)\n",
        "c = a.shape(-1,2)"
      ],
      "execution_count": 15,
      "outputs": [
        {
          "output_type": "error",
          "ename": "TypeError",
          "evalue": "ignored",
          "traceback": [
            "\u001b[0;31m---------------------------------------------------------------------------\u001b[0m",
            "\u001b[0;31mTypeError\u001b[0m                                 Traceback (most recent call last)",
            "\u001b[0;32m<ipython-input-15-d9dc7576d25d>\u001b[0m in \u001b[0;36m<module>\u001b[0;34m\u001b[0m\n\u001b[0;32m----> 1\u001b[0;31m \u001b[0ma\u001b[0m\u001b[0;34m=\u001b[0m \u001b[0mnp\u001b[0m\u001b[0;34m.\u001b[0m\u001b[0marray\u001b[0m\u001b[0;34m(\u001b[0m\u001b[0;34m[\u001b[0m\u001b[0;36m1\u001b[0m\u001b[0;34m,\u001b[0m\u001b[0;36m2\u001b[0m\u001b[0;34m,\u001b[0m\u001b[0;36m3\u001b[0m\u001b[0;34m]\u001b[0m\u001b[0;34m,\u001b[0m\u001b[0;34m[\u001b[0m\u001b[0;36m2\u001b[0m\u001b[0;34m,\u001b[0m\u001b[0;36m3\u001b[0m\u001b[0;34m,\u001b[0m\u001b[0;36m4\u001b[0m\u001b[0;34m]\u001b[0m\u001b[0;34m)\u001b[0m\u001b[0;34m\u001b[0m\u001b[0;34m\u001b[0m\u001b[0m\n\u001b[0m\u001b[1;32m      2\u001b[0m \u001b[0mb\u001b[0m \u001b[0;34m=\u001b[0m \u001b[0ma\u001b[0m\u001b[0;34m.\u001b[0m\u001b[0mshape\u001b[0m\u001b[0;34m(\u001b[0m\u001b[0;36m2\u001b[0m\u001b[0;34m,\u001b[0m\u001b[0;36m3\u001b[0m\u001b[0;34m)\u001b[0m\u001b[0;34m\u001b[0m\u001b[0;34m\u001b[0m\u001b[0m\n\u001b[1;32m      3\u001b[0m \u001b[0mc\u001b[0m \u001b[0;34m=\u001b[0m \u001b[0ma\u001b[0m\u001b[0;34m.\u001b[0m\u001b[0mshape\u001b[0m\u001b[0;34m(\u001b[0m\u001b[0;34m-\u001b[0m\u001b[0;36m1\u001b[0m\u001b[0;34m,\u001b[0m\u001b[0;36m2\u001b[0m\u001b[0;34m)\u001b[0m\u001b[0;34m\u001b[0m\u001b[0;34m\u001b[0m\u001b[0m\n",
            "\u001b[0;31mTypeError\u001b[0m: Field elements must be 2- or 3-tuples, got '2'"
          ]
        }
      ]
    },
    {
      "cell_type": "code",
      "source": [
        "a"
      ],
      "metadata": {
        "colab": {
          "base_uri": "https://localhost:8080/",
          "height": 174
        },
        "id": "0hHMGOkuVs-1",
        "outputId": "edcbd75a-3847-485b-ee3e-535e8da99b02"
      },
      "execution_count": 14,
      "outputs": [
        {
          "output_type": "error",
          "ename": "NameError",
          "evalue": "ignored",
          "traceback": [
            "\u001b[0;31m---------------------------------------------------------------------------\u001b[0m",
            "\u001b[0;31mNameError\u001b[0m                                 Traceback (most recent call last)",
            "\u001b[0;32m<ipython-input-14-3f786850e387>\u001b[0m in \u001b[0;36m<module>\u001b[0;34m\u001b[0m\n\u001b[0;32m----> 1\u001b[0;31m \u001b[0ma\u001b[0m\u001b[0;34m\u001b[0m\u001b[0;34m\u001b[0m\u001b[0m\n\u001b[0m",
            "\u001b[0;31mNameError\u001b[0m: name 'a' is not defined"
          ]
        }
      ]
    },
    {
      "cell_type": "code",
      "source": [],
      "metadata": {
        "id": "-lFM3hcjVu8S"
      },
      "execution_count": null,
      "outputs": []
    }
  ]
}