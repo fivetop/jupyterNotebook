{
 "cells": [
  {
   "cell_type": "code",
   "execution_count": 1,
   "metadata": {
    "id": "ZA6g9KE_Zukk"
   },
   "outputs": [],
   "source": [
    "import tensorflow as tf\n",
    "from tensorflow.keras.models import Sequential, Model\n",
    "from tensorflow.keras.layers import Dense, Dropout, Input\n",
    "from tensorflow.keras.layers import Flatten, Conv2D, MaxPooling2D"
   ]
  },
  {
   "cell_type": "code",
   "execution_count": 2,
   "metadata": {
    "colab": {
     "base_uri": "https://localhost:8080/"
    },
    "id": "o_SFdf-PA_e0",
    "outputId": "11e52d50-bd87-4262-b58f-bb0476539194"
   },
   "outputs": [
    {
     "name": "stdout",
     "output_type": "stream",
     "text": [
      "--2021-10-07 07:36:22--  https://storage.googleapis.com/mledu-datasets/cats_and_dogs_filtered.zip\n",
      "Resolving storage.googleapis.com (storage.googleapis.com)... 209.85.145.128, 172.217.219.128, 209.85.147.128, ...\n",
      "Connecting to storage.googleapis.com (storage.googleapis.com)|209.85.145.128|:443... connected.\n",
      "HTTP request sent, awaiting response... 200 OK\n",
      "Length: 68606236 (65M) [application/zip]\n",
      "Saving to: ‘cats_and_dogs_filtered.zip.1’\n",
      "\n",
      "cats_and_dogs_filte 100%[===================>]  65.43M   169MB/s    in 0.4s    \n",
      "\n",
      "2021-10-07 07:36:22 (169 MB/s) - ‘cats_and_dogs_filtered.zip.1’ saved [68606236/68606236]\n",
      "\n"
     ]
    }
   ],
   "source": [
    "# 파일 다운로드\n",
    "\n",
    "!wget https://storage.googleapis.com/mledu-datasets/cats_and_dogs_filtered.zip"
   ]
  },
  {
   "cell_type": "code",
   "execution_count": 3,
   "metadata": {
    "colab": {
     "base_uri": "https://localhost:8080/"
    },
    "id": "RlRkEmzAZuhY",
    "outputId": "b2fa5395-3afe-46b9-c238-8e94e748fa5c"
   },
   "outputs": [
    {
     "name": "stdout",
     "output_type": "stream",
     "text": [
      "/content/cats_and_dogs_filtered/  is removed !!!\n"
     ]
    }
   ],
   "source": [
    "import os\n",
    "import shutil\n",
    "\n",
    "if os.path.exists('/content/cats_and_dogs_filtered/'):    # 작업 디렉토리는 cats_and_dogs_filtered\n",
    "    \n",
    "    shutil.rmtree('/content/cats_and_dogs_filtered/')\n",
    "    print('/content/cats_and_dogs_filtered/  is removed !!!')"
   ]
  },
  {
   "cell_type": "code",
   "execution_count": 4,
   "metadata": {
    "id": "iprE3ZqbBC-K"
   },
   "outputs": [],
   "source": [
    "# 압축파일 풀기\n",
    "\n",
    "import zipfile\n",
    "\n",
    "with zipfile.ZipFile('/content/cats_and_dogs_filtered.zip', 'r') as target_file:\n",
    "\n",
    "    target_file.extractall('/content/cats_and_dogs_filtered/') "
   ]
  },
  {
   "cell_type": "code",
   "execution_count": 5,
   "metadata": {
    "colab": {
     "base_uri": "https://localhost:8080/"
    },
    "id": "8TURKhVjaHyn",
    "outputId": "d587f200-2d80-4464-a4c4-53bf8931f3e0"
   },
   "outputs": [
    {
     "name": "stdout",
     "output_type": "stream",
     "text": [
      "cats train file nums =  1000\n",
      "dogs train file nums =  1000\n",
      "cats validation file nums =  500\n",
      "dogs validation file nums =  500\n",
      "=================================================\n"
     ]
    }
   ],
   "source": [
    "# 데이터 전체 개수 확인\n",
    "\n",
    "import os\n",
    "import glob\n",
    "\n",
    "# 데이터 정답 (label) 개수 및 종류 확인\n",
    "\n",
    "cats_train_list = os.listdir('/content/cats_and_dogs_filtered/cats_and_dogs_filtered/train/cats')\n",
    "dogs_train_list = os.listdir('/content/cats_and_dogs_filtered/cats_and_dogs_filtered/train/dogs')\n",
    "\n",
    "cats_validation_list = os.listdir('/content/cats_and_dogs_filtered/cats_and_dogs_filtered/validation/cats')\n",
    "dogs_validation_list = os.listdir('/content/cats_and_dogs_filtered/cats_and_dogs_filtered/validation/dogs')\n",
    "\n",
    "print('cats train file nums = ', len(cats_train_list))\n",
    "print('dogs train file nums = ', len(dogs_train_list))\n",
    "print('cats validation file nums = ', len(cats_validation_list))\n",
    "print('dogs validation file nums = ', len(cats_validation_list))\n",
    "print('=================================================')"
   ]
  },
  {
   "cell_type": "markdown",
   "metadata": {
    "id": "AmN0ONiTkik4"
   },
   "source": [
    "train 디렉토리에서 image data 읽어서 x_train, y_train 생성"
   ]
  },
  {
   "cell_type": "code",
   "execution_count": 6,
   "metadata": {
    "colab": {
     "base_uri": "https://localhost:8080/"
    },
    "id": "m-i3PDUXaH2P",
    "outputId": "c710d409-ac37-455b-e21d-7fde11a72233"
   },
   "outputs": [
    {
     "name": "stdout",
     "output_type": "stream",
     "text": [
      "train label # =>  2\n",
      "x_train.shape =  (2000, 224, 224, 3) , y_train.shape =  (2000,)\n",
      "train data generation time =>  0:00:05.963600\n"
     ]
    }
   ],
   "source": [
    "import os\n",
    "import cv2\n",
    "import glob\n",
    "import numpy as np\n",
    "from datetime import datetime\n",
    "\n",
    "image_list = []\n",
    "label_list = []\n",
    "\n",
    "train_base_dir = '/content/cats_and_dogs_filtered/cats_and_dogs_filtered/train/'\n",
    "\n",
    "train_label_list = os.listdir(train_base_dir)    # 정답이름\n",
    "\n",
    "print('train label # => ', len(train_label_list))\n",
    "\n",
    "start_time = datetime.now()\n",
    "\n",
    "for train_label_name in train_label_list:\n",
    "\n",
    "    # cats => 0.0,  dogs => 1.0 변환\n",
    "    if train_label_name == 'cats':\n",
    "        label_num = 0.0\n",
    "    elif train_label_name == 'dogs':\n",
    "        label_num = 1.0\n",
    "\n",
    "    # 이미지 파일 읽어오기\n",
    "\n",
    "    file_path = train_base_dir + train_label_name\n",
    "\n",
    "    train_img_file_list = glob.glob(file_path+'/*.jpg')\n",
    "\n",
    "    # 각각의 정답 디렉토리에 있는 이미지 파일, 즉 .jpg 파일 읽어서 리스트에 저장\n",
    "    \n",
    "    for train_img_file in train_img_file_list:\n",
    "\n",
    "        train_img = cv2.imread(train_img_file, cv2.IMREAD_COLOR) \n",
    "\n",
    "        train_img = cv2.resize(train_img, dsize=(224,224))    # (224,224) 변환\n",
    "\n",
    "        train_img = cv2.cvtColor(train_img, cv2.COLOR_BGR2RGB)\n",
    "\n",
    "        image_list.append(train_img)\n",
    "        label_list.append(label_num) \n",
    "\n",
    "# numpy 변환\n",
    "\n",
    "x_train = np.array(image_list).astype('float32')\n",
    "y_train = np.array(label_list).astype('float32')\n",
    "\n",
    "print('x_train.shape = ', x_train.shape, ', y_train.shape = ', y_train.shape)\n",
    "\n",
    "end_time = datetime.now()\n",
    "\n",
    "print('train data generation time => ', end_time-start_time)"
   ]
  },
  {
   "cell_type": "markdown",
   "metadata": {
    "id": "qsf3UmBNnh9u"
   },
   "source": [
    "validation 디렉토리로부터 이미지 읽어서 x_val, y_val 생성"
   ]
  },
  {
   "cell_type": "code",
   "execution_count": 7,
   "metadata": {
    "colab": {
     "base_uri": "https://localhost:8080/"
    },
    "id": "QKrp2VxdndDY",
    "outputId": "48455812-bd2a-4707-fb8c-aa613e913465"
   },
   "outputs": [
    {
     "name": "stdout",
     "output_type": "stream",
     "text": [
      "validation label # =>  2\n",
      "x_val.shape =  (1000, 224, 224, 3) , y_val.shape =  (1000,)\n",
      "validation data generation time =>  0:00:03.205529\n"
     ]
    }
   ],
   "source": [
    "import os\n",
    "import cv2\n",
    "import glob\n",
    "import numpy as np\n",
    "from datetime import datetime\n",
    "\n",
    "image_list = []\n",
    "label_list = []\n",
    "\n",
    "validation_base_dir = '/content/cats_and_dogs_filtered/cats_and_dogs_filtered/validation/'\n",
    "\n",
    "validation_label_list = os.listdir(validation_base_dir)    # 정답이름\n",
    "\n",
    "print('validation label # => ', len(validation_label_list))\n",
    "\n",
    "start_time = datetime.now()\n",
    "\n",
    "for validation_label_name in validation_label_list:\n",
    "\n",
    "    # cats => 0.0,  dogs => 1.0 변환\n",
    "    if validation_label_name == 'cats':\n",
    "        label_num = 0.0\n",
    "    elif validation_label_name == 'dogs':\n",
    "        label_num = 1.0\n",
    "\n",
    "    # 이미지 파일 읽어오기\n",
    "\n",
    "    file_path = validation_base_dir + validation_label_name\n",
    "\n",
    "    validation_img_file_list = glob.glob(file_path+'/*.jpg')\n",
    "\n",
    "    # 각각의 정답 디렉토리에 있는 이미지 파일, 즉 .jpg 파일 읽어서 리스트에 저장\n",
    "    \n",
    "    for validation_img_file in validation_img_file_list:\n",
    "\n",
    "        validation_img = cv2.imread(validation_img_file, cv2.IMREAD_COLOR) \n",
    "\n",
    "        validation_img = cv2.resize(validation_img, dsize=(224,224))    # (224,224) 변환\n",
    "\n",
    "        validation_img = cv2.cvtColor(validation_img, cv2.COLOR_BGR2RGB)\n",
    "\n",
    "        image_list.append(validation_img)\n",
    "        label_list.append(label_num)\n",
    "\n",
    "# numpy 변환\n",
    "\n",
    "x_val = np.array(image_list).astype('float32')\n",
    "y_val = np.array(label_list).astype('float32')\n",
    "\n",
    "print('x_val.shape = ', x_val.shape, ', y_val.shape = ', y_val.shape)\n",
    "\n",
    "end_time = datetime.now()\n",
    "\n",
    "print('validation data generation time => ', end_time-start_time)"
   ]
  },
  {
   "cell_type": "markdown",
   "metadata": {
    "id": "LyeoQM0Aoo6P"
   },
   "source": [
    "validation data 로 부터 test data 분리 (분리 비율 5 : 5)"
   ]
  },
  {
   "cell_type": "code",
   "execution_count": 8,
   "metadata": {
    "colab": {
     "base_uri": "https://localhost:8080/"
    },
    "id": "n9ZPWnbWoxf4",
    "outputId": "8f103316-fc76-417d-d971-871f5001106b"
   },
   "outputs": [
    {
     "name": "stdout",
     "output_type": "stream",
     "text": [
      "split num =>  500\n",
      "x_val.shape =  (500, 224, 224, 3) , y_val.shape =  (500,)\n",
      "x_test.shape =  (500, 224, 224, 3) , y_test.shape =  (500,)\n"
     ]
    }
   ],
   "source": [
    "import numpy as np\n",
    "\n",
    "# validation data random shuffle\n",
    "\n",
    "s = np.arange(len(x_val))\n",
    "\n",
    "# index random shuffle\n",
    "\n",
    "np.random.shuffle(s)\n",
    "\n",
    "# x_val, y_val 재 생성\n",
    "\n",
    "x_val = x_val[s]\n",
    "y_val = y_val[s]\n",
    "\n",
    "# validation, test data 분리\n",
    "ratio = 0.5\n",
    "\n",
    "split_num = int(ratio*len(x_val))\n",
    "\n",
    "print('split num => ', split_num)\n",
    "\n",
    "x_test = x_val[0:split_num]\n",
    "y_test = y_val[0:split_num]\n",
    "\n",
    "x_val = x_val[split_num:]\n",
    "y_val = y_val[split_num:]\n",
    "\n",
    "print('x_val.shape = ', x_val.shape, ', y_val.shape = ', y_val.shape)\n",
    "print('x_test.shape = ', x_test.shape, ', y_test.shape = ', y_test.shape)"
   ]
  },
  {
   "cell_type": "markdown",
   "metadata": {
    "id": "R76rBxtrr2e8"
   },
   "source": [
    "이미지 데이터 정규화"
   ]
  },
  {
   "cell_type": "code",
   "execution_count": 9,
   "metadata": {
    "id": "jh7aHNk7r1p_"
   },
   "outputs": [],
   "source": [
    "x_train = x_train / 255.0\n",
    "x_val = x_val / 255.0\n",
    "x_test = x_test / 255.0"
   ]
  },
  {
   "cell_type": "markdown",
   "metadata": {
    "id": "w7ZtntKepuPI"
   },
   "source": [
    "## TO-DO"
   ]
  },
  {
   "cell_type": "code",
   "execution_count": null,
   "metadata": {
    "id": "0oIpNjsgvPrC"
   },
   "outputs": [],
   "source": []
  }
 ],
 "metadata": {
  "accelerator": "GPU",
  "colab": {
   "collapsed_sections": [],
   "name": "cats_and_dogs_Native_Colab_Ver2.ipynb",
   "provenance": []
  },
  "kernelspec": {
   "display_name": "Python 3",
   "language": "python",
   "name": "python3"
  },
  "language_info": {
   "codemirror_mode": {
    "name": "ipython",
    "version": 3
   },
   "file_extension": ".py",
   "mimetype": "text/x-python",
   "name": "python",
   "nbconvert_exporter": "python",
   "pygments_lexer": "ipython3",
   "version": "3.7.3"
  }
 },
 "nbformat": 4,
 "nbformat_minor": 1
}
