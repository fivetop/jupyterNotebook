{
 "cells": [
  {
   "cell_type": "markdown",
   "metadata": {
    "id": "G0kFqieQZms7"
   },
   "source": [
    "cats and dogs - MobileNet 버전"
   ]
  },
  {
   "cell_type": "code",
   "execution_count": 11,
   "metadata": {
    "id": "ZA6g9KE_Zukk"
   },
   "outputs": [],
   "source": [
    "import tensorflow as tf\n",
    "from tensorflow.keras.models import Sequential\n",
    "from tensorflow.keras.applications import Xception, ResNet50, InceptionV3, MobileNet\n",
    "from tensorflow.keras.layers import Flatten, Dense, Dropout, GlobalAveragePooling2D"
   ]
  },
  {
   "cell_type": "code",
   "execution_count": 3,
   "metadata": {
    "colab": {
     "base_uri": "https://localhost:8080/"
    },
    "id": "o_SFdf-PA_e0",
    "outputId": "add7c1db-2c29-48ae-c15e-f614357886c9"
   },
   "outputs": [
    {
     "name": "stdout",
     "output_type": "stream",
     "text": [
      "--2021-10-07 16:54:19--  https://storage.googleapis.com/mledu-datasets/cats_and_dogs_filtered.zip\n",
      "Resolving storage.googleapis.com (storage.googleapis.com)... 173.194.195.128, 173.194.197.128, 64.233.191.128, ...\n",
      "Connecting to storage.googleapis.com (storage.googleapis.com)|173.194.195.128|:443... connected.\n",
      "HTTP request sent, awaiting response... 200 OK\n",
      "Length: 68606236 (65M) [application/zip]\n",
      "Saving to: ‘cats_and_dogs_filtered.zip’\n",
      "\n",
      "cats_and_dogs_filte 100%[===================>]  65.43M   169MB/s    in 0.4s    \n",
      "\n",
      "2021-10-07 16:54:20 (169 MB/s) - ‘cats_and_dogs_filtered.zip’ saved [68606236/68606236]\n",
      "\n"
     ]
    }
   ],
   "source": [
    "# 파일 다운로드\n",
    "\n",
    "!wget https://storage.googleapis.com/mledu-datasets/cats_and_dogs_filtered.zip"
   ]
  },
  {
   "cell_type": "code",
   "execution_count": 4,
   "metadata": {
    "id": "RlRkEmzAZuhY"
   },
   "outputs": [],
   "source": [
    "import os\n",
    "import shutil\n",
    "\n",
    "if os.path.exists('/content/cats_and_dogs_filtered/'):    # 작업 디렉토리는 cats_and_dogs_filtered\n",
    "    \n",
    "    shutil.rmtree('/content/cats_and_dogs_filtered/')\n",
    "    print('/content/cats_and_dogs_filtered/  is removed !!!')"
   ]
  },
  {
   "cell_type": "code",
   "execution_count": 5,
   "metadata": {
    "id": "iprE3ZqbBC-K"
   },
   "outputs": [],
   "source": [
    "# 압축파일 풀기\n",
    "\n",
    "import zipfile\n",
    "\n",
    "with zipfile.ZipFile('/content/cats_and_dogs_filtered.zip', 'r') as target_file:\n",
    "\n",
    "    target_file.extractall('/content/cats_and_dogs_filtered/') "
   ]
  },
  {
   "cell_type": "code",
   "execution_count": 6,
   "metadata": {
    "colab": {
     "base_uri": "https://localhost:8080/"
    },
    "id": "8TURKhVjaHyn",
    "outputId": "ba1ed262-ece4-4d34-b96c-3dad746573bf"
   },
   "outputs": [
    {
     "name": "stdout",
     "output_type": "stream",
     "text": [
      "cats train file nums =  1000\n",
      "dogs train file nums =  1000\n",
      "cats validation file nums =  500\n",
      "dogs validation file nums =  500\n",
      "=================================================\n"
     ]
    }
   ],
   "source": [
    "# 데이터 전체 개수 확인\n",
    "\n",
    "import os\n",
    "import glob\n",
    "\n",
    "# 데이터 정답 (label) 개수 및 종류 확인\n",
    "\n",
    "cats_train_list = os.listdir('/content/cats_and_dogs_filtered/cats_and_dogs_filtered/train/cats')\n",
    "dogs_train_list = os.listdir('/content/cats_and_dogs_filtered/cats_and_dogs_filtered/train/dogs')\n",
    "\n",
    "cats_validation_list = os.listdir('/content/cats_and_dogs_filtered/cats_and_dogs_filtered/validation/cats')\n",
    "dogs_validation_list = os.listdir('/content/cats_and_dogs_filtered/cats_and_dogs_filtered/validation/dogs')\n",
    "\n",
    "print('cats train file nums = ', len(cats_train_list))\n",
    "print('dogs train file nums = ', len(dogs_train_list))\n",
    "print('cats validation file nums = ', len(cats_validation_list))\n",
    "print('dogs validation file nums = ', len(cats_validation_list))\n",
    "print('=================================================')"
   ]
  },
  {
   "cell_type": "markdown",
   "metadata": {
    "id": "AmN0ONiTkik4"
   },
   "source": [
    "train 디렉토리에서 image data 읽어서 x_train, y_train 생성"
   ]
  },
  {
   "cell_type": "code",
   "execution_count": 7,
   "metadata": {
    "colab": {
     "base_uri": "https://localhost:8080/"
    },
    "id": "m-i3PDUXaH2P",
    "outputId": "e338f8cc-eee0-4917-8b34-ea3e33edd40c"
   },
   "outputs": [
    {
     "name": "stdout",
     "output_type": "stream",
     "text": [
      "train label # =>  2\n",
      "x_train.shape =  (2000, 224, 224, 3) , y_train.shape =  (2000,)\n",
      "train data generation time =>  0:00:06.098774\n"
     ]
    }
   ],
   "source": [
    "import os\n",
    "import cv2\n",
    "import glob\n",
    "import numpy as np\n",
    "from datetime import datetime\n",
    "\n",
    "image_list = []\n",
    "label_list = []\n",
    "\n",
    "train_base_dir = '/content/cats_and_dogs_filtered/cats_and_dogs_filtered/train/'\n",
    "\n",
    "train_label_list = os.listdir(train_base_dir)    # 정답이름\n",
    "\n",
    "print('train label # => ', len(train_label_list))\n",
    "\n",
    "start_time = datetime.now()\n",
    "\n",
    "for train_label_name in train_label_list:\n",
    "\n",
    "    # cats => 0.0,  dogs => 1.0 변환\n",
    "    if train_label_name == 'cats':\n",
    "        label_num = 0.0\n",
    "    elif train_label_name == 'dogs':\n",
    "        label_num = 1.0\n",
    "\n",
    "    # 이미지 파일 읽어오기\n",
    "\n",
    "    file_path = train_base_dir + train_label_name\n",
    "\n",
    "    train_img_file_list = glob.glob(file_path+'/*.jpg')\n",
    "\n",
    "    # 각각의 정답 디렉토리에 있는 이미지 파일, 즉 .jpg 파일 읽어서 리스트에 저장\n",
    "    \n",
    "    for train_img_file in train_img_file_list:\n",
    "\n",
    "        train_img = cv2.imread(train_img_file, cv2.IMREAD_COLOR) \n",
    "\n",
    "        train_img = cv2.resize(train_img, dsize=(224,224))    # (224,224) 변환\n",
    "\n",
    "        train_img = cv2.cvtColor(train_img, cv2.COLOR_BGR2RGB)\n",
    "\n",
    "        image_list.append(train_img)\n",
    "        label_list.append(label_num) \n",
    "\n",
    "# numpy 변환\n",
    "\n",
    "x_train = np.array(image_list).astype('float32')\n",
    "y_train = np.array(label_list).astype('float32')\n",
    "\n",
    "print('x_train.shape = ', x_train.shape, ', y_train.shape = ', y_train.shape)\n",
    "\n",
    "end_time = datetime.now()\n",
    "\n",
    "print('train data generation time => ', end_time-start_time)"
   ]
  },
  {
   "cell_type": "markdown",
   "metadata": {
    "id": "qsf3UmBNnh9u"
   },
   "source": [
    "validation 디렉토리로부터 이미지 읽어서 x_val, y_val 생성"
   ]
  },
  {
   "cell_type": "code",
   "execution_count": 8,
   "metadata": {
    "colab": {
     "base_uri": "https://localhost:8080/"
    },
    "id": "QKrp2VxdndDY",
    "outputId": "a1d01600-f1d2-4979-88e3-a78bd39dd1a9"
   },
   "outputs": [
    {
     "name": "stdout",
     "output_type": "stream",
     "text": [
      "validation label # =>  2\n",
      "x_val.shape =  (1000, 224, 224, 3) , y_val.shape =  (1000,)\n",
      "validation data generation time =>  0:00:02.986576\n"
     ]
    }
   ],
   "source": [
    "import os\n",
    "import cv2\n",
    "import glob\n",
    "import numpy as np\n",
    "from datetime import datetime\n",
    "\n",
    "image_list = []\n",
    "label_list = []\n",
    "\n",
    "validation_base_dir = '/content/cats_and_dogs_filtered/cats_and_dogs_filtered/validation/'\n",
    "\n",
    "validation_label_list = os.listdir(validation_base_dir)    # 정답이름\n",
    "\n",
    "print('validation label # => ', len(validation_label_list))\n",
    "\n",
    "start_time = datetime.now()\n",
    "\n",
    "for validation_label_name in validation_label_list:\n",
    "\n",
    "    # cats => 0.0,  dogs => 1.0 변환\n",
    "    if validation_label_name == 'cats':\n",
    "        label_num = 0.0\n",
    "    elif validation_label_name == 'dogs':\n",
    "        label_num = 1.0\n",
    "\n",
    "    # 이미지 파일 읽어오기\n",
    "\n",
    "    file_path = validation_base_dir + validation_label_name\n",
    "\n",
    "    validation_img_file_list = glob.glob(file_path+'/*.jpg')\n",
    "\n",
    "    # 각각의 정답 디렉토리에 있는 이미지 파일, 즉 .jpg 파일 읽어서 리스트에 저장\n",
    "    \n",
    "    for validation_img_file in validation_img_file_list:\n",
    "\n",
    "        validation_img = cv2.imread(validation_img_file, cv2.IMREAD_COLOR) \n",
    "\n",
    "        validation_img = cv2.resize(validation_img, dsize=(224,224))    # (224,224) 변환\n",
    "\n",
    "        validation_img = cv2.cvtColor(validation_img, cv2.COLOR_BGR2RGB)\n",
    "\n",
    "        image_list.append(validation_img)\n",
    "        label_list.append(label_num)\n",
    "\n",
    "# numpy 변환\n",
    "\n",
    "x_val = np.array(image_list).astype('float32')\n",
    "y_val = np.array(label_list).astype('float32')\n",
    "\n",
    "print('x_val.shape = ', x_val.shape, ', y_val.shape = ', y_val.shape)\n",
    "\n",
    "end_time = datetime.now()\n",
    "\n",
    "print('validation data generation time => ', end_time-start_time)"
   ]
  },
  {
   "cell_type": "markdown",
   "metadata": {
    "id": "LyeoQM0Aoo6P"
   },
   "source": [
    "validation data 로 부터 test data 분리 (분리 비율 5 : 5)"
   ]
  },
  {
   "cell_type": "code",
   "execution_count": 9,
   "metadata": {
    "colab": {
     "base_uri": "https://localhost:8080/"
    },
    "id": "n9ZPWnbWoxf4",
    "outputId": "47ec8c47-d947-433f-9e01-2b122f600c1d"
   },
   "outputs": [
    {
     "name": "stdout",
     "output_type": "stream",
     "text": [
      "split num =>  500\n",
      "x_val.shape =  (500, 224, 224, 3) , y_val.shape =  (500,)\n",
      "x_test.shape =  (500, 224, 224, 3) , y_test.shape =  (500,)\n"
     ]
    }
   ],
   "source": [
    "import numpy as np\n",
    "\n",
    "# validation data random shuffle\n",
    "\n",
    "s = np.arange(len(x_val))\n",
    "\n",
    "# index random shuffle\n",
    "\n",
    "np.random.shuffle(s)\n",
    "\n",
    "# x_val, y_val 재 생성\n",
    "\n",
    "x_val = x_val[s]\n",
    "y_val = y_val[s]\n",
    "\n",
    "# validation, test data 분리\n",
    "ratio = 0.5\n",
    "\n",
    "split_num = int(ratio*len(x_val))\n",
    "\n",
    "print('split num => ', split_num)\n",
    "\n",
    "x_test = x_val[0:split_num]\n",
    "y_test = y_val[0:split_num]\n",
    "\n",
    "x_val = x_val[split_num:]\n",
    "y_val = y_val[split_num:]\n",
    "\n",
    "print('x_val.shape = ', x_val.shape, ', y_val.shape = ', y_val.shape)\n",
    "print('x_test.shape = ', x_test.shape, ', y_test.shape = ', y_test.shape)"
   ]
  },
  {
   "cell_type": "markdown",
   "metadata": {
    "id": "R76rBxtrr2e8"
   },
   "source": [
    "이미지 데이터 정규화"
   ]
  },
  {
   "cell_type": "code",
   "execution_count": 10,
   "metadata": {
    "id": "jh7aHNk7r1p_"
   },
   "outputs": [],
   "source": [
    "x_train = x_train / 255.0\n",
    "x_val = x_val / 255.0\n",
    "x_test = x_test / 255.0"
   ]
  },
  {
   "cell_type": "markdown",
   "metadata": {
    "id": "w7ZtntKepuPI"
   },
   "source": [
    "전이학습을 위한 ResNet50 모델 구축"
   ]
  },
  {
   "cell_type": "code",
   "execution_count": 37,
   "metadata": {
    "colab": {
     "base_uri": "https://localhost:8080/"
    },
    "id": "kEI_id10r1fP",
    "outputId": "83dabcb2-6f60-4489-9c23-5d5282b398a3"
   },
   "outputs": [
    {
     "name": "stdout",
     "output_type": "stream",
     "text": [
      "Downloading data from https://storage.googleapis.com/tensorflow/keras-applications/mobilenet/mobilenet_1_0_224_tf_no_top.h5\n",
      "17227776/17225924 [==============================] - 0s 0us/step\n",
      "17235968/17225924 [==============================] - 0s 0us/step\n",
      "Model: \"mobilenet_1.00_224\"\n",
      "_________________________________________________________________\n",
      "Layer (type)                 Output Shape              Param #   \n",
      "=================================================================\n",
      "input_5 (InputLayer)         [(None, 224, 224, 3)]     0         \n",
      "_________________________________________________________________\n",
      "conv1 (Conv2D)               (None, 112, 112, 32)      864       \n",
      "_________________________________________________________________\n",
      "conv1_bn (BatchNormalization (None, 112, 112, 32)      128       \n",
      "_________________________________________________________________\n",
      "conv1_relu (ReLU)            (None, 112, 112, 32)      0         \n",
      "_________________________________________________________________\n",
      "conv_dw_1 (DepthwiseConv2D)  (None, 112, 112, 32)      288       \n",
      "_________________________________________________________________\n",
      "conv_dw_1_bn (BatchNormaliza (None, 112, 112, 32)      128       \n",
      "_________________________________________________________________\n",
      "conv_dw_1_relu (ReLU)        (None, 112, 112, 32)      0         \n",
      "_________________________________________________________________\n",
      "conv_pw_1 (Conv2D)           (None, 112, 112, 64)      2048      \n",
      "_________________________________________________________________\n",
      "conv_pw_1_bn (BatchNormaliza (None, 112, 112, 64)      256       \n",
      "_________________________________________________________________\n",
      "conv_pw_1_relu (ReLU)        (None, 112, 112, 64)      0         \n",
      "_________________________________________________________________\n",
      "conv_pad_2 (ZeroPadding2D)   (None, 113, 113, 64)      0         \n",
      "_________________________________________________________________\n",
      "conv_dw_2 (DepthwiseConv2D)  (None, 56, 56, 64)        576       \n",
      "_________________________________________________________________\n",
      "conv_dw_2_bn (BatchNormaliza (None, 56, 56, 64)        256       \n",
      "_________________________________________________________________\n",
      "conv_dw_2_relu (ReLU)        (None, 56, 56, 64)        0         \n",
      "_________________________________________________________________\n",
      "conv_pw_2 (Conv2D)           (None, 56, 56, 128)       8192      \n",
      "_________________________________________________________________\n",
      "conv_pw_2_bn (BatchNormaliza (None, 56, 56, 128)       512       \n",
      "_________________________________________________________________\n",
      "conv_pw_2_relu (ReLU)        (None, 56, 56, 128)       0         \n",
      "_________________________________________________________________\n",
      "conv_dw_3 (DepthwiseConv2D)  (None, 56, 56, 128)       1152      \n",
      "_________________________________________________________________\n",
      "conv_dw_3_bn (BatchNormaliza (None, 56, 56, 128)       512       \n",
      "_________________________________________________________________\n",
      "conv_dw_3_relu (ReLU)        (None, 56, 56, 128)       0         \n",
      "_________________________________________________________________\n",
      "conv_pw_3 (Conv2D)           (None, 56, 56, 128)       16384     \n",
      "_________________________________________________________________\n",
      "conv_pw_3_bn (BatchNormaliza (None, 56, 56, 128)       512       \n",
      "_________________________________________________________________\n",
      "conv_pw_3_relu (ReLU)        (None, 56, 56, 128)       0         \n",
      "_________________________________________________________________\n",
      "conv_pad_4 (ZeroPadding2D)   (None, 57, 57, 128)       0         \n",
      "_________________________________________________________________\n",
      "conv_dw_4 (DepthwiseConv2D)  (None, 28, 28, 128)       1152      \n",
      "_________________________________________________________________\n",
      "conv_dw_4_bn (BatchNormaliza (None, 28, 28, 128)       512       \n",
      "_________________________________________________________________\n",
      "conv_dw_4_relu (ReLU)        (None, 28, 28, 128)       0         \n",
      "_________________________________________________________________\n",
      "conv_pw_4 (Conv2D)           (None, 28, 28, 256)       32768     \n",
      "_________________________________________________________________\n",
      "conv_pw_4_bn (BatchNormaliza (None, 28, 28, 256)       1024      \n",
      "_________________________________________________________________\n",
      "conv_pw_4_relu (ReLU)        (None, 28, 28, 256)       0         \n",
      "_________________________________________________________________\n",
      "conv_dw_5 (DepthwiseConv2D)  (None, 28, 28, 256)       2304      \n",
      "_________________________________________________________________\n",
      "conv_dw_5_bn (BatchNormaliza (None, 28, 28, 256)       1024      \n",
      "_________________________________________________________________\n",
      "conv_dw_5_relu (ReLU)        (None, 28, 28, 256)       0         \n",
      "_________________________________________________________________\n",
      "conv_pw_5 (Conv2D)           (None, 28, 28, 256)       65536     \n",
      "_________________________________________________________________\n",
      "conv_pw_5_bn (BatchNormaliza (None, 28, 28, 256)       1024      \n",
      "_________________________________________________________________\n",
      "conv_pw_5_relu (ReLU)        (None, 28, 28, 256)       0         \n",
      "_________________________________________________________________\n",
      "conv_pad_6 (ZeroPadding2D)   (None, 29, 29, 256)       0         \n",
      "_________________________________________________________________\n",
      "conv_dw_6 (DepthwiseConv2D)  (None, 14, 14, 256)       2304      \n",
      "_________________________________________________________________\n",
      "conv_dw_6_bn (BatchNormaliza (None, 14, 14, 256)       1024      \n",
      "_________________________________________________________________\n",
      "conv_dw_6_relu (ReLU)        (None, 14, 14, 256)       0         \n",
      "_________________________________________________________________\n",
      "conv_pw_6 (Conv2D)           (None, 14, 14, 512)       131072    \n",
      "_________________________________________________________________\n",
      "conv_pw_6_bn (BatchNormaliza (None, 14, 14, 512)       2048      \n",
      "_________________________________________________________________\n",
      "conv_pw_6_relu (ReLU)        (None, 14, 14, 512)       0         \n",
      "_________________________________________________________________\n",
      "conv_dw_7 (DepthwiseConv2D)  (None, 14, 14, 512)       4608      \n",
      "_________________________________________________________________\n",
      "conv_dw_7_bn (BatchNormaliza (None, 14, 14, 512)       2048      \n",
      "_________________________________________________________________\n",
      "conv_dw_7_relu (ReLU)        (None, 14, 14, 512)       0         \n",
      "_________________________________________________________________\n",
      "conv_pw_7 (Conv2D)           (None, 14, 14, 512)       262144    \n",
      "_________________________________________________________________\n",
      "conv_pw_7_bn (BatchNormaliza (None, 14, 14, 512)       2048      \n",
      "_________________________________________________________________\n",
      "conv_pw_7_relu (ReLU)        (None, 14, 14, 512)       0         \n",
      "_________________________________________________________________\n",
      "conv_dw_8 (DepthwiseConv2D)  (None, 14, 14, 512)       4608      \n",
      "_________________________________________________________________\n",
      "conv_dw_8_bn (BatchNormaliza (None, 14, 14, 512)       2048      \n",
      "_________________________________________________________________\n",
      "conv_dw_8_relu (ReLU)        (None, 14, 14, 512)       0         \n",
      "_________________________________________________________________\n",
      "conv_pw_8 (Conv2D)           (None, 14, 14, 512)       262144    \n",
      "_________________________________________________________________\n",
      "conv_pw_8_bn (BatchNormaliza (None, 14, 14, 512)       2048      \n",
      "_________________________________________________________________\n",
      "conv_pw_8_relu (ReLU)        (None, 14, 14, 512)       0         \n",
      "_________________________________________________________________\n",
      "conv_dw_9 (DepthwiseConv2D)  (None, 14, 14, 512)       4608      \n",
      "_________________________________________________________________\n",
      "conv_dw_9_bn (BatchNormaliza (None, 14, 14, 512)       2048      \n",
      "_________________________________________________________________\n",
      "conv_dw_9_relu (ReLU)        (None, 14, 14, 512)       0         \n",
      "_________________________________________________________________\n",
      "conv_pw_9 (Conv2D)           (None, 14, 14, 512)       262144    \n",
      "_________________________________________________________________\n",
      "conv_pw_9_bn (BatchNormaliza (None, 14, 14, 512)       2048      \n",
      "_________________________________________________________________\n",
      "conv_pw_9_relu (ReLU)        (None, 14, 14, 512)       0         \n",
      "_________________________________________________________________\n",
      "conv_dw_10 (DepthwiseConv2D) (None, 14, 14, 512)       4608      \n",
      "_________________________________________________________________\n",
      "conv_dw_10_bn (BatchNormaliz (None, 14, 14, 512)       2048      \n",
      "_________________________________________________________________\n",
      "conv_dw_10_relu (ReLU)       (None, 14, 14, 512)       0         \n",
      "_________________________________________________________________\n",
      "conv_pw_10 (Conv2D)          (None, 14, 14, 512)       262144    \n",
      "_________________________________________________________________\n",
      "conv_pw_10_bn (BatchNormaliz (None, 14, 14, 512)       2048      \n",
      "_________________________________________________________________\n",
      "conv_pw_10_relu (ReLU)       (None, 14, 14, 512)       0         \n",
      "_________________________________________________________________\n",
      "conv_dw_11 (DepthwiseConv2D) (None, 14, 14, 512)       4608      \n",
      "_________________________________________________________________\n",
      "conv_dw_11_bn (BatchNormaliz (None, 14, 14, 512)       2048      \n",
      "_________________________________________________________________\n",
      "conv_dw_11_relu (ReLU)       (None, 14, 14, 512)       0         \n",
      "_________________________________________________________________\n",
      "conv_pw_11 (Conv2D)          (None, 14, 14, 512)       262144    \n",
      "_________________________________________________________________\n",
      "conv_pw_11_bn (BatchNormaliz (None, 14, 14, 512)       2048      \n",
      "_________________________________________________________________\n",
      "conv_pw_11_relu (ReLU)       (None, 14, 14, 512)       0         \n",
      "_________________________________________________________________\n",
      "conv_pad_12 (ZeroPadding2D)  (None, 15, 15, 512)       0         \n",
      "_________________________________________________________________\n",
      "conv_dw_12 (DepthwiseConv2D) (None, 7, 7, 512)         4608      \n",
      "_________________________________________________________________\n",
      "conv_dw_12_bn (BatchNormaliz (None, 7, 7, 512)         2048      \n",
      "_________________________________________________________________\n",
      "conv_dw_12_relu (ReLU)       (None, 7, 7, 512)         0         \n",
      "_________________________________________________________________\n",
      "conv_pw_12 (Conv2D)          (None, 7, 7, 1024)        524288    \n",
      "_________________________________________________________________\n",
      "conv_pw_12_bn (BatchNormaliz (None, 7, 7, 1024)        4096      \n",
      "_________________________________________________________________\n",
      "conv_pw_12_relu (ReLU)       (None, 7, 7, 1024)        0         \n",
      "_________________________________________________________________\n",
      "conv_dw_13 (DepthwiseConv2D) (None, 7, 7, 1024)        9216      \n",
      "_________________________________________________________________\n",
      "conv_dw_13_bn (BatchNormaliz (None, 7, 7, 1024)        4096      \n",
      "_________________________________________________________________\n",
      "conv_dw_13_relu (ReLU)       (None, 7, 7, 1024)        0         \n",
      "_________________________________________________________________\n",
      "conv_pw_13 (Conv2D)          (None, 7, 7, 1024)        1048576   \n",
      "_________________________________________________________________\n",
      "conv_pw_13_bn (BatchNormaliz (None, 7, 7, 1024)        4096      \n",
      "_________________________________________________________________\n",
      "conv_pw_13_relu (ReLU)       (None, 7, 7, 1024)        0         \n",
      "=================================================================\n",
      "Total params: 3,228,864\n",
      "Trainable params: 3,206,976\n",
      "Non-trainable params: 21,888\n",
      "_________________________________________________________________\n"
     ]
    }
   ],
   "source": [
    "base_model = MobileNet(weights='imagenet', include_top=False, input_shape=(224,224,3))\n",
    "\n",
    "base_model.summary()"
   ]
  },
  {
   "cell_type": "code",
   "execution_count": 38,
   "metadata": {
    "colab": {
     "base_uri": "https://localhost:8080/"
    },
    "id": "sGapQOlepw2k",
    "outputId": "b2feedc8-4422-4a7c-b7fc-defb00877a9d"
   },
   "outputs": [
    {
     "name": "stdout",
     "output_type": "stream",
     "text": [
      "Model: \"sequential_4\"\n",
      "_________________________________________________________________\n",
      "Layer (type)                 Output Shape              Param #   \n",
      "=================================================================\n",
      "mobilenet_1.00_224 (Function (None, 7, 7, 1024)        3228864   \n",
      "_________________________________________________________________\n",
      "flatten_4 (Flatten)          (None, 50176)             0         \n",
      "_________________________________________________________________\n",
      "dense_8 (Dense)              (None, 16)                802832    \n",
      "_________________________________________________________________\n",
      "dropout_4 (Dropout)          (None, 16)                0         \n",
      "_________________________________________________________________\n",
      "dense_9 (Dense)              (None, 2)                 34        \n",
      "=================================================================\n",
      "Total params: 4,031,730\n",
      "Trainable params: 4,009,842\n",
      "Non-trainable params: 21,888\n",
      "_________________________________________________________________\n"
     ]
    }
   ],
   "source": [
    "model = Sequential()\n",
    "\n",
    "model.add(base_model)\n",
    "\n",
    "model.add(Flatten())  # GlobalAveragePooling2D() 해도 무방함\n",
    "\n",
    "model.add(Dense(16, activation='relu'))\n",
    "model.add(Dropout(0.25))\n",
    "\n",
    "model.add(Dense(2, activation='softmax'))\n",
    "\n",
    "model.summary()"
   ]
  },
  {
   "cell_type": "code",
   "execution_count": 39,
   "metadata": {
    "id": "ZJeBSTrlp7Mu"
   },
   "outputs": [],
   "source": [
    "model.compile(loss='sparse_categorical_crossentropy', \n",
    "              optimizer=tf.keras.optimizers.Adam(2e-5), metrics=['acc'])"
   ]
  },
  {
   "cell_type": "code",
   "execution_count": 40,
   "metadata": {
    "colab": {
     "base_uri": "https://localhost:8080/"
    },
    "id": "tFJQgUokqBlE",
    "outputId": "52d094a2-8781-4508-f511-732df2c9973d"
   },
   "outputs": [
    {
     "name": "stdout",
     "output_type": "stream",
     "text": [
      "Epoch 1/10\n",
      "125/125 [==============================] - 28s 189ms/step - loss: 0.3718 - acc: 0.8465 - val_loss: 0.1477 - val_acc: 0.9360\n",
      "Epoch 2/10\n",
      "125/125 [==============================] - 23s 181ms/step - loss: 0.1098 - acc: 0.9545 - val_loss: 0.0948 - val_acc: 0.9680\n",
      "Epoch 3/10\n",
      "125/125 [==============================] - 23s 182ms/step - loss: 0.0589 - acc: 0.9800 - val_loss: 0.0788 - val_acc: 0.9740\n",
      "Epoch 4/10\n",
      "125/125 [==============================] - 23s 181ms/step - loss: 0.0396 - acc: 0.9860 - val_loss: 0.0655 - val_acc: 0.9820\n",
      "Epoch 5/10\n",
      "125/125 [==============================] - 23s 182ms/step - loss: 0.0332 - acc: 0.9900 - val_loss: 0.0746 - val_acc: 0.9740\n",
      "Epoch 6/10\n",
      "125/125 [==============================] - 23s 182ms/step - loss: 0.0227 - acc: 0.9930 - val_loss: 0.0660 - val_acc: 0.9780\n",
      "Epoch 7/10\n",
      "125/125 [==============================] - 23s 183ms/step - loss: 0.0200 - acc: 0.9930 - val_loss: 0.0601 - val_acc: 0.9820\n",
      "Epoch 8/10\n",
      "125/125 [==============================] - 23s 182ms/step - loss: 0.0149 - acc: 0.9955 - val_loss: 0.0548 - val_acc: 0.9840\n",
      "Epoch 9/10\n",
      "125/125 [==============================] - 23s 182ms/step - loss: 0.0196 - acc: 0.9950 - val_loss: 0.0650 - val_acc: 0.9760\n",
      "Epoch 10/10\n",
      "125/125 [==============================] - 23s 182ms/step - loss: 0.0144 - acc: 0.9955 - val_loss: 0.0600 - val_acc: 0.9820\n",
      "Elapsed Time =>  0:03:52.816337\n"
     ]
    }
   ],
   "source": [
    "from tensorflow.keras.callbacks import ModelCheckpoint, EarlyStopping\n",
    "from datetime import datetime\n",
    "\n",
    "save_file_name = './cats_and_dogs_Xception_Colab.h5'\n",
    "\n",
    "checkpoint = ModelCheckpoint(save_file_name,             # file명을 지정합니다\n",
    "                             monitor='val_loss',   # val_loss 값이 개선되었을때 호출됩니다\n",
    "                             verbose=1,            # 로그를 출력합니다\n",
    "                             save_best_only=True,  # 가장 best 값만 저장합니다\n",
    "                             mode='auto'           # auto는 알아서 best를 찾습니다. min/max\n",
    "                            )\n",
    "\n",
    "earlystopping = EarlyStopping(monitor='val_loss',  # 모니터 기준 설정 (val loss) \n",
    "                              patience=5,         # 5회 Epoch동안 개선되지 않는다면 종료\n",
    "                             )\n",
    "\n",
    "\n",
    "start_time = datetime.now()\n",
    "\n",
    "hist = model.fit(x_train, y_train,\n",
    "                 epochs=10, batch_size=16,          # batch_size 는 시스템 메모리에 맞게 설정\n",
    "                 validation_data=(x_val, y_val))\n",
    "\n",
    "end_time = datetime.now()\n",
    "\n",
    "print('Elapsed Time => ', end_time-start_time)"
   ]
  },
  {
   "cell_type": "code",
   "execution_count": 41,
   "metadata": {
    "colab": {
     "base_uri": "https://localhost:8080/"
    },
    "id": "n_b600SMsSIV",
    "outputId": "93959ee7-a253-45f8-fc1d-19c350c90685"
   },
   "outputs": [
    {
     "name": "stdout",
     "output_type": "stream",
     "text": [
      "16/16 [==============================] - 2s 101ms/step - loss: 0.0553 - acc: 0.9780\n"
     ]
    },
    {
     "data": {
      "text/plain": [
       "[0.0552804209291935, 0.9779999852180481]"
      ]
     },
     "execution_count": 41,
     "metadata": {},
     "output_type": "execute_result"
    }
   ],
   "source": [
    "model.evaluate(x_test, y_test)"
   ]
  },
  {
   "cell_type": "code",
   "execution_count": 42,
   "metadata": {
    "colab": {
     "base_uri": "https://localhost:8080/",
     "height": 295
    },
    "id": "5N7VFvCJs6dL",
    "outputId": "cc8c2eee-6d4a-4a73-dbd4-8bb917f8adf1"
   },
   "outputs": [
    {
     "data": {
      "image/png": "[encoded data removed]",
      "text/plain": [
       "<Figure size 432x288 with 1 Axes>"
      ]
     },
     "metadata": {
      "needs_background": "light"
     },
     "output_type": "display_data"
    }
   ],
   "source": [
    "import matplotlib.pyplot as plt\n",
    "\n",
    "plt.plot(hist.history['acc'], label='train')\n",
    "plt.plot(hist.history['val_acc'], label='validation')\n",
    "plt.title('Accuracy Trend')\n",
    "plt.ylabel('accuracy')\n",
    "plt.xlabel('epoch')\n",
    "plt.legend(loc='best')\n",
    "plt.grid()\n",
    "plt.show()"
   ]
  },
  {
   "cell_type": "code",
   "execution_count": 43,
   "metadata": {
    "colab": {
     "base_uri": "https://localhost:8080/",
     "height": 295
    },
    "id": "-wP-yvQms-5f",
    "outputId": "1e212880-6f02-4b1f-c80e-c8edbb13932c"
   },
   "outputs": [
    {
     "data": {
      "image/png": "[encoded data removed]",
      "text/plain": [
       "<Figure size 432x288 with 1 Axes>"
      ]
     },
     "metadata": {
      "needs_background": "light"
     },
     "output_type": "display_data"
    }
   ],
   "source": [
    "plt.plot(hist.history['loss'], label='train')\n",
    "plt.plot(hist.history['val_loss'], label='validation')\n",
    "plt.title('Loss Trend')\n",
    "plt.ylabel('loss')\n",
    "plt.xlabel('epoch')\n",
    "plt.legend(loc='best')\n",
    "plt.grid()\n",
    "plt.show()"
   ]
  },
  {
   "cell_type": "code",
   "execution_count": null,
   "metadata": {
    "id": "0oIpNjsgvPrC"
   },
   "outputs": [],
   "source": []
  }
 ],
 "metadata": {
  "accelerator": "GPU",
  "colab": {
   "collapsed_sections": [],
   "name": "TransferLearning_2_Exercise_MobileNet.ipynb",
   "provenance": []
  },
  "kernelspec": {
   "display_name": "Python 3",
   "language": "python",
   "name": "python3"
  },
  "language_info": {
   "codemirror_mode": {
    "name": "ipython",
    "version": 3
   },
   "file_extension": ".py",
   "mimetype": "text/x-python",
   "name": "python",
   "nbconvert_exporter": "python",
   "pygments_lexer": "ipython3",
   "version": "3.7.3"
  }
 },
 "nbformat": 4,
 "nbformat_minor": 1
}
