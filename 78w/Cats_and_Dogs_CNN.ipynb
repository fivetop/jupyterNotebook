{
 "cells": [
  {
   "cell_type": "markdown",
   "metadata": {
    "id": "G0kFqieQZms7"
   },
   "source": [
    "# Cats and Dogs - CNN 버전"
   ]
  },
  {
   "cell_type": "code",
   "execution_count": 1,
   "metadata": {
    "id": "ZA6g9KE_Zukk"
   },
   "outputs": [],
   "source": [
    "import tensorflow as tf\n",
    "from tensorflow.keras.models import Sequential, Model\n",
    "from tensorflow.keras.layers import Dense, Dropout, Input\n",
    "from tensorflow.keras.layers import Flatten, Conv2D, MaxPooling2D"
   ]
  },
  {
   "cell_type": "markdown",
   "metadata": {
    "id": "h7Oq642KGpyo"
   },
   "source": [
    "# 다운로드 및 압축풀기 "
   ]
  },
  {
   "cell_type": "code",
   "execution_count": 2,
   "metadata": {
    "colab": {
     "base_uri": "https://localhost:8080/"
    },
    "id": "o_SFdf-PA_e0",
    "outputId": "df2095bb-5045-4c37-d2b7-783d155c7ecd"
   },
   "outputs": [
    {
     "name": "stdout",
     "output_type": "stream",
     "text": [
      "--2021-11-10 13:47:56--  https://storage.googleapis.com/mledu-datasets/cats_and_dogs_filtered.zip\n",
      "Resolving storage.googleapis.com (storage.googleapis.com)... 173.194.197.128, 173.194.198.128, 64.233.191.128, ...\n",
      "Connecting to storage.googleapis.com (storage.googleapis.com)|173.194.197.128|:443... connected.\n",
      "HTTP request sent, awaiting response... 200 OK\n",
      "Length: 68606236 (65M) [application/zip]\n",
      "Saving to: ‘cats_and_dogs_filtered.zip’\n",
      "\n",
      "cats_and_dogs_filte 100%[===================>]  65.43M   160MB/s    in 0.4s    \n",
      "\n",
      "2021-11-10 13:47:57 (160 MB/s) - ‘cats_and_dogs_filtered.zip’ saved [68606236/68606236]\n",
      "\n"
     ]
    }
   ],
   "source": [
    "!wget https://storage.googleapis.com/mledu-datasets/cats_and_dogs_filtered.zip"
   ]
  },
  {
   "cell_type": "code",
   "execution_count": 3,
   "metadata": {
    "id": "RlRkEmzAZuhY"
   },
   "outputs": [],
   "source": [
    "import os\n",
    "import shutil\n",
    "\n",
    "if os.path.exists('/content/cats_and_dogs_filtered/'):    # 작업 디렉토리는 cats_and_dogs_filtered\n",
    "    \n",
    "    shutil.rmtree('/content/cats_and_dogs_filtered/')\n",
    "    print('/content/cats_and_dogs_filtered/  is removed !!!')"
   ]
  },
  {
   "cell_type": "code",
   "execution_count": 4,
   "metadata": {
    "id": "iprE3ZqbBC-K"
   },
   "outputs": [],
   "source": [
    "# 압축파일 풀기\n",
    "\n",
    "import zipfile\n",
    "\n",
    "with zipfile.ZipFile('/content/cats_and_dogs_filtered.zip', 'r') as target_file:\n",
    "\n",
    "    target_file.extractall('/content/cats_and_dogs_filtered/') "
   ]
  },
  {
   "cell_type": "markdown",
   "metadata": {
    "id": "V8bsAOdNG-3u"
   },
   "source": [
    "# 데이터 개수 확인"
   ]
  },
  {
   "cell_type": "code",
   "execution_count": 5,
   "metadata": {
    "colab": {
     "base_uri": "https://localhost:8080/"
    },
    "id": "8TURKhVjaHyn",
    "outputId": "d7091518-bc2c-436c-a88b-3f433d4939e3"
   },
   "outputs": [
    {
     "name": "stdout",
     "output_type": "stream",
     "text": [
      "cats train file nums =  1000\n",
      "dogs train file nums =  1000\n",
      "cats validation file nums =  500\n",
      "dogs validation file nums =  500\n",
      "=================================================\n"
     ]
    }
   ],
   "source": [
    "import os\n",
    "import glob\n",
    "\n",
    "# 데이터 정답 (label) 개수 및 종류 확인\n",
    "\n",
    "cats_train_list = os.listdir('/content/cats_and_dogs_filtered/cats_and_dogs_filtered/train/cats')\n",
    "dogs_train_list = os.listdir('/content/cats_and_dogs_filtered/cats_and_dogs_filtered/train/dogs')\n",
    "\n",
    "cats_validation_list = os.listdir('/content/cats_and_dogs_filtered/cats_and_dogs_filtered/validation/cats')\n",
    "dogs_validation_list = os.listdir('/content/cats_and_dogs_filtered/cats_and_dogs_filtered/validation/dogs')\n",
    "\n",
    "print('cats train file nums = ', len(cats_train_list))\n",
    "print('dogs train file nums = ', len(dogs_train_list))\n",
    "print('cats validation file nums = ', len(cats_validation_list))\n",
    "print('dogs validation file nums = ', len(cats_validation_list))\n",
    "print('=================================================')"
   ]
  },
  {
   "cell_type": "markdown",
   "metadata": {
    "id": "AmN0ONiTkik4"
   },
   "source": [
    "# train 디렉토리에서 image data 읽어서 x_train, y_train 생성"
   ]
  },
  {
   "cell_type": "code",
   "execution_count": 21,
   "metadata": {
    "colab": {
     "base_uri": "https://localhost:8080/"
    },
    "id": "m-i3PDUXaH2P",
    "outputId": "eba2f8a3-cc3d-478c-a65b-e9b6a61c9ab1"
   },
   "outputs": [
    {
     "name": "stdout",
     "output_type": "stream",
     "text": [
      "train label # =>  2\n",
      "x_train.shape =  (2000, 224, 224, 3) , y_train.shape =  (2000,)\n",
      "train data generation time =>  0:00:06.206475\n"
     ]
    }
   ],
   "source": [
    "import os\n",
    "import cv2\n",
    "import glob\n",
    "import numpy as np\n",
    "from datetime import datetime\n",
    "\n",
    "image_list = []\n",
    "label_list = []\n",
    "\n",
    "train_base_dir = '/content/cats_and_dogs_filtered/cats_and_dogs_filtered/train/'\n",
    "\n",
    "train_label_list = os.listdir(train_base_dir)    # 정답이름\n",
    "\n",
    "print('train label # => ', len(train_label_list))\n",
    "\n",
    "start_time = datetime.now()\n",
    "\n",
    "for train_label_name in train_label_list:\n",
    "\n",
    "    # cats => 0.0,  dogs => 1.0 변환\n",
    "    if train_label_name == 'cats':\n",
    "        label_num = 0.0\n",
    "    elif train_label_name == 'dogs':\n",
    "        label_num = 1.0\n",
    "\n",
    "    # 이미지 파일 읽어오기\n",
    "\n",
    "    file_path = train_base_dir + train_label_name\n",
    "\n",
    "    train_img_file_list = glob.glob(file_path+'/*.jpg')\n",
    "\n",
    "    # 각각의 정답 디렉토리에 있는 이미지 파일, 즉 .jpg 파일 읽어서 리스트에 저장\n",
    "    \n",
    "    for train_img_file in train_img_file_list:\n",
    "\n",
    "        train_img = cv2.imread(train_img_file, cv2.IMREAD_COLOR) \n",
    "\n",
    "        train_img = cv2.resize(train_img, dsize=(224,224))    # (224,224) 변환\n",
    "\n",
    "        train_img = cv2.cvtColor(train_img, cv2.COLOR_BGR2RGB)\n",
    "\n",
    "        image_list.append(train_img)\n",
    "        label_list.append(label_num) \n",
    "\n",
    "# numpy 변환\n",
    "\n",
    "x_train = np.array(image_list).astype('float32')\n",
    "y_train = np.array(label_list).astype('float32')\n",
    "\n",
    "print('x_train.shape = ', x_train.shape, ', y_train.shape = ', y_train.shape)\n",
    "\n",
    "end_time = datetime.now()\n",
    "\n",
    "print('train data generation time => ', end_time-start_time)"
   ]
  },
  {
   "cell_type": "markdown",
   "metadata": {
    "id": "qsf3UmBNnh9u"
   },
   "source": [
    "# validation 디렉토리로부터 이미지 읽어서 x_val, y_val 생성"
   ]
  },
  {
   "cell_type": "code",
   "execution_count": 22,
   "metadata": {
    "colab": {
     "base_uri": "https://localhost:8080/"
    },
    "id": "QKrp2VxdndDY",
    "outputId": "1a377a98-6217-42c1-8d94-25ff598a2b1b"
   },
   "outputs": [
    {
     "name": "stdout",
     "output_type": "stream",
     "text": [
      "validation label # =>  2\n",
      "x_val.shape =  (1000, 224, 224, 3) , y_val.shape =  (1000,)\n",
      "validation data generation time =>  0:00:03.255192\n"
     ]
    }
   ],
   "source": [
    "import os\n",
    "import cv2\n",
    "import glob\n",
    "import numpy as np\n",
    "from datetime import datetime\n",
    "\n",
    "image_list = []\n",
    "label_list = []\n",
    "\n",
    "validation_base_dir = '/content/cats_and_dogs_filtered/cats_and_dogs_filtered/validation/'\n",
    "\n",
    "validation_label_list = os.listdir(validation_base_dir)    # 정답이름\n",
    "\n",
    "print('validation label # => ', len(validation_label_list))\n",
    "\n",
    "start_time = datetime.now()\n",
    "\n",
    "for validation_label_name in validation_label_list:\n",
    "\n",
    "    # cats => 0.0,  dogs => 1.0 변환\n",
    "    if validation_label_name == 'cats':\n",
    "        label_num = 0.0\n",
    "    elif validation_label_name == 'dogs':\n",
    "        label_num = 1.0\n",
    "\n",
    "    # 이미지 파일 읽어오기\n",
    "\n",
    "    file_path = validation_base_dir + validation_label_name\n",
    "\n",
    "    validation_img_file_list = glob.glob(file_path+'/*.jpg')\n",
    "\n",
    "    # 각각의 정답 디렉토리에 있는 이미지 파일, 즉 .jpg 파일 읽어서 리스트에 저장\n",
    "    \n",
    "    for validation_img_file in validation_img_file_list:\n",
    "\n",
    "        validation_img = cv2.imread(validation_img_file, cv2.IMREAD_COLOR) \n",
    "\n",
    "        validation_img = cv2.resize(validation_img, dsize=(224,224))    # (224,224) 변환\n",
    "\n",
    "        validation_img = cv2.cvtColor(validation_img, cv2.COLOR_BGR2RGB)\n",
    "\n",
    "        image_list.append(validation_img)\n",
    "        label_list.append(label_num)\n",
    "\n",
    "# numpy 변환\n",
    "\n",
    "x_val = np.array(image_list).astype('float32')\n",
    "y_val = np.array(label_list).astype('float32')\n",
    "\n",
    "print('x_val.shape = ', x_val.shape, ', y_val.shape = ', y_val.shape)\n",
    "\n",
    "end_time = datetime.now()\n",
    "\n",
    "print('validation data generation time => ', end_time-start_time)"
   ]
  },
  {
   "cell_type": "markdown",
   "metadata": {
    "id": "LyeoQM0Aoo6P"
   },
   "source": [
    "# validation data 로 부터 test data 분리 (분리 비율 5 : 5)"
   ]
  },
  {
   "cell_type": "code",
   "execution_count": 23,
   "metadata": {
    "colab": {
     "base_uri": "https://localhost:8080/"
    },
    "id": "n9ZPWnbWoxf4",
    "outputId": "45fabd83-5852-4194-869c-162f65c067c0"
   },
   "outputs": [
    {
     "name": "stdout",
     "output_type": "stream",
     "text": [
      "split num =>  500\n",
      "x_val.shape =  (500, 224, 224, 3) , y_val.shape =  (500,)\n",
      "x_test.shape =  (500, 224, 224, 3) , y_test.shape =  (500,)\n"
     ]
    }
   ],
   "source": [
    "import numpy as np\n",
    "\n",
    "# validation data random shuffle\n",
    "\n",
    "s = np.arange(len(x_val))\n",
    "\n",
    "# index random shuffle\n",
    "\n",
    "np.random.shuffle(s)\n",
    "\n",
    "# x_val, y_val 재 생성\n",
    "\n",
    "x_val = x_val[s]\n",
    "y_val = y_val[s]\n",
    "\n",
    "# validation, test data 분리\n",
    "ratio = 0.5\n",
    "\n",
    "split_num = int(ratio*len(x_val))\n",
    "\n",
    "print('split num => ', split_num)\n",
    "\n",
    "x_test = x_val[0:split_num]\n",
    "y_test = y_val[0:split_num]\n",
    "\n",
    "x_val = x_val[split_num:]\n",
    "y_val = y_val[split_num:]\n",
    "\n",
    "print('x_val.shape = ', x_val.shape, ', y_val.shape = ', y_val.shape)\n",
    "print('x_test.shape = ', x_test.shape, ', y_test.shape = ', y_test.shape)"
   ]
  },
  {
   "cell_type": "markdown",
   "metadata": {
    "id": "R76rBxtrr2e8"
   },
   "source": [
    "# 이미지 데이터 정규화"
   ]
  },
  {
   "cell_type": "code",
   "execution_count": 24,
   "metadata": {
    "id": "jh7aHNk7r1p_"
   },
   "outputs": [],
   "source": [
    "x_train = x_train / 255.0\n",
    "x_val = x_val / 255.0\n",
    "x_test = x_test / 255.0"
   ]
  },
  {
   "cell_type": "markdown",
   "metadata": {
    "id": "w7ZtntKepuPI"
   },
   "source": [
    "# CNN 모델 구축"
   ]
  },
  {
   "cell_type": "code",
   "execution_count": 28,
   "metadata": {
    "colab": {
     "base_uri": "https://localhost:8080/"
    },
    "id": "sGapQOlepw2k",
    "outputId": "9d460f40-26a9-4c9e-93dc-fec93d15a368"
   },
   "outputs": [
    {
     "name": "stdout",
     "output_type": "stream",
     "text": [
      "Model: \"sequential_2\"\n",
      "_________________________________________________________________\n",
      " Layer (type)                Output Shape              Param #   \n",
      "=================================================================\n",
      " conv2d_14 (Conv2D)          (None, 224, 224, 32)      896       \n",
      "                                                                 \n",
      " conv2d_15 (Conv2D)          (None, 224, 224, 32)      9248      \n",
      "                                                                 \n",
      " max_pooling2d_10 (MaxPoolin  (None, 112, 112, 32)     0         \n",
      " g2D)                                                            \n",
      "                                                                 \n",
      " dropout_12 (Dropout)        (None, 112, 112, 32)      0         \n",
      "                                                                 \n",
      " conv2d_16 (Conv2D)          (None, 112, 112, 64)      18496     \n",
      "                                                                 \n",
      " conv2d_17 (Conv2D)          (None, 112, 112, 64)      36928     \n",
      "                                                                 \n",
      " max_pooling2d_11 (MaxPoolin  (None, 56, 56, 64)       0         \n",
      " g2D)                                                            \n",
      "                                                                 \n",
      " dropout_13 (Dropout)        (None, 56, 56, 64)        0         \n",
      "                                                                 \n",
      " conv2d_18 (Conv2D)          (None, 56, 56, 128)       73856     \n",
      "                                                                 \n",
      " max_pooling2d_12 (MaxPoolin  (None, 28, 28, 128)      0         \n",
      " g2D)                                                            \n",
      "                                                                 \n",
      " dropout_14 (Dropout)        (None, 28, 28, 128)       0         \n",
      "                                                                 \n",
      " conv2d_19 (Conv2D)          (None, 28, 28, 128)       147584    \n",
      "                                                                 \n",
      " max_pooling2d_13 (MaxPoolin  (None, 14, 14, 128)      0         \n",
      " g2D)                                                            \n",
      "                                                                 \n",
      " dropout_15 (Dropout)        (None, 14, 14, 128)       0         \n",
      "                                                                 \n",
      " conv2d_20 (Conv2D)          (None, 14, 14, 256)       295168    \n",
      "                                                                 \n",
      " max_pooling2d_14 (MaxPoolin  (None, 7, 7, 256)        0         \n",
      " g2D)                                                            \n",
      "                                                                 \n",
      " dropout_16 (Dropout)        (None, 7, 7, 256)         0         \n",
      "                                                                 \n",
      " flatten_2 (Flatten)         (None, 12544)             0         \n",
      "                                                                 \n",
      " dense_4 (Dense)             (None, 8)                 100360    \n",
      "                                                                 \n",
      " dropout_17 (Dropout)        (None, 8)                 0         \n",
      "                                                                 \n",
      " dense_5 (Dense)             (None, 2)                 18        \n",
      "                                                                 \n",
      "=================================================================\n",
      "Total params: 682,554\n",
      "Trainable params: 682,554\n",
      "Non-trainable params: 0\n",
      "_________________________________________________________________\n"
     ]
    }
   ],
   "source": [
    "model = Sequential()\n",
    "\n",
    "model.add(Conv2D(32, (3,3), activation='relu', padding='SAME', input_shape=(224,224,3))) \n",
    "model.add(Conv2D(32, (3,3), activation='relu', padding='SAME'))\n",
    "model.add(MaxPooling2D(pool_size=(2,2)))\n",
    "model.add(Dropout(0.25))\n",
    "\n",
    "model.add(Conv2D(64, (3,3), activation='relu', padding='SAME'))\n",
    "model.add(Conv2D(64, (3,3), activation='relu', padding='SAME'))\n",
    "model.add(MaxPooling2D(pool_size=(2,2)))\n",
    "model.add(Dropout(0.25))\n",
    "\n",
    "model.add(Conv2D(128, (3,3), activation='relu', padding='SAME'))\n",
    "model.add(MaxPooling2D(pool_size=(2,2)))\n",
    "model.add(Dropout(0.25))\n",
    "\n",
    "model.add(Conv2D(128, (3,3), activation='relu', padding='SAME'))\n",
    "model.add(MaxPooling2D(pool_size=(2,2)))\n",
    "model.add(Dropout(0.25))\n",
    "\n",
    "model.add(Conv2D(256, (3,3), activation='relu', padding='SAME'))\n",
    "model.add(MaxPooling2D(pool_size=(2,2)))\n",
    "model.add(Dropout(0.25))\n",
    "\n",
    "model.add(Flatten())\n",
    "\n",
    "model.add(Dense(8, activation='relu'))\n",
    "model.add(Dropout(0.5))\n",
    "\n",
    "model.add(Dense(2, activation='softmax'))\n",
    "\n",
    "model.summary()"
   ]
  },
  {
   "cell_type": "code",
   "execution_count": 29,
   "metadata": {
    "id": "ZJeBSTrlp7Mu"
   },
   "outputs": [],
   "source": [
    "model.compile(loss='sparse_categorical_crossentropy', \n",
    "              optimizer=tf.keras.optimizers.Adam(), metrics=['acc'])"
   ]
  },
  {
   "cell_type": "code",
   "execution_count": 30,
   "metadata": {
    "colab": {
     "base_uri": "https://localhost:8080/"
    },
    "id": "tFJQgUokqBlE",
    "outputId": "2b21490c-bb8f-4699-e0cb-1e80a5f80adf"
   },
   "outputs": [
    {
     "name": "stdout",
     "output_type": "stream",
     "text": [
      "Epoch 1/30\n",
      "125/125 [==============================] - 24s 137ms/step - loss: 0.6959 - acc: 0.4880 - val_loss: 0.6931 - val_acc: 0.5200\n",
      "Epoch 2/30\n",
      "125/125 [==============================] - 16s 132ms/step - loss: 0.6933 - acc: 0.4870 - val_loss: 0.6932 - val_acc: 0.4800\n",
      "Epoch 3/30\n",
      "125/125 [==============================] - 16s 131ms/step - loss: 0.6932 - acc: 0.4970 - val_loss: 0.6931 - val_acc: 0.5200\n",
      "Epoch 4/30\n",
      "125/125 [==============================] - 16s 131ms/step - loss: 0.6933 - acc: 0.4980 - val_loss: 0.6932 - val_acc: 0.4800\n",
      "Epoch 5/30\n",
      "125/125 [==============================] - 16s 131ms/step - loss: 0.6933 - acc: 0.5010 - val_loss: 0.6931 - val_acc: 0.5200\n",
      "Epoch 6/30\n",
      "125/125 [==============================] - 16s 130ms/step - loss: 0.6932 - acc: 0.5000 - val_loss: 0.6931 - val_acc: 0.5200\n",
      "Epoch 7/30\n",
      "125/125 [==============================] - 16s 130ms/step - loss: 0.6932 - acc: 0.4900 - val_loss: 0.6931 - val_acc: 0.5200\n",
      "Epoch 8/30\n",
      "125/125 [==============================] - 16s 129ms/step - loss: 0.6934 - acc: 0.4860 - val_loss: 0.6931 - val_acc: 0.5200\n",
      "Epoch 9/30\n",
      "125/125 [==============================] - 16s 130ms/step - loss: 0.6933 - acc: 0.4910 - val_loss: 0.6931 - val_acc: 0.5200\n",
      "Epoch 10/30\n",
      "125/125 [==============================] - 16s 130ms/step - loss: 0.6933 - acc: 0.4980 - val_loss: 0.6932 - val_acc: 0.4800\n",
      "Epoch 11/30\n",
      "125/125 [==============================] - 16s 129ms/step - loss: 0.6933 - acc: 0.4760 - val_loss: 0.6931 - val_acc: 0.5200\n",
      "Epoch 12/30\n",
      "125/125 [==============================] - 16s 130ms/step - loss: 0.6932 - acc: 0.5000 - val_loss: 0.6931 - val_acc: 0.5200\n",
      "Epoch 13/30\n",
      "125/125 [==============================] - 16s 130ms/step - loss: 0.6933 - acc: 0.4880 - val_loss: 0.6930 - val_acc: 0.5200\n",
      "Epoch 14/30\n",
      "125/125 [==============================] - 16s 130ms/step - loss: 0.6933 - acc: 0.4880 - val_loss: 0.6931 - val_acc: 0.5200\n",
      "Epoch 15/30\n",
      "125/125 [==============================] - 16s 130ms/step - loss: 0.6932 - acc: 0.4840 - val_loss: 0.6932 - val_acc: 0.4800\n",
      "Epoch 16/30\n",
      "125/125 [==============================] - 16s 130ms/step - loss: 0.6932 - acc: 0.4960 - val_loss: 0.6931 - val_acc: 0.5200\n",
      "Epoch 17/30\n",
      "125/125 [==============================] - 16s 130ms/step - loss: 0.6933 - acc: 0.4970 - val_loss: 0.6931 - val_acc: 0.5200\n",
      "Epoch 18/30\n",
      "125/125 [==============================] - 16s 130ms/step - loss: 0.6933 - acc: 0.4850 - val_loss: 0.6931 - val_acc: 0.5200\n",
      "Epoch 19/30\n",
      "125/125 [==============================] - 16s 130ms/step - loss: 0.6932 - acc: 0.4930 - val_loss: 0.6931 - val_acc: 0.5200\n",
      "Epoch 20/30\n",
      "125/125 [==============================] - 16s 130ms/step - loss: 0.6933 - acc: 0.4800 - val_loss: 0.6932 - val_acc: 0.4800\n",
      "Epoch 21/30\n",
      "125/125 [==============================] - 16s 130ms/step - loss: 0.6932 - acc: 0.4870 - val_loss: 0.6931 - val_acc: 0.5200\n",
      "Epoch 22/30\n",
      "125/125 [==============================] - 16s 130ms/step - loss: 0.6934 - acc: 0.4880 - val_loss: 0.6930 - val_acc: 0.5200\n",
      "Epoch 23/30\n",
      "125/125 [==============================] - 16s 130ms/step - loss: 0.6933 - acc: 0.5000 - val_loss: 0.6930 - val_acc: 0.5200\n",
      "Epoch 24/30\n",
      "125/125 [==============================] - 16s 130ms/step - loss: 0.6932 - acc: 0.4900 - val_loss: 0.6931 - val_acc: 0.5200\n",
      "Epoch 25/30\n",
      "125/125 [==============================] - 16s 130ms/step - loss: 0.6932 - acc: 0.4990 - val_loss: 0.6933 - val_acc: 0.4800\n",
      "Epoch 26/30\n",
      "125/125 [==============================] - 16s 130ms/step - loss: 0.6933 - acc: 0.4910 - val_loss: 0.6932 - val_acc: 0.4800\n",
      "Epoch 27/30\n",
      "125/125 [==============================] - 16s 130ms/step - loss: 0.6933 - acc: 0.4730 - val_loss: 0.6931 - val_acc: 0.5200\n",
      "Epoch 28/30\n",
      "125/125 [==============================] - 16s 130ms/step - loss: 0.6932 - acc: 0.4890 - val_loss: 0.6932 - val_acc: 0.4800\n",
      "Epoch 29/30\n",
      "125/125 [==============================] - 16s 130ms/step - loss: 0.6932 - acc: 0.4720 - val_loss: 0.6932 - val_acc: 0.4800\n",
      "Epoch 30/30\n",
      "125/125 [==============================] - 16s 130ms/step - loss: 0.6933 - acc: 0.4920 - val_loss: 0.6932 - val_acc: 0.4800\n",
      "Elapsed Time =>  0:08:29.672387\n"
     ]
    }
   ],
   "source": [
    "from tensorflow.keras.callbacks import ModelCheckpoint, EarlyStopping\n",
    "from datetime import datetime\n",
    "\n",
    "save_file_name = './cats_and_dogs_Native_Colab.h5'\n",
    "\n",
    "checkpoint = ModelCheckpoint(save_file_name,             # file명을 지정합니다\n",
    "                             monitor='val_loss',   # val_loss 값이 개선되었을때 호출됩니다\n",
    "                             verbose=1,            # 로그를 출력합니다\n",
    "                             save_best_only=True,  # 가장 best 값만 저장합니다\n",
    "                             mode='auto'           # auto는 알아서 best를 찾습니다. min/max\n",
    "                            )\n",
    "\n",
    "earlystopping = EarlyStopping(monitor='val_loss',  # 모니터 기준 설정 (val loss) \n",
    "                              patience=5,         # 5회 Epoch동안 개선되지 않는다면 종료\n",
    "                             )\n",
    "\n",
    "\n",
    "start_time = datetime.now()\n",
    "\n",
    "hist = model.fit(x_train, y_train,\n",
    "                 epochs=30, batch_size=16, \n",
    "                 validation_data=(x_val, y_val))\n",
    "\n",
    "end_time = datetime.now()\n",
    "\n",
    "print('Elapsed Time => ', end_time-start_time)"
   ]
  },
  {
   "cell_type": "code",
   "execution_count": 31,
   "metadata": {
    "colab": {
     "base_uri": "https://localhost:8080/"
    },
    "id": "n_b600SMsSIV",
    "outputId": "1c0d3bbe-8805-42f4-b264-697ebd12a9a9"
   },
   "outputs": [
    {
     "name": "stdout",
     "output_type": "stream",
     "text": [
      "16/16 [==============================] - 1s 80ms/step - loss: 0.6931 - acc: 0.5200\n"
     ]
    },
    {
     "data": {
      "text/plain": [
       "[0.6931124329566956, 0.5199999809265137]"
      ]
     },
     "execution_count": 31,
     "metadata": {},
     "output_type": "execute_result"
    }
   ],
   "source": [
    "model.evaluate(x_test, y_test)"
   ]
  },
  {
   "cell_type": "code",
   "execution_count": 32,
   "metadata": {
    "colab": {
     "base_uri": "https://localhost:8080/",
     "height": 295
    },
    "id": "5N7VFvCJs6dL",
    "outputId": "ba71de0b-fa69-49cd-d6c5-0016018b8edf"
   },
   "outputs": [
    {
     "data": {
      "image/png": "[encoded data removed]",
      "text/plain": [
       "<Figure size 432x288 with 1 Axes>"
      ]
     },
     "metadata": {
      "needs_background": "light"
     },
     "output_type": "display_data"
    }
   ],
   "source": [
    "import matplotlib.pyplot as plt\n",
    "\n",
    "plt.plot(hist.history['acc'], label='train')\n",
    "plt.plot(hist.history['val_acc'], label='validation')\n",
    "plt.title('Accuracy Trend')\n",
    "plt.ylabel('accuracy')\n",
    "plt.xlabel('epoch')\n",
    "plt.legend(loc='best')\n",
    "plt.grid()\n",
    "plt.show()"
   ]
  },
  {
   "cell_type": "code",
   "execution_count": 33,
   "metadata": {
    "colab": {
     "base_uri": "https://localhost:8080/",
     "height": 295
    },
    "id": "-wP-yvQms-5f",
    "outputId": "ceabc7e0-ec60-415d-df37-12dfbf72db02"
   },
   "outputs": [
    {
     "data": {
      "image/png": "[encoded data removed]",
      "text/plain": [
       "<Figure size 432x288 with 1 Axes>"
      ]
     },
     "metadata": {
      "needs_background": "light"
     },
     "output_type": "display_data"
    }
   ],
   "source": [
    "plt.plot(hist.history['loss'], label='train')\n",
    "plt.plot(hist.history['val_loss'], label='validation')\n",
    "plt.title('Loss Trend')\n",
    "plt.ylabel('loss')\n",
    "plt.xlabel('epoch')\n",
    "plt.legend(loc='best')\n",
    "plt.grid()\n",
    "plt.show()"
   ]
  },
  {
   "cell_type": "code",
   "execution_count": null,
   "metadata": {
    "id": "0oIpNjsgvPrC"
   },
   "outputs": [],
   "source": []
  }
 ],
 "metadata": {
  "accelerator": "GPU",
  "colab": {
   "collapsed_sections": [],
   "name": "Cats_and_Dogs_Native_Colab_Ver1.ipynb",
   "provenance": []
  },
  "kernelspec": {
   "display_name": "Python 3",
   "language": "python",
   "name": "python3"
  },
  "language_info": {
   "codemirror_mode": {
    "name": "ipython",
    "version": 3
   },
   "file_extension": ".py",
   "mimetype": "text/x-python",
   "name": "python",
   "nbconvert_exporter": "python",
   "pygments_lexer": "ipython3",
   "version": "3.8.3"
  }
 },
 "nbformat": 4,
 "nbformat_minor": 1
}
