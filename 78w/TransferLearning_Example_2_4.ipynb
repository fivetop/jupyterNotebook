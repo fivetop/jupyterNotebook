{
  "nbformat": 4,
  "nbformat_minor": 0,
  "metadata": {
    "accelerator": "GPU",
    "colab": {
      "name": "TransferLearning_Example_2_4.ipynb",
      "provenance": [],
      "collapsed_sections": []
    },
    "kernelspec": {
      "display_name": "Python 3",
      "language": "python",
      "name": "python3"
    },
    "language_info": {
      "codemirror_mode": {
        "name": "ipython",
        "version": 3
      },
      "file_extension": ".py",
      "mimetype": "text/x-python",
      "name": "python",
      "nbconvert_exporter": "python",
      "pygments_lexer": "ipython3",
      "version": "3.7.3"
    }
  },
  "cells": [
    {
      "cell_type": "code",
      "metadata": {
        "id": "nWhPUUnPveS3"
      },
      "source": [
        "import tensorflow as tf\n",
        "from tensorflow.keras.models import Sequential, Model\n",
        "from tensorflow.keras.layers import Dense, Dropout, Input\n",
        "from tensorflow.keras.applications import MobileNet, Xception, ResNet50, InceptionV3\n",
        "from tensorflow.keras.layers import Flatten, Conv2D, MaxPooling2D"
      ],
      "execution_count": 1,
      "outputs": []
    },
    {
      "cell_type": "markdown",
      "metadata": {
        "id": "tF5KinX3zpAR"
      },
      "source": [
        "Google Drive 에서 데이터 파일 마운트 하려면 다음과 같이 하면되지만, 프로그래밍 편의를 위해 wget 으로 직접 다운로드 함\n",
        "\n",
        "from google.colab import drive   \n",
        "\n",
        "drive.mount('/content/gdrive/')  \n",
        "\n",
        "import shutil\n",
        "\n",
        "shutil.copy('/content/gdrive/My Drive/Colab Notebooks/dataset/GTSRB_Final_Training_Images.zip', '/content/')"
      ]
    },
    {
      "cell_type": "code",
      "metadata": {
        "colab": {
          "base_uri": "https://localhost:8080/"
        },
        "id": "esUP4a8Yq7h6",
        "outputId": "3833e2f4-adc0-4e28-e845-f8d2f1abb6dd"
      },
      "source": [
        "# 파일 다운로드\n",
        "\n",
        "!wget https://sid.erda.dk/public/archives/daaeac0d7ce1152aea9b61d9f1e19370/GTSRB_Final_Training_Images.zip"
      ],
      "execution_count": 2,
      "outputs": [
        {
          "output_type": "stream",
          "name": "stdout",
          "text": [
            "--2021-10-08 13:45:55--  https://sid.erda.dk/public/archives/daaeac0d7ce1152aea9b61d9f1e19370/GTSRB_Final_Training_Images.zip\n",
            "Resolving sid.erda.dk (sid.erda.dk)... 130.225.104.13\n",
            "Connecting to sid.erda.dk (sid.erda.dk)|130.225.104.13|:443... connected.\n",
            "HTTP request sent, awaiting response... 200 OK\n",
            "Length: 276294756 (263M) [application/zip]\n",
            "Saving to: ‘GTSRB_Final_Training_Images.zip’\n",
            "\n",
            "GTSRB_Final_Trainin 100%[===================>] 263.50M  21.6MB/s    in 16s     \n",
            "\n",
            "2021-10-08 13:46:12 (16.3 MB/s) - ‘GTSRB_Final_Training_Images.zip’ saved [276294756/276294756]\n",
            "\n"
          ]
        }
      ]
    },
    {
      "cell_type": "code",
      "metadata": {
        "id": "5iDRtTO7rpXp"
      },
      "source": [
        "import os\n",
        "import shutil\n",
        "\n",
        "if os.path.exists('/content/GTSRB/'):    # 작업 디렉토리는 GTSRB\n",
        "    \n",
        "    shutil.rmtree('/content/GTSRB/')\n",
        "    print('/content/GTSRB/  is removed !!!')"
      ],
      "execution_count": 3,
      "outputs": []
    },
    {
      "cell_type": "code",
      "metadata": {
        "id": "ajx57MQ3X6v1"
      },
      "source": [
        "# 압축파일 풀기\n",
        "\n",
        "import zipfile\n",
        "\n",
        "with zipfile.ZipFile('/content/GTSRB_Final_Training_Images.zip', 'r') as target_file:\n",
        "\n",
        "    target_file.extractall('/content/GTSRB_Final_Training_Images/') "
      ],
      "execution_count": 4,
      "outputs": []
    },
    {
      "cell_type": "markdown",
      "metadata": {
        "id": "ZqNacGsEYZq_"
      },
      "source": [
        "압축을 풀어보면, 데이터 디렉토리 구조는 다음과 같음\n",
        "\n",
        "GTSRB_Final_Training_Images\n",
        " |- GTSRB\n",
        "     |- Final_Training\n",
        "         |- Images\n",
        "             |- 00000\n",
        "             |- 00001\n",
        "             |- 00002\n",
        "             |- .....\n",
        "             |- 00042\n",
        "\n",
        "이러한 데릭토리 구조에서 딥러닝 학습을 위한 일반적인 디렉토리 구조로 변경할 계획임. 즉 train : test = 8: 2 비율로 나누어서 각각의 디렉토리에 저장하는 데이터 전처리 코드 필요함\n",
        "\n",
        "GTSRB\n",
        " |- train\n",
        "     |- 00000\n",
        "     |- 00001\n",
        "     |- .....\n",
        "     |- 00042\n",
        " |- test\n",
        "     |- 00000\n",
        "     |- 00001\n",
        "     |- .....\n",
        "     |- 00042"
      ]
    },
    {
      "cell_type": "code",
      "metadata": {
        "colab": {
          "base_uri": "https://localhost:8080/"
        },
        "id": "hR1kZT1uaC5t",
        "outputId": "56852a23-308c-491e-d050-0a1e205bb77a"
      },
      "source": [
        "# 데이터 전체 개수 확인\n",
        "\n",
        "import os\n",
        "import glob\n",
        "\n",
        "# 데이터 정답 (label) 개수 및 종류 확인\n",
        "\n",
        "label_name_list = os.listdir('/content/GTSRB_Final_Training_Images/GTSRB/Final_Training/Images/')\n",
        "\n",
        "print('total label nums = ', len(label_name_list))\n",
        "print('=================================================')\n",
        "print(label_name_list)"
      ],
      "execution_count": 5,
      "outputs": [
        {
          "output_type": "stream",
          "name": "stdout",
          "text": [
            "total label nums =  43\n",
            "=================================================\n",
            "['00012', '00020', '00006', '00009', '00007', '00016', '00021', '00027', '00039', '00004', '00028', '00026', '00017', '00034', '00038', '00014', '00035', '00029', '00008', '00013', '00000', '00033', '00025', '00037', '00022', '00011', '00015', '00001', '00005', '00042', '00002', '00003', '00023', '00031', '00019', '00024', '00032', '00041', '00010', '00018', '00036', '00030', '00040']\n"
          ]
        }
      ]
    },
    {
      "cell_type": "markdown",
      "metadata": {
        "id": "UJn1-6zhcbH9"
      },
      "source": [
        "먼저 /content/GTSRB/train, /content/GTSRB/test 생성"
      ]
    },
    {
      "cell_type": "code",
      "metadata": {
        "colab": {
          "base_uri": "https://localhost:8080/"
        },
        "id": "lprX0QnjaC93",
        "outputId": "922b947d-f92a-421f-a225-d30d3cfe99e9"
      },
      "source": [
        "import os\n",
        "\n",
        "# GTSTB 디렉토리 생성\n",
        "\n",
        "if not os.path.exists('/content/GTSRB/'):\n",
        "\n",
        "    os.mkdir('/content/GTSRB/')\n",
        "    print('GTSRB dir is created !!')\n",
        "\n",
        "# train 디렉토리 생성\n",
        "\n",
        "if not os.path.exists('/content/GTSRB/train/'):\n",
        "\n",
        "    os.mkdir('/content/GTSRB/train/')\n",
        "    print('GTSRB/train dir is created !!')\n",
        "\n",
        "# test 디렉토리 생성\n",
        "\n",
        "if not os.path.exists('/content/GTSRB/test/'):\n",
        "\n",
        "    os.mkdir('/content/GTSRB/test/')\n",
        "    print('GTSRB/test dir is created !!')"
      ],
      "execution_count": 6,
      "outputs": [
        {
          "output_type": "stream",
          "name": "stdout",
          "text": [
            "GTSRB dir is created !!\n",
            "GTSRB/train dir is created !!\n",
            "GTSRB/test dir is created !!\n"
          ]
        }
      ]
    },
    {
      "cell_type": "markdown",
      "metadata": {
        "id": "_mxHi_Pnd2MZ"
      },
      "source": [
        "이미지 데이터를 먼저 train 디렉토리로 복사함"
      ]
    },
    {
      "cell_type": "code",
      "metadata": {
        "colab": {
          "base_uri": "https://localhost:8080/"
        },
        "id": "tV7Dj4ZneDWZ",
        "outputId": "43fdbdb2-c868-4a13-ae7a-681d2818f067"
      },
      "source": [
        "import shutil\n",
        "import os\n",
        "import glob\n",
        "\n",
        "src_root_dir = '/content//GTSRB_Final_Training_Images/GTSRB/Final_Training/Images/'\n",
        "dst_root_dir = '/content/GTSRB/train/'\n",
        "\n",
        "# train 디렉토리에 먼저 label 디렉토리 생성함\n",
        "\n",
        "label_name_list = os.listdir('/content//GTSRB_Final_Training_Images/GTSRB/Final_Training/Images/')\n",
        "\n",
        "count = 0\n",
        "\n",
        "for label_name in label_name_list:\n",
        "\n",
        "    dst_label_name_dir = dst_root_dir + label_name\n",
        "\n",
        "    if not os.path.exists(dst_label_name_dir):\n",
        "        os.mkdir(dst_label_name_dir)\n",
        "        print(dst_label_name_dir + ' is created !!')\n",
        "        count = count + 1\n",
        "\n",
        "print(len(label_name_list), count)\n",
        "\n",
        "# 원본 데이터 보존을 위해 파일 복사 src dir => dst dir\n",
        "\n",
        "for label_name in label_name_list:\n",
        "\n",
        "    image_file_list = glob.glob(src_root_dir+label_name+'/*')\n",
        "\n",
        "    print('========================================================================')\n",
        "    print('total [%s] image file nums => [%s]' % (label_name ,len(image_file_list)))\n",
        "\n",
        "    copy_nums = 0\n",
        "\n",
        "    for image_file in image_file_list:\n",
        "\n",
        "        shutil.copy(image_file, dst_root_dir+label_name)\n",
        "\n",
        "        copy_nums = copy_nums + 1\n",
        "\n",
        "    print('total copy nums => ', copy_nums)\n",
        "    print('========================================================================')"
      ],
      "execution_count": 7,
      "outputs": [
        {
          "output_type": "stream",
          "name": "stdout",
          "text": [
            "/content/GTSRB/train/00012 is created !!\n",
            "/content/GTSRB/train/00020 is created !!\n",
            "/content/GTSRB/train/00006 is created !!\n",
            "/content/GTSRB/train/00009 is created !!\n",
            "/content/GTSRB/train/00007 is created !!\n",
            "/content/GTSRB/train/00016 is created !!\n",
            "/content/GTSRB/train/00021 is created !!\n",
            "/content/GTSRB/train/00027 is created !!\n",
            "/content/GTSRB/train/00039 is created !!\n",
            "/content/GTSRB/train/00004 is created !!\n",
            "/content/GTSRB/train/00028 is created !!\n",
            "/content/GTSRB/train/00026 is created !!\n",
            "/content/GTSRB/train/00017 is created !!\n",
            "/content/GTSRB/train/00034 is created !!\n",
            "/content/GTSRB/train/00038 is created !!\n",
            "/content/GTSRB/train/00014 is created !!\n",
            "/content/GTSRB/train/00035 is created !!\n",
            "/content/GTSRB/train/00029 is created !!\n",
            "/content/GTSRB/train/00008 is created !!\n",
            "/content/GTSRB/train/00013 is created !!\n",
            "/content/GTSRB/train/00000 is created !!\n",
            "/content/GTSRB/train/00033 is created !!\n",
            "/content/GTSRB/train/00025 is created !!\n",
            "/content/GTSRB/train/00037 is created !!\n",
            "/content/GTSRB/train/00022 is created !!\n",
            "/content/GTSRB/train/00011 is created !!\n",
            "/content/GTSRB/train/00015 is created !!\n",
            "/content/GTSRB/train/00001 is created !!\n",
            "/content/GTSRB/train/00005 is created !!\n",
            "/content/GTSRB/train/00042 is created !!\n",
            "/content/GTSRB/train/00002 is created !!\n",
            "/content/GTSRB/train/00003 is created !!\n",
            "/content/GTSRB/train/00023 is created !!\n",
            "/content/GTSRB/train/00031 is created !!\n",
            "/content/GTSRB/train/00019 is created !!\n",
            "/content/GTSRB/train/00024 is created !!\n",
            "/content/GTSRB/train/00032 is created !!\n",
            "/content/GTSRB/train/00041 is created !!\n",
            "/content/GTSRB/train/00010 is created !!\n",
            "/content/GTSRB/train/00018 is created !!\n",
            "/content/GTSRB/train/00036 is created !!\n",
            "/content/GTSRB/train/00030 is created !!\n",
            "/content/GTSRB/train/00040 is created !!\n",
            "43 43\n",
            "========================================================================\n",
            "total [00012] image file nums => [2101]\n",
            "total copy nums =>  2101\n",
            "========================================================================\n",
            "========================================================================\n",
            "total [00020] image file nums => [361]\n",
            "total copy nums =>  361\n",
            "========================================================================\n",
            "========================================================================\n",
            "total [00006] image file nums => [421]\n",
            "total copy nums =>  421\n",
            "========================================================================\n",
            "========================================================================\n",
            "total [00009] image file nums => [1471]\n",
            "total copy nums =>  1471\n",
            "========================================================================\n",
            "========================================================================\n",
            "total [00007] image file nums => [1441]\n",
            "total copy nums =>  1441\n",
            "========================================================================\n",
            "========================================================================\n",
            "total [00016] image file nums => [421]\n",
            "total copy nums =>  421\n",
            "========================================================================\n",
            "========================================================================\n",
            "total [00021] image file nums => [331]\n",
            "total copy nums =>  331\n",
            "========================================================================\n",
            "========================================================================\n",
            "total [00027] image file nums => [241]\n",
            "total copy nums =>  241\n",
            "========================================================================\n",
            "========================================================================\n",
            "total [00039] image file nums => [301]\n",
            "total copy nums =>  301\n",
            "========================================================================\n",
            "========================================================================\n",
            "total [00004] image file nums => [1981]\n",
            "total copy nums =>  1981\n",
            "========================================================================\n",
            "========================================================================\n",
            "total [00028] image file nums => [541]\n",
            "total copy nums =>  541\n",
            "========================================================================\n",
            "========================================================================\n",
            "total [00026] image file nums => [601]\n",
            "total copy nums =>  601\n",
            "========================================================================\n",
            "========================================================================\n",
            "total [00017] image file nums => [1111]\n",
            "total copy nums =>  1111\n",
            "========================================================================\n",
            "========================================================================\n",
            "total [00034] image file nums => [421]\n",
            "total copy nums =>  421\n",
            "========================================================================\n",
            "========================================================================\n",
            "total [00038] image file nums => [2071]\n",
            "total copy nums =>  2071\n",
            "========================================================================\n",
            "========================================================================\n",
            "total [00014] image file nums => [781]\n",
            "total copy nums =>  781\n",
            "========================================================================\n",
            "========================================================================\n",
            "total [00035] image file nums => [1201]\n",
            "total copy nums =>  1201\n",
            "========================================================================\n",
            "========================================================================\n",
            "total [00029] image file nums => [271]\n",
            "total copy nums =>  271\n",
            "========================================================================\n",
            "========================================================================\n",
            "total [00008] image file nums => [1411]\n",
            "total copy nums =>  1411\n",
            "========================================================================\n",
            "========================================================================\n",
            "total [00013] image file nums => [2161]\n",
            "total copy nums =>  2161\n",
            "========================================================================\n",
            "========================================================================\n",
            "total [00000] image file nums => [211]\n",
            "total copy nums =>  211\n",
            "========================================================================\n",
            "========================================================================\n",
            "total [00033] image file nums => [690]\n",
            "total copy nums =>  690\n",
            "========================================================================\n",
            "========================================================================\n",
            "total [00025] image file nums => [1501]\n",
            "total copy nums =>  1501\n",
            "========================================================================\n",
            "========================================================================\n",
            "total [00037] image file nums => [211]\n",
            "total copy nums =>  211\n",
            "========================================================================\n",
            "========================================================================\n",
            "total [00022] image file nums => [391]\n",
            "total copy nums =>  391\n",
            "========================================================================\n",
            "========================================================================\n",
            "total [00011] image file nums => [1321]\n",
            "total copy nums =>  1321\n",
            "========================================================================\n",
            "========================================================================\n",
            "total [00015] image file nums => [631]\n",
            "total copy nums =>  631\n",
            "========================================================================\n",
            "========================================================================\n",
            "total [00001] image file nums => [2221]\n",
            "total copy nums =>  2221\n",
            "========================================================================\n",
            "========================================================================\n",
            "total [00005] image file nums => [1861]\n",
            "total copy nums =>  1861\n",
            "========================================================================\n",
            "========================================================================\n",
            "total [00042] image file nums => [241]\n",
            "total copy nums =>  241\n",
            "========================================================================\n",
            "========================================================================\n",
            "total [00002] image file nums => [2251]\n",
            "total copy nums =>  2251\n",
            "========================================================================\n",
            "========================================================================\n",
            "total [00003] image file nums => [1411]\n",
            "total copy nums =>  1411\n",
            "========================================================================\n",
            "========================================================================\n",
            "total [00023] image file nums => [511]\n",
            "total copy nums =>  511\n",
            "========================================================================\n",
            "========================================================================\n",
            "total [00031] image file nums => [781]\n",
            "total copy nums =>  781\n",
            "========================================================================\n",
            "========================================================================\n",
            "total [00019] image file nums => [211]\n",
            "total copy nums =>  211\n",
            "========================================================================\n",
            "========================================================================\n",
            "total [00024] image file nums => [271]\n",
            "total copy nums =>  271\n",
            "========================================================================\n",
            "========================================================================\n",
            "total [00032] image file nums => [241]\n",
            "total copy nums =>  241\n",
            "========================================================================\n",
            "========================================================================\n",
            "total [00041] image file nums => [241]\n",
            "total copy nums =>  241\n",
            "========================================================================\n",
            "========================================================================\n",
            "total [00010] image file nums => [2011]\n",
            "total copy nums =>  2011\n",
            "========================================================================\n",
            "========================================================================\n",
            "total [00018] image file nums => [1201]\n",
            "total copy nums =>  1201\n",
            "========================================================================\n",
            "========================================================================\n",
            "total [00036] image file nums => [391]\n",
            "total copy nums =>  391\n",
            "========================================================================\n",
            "========================================================================\n",
            "total [00030] image file nums => [451]\n",
            "total copy nums =>  451\n",
            "========================================================================\n",
            "========================================================================\n",
            "total [00040] image file nums => [361]\n",
            "total copy nums =>  361\n",
            "========================================================================\n"
          ]
        }
      ]
    },
    {
      "cell_type": "markdown",
      "metadata": {
        "id": "qKf-B7wpkTfN"
      },
      "source": [
        "train 데이터에서 test 데이터를 분리함. 분리비율 8 : 2"
      ]
    },
    {
      "cell_type": "code",
      "metadata": {
        "colab": {
          "base_uri": "https://localhost:8080/"
        },
        "id": "8aWwfYeshlPx",
        "outputId": "c852eabb-a4a0-4273-ee3e-a820c4a58394"
      },
      "source": [
        "import os\n",
        "import glob\n",
        "import shutil\n",
        "import random\n",
        "\n",
        "# 분리 비율\n",
        "ratio = 0.2    # train : test = 8 : 2\n",
        "\n",
        "\n",
        "src_root_dir = '/content/GTSRB/train/'\n",
        "dst_root_dir = '/content/GTSRB/test/'\n",
        "\n",
        "# train 디렉토리에 먼저 label 디렉토리 생성함\n",
        "\n",
        "label_name_list = os.listdir(src_root_dir)\n",
        "\n",
        "count = 0\n",
        "\n",
        "for label_name in label_name_list:\n",
        "\n",
        "    dst_label_name_dir = dst_root_dir + label_name\n",
        "\n",
        "    if not os.path.exists(dst_label_name_dir):\n",
        "        os.mkdir(dst_label_name_dir)\n",
        "        print(dst_label_name_dir + ' is created !!')\n",
        "        count = count + 1\n",
        "\n",
        "print(len(label_name_list), count)\n",
        "\n",
        "# 파일 move src dir => dst dir\n",
        "\n",
        "for label_name in label_name_list:\n",
        "\n",
        "    train_image_file_list = glob.glob(src_root_dir+label_name+'/*')\n",
        "\n",
        "    print('========================================================================')\n",
        "    print('total [%s] image file nums => [%s]' % (label_name ,len(train_image_file_list)))\n",
        "\n",
        "    # data shuffle\n",
        "    split_num = int(ratio*len(train_image_file_list))\n",
        "\n",
        "    print('split nums => ', split_num)\n",
        "\n",
        "    # extract test data from train data\n",
        "    test_image_file_list = train_image_file_list[0:split_num]\n",
        "\n",
        "    move_nums = 0\n",
        "\n",
        "    for image_file in test_image_file_list:\n",
        "\n",
        "        shutil.move(image_file, dst_root_dir+label_name)    # move \n",
        "\n",
        "        move_nums = move_nums + 1\n",
        "\n",
        "    print('total move nums => ', move_nums)\n",
        "    print('========================================================================')"
      ],
      "execution_count": 8,
      "outputs": [
        {
          "output_type": "stream",
          "name": "stdout",
          "text": [
            "/content/GTSRB/test/00012 is created !!\n",
            "/content/GTSRB/test/00020 is created !!\n",
            "/content/GTSRB/test/00006 is created !!\n",
            "/content/GTSRB/test/00009 is created !!\n",
            "/content/GTSRB/test/00007 is created !!\n",
            "/content/GTSRB/test/00016 is created !!\n",
            "/content/GTSRB/test/00021 is created !!\n",
            "/content/GTSRB/test/00027 is created !!\n",
            "/content/GTSRB/test/00039 is created !!\n",
            "/content/GTSRB/test/00004 is created !!\n",
            "/content/GTSRB/test/00028 is created !!\n",
            "/content/GTSRB/test/00026 is created !!\n",
            "/content/GTSRB/test/00017 is created !!\n",
            "/content/GTSRB/test/00034 is created !!\n",
            "/content/GTSRB/test/00038 is created !!\n",
            "/content/GTSRB/test/00014 is created !!\n",
            "/content/GTSRB/test/00035 is created !!\n",
            "/content/GTSRB/test/00029 is created !!\n",
            "/content/GTSRB/test/00008 is created !!\n",
            "/content/GTSRB/test/00013 is created !!\n",
            "/content/GTSRB/test/00000 is created !!\n",
            "/content/GTSRB/test/00033 is created !!\n",
            "/content/GTSRB/test/00025 is created !!\n",
            "/content/GTSRB/test/00037 is created !!\n",
            "/content/GTSRB/test/00022 is created !!\n",
            "/content/GTSRB/test/00011 is created !!\n",
            "/content/GTSRB/test/00015 is created !!\n",
            "/content/GTSRB/test/00001 is created !!\n",
            "/content/GTSRB/test/00005 is created !!\n",
            "/content/GTSRB/test/00042 is created !!\n",
            "/content/GTSRB/test/00002 is created !!\n",
            "/content/GTSRB/test/00003 is created !!\n",
            "/content/GTSRB/test/00023 is created !!\n",
            "/content/GTSRB/test/00031 is created !!\n",
            "/content/GTSRB/test/00019 is created !!\n",
            "/content/GTSRB/test/00024 is created !!\n",
            "/content/GTSRB/test/00032 is created !!\n",
            "/content/GTSRB/test/00041 is created !!\n",
            "/content/GTSRB/test/00010 is created !!\n",
            "/content/GTSRB/test/00018 is created !!\n",
            "/content/GTSRB/test/00036 is created !!\n",
            "/content/GTSRB/test/00030 is created !!\n",
            "/content/GTSRB/test/00040 is created !!\n",
            "43 43\n",
            "========================================================================\n",
            "total [00012] image file nums => [2101]\n",
            "split nums =>  420\n",
            "total move nums =>  420\n",
            "========================================================================\n",
            "========================================================================\n",
            "total [00020] image file nums => [361]\n",
            "split nums =>  72\n",
            "total move nums =>  72\n",
            "========================================================================\n",
            "========================================================================\n",
            "total [00006] image file nums => [421]\n",
            "split nums =>  84\n",
            "total move nums =>  84\n",
            "========================================================================\n",
            "========================================================================\n",
            "total [00009] image file nums => [1471]\n",
            "split nums =>  294\n",
            "total move nums =>  294\n",
            "========================================================================\n",
            "========================================================================\n",
            "total [00007] image file nums => [1441]\n",
            "split nums =>  288\n",
            "total move nums =>  288\n",
            "========================================================================\n",
            "========================================================================\n",
            "total [00016] image file nums => [421]\n",
            "split nums =>  84\n",
            "total move nums =>  84\n",
            "========================================================================\n",
            "========================================================================\n",
            "total [00021] image file nums => [331]\n",
            "split nums =>  66\n",
            "total move nums =>  66\n",
            "========================================================================\n",
            "========================================================================\n",
            "total [00027] image file nums => [241]\n",
            "split nums =>  48\n",
            "total move nums =>  48\n",
            "========================================================================\n",
            "========================================================================\n",
            "total [00039] image file nums => [301]\n",
            "split nums =>  60\n",
            "total move nums =>  60\n",
            "========================================================================\n",
            "========================================================================\n",
            "total [00004] image file nums => [1981]\n",
            "split nums =>  396\n",
            "total move nums =>  396\n",
            "========================================================================\n",
            "========================================================================\n",
            "total [00028] image file nums => [541]\n",
            "split nums =>  108\n",
            "total move nums =>  108\n",
            "========================================================================\n",
            "========================================================================\n",
            "total [00026] image file nums => [601]\n",
            "split nums =>  120\n",
            "total move nums =>  120\n",
            "========================================================================\n",
            "========================================================================\n",
            "total [00017] image file nums => [1111]\n",
            "split nums =>  222\n",
            "total move nums =>  222\n",
            "========================================================================\n",
            "========================================================================\n",
            "total [00034] image file nums => [421]\n",
            "split nums =>  84\n",
            "total move nums =>  84\n",
            "========================================================================\n",
            "========================================================================\n",
            "total [00038] image file nums => [2071]\n",
            "split nums =>  414\n",
            "total move nums =>  414\n",
            "========================================================================\n",
            "========================================================================\n",
            "total [00014] image file nums => [781]\n",
            "split nums =>  156\n",
            "total move nums =>  156\n",
            "========================================================================\n",
            "========================================================================\n",
            "total [00035] image file nums => [1201]\n",
            "split nums =>  240\n",
            "total move nums =>  240\n",
            "========================================================================\n",
            "========================================================================\n",
            "total [00029] image file nums => [271]\n",
            "split nums =>  54\n",
            "total move nums =>  54\n",
            "========================================================================\n",
            "========================================================================\n",
            "total [00008] image file nums => [1411]\n",
            "split nums =>  282\n",
            "total move nums =>  282\n",
            "========================================================================\n",
            "========================================================================\n",
            "total [00013] image file nums => [2161]\n",
            "split nums =>  432\n",
            "total move nums =>  432\n",
            "========================================================================\n",
            "========================================================================\n",
            "total [00000] image file nums => [211]\n",
            "split nums =>  42\n",
            "total move nums =>  42\n",
            "========================================================================\n",
            "========================================================================\n",
            "total [00033] image file nums => [690]\n",
            "split nums =>  138\n",
            "total move nums =>  138\n",
            "========================================================================\n",
            "========================================================================\n",
            "total [00025] image file nums => [1501]\n",
            "split nums =>  300\n",
            "total move nums =>  300\n",
            "========================================================================\n",
            "========================================================================\n",
            "total [00037] image file nums => [211]\n",
            "split nums =>  42\n",
            "total move nums =>  42\n",
            "========================================================================\n",
            "========================================================================\n",
            "total [00022] image file nums => [391]\n",
            "split nums =>  78\n",
            "total move nums =>  78\n",
            "========================================================================\n",
            "========================================================================\n",
            "total [00011] image file nums => [1321]\n",
            "split nums =>  264\n",
            "total move nums =>  264\n",
            "========================================================================\n",
            "========================================================================\n",
            "total [00015] image file nums => [631]\n",
            "split nums =>  126\n",
            "total move nums =>  126\n",
            "========================================================================\n",
            "========================================================================\n",
            "total [00001] image file nums => [2221]\n",
            "split nums =>  444\n",
            "total move nums =>  444\n",
            "========================================================================\n",
            "========================================================================\n",
            "total [00005] image file nums => [1861]\n",
            "split nums =>  372\n",
            "total move nums =>  372\n",
            "========================================================================\n",
            "========================================================================\n",
            "total [00042] image file nums => [241]\n",
            "split nums =>  48\n",
            "total move nums =>  48\n",
            "========================================================================\n",
            "========================================================================\n",
            "total [00002] image file nums => [2251]\n",
            "split nums =>  450\n",
            "total move nums =>  450\n",
            "========================================================================\n",
            "========================================================================\n",
            "total [00003] image file nums => [1411]\n",
            "split nums =>  282\n",
            "total move nums =>  282\n",
            "========================================================================\n",
            "========================================================================\n",
            "total [00023] image file nums => [511]\n",
            "split nums =>  102\n",
            "total move nums =>  102\n",
            "========================================================================\n",
            "========================================================================\n",
            "total [00031] image file nums => [781]\n",
            "split nums =>  156\n",
            "total move nums =>  156\n",
            "========================================================================\n",
            "========================================================================\n",
            "total [00019] image file nums => [211]\n",
            "split nums =>  42\n",
            "total move nums =>  42\n",
            "========================================================================\n",
            "========================================================================\n",
            "total [00024] image file nums => [271]\n",
            "split nums =>  54\n",
            "total move nums =>  54\n",
            "========================================================================\n",
            "========================================================================\n",
            "total [00032] image file nums => [241]\n",
            "split nums =>  48\n",
            "total move nums =>  48\n",
            "========================================================================\n",
            "========================================================================\n",
            "total [00041] image file nums => [241]\n",
            "split nums =>  48\n",
            "total move nums =>  48\n",
            "========================================================================\n",
            "========================================================================\n",
            "total [00010] image file nums => [2011]\n",
            "split nums =>  402\n",
            "total move nums =>  402\n",
            "========================================================================\n",
            "========================================================================\n",
            "total [00018] image file nums => [1201]\n",
            "split nums =>  240\n",
            "total move nums =>  240\n",
            "========================================================================\n",
            "========================================================================\n",
            "total [00036] image file nums => [391]\n",
            "split nums =>  78\n",
            "total move nums =>  78\n",
            "========================================================================\n",
            "========================================================================\n",
            "total [00030] image file nums => [451]\n",
            "split nums =>  90\n",
            "total move nums =>  90\n",
            "========================================================================\n",
            "========================================================================\n",
            "total [00040] image file nums => [361]\n",
            "split nums =>  72\n",
            "total move nums =>  72\n",
            "========================================================================\n"
          ]
        }
      ]
    },
    {
      "cell_type": "code",
      "metadata": {
        "colab": {
          "base_uri": "https://localhost:8080/"
        },
        "id": "U8bswoIYmUiL",
        "outputId": "8bab5bba-5ba5-49f2-f30e-5ac9e39ad63c"
      },
      "source": [
        "# train : test 데이터 비율 확인\n",
        "\n",
        "src_root_dir = '/content/GTSRB/train/'\n",
        "dst_root_dir = '/content/GTSRB/test/'\n",
        "\n",
        "train_label_name_list = os.listdir(src_root_dir)\n",
        "test_label_name_list = os.listdir(src_root_dir)\n",
        "\n",
        "train_label_name_list.sort()\n",
        "test_label_name_list.sort()\n",
        "\n",
        "if train_label_name_list != test_label_name_list:\n",
        "    print('fatal error !!!!')\n",
        "else:\n",
        "    print(len(train_label_name_list), len(test_label_name_list))\n",
        "\n",
        "# 데이터 개수 확인\n",
        "\n",
        "for label_name in train_label_name_list:\n",
        "\n",
        "    train_data_nums = len(os.listdir(src_root_dir+label_name))\n",
        "    test_data_nums = len(os.listdir(dst_root_dir+label_name))\n",
        "\n",
        "    print('train => ', label_name, train_data_nums, ' , test => ', label_name, test_data_nums)\n",
        "    print('=======================================================')"
      ],
      "execution_count": 9,
      "outputs": [
        {
          "output_type": "stream",
          "name": "stdout",
          "text": [
            "43 43\n",
            "train =>  00000 169  , test =>  00000 42\n",
            "=======================================================\n",
            "train =>  00001 1777  , test =>  00001 444\n",
            "=======================================================\n",
            "train =>  00002 1801  , test =>  00002 450\n",
            "=======================================================\n",
            "train =>  00003 1129  , test =>  00003 282\n",
            "=======================================================\n",
            "train =>  00004 1585  , test =>  00004 396\n",
            "=======================================================\n",
            "train =>  00005 1489  , test =>  00005 372\n",
            "=======================================================\n",
            "train =>  00006 337  , test =>  00006 84\n",
            "=======================================================\n",
            "train =>  00007 1153  , test =>  00007 288\n",
            "=======================================================\n",
            "train =>  00008 1129  , test =>  00008 282\n",
            "=======================================================\n",
            "train =>  00009 1177  , test =>  00009 294\n",
            "=======================================================\n",
            "train =>  00010 1609  , test =>  00010 402\n",
            "=======================================================\n",
            "train =>  00011 1057  , test =>  00011 264\n",
            "=======================================================\n",
            "train =>  00012 1681  , test =>  00012 420\n",
            "=======================================================\n",
            "train =>  00013 1729  , test =>  00013 432\n",
            "=======================================================\n",
            "train =>  00014 625  , test =>  00014 156\n",
            "=======================================================\n",
            "train =>  00015 505  , test =>  00015 126\n",
            "=======================================================\n",
            "train =>  00016 337  , test =>  00016 84\n",
            "=======================================================\n",
            "train =>  00017 889  , test =>  00017 222\n",
            "=======================================================\n",
            "train =>  00018 961  , test =>  00018 240\n",
            "=======================================================\n",
            "train =>  00019 169  , test =>  00019 42\n",
            "=======================================================\n",
            "train =>  00020 289  , test =>  00020 72\n",
            "=======================================================\n",
            "train =>  00021 265  , test =>  00021 66\n",
            "=======================================================\n",
            "train =>  00022 313  , test =>  00022 78\n",
            "=======================================================\n",
            "train =>  00023 409  , test =>  00023 102\n",
            "=======================================================\n",
            "train =>  00024 217  , test =>  00024 54\n",
            "=======================================================\n",
            "train =>  00025 1201  , test =>  00025 300\n",
            "=======================================================\n",
            "train =>  00026 481  , test =>  00026 120\n",
            "=======================================================\n",
            "train =>  00027 193  , test =>  00027 48\n",
            "=======================================================\n",
            "train =>  00028 433  , test =>  00028 108\n",
            "=======================================================\n",
            "train =>  00029 217  , test =>  00029 54\n",
            "=======================================================\n",
            "train =>  00030 361  , test =>  00030 90\n",
            "=======================================================\n",
            "train =>  00031 625  , test =>  00031 156\n",
            "=======================================================\n",
            "train =>  00032 193  , test =>  00032 48\n",
            "=======================================================\n",
            "train =>  00033 552  , test =>  00033 138\n",
            "=======================================================\n",
            "train =>  00034 337  , test =>  00034 84\n",
            "=======================================================\n",
            "train =>  00035 961  , test =>  00035 240\n",
            "=======================================================\n",
            "train =>  00036 313  , test =>  00036 78\n",
            "=======================================================\n",
            "train =>  00037 169  , test =>  00037 42\n",
            "=======================================================\n",
            "train =>  00038 1657  , test =>  00038 414\n",
            "=======================================================\n",
            "train =>  00039 241  , test =>  00039 60\n",
            "=======================================================\n",
            "train =>  00040 289  , test =>  00040 72\n",
            "=======================================================\n",
            "train =>  00041 193  , test =>  00041 48\n",
            "=======================================================\n",
            "train =>  00042 193  , test =>  00042 48\n",
            "=======================================================\n"
          ]
        }
      ]
    },
    {
      "cell_type": "markdown",
      "metadata": {
        "id": "HnH8tDL502Ih"
      },
      "source": [
        "train image 읽어서 x_train numpy 생성 \n",
        "train label 읽어서 y_train numpy 생성"
      ]
    },
    {
      "cell_type": "code",
      "metadata": {
        "colab": {
          "base_uri": "https://localhost:8080/"
        },
        "id": "LbMVr2OC1HIS",
        "outputId": "0b45f2ad-db75-4991-f166-7a10c27a9f7c"
      },
      "source": [
        "import os\n",
        "import cv2\n",
        "import glob\n",
        "import numpy as np\n",
        "from datetime import datetime\n",
        "\n",
        "image_list = []\n",
        "label_list = []\n",
        "\n",
        "train_base_dir = '/content/GTSRB/train/'\n",
        "\n",
        "train_label_list = os.listdir(train_base_dir)    # 정답이름\n",
        "\n",
        "print('label nums => ', len(train_label_list))\n",
        "\n",
        "start_time = datetime.now()\n",
        "\n",
        "for train_label_name in train_label_list:\n",
        "\n",
        "    # 이미지 파일 읽어오기\n",
        "\n",
        "    file_path = train_base_dir + train_label_name\n",
        "\n",
        "    train_img_file_list = glob.glob(file_path+'/*.ppm')\n",
        "\n",
        "    # 각각의 정답 디렉토리에 있는 이미지 파일, 즉 .ppm 파일 읽어서 리스트에 저장\n",
        "    \n",
        "    for train_img_file in train_img_file_list:\n",
        "\n",
        "        train_img = cv2.imread(train_img_file, cv2.IMREAD_COLOR) \n",
        "        \n",
        "        #print(train_img.shape)\n",
        "\n",
        "        train_img = cv2.resize(train_img, dsize=(32,32))\n",
        "\n",
        "        train_img = cv2.cvtColor(train_img, cv2.COLOR_BGR2RGB)\n",
        "\n",
        "        image_list.append(train_img)\n",
        "        label_list.append(float(train_label_name))  # 정답은 문자열을 실수로 변환\n",
        "\n",
        "\n",
        "# numpy 변환\n",
        "\n",
        "x_train = np.array(image_list).astype('float32')\n",
        "y_train = np.array(label_list).astype('float32')\n",
        "\n",
        "print('x_train.shape = ', x_train.shape, ', y_train.shape = ', y_train.shape)\n",
        "\n",
        "end_time = datetime.now()\n",
        "\n",
        "print('train data generation time => ', end_time-start_time)\n"
      ],
      "execution_count": 10,
      "outputs": [
        {
          "output_type": "stream",
          "name": "stdout",
          "text": [
            "label nums =>  43\n",
            "x_train.shape =  (31375, 32, 32, 3) , y_train.shape =  (31375,)\n",
            "train data generation time =>  0:00:02.490928\n"
          ]
        }
      ]
    },
    {
      "cell_type": "markdown",
      "metadata": {
        "id": "02tAARNM9wKK"
      },
      "source": [
        "test image 읽어서 x_test numpy 생성 \n",
        "test label 읽어서 y_test numpy 생성"
      ]
    },
    {
      "cell_type": "code",
      "metadata": {
        "colab": {
          "base_uri": "https://localhost:8080/"
        },
        "id": "4nv4QxmrsmPJ",
        "outputId": "340f87e6-8903-42fb-cb5f-dcacc4a80046"
      },
      "source": [
        "import os\n",
        "import cv2\n",
        "import glob\n",
        "import numpy as np\n",
        "from datetime import datetime\n",
        "\n",
        "image_list = []\n",
        "label_list = []\n",
        "\n",
        "test_base_dir = '/content/GTSRB/test/'\n",
        "\n",
        "test_label_list = os.listdir(test_base_dir)    # 정답이름\n",
        "\n",
        "print('label nums => ', len(test_label_list))\n",
        "\n",
        "start_time = datetime.now()\n",
        "\n",
        "for test_label_name in test_label_list:\n",
        "\n",
        "    # 이미지 파일 읽어오기\n",
        "\n",
        "    file_path = test_base_dir + test_label_name\n",
        "\n",
        "    test_img_file_list = glob.glob(file_path+'/*.ppm')\n",
        "\n",
        "    # 각각의 정답 디렉토리에 있는 이미지 파일, 즉 .ppm 파일 읽어서 리스트에 저장\n",
        "    \n",
        "    for test_img_file in test_img_file_list:\n",
        "\n",
        "        test_img = cv2.imread(test_img_file, cv2.IMREAD_COLOR) \n",
        "        \n",
        "        #print(test_img.shape)\n",
        "\n",
        "        test_img = cv2.resize(test_img, dsize=(32,32))\n",
        "\n",
        "        test_img = cv2.cvtColor(test_img, cv2.COLOR_BGR2RGB)\n",
        "\n",
        "        image_list.append(test_img)\n",
        "        label_list.append(float(test_label_name))  # 정답은 문자열을 실수로 변환\n",
        "\n",
        "\n",
        "# numpy 변환\n",
        "\n",
        "x_test = np.array(image_list).astype('float32')\n",
        "y_test = np.array(label_list).astype('float32')\n",
        "\n",
        "print('x_test.shape = ', x_test.shape, ', y_test.shape = ', y_test.shape)\n",
        "\n",
        "end_time = datetime.now()\n",
        "\n",
        "print('train data generation time => ', end_time-start_time)\n"
      ],
      "execution_count": 11,
      "outputs": [
        {
          "output_type": "stream",
          "name": "stdout",
          "text": [
            "label nums =>  43\n",
            "x_test.shape =  (7834, 32, 32, 3) , y_test.shape =  (7834,)\n",
            "train data generation time =>  0:00:00.598618\n"
          ]
        }
      ]
    },
    {
      "cell_type": "markdown",
      "metadata": {
        "id": "joPzIIyS-hjs"
      },
      "source": [
        "x_train, x_test, y_train, y_test shape 확인"
      ]
    },
    {
      "cell_type": "code",
      "metadata": {
        "colab": {
          "base_uri": "https://localhost:8080/"
        },
        "id": "K8GzBgcm-dOP",
        "outputId": "d8ec0be4-6058-48f4-c870-741d5ffeac01"
      },
      "source": [
        "print('x_train.shape = ', x_train.shape, ', y_train.shape = ', y_train.shape)\n",
        "print('x_test.shape = ', x_test.shape, ', y_test.shape = ', y_test.shape)"
      ],
      "execution_count": 12,
      "outputs": [
        {
          "output_type": "stream",
          "name": "stdout",
          "text": [
            "x_train.shape =  (31375, 32, 32, 3) , y_train.shape =  (31375,)\n",
            "x_test.shape =  (7834, 32, 32, 3) , y_test.shape =  (7834,)\n"
          ]
        }
      ]
    },
    {
      "cell_type": "code",
      "metadata": {
        "colab": {
          "base_uri": "https://localhost:8080/"
        },
        "id": "-IRt41UZ-8Em",
        "outputId": "bc4015e9-a1a7-472e-fd8e-cbf02a67e4ae"
      },
      "source": [
        "print(y_train[:3])\n",
        "print(y_test[:3])"
      ],
      "execution_count": 13,
      "outputs": [
        {
          "output_type": "stream",
          "name": "stdout",
          "text": [
            "[12. 12. 12.]\n",
            "[12. 12. 12.]\n"
          ]
        }
      ]
    },
    {
      "cell_type": "markdown",
      "metadata": {
        "id": "ajW_TMZf_Pc2"
      },
      "source": [
        "데이터 정규화"
      ]
    },
    {
      "cell_type": "code",
      "metadata": {
        "id": "Q4Xh-9FkvsKE"
      },
      "source": [
        "# 정규화 \n",
        "\n",
        "x_train = x_train.astype(np.float32) / 255.0\n",
        "x_test = x_test.astype(np.float32) / 255.0\n",
        "\n",
        "# one-hot encoding 하기 위해서는, 정답에 대해서 다음과 같이 실행함\n",
        "\n",
        "#y_train = tf.keras.utils.to_categorical(y_train, num_classes=n_classes)\n",
        "#y_test = tf.keras.utils.to_categorical(y_test, num_classes=n_classes)"
      ],
      "execution_count": 14,
      "outputs": []
    },
    {
      "cell_type": "markdown",
      "metadata": {
        "id": "wusn5G5WAchl"
      },
      "source": [
        "이미지 출력"
      ]
    },
    {
      "cell_type": "code",
      "metadata": {
        "colab": {
          "base_uri": "https://localhost:8080/",
          "height": 585
        },
        "id": "kXNWhNxgAbZv",
        "outputId": "df30f15b-4eb8-4f6f-d518-3e64e5de6e41"
      },
      "source": [
        "import matplotlib.pyplot as plt\n",
        "\n",
        "random_index = np.random.randint(0, len(x_train), 16)    # 16개 랜덤 train 데이터 추출 \n",
        "\n",
        "plt.figure(figsize=(8,8))\n",
        "\n",
        "for pos in range(len(random_index)):\n",
        "\n",
        "    plt.subplot(4,4,pos+1)\n",
        "    plt.axis('off')\n",
        "    train_img_index = random_index[pos]\n",
        "    plt.imshow(x_train[train_img_index])\n",
        "\n",
        "plt.tight_layout()\n",
        "plt.show()"
      ],
      "execution_count": 15,
      "outputs": [
        {
          "output_type": "display_data",
          "data": {
            "image/png": "[encoded data removed]",
            "text/plain": [
              "<Figure size 576x576 with 16 Axes>"
            ]
          },
          "metadata": {
            "needs_background": "light"
          }
        }
      ]
    },
    {
      "cell_type": "markdown",
      "metadata": {
        "id": "YOscWaGQ_Ttt"
      },
      "source": [
        "Transfer Learning base 모델 구축"
      ]
    },
    {
      "cell_type": "code",
      "metadata": {
        "colab": {
          "base_uri": "https://localhost:8080/"
        },
        "id": "6rRieP1wUD63",
        "outputId": "d9496d7f-382e-4bfe-9bf3-59f8cf0565aa"
      },
      "source": [
        "base_model = MobileNet(weights='imagenet', include_top=False, input_shape=(32,32,3))"
      ],
      "execution_count": 26,
      "outputs": [
        {
          "output_type": "stream",
          "name": "stdout",
          "text": [
            "WARNING:tensorflow:`input_shape` is undefined or non-square, or `rows` is not in [128, 160, 192, 224]. Weights for input shape (224, 224) will be loaded as the default.\n"
          ]
        }
      ]
    },
    {
      "cell_type": "code",
      "metadata": {
        "colab": {
          "base_uri": "https://localhost:8080/"
        },
        "id": "ISOTB0okwnAc",
        "outputId": "9d19d666-d3b0-43e5-b644-d205ad93214d"
      },
      "source": [
        "n_classes = len(os.listdir('/content/GTSRB/train/'))  # 정답 개수\n",
        "\n",
        "model = Sequential()\n",
        "\n",
        "model.add(base_model)\n",
        "\n",
        "model.add(Flatten())\n",
        "\n",
        "model.add(Dense(128, activation='relu'))\n",
        "model.add(Dropout(0.5))\n",
        "model.add(Dense(n_classes, activation='softmax'))\n",
        "\n",
        "model.summary()"
      ],
      "execution_count": 27,
      "outputs": [
        {
          "output_type": "stream",
          "name": "stdout",
          "text": [
            "Model: \"sequential_1\"\n",
            "_________________________________________________________________\n",
            "Layer (type)                 Output Shape              Param #   \n",
            "=================================================================\n",
            "mobilenet_1.00_224 (Function (None, 1, 1, 1024)        3228864   \n",
            "_________________________________________________________________\n",
            "flatten_1 (Flatten)          (None, 1024)              0         \n",
            "_________________________________________________________________\n",
            "dense_2 (Dense)              (None, 128)               131200    \n",
            "_________________________________________________________________\n",
            "dropout_1 (Dropout)          (None, 128)               0         \n",
            "_________________________________________________________________\n",
            "dense_3 (Dense)              (None, 43)                5547      \n",
            "=================================================================\n",
            "Total params: 3,365,611\n",
            "Trainable params: 3,343,723\n",
            "Non-trainable params: 21,888\n",
            "_________________________________________________________________\n"
          ]
        }
      ]
    },
    {
      "cell_type": "code",
      "metadata": {
        "id": "ndPGvLsXx0XF"
      },
      "source": [
        "model.compile(loss='sparse_categorical_crossentropy',\n",
        "              optimizer=tf.keras.optimizers.Adam(2e-5), metrics=['accuracy'])"
      ],
      "execution_count": 28,
      "outputs": []
    },
    {
      "cell_type": "code",
      "metadata": {
        "colab": {
          "base_uri": "https://localhost:8080/"
        },
        "id": "Rsq5HiT5yEA_",
        "outputId": "df8c94be-a9be-4110-96fb-239bbb9af982"
      },
      "source": [
        "from tensorflow.keras.callbacks import ModelCheckpoint, EarlyStopping\n",
        "from datetime import datetime\n",
        "\n",
        "save_file_name = './GTSRB_MobileNet_Colab.h5'\n",
        "\n",
        "checkpoint = ModelCheckpoint(save_file_name,       # file명을 지정\n",
        "                             monitor='val_loss',   # val_loss 값이 개선되었을때 호출\n",
        "                             verbose=1,            # 로그를 출력\n",
        "                             save_best_only=True,  # 가장 best 값만 저장\n",
        "                             mode='auto'           \n",
        "                            )\n",
        "\n",
        "earlystopping = EarlyStopping(monitor='val_loss', # 모니터 기준 설정 (val loss) \n",
        "                              patience=5,         # 5회 Epoch동안 개선되지 않는다면 종료\n",
        "                             )\n",
        "\n",
        "start_time = datetime.now()\n",
        "\n",
        "hist = model.fit(x_train, y_train, \n",
        "                 batch_size=32, epochs=50, \n",
        "                 validation_data=(x_test, y_test),\n",
        "                 callbacks=[checkpoint, earlystopping])\n",
        "\n",
        "end_time = datetime.now()\n",
        "\n",
        "print('elapsed time => ', end_time-start_time)"
      ],
      "execution_count": 29,
      "outputs": [
        {
          "output_type": "stream",
          "name": "stdout",
          "text": [
            "Epoch 1/50\n",
            "981/981 [==============================] - 27s 25ms/step - loss: 4.3780 - accuracy: 0.0670 - val_loss: 3.1705 - val_accuracy: 0.1930\n",
            "\n",
            "Epoch 00001: val_loss improved from inf to 3.17049, saving model to ./GTSRB_MobileNet_Colab.h5\n",
            "Epoch 2/50\n",
            "981/981 [==============================] - 25s 25ms/step - loss: 3.3186 - accuracy: 0.1646 - val_loss: 2.6992 - val_accuracy: 0.3140\n",
            "\n",
            "Epoch 00002: val_loss improved from 3.17049 to 2.69919, saving model to ./GTSRB_MobileNet_Colab.h5\n",
            "Epoch 3/50\n",
            "981/981 [==============================] - 24s 24ms/step - loss: 2.8687 - accuracy: 0.2539 - val_loss: 2.2823 - val_accuracy: 0.4154\n",
            "\n",
            "Epoch 00003: val_loss improved from 2.69919 to 2.28228, saving model to ./GTSRB_MobileNet_Colab.h5\n",
            "Epoch 4/50\n",
            "981/981 [==============================] - 24s 24ms/step - loss: 2.5100 - accuracy: 0.3336 - val_loss: 1.9053 - val_accuracy: 0.5003\n",
            "\n",
            "Epoch 00004: val_loss improved from 2.28228 to 1.90533, saving model to ./GTSRB_MobileNet_Colab.h5\n",
            "Epoch 5/50\n",
            "981/981 [==============================] - 24s 24ms/step - loss: 2.2192 - accuracy: 0.3986 - val_loss: 1.6193 - val_accuracy: 0.5657\n",
            "\n",
            "Epoch 00005: val_loss improved from 1.90533 to 1.61933, saving model to ./GTSRB_MobileNet_Colab.h5\n",
            "Epoch 6/50\n",
            "981/981 [==============================] - 24s 24ms/step - loss: 1.9517 - accuracy: 0.4607 - val_loss: 1.3879 - val_accuracy: 0.6218\n",
            "\n",
            "Epoch 00006: val_loss improved from 1.61933 to 1.38786, saving model to ./GTSRB_MobileNet_Colab.h5\n",
            "Epoch 7/50\n",
            "981/981 [==============================] - 24s 24ms/step - loss: 1.7401 - accuracy: 0.5129 - val_loss: 1.1927 - val_accuracy: 0.6675\n",
            "\n",
            "Epoch 00007: val_loss improved from 1.38786 to 1.19269, saving model to ./GTSRB_MobileNet_Colab.h5\n",
            "Epoch 8/50\n",
            "981/981 [==============================] - 24s 24ms/step - loss: 1.5587 - accuracy: 0.5528 - val_loss: 0.9951 - val_accuracy: 0.7111\n",
            "\n",
            "Epoch 00008: val_loss improved from 1.19269 to 0.99508, saving model to ./GTSRB_MobileNet_Colab.h5\n",
            "Epoch 9/50\n",
            "981/981 [==============================] - 24s 24ms/step - loss: 1.3804 - accuracy: 0.5975 - val_loss: 0.8350 - val_accuracy: 0.7579\n",
            "\n",
            "Epoch 00009: val_loss improved from 0.99508 to 0.83496, saving model to ./GTSRB_MobileNet_Colab.h5\n",
            "Epoch 10/50\n",
            "981/981 [==============================] - 24s 25ms/step - loss: 1.2114 - accuracy: 0.6406 - val_loss: 0.7003 - val_accuracy: 0.7991\n",
            "\n",
            "Epoch 00010: val_loss improved from 0.83496 to 0.70025, saving model to ./GTSRB_MobileNet_Colab.h5\n",
            "Epoch 11/50\n",
            "981/981 [==============================] - 24s 25ms/step - loss: 1.0775 - accuracy: 0.6796 - val_loss: 0.6024 - val_accuracy: 0.8286\n",
            "\n",
            "Epoch 00011: val_loss improved from 0.70025 to 0.60244, saving model to ./GTSRB_MobileNet_Colab.h5\n",
            "Epoch 12/50\n",
            "981/981 [==============================] - 24s 25ms/step - loss: 0.9508 - accuracy: 0.7162 - val_loss: 0.4884 - val_accuracy: 0.8582\n",
            "\n",
            "Epoch 00012: val_loss improved from 0.60244 to 0.48840, saving model to ./GTSRB_MobileNet_Colab.h5\n",
            "Epoch 13/50\n",
            "981/981 [==============================] - 25s 25ms/step - loss: 0.8421 - accuracy: 0.7466 - val_loss: 0.4116 - val_accuracy: 0.8782\n",
            "\n",
            "Epoch 00013: val_loss improved from 0.48840 to 0.41159, saving model to ./GTSRB_MobileNet_Colab.h5\n",
            "Epoch 14/50\n",
            "981/981 [==============================] - 24s 25ms/step - loss: 0.7485 - accuracy: 0.7757 - val_loss: 0.3424 - val_accuracy: 0.8984\n",
            "\n",
            "Epoch 00014: val_loss improved from 0.41159 to 0.34238, saving model to ./GTSRB_MobileNet_Colab.h5\n",
            "Epoch 15/50\n",
            "981/981 [==============================] - 25s 25ms/step - loss: 0.6499 - accuracy: 0.8031 - val_loss: 0.2923 - val_accuracy: 0.9127\n",
            "\n",
            "Epoch 00015: val_loss improved from 0.34238 to 0.29234, saving model to ./GTSRB_MobileNet_Colab.h5\n",
            "Epoch 16/50\n",
            "981/981 [==============================] - 24s 24ms/step - loss: 0.5842 - accuracy: 0.8262 - val_loss: 0.2654 - val_accuracy: 0.9210\n",
            "\n",
            "Epoch 00016: val_loss improved from 0.29234 to 0.26545, saving model to ./GTSRB_MobileNet_Colab.h5\n",
            "Epoch 17/50\n",
            "981/981 [==============================] - 24s 25ms/step - loss: 0.5104 - accuracy: 0.8473 - val_loss: 0.2246 - val_accuracy: 0.9320\n",
            "\n",
            "Epoch 00017: val_loss improved from 0.26545 to 0.22463, saving model to ./GTSRB_MobileNet_Colab.h5\n",
            "Epoch 18/50\n",
            "981/981 [==============================] - 24s 25ms/step - loss: 0.4609 - accuracy: 0.8632 - val_loss: 0.1909 - val_accuracy: 0.9431\n",
            "\n",
            "Epoch 00018: val_loss improved from 0.22463 to 0.19091, saving model to ./GTSRB_MobileNet_Colab.h5\n",
            "Epoch 19/50\n",
            "981/981 [==============================] - 24s 25ms/step - loss: 0.4139 - accuracy: 0.8753 - val_loss: 0.1678 - val_accuracy: 0.9496\n",
            "\n",
            "Epoch 00019: val_loss improved from 0.19091 to 0.16779, saving model to ./GTSRB_MobileNet_Colab.h5\n",
            "Epoch 20/50\n",
            "981/981 [==============================] - 25s 25ms/step - loss: 0.3626 - accuracy: 0.8909 - val_loss: 0.1527 - val_accuracy: 0.9539\n",
            "\n",
            "Epoch 00020: val_loss improved from 0.16779 to 0.15273, saving model to ./GTSRB_MobileNet_Colab.h5\n",
            "Epoch 21/50\n",
            "981/981 [==============================] - 24s 25ms/step - loss: 0.3239 - accuracy: 0.9026 - val_loss: 0.1281 - val_accuracy: 0.9626\n",
            "\n",
            "Epoch 00021: val_loss improved from 0.15273 to 0.12810, saving model to ./GTSRB_MobileNet_Colab.h5\n",
            "Epoch 22/50\n",
            "981/981 [==============================] - 24s 25ms/step - loss: 0.2939 - accuracy: 0.9128 - val_loss: 0.1144 - val_accuracy: 0.9650\n",
            "\n",
            "Epoch 00022: val_loss improved from 0.12810 to 0.11445, saving model to ./GTSRB_MobileNet_Colab.h5\n",
            "Epoch 23/50\n",
            "981/981 [==============================] - 24s 25ms/step - loss: 0.2653 - accuracy: 0.9210 - val_loss: 0.1051 - val_accuracy: 0.9678\n",
            "\n",
            "Epoch 00023: val_loss improved from 0.11445 to 0.10507, saving model to ./GTSRB_MobileNet_Colab.h5\n",
            "Epoch 24/50\n",
            "981/981 [==============================] - 24s 25ms/step - loss: 0.2338 - accuracy: 0.9313 - val_loss: 0.1001 - val_accuracy: 0.9715\n",
            "\n",
            "Epoch 00024: val_loss improved from 0.10507 to 0.10014, saving model to ./GTSRB_MobileNet_Colab.h5\n",
            "Epoch 25/50\n",
            "981/981 [==============================] - 24s 25ms/step - loss: 0.2208 - accuracy: 0.9344 - val_loss: 0.0799 - val_accuracy: 0.9768\n",
            "\n",
            "Epoch 00025: val_loss improved from 0.10014 to 0.07990, saving model to ./GTSRB_MobileNet_Colab.h5\n",
            "Epoch 26/50\n",
            "981/981 [==============================] - 24s 25ms/step - loss: 0.1921 - accuracy: 0.9419 - val_loss: 0.0745 - val_accuracy: 0.9772\n",
            "\n",
            "Epoch 00026: val_loss improved from 0.07990 to 0.07446, saving model to ./GTSRB_MobileNet_Colab.h5\n",
            "Epoch 27/50\n",
            "981/981 [==============================] - 24s 25ms/step - loss: 0.1754 - accuracy: 0.9479 - val_loss: 0.0713 - val_accuracy: 0.9797\n",
            "\n",
            "Epoch 00027: val_loss improved from 0.07446 to 0.07133, saving model to ./GTSRB_MobileNet_Colab.h5\n",
            "Epoch 28/50\n",
            "981/981 [==============================] - 24s 25ms/step - loss: 0.1648 - accuracy: 0.9503 - val_loss: 0.0688 - val_accuracy: 0.9786\n",
            "\n",
            "Epoch 00028: val_loss improved from 0.07133 to 0.06879, saving model to ./GTSRB_MobileNet_Colab.h5\n",
            "Epoch 29/50\n",
            "981/981 [==============================] - 25s 26ms/step - loss: 0.1555 - accuracy: 0.9557 - val_loss: 0.0592 - val_accuracy: 0.9812\n",
            "\n",
            "Epoch 00029: val_loss improved from 0.06879 to 0.05922, saving model to ./GTSRB_MobileNet_Colab.h5\n",
            "Epoch 30/50\n",
            "981/981 [==============================] - 24s 25ms/step - loss: 0.1274 - accuracy: 0.9625 - val_loss: 0.0542 - val_accuracy: 0.9838\n",
            "\n",
            "Epoch 00030: val_loss improved from 0.05922 to 0.05415, saving model to ./GTSRB_MobileNet_Colab.h5\n",
            "Epoch 31/50\n",
            "981/981 [==============================] - 24s 25ms/step - loss: 0.1221 - accuracy: 0.9636 - val_loss: 0.0521 - val_accuracy: 0.9848\n",
            "\n",
            "Epoch 00031: val_loss improved from 0.05415 to 0.05214, saving model to ./GTSRB_MobileNet_Colab.h5\n",
            "Epoch 32/50\n",
            "981/981 [==============================] - 25s 25ms/step - loss: 0.1158 - accuracy: 0.9649 - val_loss: 0.0502 - val_accuracy: 0.9851\n",
            "\n",
            "Epoch 00032: val_loss improved from 0.05214 to 0.05023, saving model to ./GTSRB_MobileNet_Colab.h5\n",
            "Epoch 33/50\n",
            "981/981 [==============================] - 24s 25ms/step - loss: 0.1017 - accuracy: 0.9701 - val_loss: 0.0458 - val_accuracy: 0.9865\n",
            "\n",
            "Epoch 00033: val_loss improved from 0.05023 to 0.04584, saving model to ./GTSRB_MobileNet_Colab.h5\n",
            "Epoch 34/50\n",
            "981/981 [==============================] - 24s 25ms/step - loss: 0.1037 - accuracy: 0.9704 - val_loss: 0.0425 - val_accuracy: 0.9876\n",
            "\n",
            "Epoch 00034: val_loss improved from 0.04584 to 0.04250, saving model to ./GTSRB_MobileNet_Colab.h5\n",
            "Epoch 35/50\n",
            "981/981 [==============================] - 24s 25ms/step - loss: 0.0933 - accuracy: 0.9729 - val_loss: 0.0433 - val_accuracy: 0.9875\n",
            "\n",
            "Epoch 00035: val_loss did not improve from 0.04250\n",
            "Epoch 36/50\n",
            "981/981 [==============================] - 25s 26ms/step - loss: 0.0836 - accuracy: 0.9755 - val_loss: 0.0417 - val_accuracy: 0.9876\n",
            "\n",
            "Epoch 00036: val_loss improved from 0.04250 to 0.04172, saving model to ./GTSRB_MobileNet_Colab.h5\n",
            "Epoch 37/50\n",
            "981/981 [==============================] - 25s 25ms/step - loss: 0.0797 - accuracy: 0.9760 - val_loss: 0.0397 - val_accuracy: 0.9889\n",
            "\n",
            "Epoch 00037: val_loss improved from 0.04172 to 0.03972, saving model to ./GTSRB_MobileNet_Colab.h5\n",
            "Epoch 38/50\n",
            "981/981 [==============================] - 25s 25ms/step - loss: 0.0761 - accuracy: 0.9777 - val_loss: 0.0351 - val_accuracy: 0.9902\n",
            "\n",
            "Epoch 00038: val_loss improved from 0.03972 to 0.03509, saving model to ./GTSRB_MobileNet_Colab.h5\n",
            "Epoch 39/50\n",
            "981/981 [==============================] - 25s 25ms/step - loss: 0.0664 - accuracy: 0.9795 - val_loss: 0.0362 - val_accuracy: 0.9895\n",
            "\n",
            "Epoch 00039: val_loss did not improve from 0.03509\n",
            "Epoch 40/50\n",
            "981/981 [==============================] - 25s 25ms/step - loss: 0.0727 - accuracy: 0.9791 - val_loss: 0.0338 - val_accuracy: 0.9908\n",
            "\n",
            "Epoch 00040: val_loss improved from 0.03509 to 0.03385, saving model to ./GTSRB_MobileNet_Colab.h5\n",
            "Epoch 41/50\n",
            "981/981 [==============================] - 24s 25ms/step - loss: 0.0643 - accuracy: 0.9815 - val_loss: 0.0284 - val_accuracy: 0.9916\n",
            "\n",
            "Epoch 00041: val_loss improved from 0.03385 to 0.02839, saving model to ./GTSRB_MobileNet_Colab.h5\n",
            "Epoch 42/50\n",
            "981/981 [==============================] - 24s 25ms/step - loss: 0.0604 - accuracy: 0.9823 - val_loss: 0.0240 - val_accuracy: 0.9930\n",
            "\n",
            "Epoch 00042: val_loss improved from 0.02839 to 0.02399, saving model to ./GTSRB_MobileNet_Colab.h5\n",
            "Epoch 43/50\n",
            "981/981 [==============================] - 25s 26ms/step - loss: 0.0533 - accuracy: 0.9848 - val_loss: 0.0291 - val_accuracy: 0.9903\n",
            "\n",
            "Epoch 00043: val_loss did not improve from 0.02399\n",
            "Epoch 44/50\n",
            "981/981 [==============================] - 24s 25ms/step - loss: 0.0536 - accuracy: 0.9848 - val_loss: 0.0290 - val_accuracy: 0.9918\n",
            "\n",
            "Epoch 00044: val_loss did not improve from 0.02399\n",
            "Epoch 45/50\n",
            "981/981 [==============================] - 24s 25ms/step - loss: 0.0515 - accuracy: 0.9850 - val_loss: 0.0239 - val_accuracy: 0.9926\n",
            "\n",
            "Epoch 00045: val_loss improved from 0.02399 to 0.02394, saving model to ./GTSRB_MobileNet_Colab.h5\n",
            "Epoch 46/50\n",
            "981/981 [==============================] - 24s 24ms/step - loss: 0.0501 - accuracy: 0.9865 - val_loss: 0.0217 - val_accuracy: 0.9936\n",
            "\n",
            "Epoch 00046: val_loss improved from 0.02394 to 0.02172, saving model to ./GTSRB_MobileNet_Colab.h5\n",
            "Epoch 47/50\n",
            "981/981 [==============================] - 24s 25ms/step - loss: 0.0433 - accuracy: 0.9873 - val_loss: 0.0253 - val_accuracy: 0.9921\n",
            "\n",
            "Epoch 00047: val_loss did not improve from 0.02172\n",
            "Epoch 48/50\n",
            "981/981 [==============================] - 24s 24ms/step - loss: 0.0424 - accuracy: 0.9875 - val_loss: 0.0256 - val_accuracy: 0.9927\n",
            "\n",
            "Epoch 00048: val_loss did not improve from 0.02172\n",
            "Epoch 49/50\n",
            "981/981 [==============================] - 24s 24ms/step - loss: 0.0403 - accuracy: 0.9878 - val_loss: 0.0232 - val_accuracy: 0.9943\n",
            "\n",
            "Epoch 00049: val_loss did not improve from 0.02172\n",
            "Epoch 50/50\n",
            "981/981 [==============================] - 24s 24ms/step - loss: 0.0429 - accuracy: 0.9881 - val_loss: 0.0238 - val_accuracy: 0.9930\n",
            "\n",
            "Epoch 00050: val_loss did not improve from 0.02172\n",
            "elapsed time =>  0:21:24.954041\n"
          ]
        }
      ]
    },
    {
      "cell_type": "code",
      "metadata": {
        "colab": {
          "base_uri": "https://localhost:8080/"
        },
        "id": "TNQbhxp_yOU4",
        "outputId": "2127c963-959a-4b25-cfe2-06b312661ca2"
      },
      "source": [
        "model.evaluate(x_test, y_test)"
      ],
      "execution_count": 30,
      "outputs": [
        {
          "output_type": "stream",
          "name": "stdout",
          "text": [
            "245/245 [==============================] - 3s 11ms/step - loss: 0.0238 - accuracy: 0.9930\n"
          ]
        },
        {
          "output_type": "execute_result",
          "data": {
            "text/plain": [
              "[0.023819442838430405, 0.9929793477058411]"
            ]
          },
          "metadata": {},
          "execution_count": 30
        }
      ]
    },
    {
      "cell_type": "code",
      "metadata": {
        "id": "FIhDr-BmJjen"
      },
      "source": [
        "best_model = tf.keras.models.load_model('./GTSRB_MobileNet_Colab.h5')"
      ],
      "execution_count": 31,
      "outputs": []
    },
    {
      "cell_type": "code",
      "metadata": {
        "colab": {
          "base_uri": "https://localhost:8080/"
        },
        "id": "4uqfzd-qJxdX",
        "outputId": "57a1feec-1d56-4fc5-9115-2fbeb27f0e95"
      },
      "source": [
        "best_model.evaluate(x_test, y_test)"
      ],
      "execution_count": 32,
      "outputs": [
        {
          "output_type": "stream",
          "name": "stdout",
          "text": [
            "245/245 [==============================] - 3s 11ms/step - loss: 0.0217 - accuracy: 0.9936\n"
          ]
        },
        {
          "output_type": "execute_result",
          "data": {
            "text/plain": [
              "[0.021716229617595673, 0.993617594242096]"
            ]
          },
          "metadata": {},
          "execution_count": 32
        }
      ]
    },
    {
      "cell_type": "code",
      "metadata": {
        "colab": {
          "base_uri": "https://localhost:8080/"
        },
        "id": "4u9Y23Hd7EQW",
        "outputId": "59e6a496-0890-4371-d895-bcfab2aab2d9"
      },
      "source": [
        "y_pred = best_model.predict(x_test)\n",
        "\n",
        "print(y_pred.shape)"
      ],
      "execution_count": 33,
      "outputs": [
        {
          "output_type": "stream",
          "name": "stdout",
          "text": [
            "(7834, 43)\n"
          ]
        }
      ]
    },
    {
      "cell_type": "code",
      "metadata": {
        "colab": {
          "base_uri": "https://localhost:8080/",
          "height": 295
        },
        "id": "z7hIF36fyR6O",
        "outputId": "e3c9438c-a394-44f3-c6a0-04c7381ca852"
      },
      "source": [
        "import matplotlib.pyplot as plt\n",
        "\n",
        "plt.plot(hist.history['accuracy'], label='train')\n",
        "plt.plot(hist.history['val_accuracy'], label='validation')\n",
        "plt.title('Accuracy Trend')\n",
        "plt.ylabel('accuracy')\n",
        "plt.xlabel('epoch')\n",
        "plt.legend(loc='best')\n",
        "plt.grid()\n",
        "plt.show()"
      ],
      "execution_count": 34,
      "outputs": [
        {
          "output_type": "display_data",
          "data": {
            "image/png": "[encoded data removed]",
            "text/plain": [
              "<Figure size 432x288 with 1 Axes>"
            ]
          },
          "metadata": {
            "needs_background": "light"
          }
        }
      ]
    },
    {
      "cell_type": "code",
      "metadata": {
        "colab": {
          "base_uri": "https://localhost:8080/",
          "height": 295
        },
        "id": "ikuZTLbMybAQ",
        "outputId": "ec0d5267-7188-4223-b6c4-c2879e53acc2"
      },
      "source": [
        "plt.plot(hist.history['loss'], label='train')\n",
        "plt.plot(hist.history['val_loss'], label='validation')\n",
        "plt.title('Loss Trend')\n",
        "plt.ylabel('loss')\n",
        "plt.xlabel('epoch')\n",
        "plt.legend(loc='best')\n",
        "plt.grid()\n",
        "plt.show()"
      ],
      "execution_count": 35,
      "outputs": [
        {
          "output_type": "display_data",
          "data": {
            "image/png": "[encoded data removed]",
            "text/plain": [
              "<Figure size 432x288 with 1 Axes>"
            ]
          },
          "metadata": {
            "needs_background": "light"
          }
        }
      ]
    },
    {
      "cell_type": "code",
      "metadata": {
        "id": "PByUMR0n0Z8B"
      },
      "source": [
        ""
      ],
      "execution_count": null,
      "outputs": []
    }
  ]
}