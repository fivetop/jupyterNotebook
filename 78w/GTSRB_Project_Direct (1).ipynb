{
 "cells": [
  {
   "cell_type": "code",
   "execution_count": 1,
   "metadata": {
    "id": "nWhPUUnPveS3"
   },
   "outputs": [],
   "source": [
    "import tensorflow as tf\n",
    "from tensorflow.keras.models import Sequential, Model\n",
    "from tensorflow.keras.layers import Dense, Dropout, Input\n",
    "from tensorflow.keras.layers import Flatten, Conv2D, MaxPooling2D"
   ]
  },
  {
   "cell_type": "markdown",
   "metadata": {
    "id": "tF5KinX3zpAR"
   },
   "source": [
    "Google Drive 에서 데이터 파일 마운트 하려면 다음과 같이 하면되지만, 프로그래밍 편의를 위해 wget 으로 직접 다운로드 함\n",
    "\n",
    "from google.colab import drive   \n",
    "\n",
    "drive.mount('/content/gdrive/')  \n",
    "\n",
    "import shutil\n",
    "\n",
    "shutil.copy('/content/gdrive/My Drive/Colab Notebooks/dataset/GTSRB_Final_Training_Images.zip', '/content/')"
   ]
  },
  {
   "cell_type": "code",
   "execution_count": 2,
   "metadata": {
    "colab": {
     "base_uri": "https://localhost:8080/"
    },
    "id": "esUP4a8Yq7h6",
    "outputId": "c1500b47-c1df-4665-fab2-803d0161ed64"
   },
   "outputs": [
    {
     "name": "stdout",
     "output_type": "stream",
     "text": [
      "--2021-10-06 15:24:35--  https://sid.erda.dk/public/archives/daaeac0d7ce1152aea9b61d9f1e19370/GTSRB_Final_Training_Images.zip\n",
      "Resolving sid.erda.dk (sid.erda.dk)... 130.225.104.13\n",
      "Connecting to sid.erda.dk (sid.erda.dk)|130.225.104.13|:443... connected.\n",
      "HTTP request sent, awaiting response... 200 OK\n",
      "Length: 276294756 (263M) [application/zip]\n",
      "Saving to: ‘GTSRB_Final_Training_Images.zip’\n",
      "\n",
      "GTSRB_Final_Trainin 100%[===================>] 263.50M  24.2MB/s    in 12s     \n",
      "\n",
      "2021-10-06 15:24:47 (21.8 MB/s) - ‘GTSRB_Final_Training_Images.zip’ saved [276294756/276294756]\n",
      "\n"
     ]
    }
   ],
   "source": [
    "# 파일 다운로드\n",
    "\n",
    "!wget https://sid.erda.dk/public/archives/daaeac0d7ce1152aea9b61d9f1e19370/GTSRB_Final_Training_Images.zip"
   ]
  },
  {
   "cell_type": "code",
   "execution_count": 3,
   "metadata": {
    "id": "5iDRtTO7rpXp"
   },
   "outputs": [],
   "source": [
    "import os\n",
    "import shutil\n",
    "\n",
    "if os.path.exists('/content/GTSRB/'):    # 작업 디렉토리는 GTSRB\n",
    "    \n",
    "    shutil.rmtree('/content/GTSRB/')\n",
    "    print('/content/GTSRB/  is removed !!!')"
   ]
  },
  {
   "cell_type": "code",
   "execution_count": 4,
   "metadata": {
    "id": "ajx57MQ3X6v1"
   },
   "outputs": [],
   "source": [
    "# 압축파일 풀기\n",
    "\n",
    "import zipfile\n",
    "\n",
    "with zipfile.ZipFile('/content/GTSRB_Final_Training_Images.zip', 'r') as target_file:\n",
    "\n",
    "    target_file.extractall('/content/GTSRB_Final_Training_Images/') "
   ]
  },
  {
   "cell_type": "markdown",
   "metadata": {
    "id": "ZqNacGsEYZq_"
   },
   "source": [
    "압축을 풀어보면, 데이터 디렉토리 구조는 다음과 같음\n",
    "\n",
    "GTSRB_Final_Training_Images\n",
    " |- GTSRB\n",
    "     |- Final_Training\n",
    "         |- Images\n",
    "             |- 00000\n",
    "             |- 00001\n",
    "             |- 00002\n",
    "             |- .....\n",
    "             |- 00042\n",
    "\n",
    "이러한 데릭토리 구조에서 딥러닝 학습을 위한 일반적인 디렉토리 구조로 변경할 계획임. 즉 train : test = 8: 2 비율로 나누어서 각각의 디렉토리에 저장하는 데이터 전처리 코드 필요함\n",
    "\n",
    "GTSRB\n",
    " |- train\n",
    "     |- 00000\n",
    "     |- 00001\n",
    "     |- .....\n",
    "     |- 00042\n",
    " |- test\n",
    "     |- 00000\n",
    "     |- 00001\n",
    "     |- .....\n",
    "     |- 00042"
   ]
  },
  {
   "cell_type": "code",
   "execution_count": 5,
   "metadata": {
    "colab": {
     "base_uri": "https://localhost:8080/"
    },
    "id": "hR1kZT1uaC5t",
    "outputId": "12329e5c-088a-41a1-ee23-0d6a9ccfe03a"
   },
   "outputs": [
    {
     "name": "stdout",
     "output_type": "stream",
     "text": [
      "total label nums =  43\n",
      "=================================================\n",
      "['00039', '00006', '00004', '00020', '00042', '00041', '00012', '00009', '00003', '00023', '00001', '00035', '00032', '00021', '00018', '00019', '00008', '00033', '00015', '00029', '00027', '00038', '00000', '00026', '00025', '00005', '00014', '00010', '00036', '00016', '00017', '00011', '00040', '00007', '00024', '00022', '00030', '00031', '00034', '00028', '00037', '00002', '00013']\n"
     ]
    }
   ],
   "source": [
    "# 데이터 전체 개수 확인\n",
    "\n",
    "import os\n",
    "import glob\n",
    "\n",
    "# 데이터 정답 (label) 개수 및 종류 확인\n",
    "\n",
    "label_name_list = os.listdir('/content/GTSRB_Final_Training_Images/GTSRB/Final_Training/Images/')\n",
    "\n",
    "print('total label nums = ', len(label_name_list))\n",
    "print('=================================================')\n",
    "print(label_name_list)"
   ]
  },
  {
   "cell_type": "markdown",
   "metadata": {
    "id": "HnH8tDL502Ih"
   },
   "source": [
    "원본 image를 정답 디렉토리 별로 읽어서 x_train numpy 생성 \n",
    "train label 읽어서 y_train numpy 생성"
   ]
  },
  {
   "cell_type": "code",
   "execution_count": 6,
   "metadata": {
    "colab": {
     "base_uri": "https://localhost:8080/"
    },
    "id": "LbMVr2OC1HIS",
    "outputId": "d9f1269c-5eb1-4ce9-cc43-a1c00d500da2"
   },
   "outputs": [
    {
     "name": "stdout",
     "output_type": "stream",
     "text": [
      "label nums =>  43\n",
      "x_train.shape =  (39209, 32, 32, 3) , y_train.shape =  (39209,)\n",
      "train data generation time =>  0:00:03.314970\n"
     ]
    }
   ],
   "source": [
    "import os\n",
    "import cv2\n",
    "import glob\n",
    "import numpy as np\n",
    "from datetime import datetime\n",
    "\n",
    "image_list = []\n",
    "label_list = []\n",
    "\n",
    "image_base_dir = '/content/GTSRB_Final_Training_Images/GTSRB/Final_Training/Images/'\n",
    "\n",
    "image_label_list = os.listdir(image_base_dir)    # 정답이름\n",
    "\n",
    "print('label nums => ', len(image_label_list))\n",
    "\n",
    "start_time = datetime.now()\n",
    "\n",
    "for label_name in image_label_list:\n",
    "\n",
    "    # 이미지 파일 읽어오기\n",
    "\n",
    "    file_path = image_base_dir + label_name\n",
    "\n",
    "    img_file_list = glob.glob(file_path+'/*.ppm')\n",
    "\n",
    "    # 각각의 정답 디렉토리에 있는 이미지 파일, 즉 .ppm 파일 읽어서 리스트에 저장\n",
    "    \n",
    "    for img_file in img_file_list:\n",
    "\n",
    "        src_img = cv2.imread(img_file, cv2.IMREAD_COLOR) \n",
    "\n",
    "        src_img = cv2.resize(src_img, dsize=(32,32))\n",
    "\n",
    "        src_img = cv2.cvtColor(src_img, cv2.COLOR_BGR2RGB)\n",
    "\n",
    "        image_list.append(src_img)\n",
    "        label_list.append(float(label_name))  # 정답은 문자열을 실수로 변환\n",
    "\n",
    "\n",
    "# numpy 변환\n",
    "\n",
    "x_train = np.array(image_list).astype('float32')\n",
    "y_train = np.array(label_list).astype('float32')\n",
    "\n",
    "print('x_train.shape = ', x_train.shape, ', y_train.shape = ', y_train.shape)\n",
    "\n",
    "end_time = datetime.now()\n",
    "\n",
    "print('train data generation time => ', end_time-start_time)\n"
   ]
  },
  {
   "cell_type": "markdown",
   "metadata": {
    "id": "A8Gos4G3OrVW"
   },
   "source": [
    "test data 생성. train : test = 8 : 2 \n",
    "\n",
    "단, 데이터 다양성을 위해서 train data 를 먼저 random shuffle 한후에 test data 생성함. 이때 주의할것은 label data 도 동일한 인덱스로 shuffle 되어야 한다는 것이다 "
   ]
  },
  {
   "cell_type": "code",
   "execution_count": 7,
   "metadata": {
    "colab": {
     "base_uri": "https://localhost:8080/"
    },
    "id": "-KPUPQ--O-7K",
    "outputId": "2ce8274b-b955-4ec1-a80e-3137881d3207"
   },
   "outputs": [
    {
     "name": "stdout",
     "output_type": "stream",
     "text": [
      "x_train len =  [    0     1     2 ... 39206 39207 39208]\n"
     ]
    }
   ],
   "source": [
    "import numpy as np\n",
    "\n",
    "s = np.arange(len(x_train))\n",
    "\n",
    "print('x_train len = ', s)\n",
    "\n",
    "# index random shuffle\n",
    "\n",
    "np.random.shuffle(s)\n",
    "\n",
    "# x_train, y_train 재 생성\n",
    "\n",
    "x_train = x_train[s]\n",
    "y_train = y_train[s]"
   ]
  },
  {
   "cell_type": "markdown",
   "metadata": {
    "id": "-kJWBM8ePnwb"
   },
   "source": [
    "x_train : x_test = 8 : 2"
   ]
  },
  {
   "cell_type": "code",
   "execution_count": 9,
   "metadata": {
    "colab": {
     "base_uri": "https://localhost:8080/"
    },
    "id": "PR0_HtK6PsS_",
    "outputId": "dfeb5b24-2470-453e-ebcb-5494cefd2e00"
   },
   "outputs": [
    {
     "name": "stdout",
     "output_type": "stream",
     "text": [
      "split num =>  7841\n"
     ]
    }
   ],
   "source": [
    "ratio = 0.2\n",
    "\n",
    "split_num = int(ratio*len(x_train))\n",
    "\n",
    "print('split num => ', split_num)\n",
    "\n",
    "x_test = x_train[0:split_num]\n",
    "y_test = y_train[0:split_num]\n",
    "\n",
    "x_train = x_train[split_num:]\n",
    "y_train = y_train[split_num:]"
   ]
  },
  {
   "cell_type": "markdown",
   "metadata": {
    "id": "joPzIIyS-hjs"
   },
   "source": [
    "x_train, x_test, y_train, y_test shape 확인"
   ]
  },
  {
   "cell_type": "code",
   "execution_count": 10,
   "metadata": {
    "colab": {
     "base_uri": "https://localhost:8080/"
    },
    "id": "adtWSfppQSqu",
    "outputId": "9043a94c-e96d-4f53-d468-8ad7e632d421"
   },
   "outputs": [
    {
     "name": "stdout",
     "output_type": "stream",
     "text": [
      "x_train.shape =  (31368, 32, 32, 3) , y_train.shape =  (31368,)\n",
      "x_test.shape =  (7841, 32, 32, 3) , y_test.shape =  (7841,)\n"
     ]
    }
   ],
   "source": [
    "print('x_train.shape = ', x_train.shape, ', y_train.shape = ', y_train.shape)\n",
    "print('x_test.shape = ', x_test.shape, ', y_test.shape = ', y_test.shape)"
   ]
  },
  {
   "cell_type": "code",
   "execution_count": 11,
   "metadata": {
    "colab": {
     "base_uri": "https://localhost:8080/"
    },
    "id": "-IRt41UZ-8Em",
    "outputId": "dfc2b711-83e6-4d2e-c9aa-0b1539b35459"
   },
   "outputs": [
    {
     "name": "stdout",
     "output_type": "stream",
     "text": [
      "[25. 38. 33.]\n",
      "[14. 38. 11.]\n"
     ]
    }
   ],
   "source": [
    "print(y_train[:3])\n",
    "print(y_test[:3])"
   ]
  },
  {
   "cell_type": "markdown",
   "metadata": {
    "id": "ajW_TMZf_Pc2"
   },
   "source": [
    "데이터 정규화"
   ]
  },
  {
   "cell_type": "code",
   "execution_count": 12,
   "metadata": {
    "id": "Q4Xh-9FkvsKE"
   },
   "outputs": [],
   "source": [
    "# 정규화 \n",
    "\n",
    "x_train = x_train.astype(np.float32) / 255.0\n",
    "x_test = x_test.astype(np.float32) / 255.0\n",
    "\n",
    "# one-hot encoding 하기 위해서는, 정답에 대해서 다음과 같이 실행함\n",
    "\n",
    "#y_train = tf.keras.utils.to_categorical(y_train, num_classes=n_classes)\n",
    "#y_test = tf.keras.utils.to_categorical(y_test, num_classes=n_classes)"
   ]
  },
  {
   "cell_type": "markdown",
   "metadata": {
    "id": "wusn5G5WAchl"
   },
   "source": [
    "이미지 출력"
   ]
  },
  {
   "cell_type": "code",
   "execution_count": 14,
   "metadata": {
    "colab": {
     "base_uri": "https://localhost:8080/",
     "height": 585
    },
    "id": "kXNWhNxgAbZv",
    "outputId": "c8c7f6fe-ac85-401a-b072-e4447269818a"
   },
   "outputs": [
    {
     "data": {
      "image/png": "[encoded data removed]",
      "text/plain": [
       "<Figure size 576x576 with 16 Axes>"
      ]
     },
     "metadata": {
      "needs_background": "light"
     },
     "output_type": "display_data"
    }
   ],
   "source": [
    "import matplotlib.pyplot as plt\n",
    "\n",
    "random_index = np.random.randint(0, len(x_train), 16)    # 16개 랜덤 train 데이터 추출 \n",
    "\n",
    "plt.figure(figsize=(8,8))\n",
    "\n",
    "for pos in range(len(random_index)):\n",
    "\n",
    "    plt.subplot(4,4,pos+1)\n",
    "    plt.axis('off')\n",
    "    train_img_index = random_index[pos]\n",
    "    plt.imshow(x_train[train_img_index])\n",
    "\n",
    "plt.tight_layout()\n",
    "plt.show()"
   ]
  },
  {
   "cell_type": "markdown",
   "metadata": {
    "id": "YOscWaGQ_Ttt"
   },
   "source": [
    "Sequential 모델 구축"
   ]
  },
  {
   "cell_type": "code",
   "execution_count": 15,
   "metadata": {
    "colab": {
     "base_uri": "https://localhost:8080/"
    },
    "id": "ISOTB0okwnAc",
    "outputId": "400dcaab-5e90-4149-e1c3-142f2d9c5df9"
   },
   "outputs": [
    {
     "name": "stdout",
     "output_type": "stream",
     "text": [
      "Model: \"sequential\"\n",
      "_________________________________________________________________\n",
      "Layer (type)                 Output Shape              Param #   \n",
      "=================================================================\n",
      "conv2d (Conv2D)              (None, 30, 30, 32)        896       \n",
      "_________________________________________________________________\n",
      "conv2d_1 (Conv2D)            (None, 28, 28, 64)        18496     \n",
      "_________________________________________________________________\n",
      "max_pooling2d (MaxPooling2D) (None, 14, 14, 64)        0         \n",
      "_________________________________________________________________\n",
      "dropout (Dropout)            (None, 14, 14, 64)        0         \n",
      "_________________________________________________________________\n",
      "flatten (Flatten)            (None, 12544)             0         \n",
      "_________________________________________________________________\n",
      "dense (Dense)                (None, 512)               6423040   \n",
      "_________________________________________________________________\n",
      "dropout_1 (Dropout)          (None, 512)               0         \n",
      "_________________________________________________________________\n",
      "dense_1 (Dense)              (None, 43)                22059     \n",
      "=================================================================\n",
      "Total params: 6,464,491\n",
      "Trainable params: 6,464,491\n",
      "Non-trainable params: 0\n",
      "_________________________________________________________________\n"
     ]
    }
   ],
   "source": [
    "n_classes = len(os.listdir('/content/GTSRB_Final_Training_Images/GTSRB/Final_Training/Images/'))  # 정답 개수\n",
    "\n",
    "cnn = Sequential()\n",
    "\n",
    "cnn.add(Conv2D(input_shape=(32,32,3), kernel_size=(3,3), filters=32, activation='relu'))\n",
    "cnn.add(Conv2D(kernel_size=(3,3), filters=64, activation='relu'))\n",
    "cnn.add(MaxPooling2D(pool_size=(2,2)))\n",
    "cnn.add(Dropout(0.25))\n",
    "\n",
    "cnn.add(Flatten())\n",
    "\n",
    "cnn.add(Dense(512, activation='relu'))\n",
    "cnn.add(Dropout(0.5))\n",
    "cnn.add(Dense(n_classes, activation='softmax'))\n",
    "\n",
    "cnn.summary()"
   ]
  },
  {
   "cell_type": "code",
   "execution_count": 16,
   "metadata": {
    "id": "ndPGvLsXx0XF"
   },
   "outputs": [],
   "source": [
    "cnn.compile(loss='sparse_categorical_crossentropy',\n",
    "            optimizer=tf.keras.optimizers.Adam(), metrics=['accuracy'])"
   ]
  },
  {
   "cell_type": "code",
   "execution_count": 17,
   "metadata": {
    "colab": {
     "base_uri": "https://localhost:8080/"
    },
    "id": "Rsq5HiT5yEA_",
    "outputId": "986cd671-1c2d-4035-cef5-e5224faa59e8"
   },
   "outputs": [
    {
     "name": "stdout",
     "output_type": "stream",
     "text": [
      "Epoch 1/30\n",
      "981/981 [==============================] - 42s 12ms/step - loss: 0.9418 - accuracy: 0.7378 - val_loss: 0.1497 - val_accuracy: 0.9665\n",
      "\n",
      "Epoch 00001: val_loss improved from inf to 0.14972, saving model to ./GTSRB_Native_Colab.h5\n",
      "Epoch 2/30\n",
      "981/981 [==============================] - 11s 11ms/step - loss: 0.1918 - accuracy: 0.9445 - val_loss: 0.0784 - val_accuracy: 0.9843\n",
      "\n",
      "Epoch 00002: val_loss improved from 0.14972 to 0.07841, saving model to ./GTSRB_Native_Colab.h5\n",
      "Epoch 3/30\n",
      "981/981 [==============================] - 12s 12ms/step - loss: 0.1111 - accuracy: 0.9668 - val_loss: 0.0522 - val_accuracy: 0.9884\n",
      "\n",
      "Epoch 00003: val_loss improved from 0.07841 to 0.05220, saving model to ./GTSRB_Native_Colab.h5\n",
      "Epoch 4/30\n",
      "981/981 [==============================] - 11s 12ms/step - loss: 0.0770 - accuracy: 0.9768 - val_loss: 0.0417 - val_accuracy: 0.9911\n",
      "\n",
      "Epoch 00004: val_loss improved from 0.05220 to 0.04174, saving model to ./GTSRB_Native_Colab.h5\n",
      "Epoch 5/30\n",
      "981/981 [==============================] - 11s 12ms/step - loss: 0.0642 - accuracy: 0.9811 - val_loss: 0.0333 - val_accuracy: 0.9916\n",
      "\n",
      "Epoch 00005: val_loss improved from 0.04174 to 0.03326, saving model to ./GTSRB_Native_Colab.h5\n",
      "Epoch 6/30\n",
      "981/981 [==============================] - 11s 12ms/step - loss: 0.0528 - accuracy: 0.9836 - val_loss: 0.0341 - val_accuracy: 0.9920\n",
      "\n",
      "Epoch 00006: val_loss did not improve from 0.03326\n",
      "Epoch 7/30\n",
      "981/981 [==============================] - 11s 11ms/step - loss: 0.0413 - accuracy: 0.9867 - val_loss: 0.0348 - val_accuracy: 0.9916\n",
      "\n",
      "Epoch 00007: val_loss did not improve from 0.03326\n",
      "Epoch 8/30\n",
      "981/981 [==============================] - 11s 12ms/step - loss: 0.0374 - accuracy: 0.9887 - val_loss: 0.0277 - val_accuracy: 0.9936\n",
      "\n",
      "Epoch 00008: val_loss improved from 0.03326 to 0.02773, saving model to ./GTSRB_Native_Colab.h5\n",
      "Epoch 9/30\n",
      "981/981 [==============================] - 11s 12ms/step - loss: 0.0328 - accuracy: 0.9897 - val_loss: 0.0285 - val_accuracy: 0.9935\n",
      "\n",
      "Epoch 00009: val_loss did not improve from 0.02773\n",
      "Epoch 10/30\n",
      "981/981 [==============================] - 11s 11ms/step - loss: 0.0292 - accuracy: 0.9912 - val_loss: 0.0260 - val_accuracy: 0.9946\n",
      "\n",
      "Epoch 00010: val_loss improved from 0.02773 to 0.02604, saving model to ./GTSRB_Native_Colab.h5\n",
      "Epoch 11/30\n",
      "981/981 [==============================] - 11s 11ms/step - loss: 0.0335 - accuracy: 0.9900 - val_loss: 0.0273 - val_accuracy: 0.9939\n",
      "\n",
      "Epoch 00011: val_loss did not improve from 0.02604\n",
      "Epoch 12/30\n",
      "981/981 [==============================] - 11s 11ms/step - loss: 0.0285 - accuracy: 0.9912 - val_loss: 0.0280 - val_accuracy: 0.9953\n",
      "\n",
      "Epoch 00012: val_loss did not improve from 0.02604\n",
      "Epoch 13/30\n",
      "981/981 [==============================] - 11s 12ms/step - loss: 0.0252 - accuracy: 0.9928 - val_loss: 0.0225 - val_accuracy: 0.9953\n",
      "\n",
      "Epoch 00013: val_loss improved from 0.02604 to 0.02246, saving model to ./GTSRB_Native_Colab.h5\n",
      "Epoch 14/30\n",
      "981/981 [==============================] - 11s 11ms/step - loss: 0.0238 - accuracy: 0.9938 - val_loss: 0.0285 - val_accuracy: 0.9946\n",
      "\n",
      "Epoch 00014: val_loss did not improve from 0.02246\n",
      "Epoch 15/30\n",
      "981/981 [==============================] - 11s 11ms/step - loss: 0.0173 - accuracy: 0.9945 - val_loss: 0.0276 - val_accuracy: 0.9962\n",
      "\n",
      "Epoch 00015: val_loss did not improve from 0.02246\n",
      "Epoch 16/30\n",
      "981/981 [==============================] - 11s 12ms/step - loss: 0.0286 - accuracy: 0.9915 - val_loss: 0.0355 - val_accuracy: 0.9940\n",
      "\n",
      "Epoch 00016: val_loss did not improve from 0.02246\n",
      "Epoch 17/30\n",
      "981/981 [==============================] - 11s 12ms/step - loss: 0.0213 - accuracy: 0.9939 - val_loss: 0.0333 - val_accuracy: 0.9954\n",
      "\n",
      "Epoch 00017: val_loss did not improve from 0.02246\n",
      "Epoch 18/30\n",
      "981/981 [==============================] - 11s 11ms/step - loss: 0.0183 - accuracy: 0.9937 - val_loss: 0.0288 - val_accuracy: 0.9950\n",
      "\n",
      "Epoch 00018: val_loss did not improve from 0.02246\n",
      "elapsed time =>  0:03:53.799249\n"
     ]
    }
   ],
   "source": [
    "from tensorflow.keras.callbacks import ModelCheckpoint, EarlyStopping\n",
    "from datetime import datetime\n",
    "\n",
    "save_file_name = './GTSRB_Native_Colab.h5'\n",
    "\n",
    "checkpoint = ModelCheckpoint(save_file_name,       # file명을 지정\n",
    "                             monitor='val_loss',   # val_loss 값이 개선되었을때 호출\n",
    "                             verbose=1,            # 로그를 출력\n",
    "                             save_best_only=True,  # 가장 best 값만 저장\n",
    "                             mode='auto'           \n",
    "                            )\n",
    "\n",
    "earlystopping = EarlyStopping(monitor='val_loss', # 모니터 기준 설정 (val loss) \n",
    "                              patience=5,         # 5회 Epoch동안 개선되지 않는다면 종료\n",
    "                             )\n",
    "\n",
    "start_time = datetime.now()\n",
    "\n",
    "hist = cnn.fit(x_train, y_train, \n",
    "               batch_size=32, epochs=30, \n",
    "               validation_data=(x_test, y_test),\n",
    "               callbacks=[checkpoint, earlystopping])\n",
    "\n",
    "end_time = datetime.now()\n",
    "\n",
    "print('elapsed time => ', end_time-start_time)"
   ]
  },
  {
   "cell_type": "code",
   "execution_count": 18,
   "metadata": {
    "colab": {
     "base_uri": "https://localhost:8080/"
    },
    "id": "TNQbhxp_yOU4",
    "outputId": "ec20811f-f8ca-45cc-f4f8-2899bff30fc9"
   },
   "outputs": [
    {
     "name": "stdout",
     "output_type": "stream",
     "text": [
      "246/246 [==============================] - 1s 5ms/step - loss: 0.0288 - accuracy: 0.9950\n"
     ]
    },
    {
     "data": {
      "text/plain": [
       "[0.02877272292971611, 0.995026171207428]"
      ]
     },
     "execution_count": 18,
     "metadata": {},
     "output_type": "execute_result"
    }
   ],
   "source": [
    "cnn.evaluate(x_test, y_test)"
   ]
  },
  {
   "cell_type": "code",
   "execution_count": 19,
   "metadata": {
    "id": "FIhDr-BmJjen"
   },
   "outputs": [],
   "source": [
    "best_model = tf.keras.models.load_model('./GTSRB_Native_Colab.h5')"
   ]
  },
  {
   "cell_type": "code",
   "execution_count": 20,
   "metadata": {
    "colab": {
     "base_uri": "https://localhost:8080/"
    },
    "id": "4uqfzd-qJxdX",
    "outputId": "672d8732-2e13-4f83-9d72-13995d9f65c6"
   },
   "outputs": [
    {
     "name": "stdout",
     "output_type": "stream",
     "text": [
      "246/246 [==============================] - 1s 5ms/step - loss: 0.0225 - accuracy: 0.9953\n"
     ]
    },
    {
     "data": {
      "text/plain": [
       "[0.022464601323008537, 0.9952812194824219]"
      ]
     },
     "execution_count": 20,
     "metadata": {},
     "output_type": "execute_result"
    }
   ],
   "source": [
    "best_model.evaluate(x_test, y_test)"
   ]
  },
  {
   "cell_type": "code",
   "execution_count": 21,
   "metadata": {
    "colab": {
     "base_uri": "https://localhost:8080/"
    },
    "id": "4u9Y23Hd7EQW",
    "outputId": "c511747f-c417-4c05-ee01-198831c9709f"
   },
   "outputs": [
    {
     "name": "stdout",
     "output_type": "stream",
     "text": [
      "(7841, 43)\n"
     ]
    }
   ],
   "source": [
    "y_pred = cnn.predict(x_test)\n",
    "\n",
    "print(y_pred.shape)"
   ]
  },
  {
   "cell_type": "code",
   "execution_count": 22,
   "metadata": {
    "colab": {
     "base_uri": "https://localhost:8080/",
     "height": 295
    },
    "id": "z7hIF36fyR6O",
    "outputId": "5296b758-8efe-40ab-cada-9bea24aae7b9"
   },
   "outputs": [
    {
     "data": {
      "image/png": "[encoded data removed]",
      "text/plain": [
       "<Figure size 432x288 with 1 Axes>"
      ]
     },
     "metadata": {
      "needs_background": "light"
     },
     "output_type": "display_data"
    }
   ],
   "source": [
    "import matplotlib.pyplot as plt\n",
    "\n",
    "plt.plot(hist.history['accuracy'], label='train')\n",
    "plt.plot(hist.history['val_accuracy'], label='validation')\n",
    "plt.title('Accuracy Trend')\n",
    "plt.ylabel('accuracy')\n",
    "plt.xlabel('epoch')\n",
    "plt.legend(loc='best')\n",
    "plt.grid()\n",
    "plt.show()"
   ]
  },
  {
   "cell_type": "code",
   "execution_count": 23,
   "metadata": {
    "colab": {
     "base_uri": "https://localhost:8080/",
     "height": 295
    },
    "id": "ikuZTLbMybAQ",
    "outputId": "49bb8b6e-5592-4efb-ff0e-6bbb65280df1"
   },
   "outputs": [
    {
     "data": {
      "image/png": "[encoded data removed]",
      "text/plain": [
       "<Figure size 432x288 with 1 Axes>"
      ]
     },
     "metadata": {
      "needs_background": "light"
     },
     "output_type": "display_data"
    }
   ],
   "source": [
    "plt.plot(hist.history['loss'], label='train')\n",
    "plt.plot(hist.history['val_loss'], label='validation')\n",
    "plt.title('Loss Trend')\n",
    "plt.ylabel('loss')\n",
    "plt.xlabel('epoch')\n",
    "plt.legend(loc='best')\n",
    "plt.grid()\n",
    "plt.show()"
   ]
  },
  {
   "cell_type": "code",
   "execution_count": null,
   "metadata": {
    "id": "PByUMR0n0Z8B"
   },
   "outputs": [],
   "source": []
  }
 ],
 "metadata": {
  "accelerator": "GPU",
  "colab": {
   "collapsed_sections": [],
   "name": "GTSRB_Project_Direct.ipynb",
   "provenance": []
  },
  "kernelspec": {
   "display_name": "Python 3",
   "language": "python",
   "name": "python3"
  },
  "language_info": {
   "codemirror_mode": {
    "name": "ipython",
    "version": 3
   },
   "file_extension": ".py",
   "mimetype": "text/x-python",
   "name": "python",
   "nbconvert_exporter": "python",
   "pygments_lexer": "ipython3",
   "version": "3.7.3"
  }
 },
 "nbformat": 4,
 "nbformat_minor": 1
}
