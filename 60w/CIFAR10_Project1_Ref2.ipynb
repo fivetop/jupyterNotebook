{
 "cells": [
  {
   "cell_type": "code",
   "execution_count": null,
   "metadata": {
    "id": "nWhPUUnPveS3"
   },
   "outputs": [],
   "source": [
    "import numpy as np\n",
    "import tensorflow as tf\n",
    "from tensorflow.keras.datasets import cifar10\n",
    "from tensorflow.keras.models import Sequential\n",
    "from tensorflow.keras.layers import Conv2D, MaxPool2D\n",
    "from tensorflow.keras.layers import Flatten, Dense, Dropout"
   ]
  },
  {
   "cell_type": "code",
   "execution_count": null,
   "metadata": {
    "colab": {
     "base_uri": "https://localhost:8080/"
    },
    "id": "Q4Xh-9FkvsKE",
    "outputId": "f2357a46-9c09-4890-df5c-4014e0e60b8d"
   },
   "outputs": [
    {
     "name": "stdout",
     "output_type": "stream",
     "text": [
      "Downloading data from https://www.cs.toronto.edu/~kriz/cifar-10-python.tar.gz\n",
      "170500096/170498071 [==============================] - 2s 0us/step\n",
      "(50000, 32, 32, 3) (10000, 32, 32, 3)\n",
      "(50000, 1) (10000, 1)\n"
     ]
    }
   ],
   "source": [
    "(x_train, y_train),(x_test, y_test) = cifar10.load_data()\n",
    "\n",
    "x_train=x_train.reshape(-1, 32, 32, 3)\n",
    "x_test=x_test.reshape(-1, 32, 32, 3)\n",
    "\n",
    "print(x_train.shape, x_test.shape)\n",
    "print(y_train.shape, y_test.shape)\n",
    "\n",
    "x_train = x_train.astype(np.float32) / 255.0\n",
    "x_test = x_test.astype(np.float32) / 255.0"
   ]
  },
  {
   "cell_type": "code",
   "execution_count": null,
   "metadata": {
    "id": "ISOTB0okwnAc"
   },
   "outputs": [],
   "source": [
    "cnn = Sequential()\n",
    "\n",
    "cnn.add(Conv2D(input_shape=(32,32,3), kernel_size=(3,3),\n",
    "               filters=32, activation='relu', padding='same'))\n",
    "cnn.add(Conv2D(kernel_size=(3,3), filters=32, activation='relu', padding='same'))\n",
    "cnn.add(MaxPool2D(pool_size=(2,2)))\n",
    "cnn.add(Dropout(0.25))\n",
    "\n",
    "cnn.add(Conv2D(kernel_size=(3,3), filters=64, activation='relu', padding='same'))\n",
    "cnn.add(Conv2D(kernel_size=(3,3), filters=64, activation='relu', padding='same'))\n",
    "cnn.add(MaxPool2D(pool_size=(2,2)))\n",
    "cnn.add(Dropout(0.25))\n",
    "\n",
    "cnn.add(Conv2D(kernel_size=(3,3), filters=128, activation='relu', padding='same'))\n",
    "cnn.add(MaxPool2D(pool_size=(2,2)))\n",
    "cnn.add(Dropout(0.25))\n",
    "\n",
    "cnn.add(Conv2D(kernel_size=(3,3), filters=256, activation='relu', padding='same'))\n",
    "cnn.add(MaxPool2D(pool_size=(2,2)))\n",
    "cnn.add(Dropout(0.25))\n",
    "\n",
    "cnn.add(Flatten())\n",
    "\n",
    "cnn.add(Dense(256, activation='relu'))\n",
    "cnn.add(Dropout(0.5))\n",
    "cnn.add(Dense(128, activation='relu'))\n",
    "cnn.add(Dropout(0.5))\n",
    "cnn.add(Dense(10, activation='softmax'))"
   ]
  },
  {
   "cell_type": "code",
   "execution_count": null,
   "metadata": {
    "colab": {
     "base_uri": "https://localhost:8080/"
    },
    "id": "ndPGvLsXx0XF",
    "outputId": "82f392ee-c08f-40f8-a372-8ece3af0a820"
   },
   "outputs": [
    {
     "name": "stdout",
     "output_type": "stream",
     "text": [
      "Model: \"sequential_2\"\n",
      "_________________________________________________________________\n",
      "Layer (type)                 Output Shape              Param #   \n",
      "=================================================================\n",
      "conv2d_12 (Conv2D)           (None, 32, 32, 32)        896       \n",
      "_________________________________________________________________\n",
      "conv2d_13 (Conv2D)           (None, 32, 32, 32)        9248      \n",
      "_________________________________________________________________\n",
      "max_pooling2d_8 (MaxPooling2 (None, 16, 16, 32)        0         \n",
      "_________________________________________________________________\n",
      "dropout_11 (Dropout)         (None, 16, 16, 32)        0         \n",
      "_________________________________________________________________\n",
      "conv2d_14 (Conv2D)           (None, 16, 16, 64)        18496     \n",
      "_________________________________________________________________\n",
      "conv2d_15 (Conv2D)           (None, 16, 16, 64)        36928     \n",
      "_________________________________________________________________\n",
      "max_pooling2d_9 (MaxPooling2 (None, 8, 8, 64)          0         \n",
      "_________________________________________________________________\n",
      "dropout_12 (Dropout)         (None, 8, 8, 64)          0         \n",
      "_________________________________________________________________\n",
      "conv2d_16 (Conv2D)           (None, 8, 8, 128)         73856     \n",
      "_________________________________________________________________\n",
      "max_pooling2d_10 (MaxPooling (None, 4, 4, 128)         0         \n",
      "_________________________________________________________________\n",
      "dropout_13 (Dropout)         (None, 4, 4, 128)         0         \n",
      "_________________________________________________________________\n",
      "conv2d_17 (Conv2D)           (None, 4, 4, 256)         295168    \n",
      "_________________________________________________________________\n",
      "max_pooling2d_11 (MaxPooling (None, 2, 2, 256)         0         \n",
      "_________________________________________________________________\n",
      "dropout_14 (Dropout)         (None, 2, 2, 256)         0         \n",
      "_________________________________________________________________\n",
      "flatten_2 (Flatten)          (None, 1024)              0         \n",
      "_________________________________________________________________\n",
      "dense_5 (Dense)              (None, 256)               262400    \n",
      "_________________________________________________________________\n",
      "dropout_15 (Dropout)         (None, 256)               0         \n",
      "_________________________________________________________________\n",
      "dense_6 (Dense)              (None, 128)               32896     \n",
      "_________________________________________________________________\n",
      "dropout_16 (Dropout)         (None, 128)               0         \n",
      "_________________________________________________________________\n",
      "dense_7 (Dense)              (None, 10)                1290      \n",
      "=================================================================\n",
      "Total params: 731,178\n",
      "Trainable params: 731,178\n",
      "Non-trainable params: 0\n",
      "_________________________________________________________________\n"
     ]
    }
   ],
   "source": [
    "cnn.compile(loss='sparse_categorical_crossentropy',\n",
    "            optimizer=tf.keras.optimizers.Adam(), metrics=['accuracy'])\n",
    "\n",
    "cnn.summary()"
   ]
  },
  {
   "cell_type": "code",
   "execution_count": null,
   "metadata": {
    "colab": {
     "base_uri": "https://localhost:8080/"
    },
    "id": "Rsq5HiT5yEA_",
    "outputId": "bcdbb14b-1186-4b2d-b665-664cd5a52068"
   },
   "outputs": [
    {
     "name": "stdout",
     "output_type": "stream",
     "text": [
      "Epoch 1/40\n",
      "391/391 [==============================] - 6s 14ms/step - loss: 1.9942 - accuracy: 0.2311 - val_loss: 1.5948 - val_accuracy: 0.4083\n",
      "Epoch 2/40\n",
      "391/391 [==============================] - 5s 13ms/step - loss: 1.5256 - accuracy: 0.4367 - val_loss: 1.4962 - val_accuracy: 0.4634\n",
      "Epoch 3/40\n",
      "391/391 [==============================] - 5s 14ms/step - loss: 1.3103 - accuracy: 0.5323 - val_loss: 1.1473 - val_accuracy: 0.5937\n",
      "Epoch 4/40\n",
      "391/391 [==============================] - 5s 14ms/step - loss: 1.1739 - accuracy: 0.5884 - val_loss: 1.0273 - val_accuracy: 0.6310\n",
      "Epoch 5/40\n",
      "391/391 [==============================] - 5s 14ms/step - loss: 1.0816 - accuracy: 0.6231 - val_loss: 0.9123 - val_accuracy: 0.6771\n",
      "Epoch 6/40\n",
      "391/391 [==============================] - 5s 13ms/step - loss: 1.0183 - accuracy: 0.6474 - val_loss: 0.8600 - val_accuracy: 0.6979\n",
      "Epoch 7/40\n",
      "391/391 [==============================] - 5s 13ms/step - loss: 0.9551 - accuracy: 0.6683 - val_loss: 0.8103 - val_accuracy: 0.7169\n",
      "Epoch 8/40\n",
      "391/391 [==============================] - 5s 13ms/step - loss: 0.9076 - accuracy: 0.6908 - val_loss: 0.8251 - val_accuracy: 0.7129\n",
      "Epoch 9/40\n",
      "391/391 [==============================] - 5s 13ms/step - loss: 0.8677 - accuracy: 0.7028 - val_loss: 0.7756 - val_accuracy: 0.7360\n",
      "Epoch 10/40\n",
      "391/391 [==============================] - 5s 13ms/step - loss: 0.8386 - accuracy: 0.7149 - val_loss: 0.7337 - val_accuracy: 0.7507\n",
      "Epoch 11/40\n",
      "391/391 [==============================] - 5s 13ms/step - loss: 0.8030 - accuracy: 0.7257 - val_loss: 0.6924 - val_accuracy: 0.7651\n",
      "Epoch 12/40\n",
      "391/391 [==============================] - 5s 13ms/step - loss: 0.7688 - accuracy: 0.7391 - val_loss: 0.7050 - val_accuracy: 0.7621\n",
      "Epoch 13/40\n",
      "391/391 [==============================] - 5s 13ms/step - loss: 0.7528 - accuracy: 0.7441 - val_loss: 0.6657 - val_accuracy: 0.7675\n",
      "Epoch 14/40\n",
      "391/391 [==============================] - 5s 13ms/step - loss: 0.7316 - accuracy: 0.7521 - val_loss: 0.6608 - val_accuracy: 0.7733\n",
      "Epoch 15/40\n",
      "391/391 [==============================] - 5s 13ms/step - loss: 0.7183 - accuracy: 0.7549 - val_loss: 0.7105 - val_accuracy: 0.7622\n",
      "Epoch 16/40\n",
      "391/391 [==============================] - 5s 13ms/step - loss: 0.7066 - accuracy: 0.7593 - val_loss: 0.6370 - val_accuracy: 0.7835\n",
      "Epoch 17/40\n",
      "391/391 [==============================] - 5s 13ms/step - loss: 0.6978 - accuracy: 0.7626 - val_loss: 0.6653 - val_accuracy: 0.7788\n",
      "Epoch 18/40\n",
      "391/391 [==============================] - 5s 13ms/step - loss: 0.6757 - accuracy: 0.7734 - val_loss: 0.6106 - val_accuracy: 0.7924\n",
      "Epoch 19/40\n",
      "391/391 [==============================] - 5s 13ms/step - loss: 0.6680 - accuracy: 0.7724 - val_loss: 0.6501 - val_accuracy: 0.7791\n",
      "Epoch 20/40\n",
      "391/391 [==============================] - 5s 13ms/step - loss: 0.6510 - accuracy: 0.7806 - val_loss: 0.6185 - val_accuracy: 0.7903\n",
      "Epoch 21/40\n",
      "391/391 [==============================] - 5s 13ms/step - loss: 0.6399 - accuracy: 0.7829 - val_loss: 0.6221 - val_accuracy: 0.7895\n",
      "Epoch 22/40\n",
      "391/391 [==============================] - 5s 13ms/step - loss: 0.6355 - accuracy: 0.7849 - val_loss: 0.6194 - val_accuracy: 0.7910\n",
      "Epoch 23/40\n",
      "391/391 [==============================] - 5s 13ms/step - loss: 0.6297 - accuracy: 0.7875 - val_loss: 0.5981 - val_accuracy: 0.7975\n",
      "Epoch 24/40\n",
      "391/391 [==============================] - 5s 13ms/step - loss: 0.6112 - accuracy: 0.7930 - val_loss: 0.6208 - val_accuracy: 0.7898\n",
      "Epoch 25/40\n",
      "391/391 [==============================] - 5s 13ms/step - loss: 0.6152 - accuracy: 0.7903 - val_loss: 0.5966 - val_accuracy: 0.7976\n",
      "Epoch 26/40\n",
      "391/391 [==============================] - 5s 13ms/step - loss: 0.6017 - accuracy: 0.7966 - val_loss: 0.5821 - val_accuracy: 0.8045\n",
      "Epoch 27/40\n",
      "391/391 [==============================] - 5s 13ms/step - loss: 0.5972 - accuracy: 0.8006 - val_loss: 0.5851 - val_accuracy: 0.8048\n",
      "Epoch 28/40\n",
      "391/391 [==============================] - 5s 13ms/step - loss: 0.5937 - accuracy: 0.8012 - val_loss: 0.5872 - val_accuracy: 0.8016\n",
      "Epoch 29/40\n",
      "391/391 [==============================] - 5s 13ms/step - loss: 0.5927 - accuracy: 0.8001 - val_loss: 0.5824 - val_accuracy: 0.8034\n",
      "Epoch 30/40\n",
      "391/391 [==============================] - 5s 13ms/step - loss: 0.5822 - accuracy: 0.8029 - val_loss: 0.6232 - val_accuracy: 0.7900\n",
      "Epoch 31/40\n",
      "391/391 [==============================] - 5s 13ms/step - loss: 0.5907 - accuracy: 0.8019 - val_loss: 0.5645 - val_accuracy: 0.8128\n",
      "Epoch 32/40\n",
      "391/391 [==============================] - 5s 14ms/step - loss: 0.5682 - accuracy: 0.8080 - val_loss: 0.6063 - val_accuracy: 0.8006\n",
      "Epoch 33/40\n",
      "391/391 [==============================] - 5s 13ms/step - loss: 0.5652 - accuracy: 0.8116 - val_loss: 0.5762 - val_accuracy: 0.8095\n",
      "Epoch 34/40\n",
      "391/391 [==============================] - 5s 14ms/step - loss: 0.5650 - accuracy: 0.8122 - val_loss: 0.5713 - val_accuracy: 0.8105\n",
      "Epoch 35/40\n",
      "391/391 [==============================] - 5s 14ms/step - loss: 0.5505 - accuracy: 0.8168 - val_loss: 0.5985 - val_accuracy: 0.8015\n",
      "Epoch 36/40\n",
      "391/391 [==============================] - 5s 13ms/step - loss: 0.5506 - accuracy: 0.8167 - val_loss: 0.5790 - val_accuracy: 0.8148\n",
      "Epoch 37/40\n",
      "391/391 [==============================] - 5s 13ms/step - loss: 0.5522 - accuracy: 0.8161 - val_loss: 0.5629 - val_accuracy: 0.8135\n",
      "Epoch 38/40\n",
      "391/391 [==============================] - 5s 13ms/step - loss: 0.5430 - accuracy: 0.8204 - val_loss: 0.5998 - val_accuracy: 0.8030\n",
      "Epoch 39/40\n",
      "391/391 [==============================] - 5s 13ms/step - loss: 0.5465 - accuracy: 0.8164 - val_loss: 0.5844 - val_accuracy: 0.8059\n",
      "Epoch 40/40\n",
      "391/391 [==============================] - 5s 13ms/step - loss: 0.5327 - accuracy: 0.8213 - val_loss: 0.5518 - val_accuracy: 0.8179\n",
      "elapsed time =>  0:03:30.527334\n"
     ]
    }
   ],
   "source": [
    "from datetime import datetime\n",
    "\n",
    "start_time = datetime.now()\n",
    "\n",
    "hist = cnn.fit(x_train, y_train, batch_size=128, \n",
    "               epochs=40, validation_data=(x_test, y_test))\n",
    "\n",
    "end_time = datetime.now()\n",
    "\n",
    "print('elapsed time => ', end_time-start_time)"
   ]
  },
  {
   "cell_type": "code",
   "execution_count": null,
   "metadata": {
    "colab": {
     "base_uri": "https://localhost:8080/"
    },
    "id": "TNQbhxp_yOU4",
    "outputId": "6ee86724-ac51-4075-dc8c-7c61eec075a6"
   },
   "outputs": [
    {
     "name": "stdout",
     "output_type": "stream",
     "text": [
      "313/313 [==============================] - 1s 3ms/step - loss: 0.5518 - accuracy: 0.8179\n"
     ]
    },
    {
     "data": {
      "text/plain": [
       "[0.5518355965614319, 0.8179000020027161]"
      ]
     },
     "execution_count": 16,
     "metadata": {
      "tags": []
     },
     "output_type": "execute_result"
    }
   ],
   "source": [
    "cnn.evaluate(x_test, y_test)"
   ]
  },
  {
   "cell_type": "code",
   "execution_count": null,
   "metadata": {
    "colab": {
     "base_uri": "https://localhost:8080/",
     "height": 295
    },
    "id": "z7hIF36fyR6O",
    "outputId": "5f0c871a-693d-40f8-8a24-4aedf856331a"
   },
   "outputs": [
    {
     "data": {
      "image/png": "[encoded data removed]",
      "text/plain": [
       "<Figure size 432x288 with 1 Axes>"
      ]
     },
     "metadata": {
      "needs_background": "light",
      "tags": []
     },
     "output_type": "display_data"
    }
   ],
   "source": [
    "import matplotlib.pyplot as plt\n",
    "\n",
    "plt.plot(hist.history['accuracy'])\n",
    "plt.plot(hist.history['val_accuracy'])\n",
    "plt.title('Accuracy Trend')\n",
    "plt.ylabel('accuracy')\n",
    "plt.xlabel('epoch')\n",
    "plt.legend(['train','validation'], loc='best')\n",
    "plt.grid()\n",
    "plt.show()"
   ]
  },
  {
   "cell_type": "code",
   "execution_count": null,
   "metadata": {
    "colab": {
     "base_uri": "https://localhost:8080/",
     "height": 295
    },
    "id": "ikuZTLbMybAQ",
    "outputId": "24b64c9e-d0a0-455c-c84d-daaa56de0884"
   },
   "outputs": [
    {
     "data": {
      "image/png": "[encoded data removed]",
      "text/plain": [
       "<Figure size 432x288 with 1 Axes>"
      ]
     },
     "metadata": {
      "needs_background": "light",
      "tags": []
     },
     "output_type": "display_data"
    }
   ],
   "source": [
    "plt.plot(hist.history['loss'])\n",
    "plt.plot(hist.history['val_loss'])\n",
    "plt.title('Loss Trend')\n",
    "plt.ylabel('loss')\n",
    "plt.xlabel('epoch')\n",
    "plt.legend(['train','validation'], loc='best')\n",
    "plt.grid()\n",
    "plt.show()"
   ]
  },
  {
   "cell_type": "code",
   "execution_count": null,
   "metadata": {
    "colab": {
     "base_uri": "https://localhost:8080/"
    },
    "id": "PByUMR0n0Z8B",
    "outputId": "7a7ba413-9ace-4571-ba66-75da5c4fb3e5"
   },
   "outputs": [
    {
     "name": "stdout",
     "output_type": "stream",
     "text": [
      "Done !!!\n"
     ]
    }
   ],
   "source": [
    "# 모델 저장\n",
    "\n",
    "try:\n",
    "    cnn.save('./cifar10_accuracy_82v1.h5')\n",
    "    print('Done !!!')\n",
    "\n",
    "except Exception as err:\n",
    "\n",
    "    print(str(err))"
   ]
  },
  {
   "cell_type": "code",
   "execution_count": null,
   "metadata": {
    "id": "Lv6aur79Ky2L"
   },
   "outputs": [],
   "source": []
  }
 ],
 "metadata": {
  "accelerator": "GPU",
  "colab": {
   "collapsed_sections": [],
   "name": "TF_2_x_CNN_Example_9_CCPCCPCPCP_same.ipynb",
   "provenance": []
  },
  "kernelspec": {
   "display_name": "Python 3 (ipykernel)",
   "language": "python",
   "name": "python3"
  },
  "language_info": {
   "codemirror_mode": {
    "name": "ipython",
    "version": 3
   },
   "file_extension": ".py",
   "mimetype": "text/x-python",
   "name": "python",
   "nbconvert_exporter": "python",
   "pygments_lexer": "ipython3",
   "version": "3.9.12"
  }
 },
 "nbformat": 4,
 "nbformat_minor": 1
}
