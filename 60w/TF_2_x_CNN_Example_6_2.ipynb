{
  "nbformat": 4,
  "nbformat_minor": 0,
  "metadata": {
    "colab": {
      "name": "TF_2_x_CNN_Example_6_1.ipynb",
      "provenance": [],
      "collapsed_sections": []
    },
    "kernelspec": {
      "name": "python3",
      "display_name": "Python 3"
    },
    "accelerator": "GPU"
  },
  "cells": [
    {
      "cell_type": "code",
      "metadata": {
        "id": "Mz7L7JQA0zBd"
      },
      "source": [
        "import tensorflow as tf\n",
        "\n",
        "from tensorflow.keras.layers import Flatten, Dense, Conv2D, MaxPooling2D, Dropout\n",
        "from tensorflow.keras.models import Sequential\n",
        "from tensorflow.keras.optimizers import Adam\n",
        "from tensorflow.keras.datasets import mnist\n",
        "\n",
        "import numpy as np\n",
        "from datetime import datetime\n",
        "import matplotlib.pyplot as plt"
      ],
      "execution_count": 1,
      "outputs": []
    },
    {
      "cell_type": "code",
      "metadata": {
        "id": "hWSWQdg61_pp",
        "colab": {
          "base_uri": "https://localhost:8080/"
        },
        "outputId": "1fc7169b-b8f4-4518-f007-c32abd0ba9f1"
      },
      "source": [
        "(x_train, t_train), (x_test, t_test) = mnist.load_data()\n",
        "\n",
        "x_train = x_train / 255.0\n",
        "x_test = x_test / 255.0\n",
        "\n",
        "print('x_train.shape = ', x_train.shape, ' , x_test.shape = ', x_test.shape)\n",
        "print('t_train.shape = ', t_train.shape, ' , t_test.shape = ', t_test.shape)"
      ],
      "execution_count": 2,
      "outputs": [
        {
          "output_type": "stream",
          "text": [
            "x_train.shape =  (60000, 28, 28)  , x_test.shape =  (10000, 28, 28)\n",
            "t_train.shape =  (60000,)  , t_test.shape =  (10000,)\n"
          ],
          "name": "stdout"
        }
      ]
    },
    {
      "cell_type": "code",
      "metadata": {
        "id": "8dvRVX7M_0dY",
        "colab": {
          "base_uri": "https://localhost:8080/",
          "height": 589
        },
        "outputId": "ddb41f40-4907-4527-d394-2c3bc0103931"
      },
      "source": [
        "# 데이터 출력\n",
        "\n",
        "plt.figure(figsize=(10,10))\n",
        "\n",
        "for index in range(25):\n",
        "\n",
        "    plt.subplot(5, 5, index+1)\n",
        "    plt.xticks([])\n",
        "    plt.yticks([])\n",
        "    plt.grid(False)\n",
        "    plt.imshow(x_train[index], cmap='gray')\n",
        "    plt.xlabel(str(t_train[index]))\n",
        "\n",
        "plt.show()"
      ],
      "execution_count": 3,
      "outputs": [
        {
          "output_type": "display_data",
          "data": {
            "image/png": "[encoded data removed]",
            "text/plain": [
              "<Figure size 720x720 with 25 Axes>"
            ]
          },
          "metadata": {
            "tags": []
          }
        }
      ]
    },
    {
      "cell_type": "code",
      "metadata": {
        "id": "Co2BypUKU7IX"
      },
      "source": [
        "x_train = x_train.reshape(-1, 28, 28, 1)\n",
        "x_test = x_test.reshape(-1, 28, 28, 1)"
      ],
      "execution_count": 4,
      "outputs": []
    },
    {
      "cell_type": "code",
      "metadata": {
        "id": "TyTj4TLi3L2Q"
      },
      "source": [
        "model = Sequential()\n",
        "\n",
        "model.add(Conv2D(input_shape=(28,28,1), kernel_size=5, filters=32, strides=(1,1), activation='relu', use_bias=True, padding='SAME'))\n",
        "model.add(MaxPooling2D(pool_size=(2,2), padding='SAME'))\n",
        "model.add(Dropout(0.5))\n",
        "\n",
        "model.add(Conv2D(kernel_size=5, filters=64, strides=(1,1), activation='relu', use_bias=True, padding='SAME'))\n",
        "model.add(MaxPooling2D(pool_size=(2,2), padding='SAME'))\n",
        "model.add(Dropout(0.5))\n",
        "\n",
        "model.add(Flatten())\n",
        "\n",
        "# 512 개 노드 가지는 Dense\n",
        "model.add(Dense(128, activation='relu'))\n",
        "model.add(Dropout(0.5))\n",
        "\n",
        "# 출력층\n",
        "model.add(Dense(10, activation='softmax'))"
      ],
      "execution_count": 13,
      "outputs": []
    },
    {
      "cell_type": "code",
      "metadata": {
        "id": "PRkYkMr6Dk1H"
      },
      "source": [
        "# model compile\n",
        "# one hot encoding 방식이 아니기 때문에, loss=sparse_categorical_crossentropy 정의\n",
        "\n",
        "model.compile(optimizer=Adam(), loss='sparse_categorical_crossentropy', metrics=['accuracy'])"
      ],
      "execution_count": 14,
      "outputs": []
    },
    {
      "cell_type": "code",
      "metadata": {
        "id": "EB7zqH_H5MTO",
        "colab": {
          "base_uri": "https://localhost:8080/"
        },
        "outputId": "533a9814-8669-4e8f-db11-e2649264e43c"
      },
      "source": [
        "model.summary()"
      ],
      "execution_count": 15,
      "outputs": [
        {
          "output_type": "stream",
          "text": [
            "Model: \"sequential_1\"\n",
            "_________________________________________________________________\n",
            "Layer (type)                 Output Shape              Param #   \n",
            "=================================================================\n",
            "conv2d_1 (Conv2D)            (None, 28, 28, 32)        832       \n",
            "_________________________________________________________________\n",
            "max_pooling2d_1 (MaxPooling2 (None, 14, 14, 32)        0         \n",
            "_________________________________________________________________\n",
            "dropout (Dropout)            (None, 14, 14, 32)        0         \n",
            "_________________________________________________________________\n",
            "conv2d_2 (Conv2D)            (None, 14, 14, 64)        51264     \n",
            "_________________________________________________________________\n",
            "max_pooling2d_2 (MaxPooling2 (None, 7, 7, 64)          0         \n",
            "_________________________________________________________________\n",
            "dropout_1 (Dropout)          (None, 7, 7, 64)          0         \n",
            "_________________________________________________________________\n",
            "flatten_1 (Flatten)          (None, 3136)              0         \n",
            "_________________________________________________________________\n",
            "dense_2 (Dense)              (None, 128)               401536    \n",
            "_________________________________________________________________\n",
            "dropout_2 (Dropout)          (None, 128)               0         \n",
            "_________________________________________________________________\n",
            "dense_3 (Dense)              (None, 10)                1290      \n",
            "=================================================================\n",
            "Total params: 454,922\n",
            "Trainable params: 454,922\n",
            "Non-trainable params: 0\n",
            "_________________________________________________________________\n"
          ],
          "name": "stdout"
        }
      ]
    },
    {
      "cell_type": "code",
      "metadata": {
        "id": "lWC9NA-G5vvz",
        "colab": {
          "base_uri": "https://localhost:8080/"
        },
        "outputId": "5c64a996-915a-46c6-d719-3a94c3bc154c"
      },
      "source": [
        "start_time = datetime.now()\n",
        "\n",
        "hist = model.fit(x_train, t_train, batch_size=50, epochs=50, validation_data=(x_test, t_test))\n",
        "\n",
        "end_time = datetime.now()\n",
        "\n",
        "print('\\n\\nElapsed Time => ', end_time - start_time)"
      ],
      "execution_count": 16,
      "outputs": [
        {
          "output_type": "stream",
          "text": [
            "Epoch 1/50\n",
            "1200/1200 [==============================] - 5s 4ms/step - loss: 0.2900 - accuracy: 0.9086 - val_loss: 0.0584 - val_accuracy: 0.9810\n",
            "Epoch 2/50\n",
            "1200/1200 [==============================] - 4s 3ms/step - loss: 0.1170 - accuracy: 0.9651 - val_loss: 0.0358 - val_accuracy: 0.9883\n",
            "Epoch 3/50\n",
            "1200/1200 [==============================] - 4s 3ms/step - loss: 0.0878 - accuracy: 0.9740 - val_loss: 0.0294 - val_accuracy: 0.9906\n",
            "Epoch 4/50\n",
            "1200/1200 [==============================] - 4s 3ms/step - loss: 0.0772 - accuracy: 0.9766 - val_loss: 0.0276 - val_accuracy: 0.9912\n",
            "Epoch 5/50\n",
            "1200/1200 [==============================] - 4s 3ms/step - loss: 0.0699 - accuracy: 0.9791 - val_loss: 0.0263 - val_accuracy: 0.9918\n",
            "Epoch 6/50\n",
            "1200/1200 [==============================] - 4s 3ms/step - loss: 0.0637 - accuracy: 0.9804 - val_loss: 0.0219 - val_accuracy: 0.9925\n",
            "Epoch 7/50\n",
            "1200/1200 [==============================] - 4s 4ms/step - loss: 0.0635 - accuracy: 0.9810 - val_loss: 0.0229 - val_accuracy: 0.9917\n",
            "Epoch 8/50\n",
            "1200/1200 [==============================] - 4s 3ms/step - loss: 0.0606 - accuracy: 0.9825 - val_loss: 0.0197 - val_accuracy: 0.9933\n",
            "Epoch 9/50\n",
            "1200/1200 [==============================] - 4s 3ms/step - loss: 0.0556 - accuracy: 0.9832 - val_loss: 0.0192 - val_accuracy: 0.9932\n",
            "Epoch 10/50\n",
            "1200/1200 [==============================] - 4s 3ms/step - loss: 0.0552 - accuracy: 0.9837 - val_loss: 0.0187 - val_accuracy: 0.9936\n",
            "Epoch 11/50\n",
            "1200/1200 [==============================] - 4s 3ms/step - loss: 0.0534 - accuracy: 0.9835 - val_loss: 0.0206 - val_accuracy: 0.9930\n",
            "Epoch 12/50\n",
            "1200/1200 [==============================] - 4s 3ms/step - loss: 0.0506 - accuracy: 0.9846 - val_loss: 0.0205 - val_accuracy: 0.9934\n",
            "Epoch 13/50\n",
            "1200/1200 [==============================] - 4s 3ms/step - loss: 0.0497 - accuracy: 0.9852 - val_loss: 0.0177 - val_accuracy: 0.9942\n",
            "Epoch 14/50\n",
            "1200/1200 [==============================] - 4s 4ms/step - loss: 0.0495 - accuracy: 0.9853 - val_loss: 0.0207 - val_accuracy: 0.9930\n",
            "Epoch 15/50\n",
            "1200/1200 [==============================] - 4s 3ms/step - loss: 0.0484 - accuracy: 0.9857 - val_loss: 0.0206 - val_accuracy: 0.9931\n",
            "Epoch 16/50\n",
            "1200/1200 [==============================] - 4s 3ms/step - loss: 0.0465 - accuracy: 0.9860 - val_loss: 0.0184 - val_accuracy: 0.9938\n",
            "Epoch 17/50\n",
            "1200/1200 [==============================] - 4s 3ms/step - loss: 0.0475 - accuracy: 0.9863 - val_loss: 0.0178 - val_accuracy: 0.9944\n",
            "Epoch 18/50\n",
            "1200/1200 [==============================] - 4s 3ms/step - loss: 0.0474 - accuracy: 0.9862 - val_loss: 0.0195 - val_accuracy: 0.9939\n",
            "Epoch 19/50\n",
            "1200/1200 [==============================] - 4s 3ms/step - loss: 0.0457 - accuracy: 0.9858 - val_loss: 0.0178 - val_accuracy: 0.9942\n",
            "Epoch 20/50\n",
            "1200/1200 [==============================] - 4s 3ms/step - loss: 0.0451 - accuracy: 0.9864 - val_loss: 0.0181 - val_accuracy: 0.9939\n",
            "Epoch 21/50\n",
            "1200/1200 [==============================] - 4s 3ms/step - loss: 0.0459 - accuracy: 0.9866 - val_loss: 0.0181 - val_accuracy: 0.9941\n",
            "Epoch 22/50\n",
            "1200/1200 [==============================] - 4s 3ms/step - loss: 0.0449 - accuracy: 0.9869 - val_loss: 0.0173 - val_accuracy: 0.9944\n",
            "Epoch 23/50\n",
            "1200/1200 [==============================] - 4s 3ms/step - loss: 0.0454 - accuracy: 0.9861 - val_loss: 0.0192 - val_accuracy: 0.9936\n",
            "Epoch 24/50\n",
            "1200/1200 [==============================] - 4s 3ms/step - loss: 0.0445 - accuracy: 0.9868 - val_loss: 0.0178 - val_accuracy: 0.9945\n",
            "Epoch 25/50\n",
            "1200/1200 [==============================] - 4s 3ms/step - loss: 0.0424 - accuracy: 0.9869 - val_loss: 0.0174 - val_accuracy: 0.9944\n",
            "Epoch 26/50\n",
            "1200/1200 [==============================] - 4s 3ms/step - loss: 0.0437 - accuracy: 0.9875 - val_loss: 0.0151 - val_accuracy: 0.9947\n",
            "Epoch 27/50\n",
            "1200/1200 [==============================] - 4s 3ms/step - loss: 0.0428 - accuracy: 0.9872 - val_loss: 0.0164 - val_accuracy: 0.9948\n",
            "Epoch 28/50\n",
            "1200/1200 [==============================] - 4s 3ms/step - loss: 0.0413 - accuracy: 0.9876 - val_loss: 0.0163 - val_accuracy: 0.9950\n",
            "Epoch 29/50\n",
            "1200/1200 [==============================] - 4s 3ms/step - loss: 0.0417 - accuracy: 0.9875 - val_loss: 0.0155 - val_accuracy: 0.9951\n",
            "Epoch 30/50\n",
            "1200/1200 [==============================] - 4s 4ms/step - loss: 0.0399 - accuracy: 0.9883 - val_loss: 0.0163 - val_accuracy: 0.9952\n",
            "Epoch 31/50\n",
            "1200/1200 [==============================] - 4s 3ms/step - loss: 0.0414 - accuracy: 0.9882 - val_loss: 0.0147 - val_accuracy: 0.9954\n",
            "Epoch 32/50\n",
            "1200/1200 [==============================] - 4s 3ms/step - loss: 0.0395 - accuracy: 0.9878 - val_loss: 0.0199 - val_accuracy: 0.9937\n",
            "Epoch 33/50\n",
            "1200/1200 [==============================] - 4s 3ms/step - loss: 0.0412 - accuracy: 0.9880 - val_loss: 0.0159 - val_accuracy: 0.9954\n",
            "Epoch 34/50\n",
            "1200/1200 [==============================] - 4s 3ms/step - loss: 0.0381 - accuracy: 0.9885 - val_loss: 0.0180 - val_accuracy: 0.9948\n",
            "Epoch 35/50\n",
            "1200/1200 [==============================] - 4s 3ms/step - loss: 0.0398 - accuracy: 0.9879 - val_loss: 0.0170 - val_accuracy: 0.9956\n",
            "Epoch 36/50\n",
            "1200/1200 [==============================] - 4s 3ms/step - loss: 0.0385 - accuracy: 0.9884 - val_loss: 0.0154 - val_accuracy: 0.9951\n",
            "Epoch 37/50\n",
            "1200/1200 [==============================] - 4s 3ms/step - loss: 0.0379 - accuracy: 0.9884 - val_loss: 0.0164 - val_accuracy: 0.9951\n",
            "Epoch 38/50\n",
            "1200/1200 [==============================] - 4s 3ms/step - loss: 0.0392 - accuracy: 0.9879 - val_loss: 0.0157 - val_accuracy: 0.9956\n",
            "Epoch 39/50\n",
            "1200/1200 [==============================] - 4s 3ms/step - loss: 0.0395 - accuracy: 0.9887 - val_loss: 0.0176 - val_accuracy: 0.9945\n",
            "Epoch 40/50\n",
            "1200/1200 [==============================] - 4s 3ms/step - loss: 0.0374 - accuracy: 0.9887 - val_loss: 0.0174 - val_accuracy: 0.9953\n",
            "Epoch 41/50\n",
            "1200/1200 [==============================] - 4s 3ms/step - loss: 0.0389 - accuracy: 0.9890 - val_loss: 0.0181 - val_accuracy: 0.9948\n",
            "Epoch 42/50\n",
            "1200/1200 [==============================] - 4s 3ms/step - loss: 0.0377 - accuracy: 0.9887 - val_loss: 0.0159 - val_accuracy: 0.9954\n",
            "Epoch 43/50\n",
            "1200/1200 [==============================] - 4s 3ms/step - loss: 0.0383 - accuracy: 0.9885 - val_loss: 0.0171 - val_accuracy: 0.9951\n",
            "Epoch 44/50\n",
            "1200/1200 [==============================] - 4s 3ms/step - loss: 0.0372 - accuracy: 0.9891 - val_loss: 0.0209 - val_accuracy: 0.9937\n",
            "Epoch 45/50\n",
            "1200/1200 [==============================] - 4s 3ms/step - loss: 0.0368 - accuracy: 0.9896 - val_loss: 0.0161 - val_accuracy: 0.9958\n",
            "Epoch 46/50\n",
            "1200/1200 [==============================] - 4s 4ms/step - loss: 0.0369 - accuracy: 0.9891 - val_loss: 0.0159 - val_accuracy: 0.9951\n",
            "Epoch 47/50\n",
            "1200/1200 [==============================] - 4s 4ms/step - loss: 0.0368 - accuracy: 0.9895 - val_loss: 0.0196 - val_accuracy: 0.9940\n",
            "Epoch 48/50\n",
            "1200/1200 [==============================] - 4s 4ms/step - loss: 0.0371 - accuracy: 0.9888 - val_loss: 0.0172 - val_accuracy: 0.9946\n",
            "Epoch 49/50\n",
            "1200/1200 [==============================] - 4s 4ms/step - loss: 0.0374 - accuracy: 0.9894 - val_loss: 0.0200 - val_accuracy: 0.9931\n",
            "Epoch 50/50\n",
            "1200/1200 [==============================] - 4s 3ms/step - loss: 0.0373 - accuracy: 0.9889 - val_loss: 0.0183 - val_accuracy: 0.9957\n",
            "\n",
            "\n",
            "Elapsed Time =>  0:04:22.501737\n"
          ],
          "name": "stdout"
        }
      ]
    },
    {
      "cell_type": "code",
      "metadata": {
        "id": "2C2fV-8K6XsU",
        "colab": {
          "base_uri": "https://localhost:8080/"
        },
        "outputId": "7248299c-a1da-4fe1-8db5-5dd5b33c6c4d"
      },
      "source": [
        "# x_test 도 마찬가지로 데이터를 4차원으로 reshape 으로 변환 해주지 않으면 error\n",
        "\n",
        "model.evaluate(x_test, t_test)"
      ],
      "execution_count": 17,
      "outputs": [
        {
          "output_type": "stream",
          "text": [
            "313/313 [==============================] - 1s 3ms/step - loss: 0.0183 - accuracy: 0.9957\n"
          ],
          "name": "stdout"
        },
        {
          "output_type": "execute_result",
          "data": {
            "text/plain": [
              "[0.01830989122390747, 0.9957000017166138]"
            ]
          },
          "metadata": {
            "tags": []
          },
          "execution_count": 17
        }
      ]
    },
    {
      "cell_type": "code",
      "metadata": {
        "id": "FCjG4NVosOkD",
        "colab": {
          "base_uri": "https://localhost:8080/",
          "height": 295
        },
        "outputId": "d2919689-3a02-4ac5-a93a-f3feee5fddb6"
      },
      "source": [
        "import matplotlib.pyplot as plt\n",
        "\n",
        "plt.plot(hist.history['accuracy'])\n",
        "plt.plot(hist.history['val_accuracy'])\n",
        "plt.title('Accuracy Trend')\n",
        "plt.ylabel('accuracy')\n",
        "plt.xlabel('epoch')\n",
        "plt.legend(['train','validation'], loc='best')\n",
        "plt.grid()\n",
        "plt.show()"
      ],
      "execution_count": 18,
      "outputs": [
        {
          "output_type": "display_data",
          "data": {
            "image/png": "[encoded data removed]",
            "text/plain": [
              "<Figure size 432x288 with 1 Axes>"
            ]
          },
          "metadata": {
            "tags": [],
            "needs_background": "light"
          }
        }
      ]
    },
    {
      "cell_type": "code",
      "metadata": {
        "colab": {
          "base_uri": "https://localhost:8080/",
          "height": 295
        },
        "id": "x6A2KJJ6VtPC",
        "outputId": "18eb7bee-3cc2-4684-c88a-88feb5148671"
      },
      "source": [
        "plt.plot(hist.history['loss'])\n",
        "plt.plot(hist.history['val_loss'])\n",
        "plt.title('Loss Trend')\n",
        "plt.ylabel('loss')\n",
        "plt.xlabel('epoch')\n",
        "plt.legend(['train','validation'], loc='best')\n",
        "plt.grid()\n",
        "plt.show()"
      ],
      "execution_count": 19,
      "outputs": [
        {
          "output_type": "display_data",
          "data": {
            "image/png": "[encoded data removed]",
            "text/plain": [
              "<Figure size 432x288 with 1 Axes>"
            ]
          },
          "metadata": {
            "tags": [],
            "needs_background": "light"
          }
        }
      ]
    },
    {
      "cell_type": "code",
      "metadata": {
        "id": "W_0yMH2rXtx8"
      },
      "source": [
        ""
      ],
      "execution_count": null,
      "outputs": []
    }
  ]
}