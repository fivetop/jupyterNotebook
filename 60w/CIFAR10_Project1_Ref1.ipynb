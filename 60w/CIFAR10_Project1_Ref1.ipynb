{
 "cells": [
  {
   "cell_type": "code",
   "execution_count": 1,
   "metadata": {
    "id": "nWhPUUnPveS3"
   },
   "outputs": [],
   "source": [
    "import numpy as np\n",
    "import tensorflow as tf\n",
    "from tensorflow.keras.datasets import cifar10\n",
    "from tensorflow.keras.models import Sequential\n",
    "from tensorflow.keras.layers import Conv2D, MaxPool2D\n",
    "from tensorflow.keras.layers import Flatten, Dense, Dropout"
   ]
  },
  {
   "cell_type": "code",
   "execution_count": 2,
   "metadata": {
    "colab": {
     "base_uri": "https://localhost:8080/"
    },
    "id": "Q4Xh-9FkvsKE",
    "outputId": "44d9536b-75e8-4880-94a3-bb276b427b27"
   },
   "outputs": [
    {
     "name": "stdout",
     "output_type": "stream",
     "text": [
      "Downloading data from https://www.cs.toronto.edu/~kriz/cifar-10-python.tar.gz\n",
      "170500096/170498071 [==============================] - 6s 0us/step\n",
      "(50000, 32, 32, 3) (10000, 32, 32, 3)\n",
      "(50000, 1) (10000, 1)\n"
     ]
    }
   ],
   "source": [
    "(x_train, y_train),(x_test, y_test) = cifar10.load_data()\n",
    "\n",
    "x_train=x_train.reshape(-1, 32, 32, 3)\n",
    "x_test=x_test.reshape(-1, 32, 32, 3)\n",
    "\n",
    "print(x_train.shape, x_test.shape)\n",
    "print(y_train.shape, y_test.shape)\n",
    "\n",
    "x_train = x_train.astype(np.float32) / 255.0\n",
    "x_test = x_test.astype(np.float32) / 255.0"
   ]
  },
  {
   "cell_type": "code",
   "execution_count": 12,
   "metadata": {
    "id": "ISOTB0okwnAc"
   },
   "outputs": [],
   "source": [
    "cnn = Sequential()\n",
    "\n",
    "cnn.add(Conv2D(input_shape=(32,32,3), kernel_size=(3,3),\n",
    "               filters=32, activation='relu', padding='same'))\n",
    "cnn.add(Conv2D(kernel_size=(3,3), filters=32, activation='relu', padding='same'))\n",
    "cnn.add(MaxPool2D(pool_size=(2,2)))\n",
    "cnn.add(Dropout(0.25))\n",
    "\n",
    "cnn.add(Conv2D(kernel_size=(3,3), filters=64, activation='relu', padding='same'))\n",
    "cnn.add(Conv2D(kernel_size=(3,3), filters=64, activation='relu', padding='same'))\n",
    "cnn.add(MaxPool2D(pool_size=(2,2)))\n",
    "cnn.add(Dropout(0.25))\n",
    "\n",
    "cnn.add(Conv2D(kernel_size=(3,3), filters=128, activation='relu', padding='same'))\n",
    "cnn.add(Conv2D(kernel_size=(3,3), filters=128, activation='relu', padding='same'))\n",
    "cnn.add(MaxPool2D(pool_size=(2,2)))\n",
    "cnn.add(Dropout(0.25))\n",
    "\n",
    "cnn.add(Flatten())\n",
    "\n",
    "cnn.add(Dense(64, activation='relu'))\n",
    "cnn.add(Dropout(0.5))\n",
    "cnn.add(Dense(10, activation='softmax'))"
   ]
  },
  {
   "cell_type": "code",
   "execution_count": 13,
   "metadata": {
    "colab": {
     "base_uri": "https://localhost:8080/"
    },
    "id": "ndPGvLsXx0XF",
    "outputId": "3cd718de-249f-42d0-dba3-83249485b403"
   },
   "outputs": [
    {
     "name": "stdout",
     "output_type": "stream",
     "text": [
      "Model: \"sequential_3\"\n",
      "_________________________________________________________________\n",
      "Layer (type)                 Output Shape              Param #   \n",
      "=================================================================\n",
      "conv2d_18 (Conv2D)           (None, 32, 32, 32)        896       \n",
      "_________________________________________________________________\n",
      "conv2d_19 (Conv2D)           (None, 32, 32, 32)        9248      \n",
      "_________________________________________________________________\n",
      "max_pooling2d_9 (MaxPooling2 (None, 16, 16, 32)        0         \n",
      "_________________________________________________________________\n",
      "dropout_14 (Dropout)         (None, 16, 16, 32)        0         \n",
      "_________________________________________________________________\n",
      "conv2d_20 (Conv2D)           (None, 16, 16, 64)        18496     \n",
      "_________________________________________________________________\n",
      "conv2d_21 (Conv2D)           (None, 16, 16, 64)        36928     \n",
      "_________________________________________________________________\n",
      "max_pooling2d_10 (MaxPooling (None, 8, 8, 64)          0         \n",
      "_________________________________________________________________\n",
      "dropout_15 (Dropout)         (None, 8, 8, 64)          0         \n",
      "_________________________________________________________________\n",
      "conv2d_22 (Conv2D)           (None, 8, 8, 128)         73856     \n",
      "_________________________________________________________________\n",
      "conv2d_23 (Conv2D)           (None, 8, 8, 128)         147584    \n",
      "_________________________________________________________________\n",
      "max_pooling2d_11 (MaxPooling (None, 4, 4, 128)         0         \n",
      "_________________________________________________________________\n",
      "dropout_16 (Dropout)         (None, 4, 4, 128)         0         \n",
      "_________________________________________________________________\n",
      "flatten_3 (Flatten)          (None, 2048)              0         \n",
      "_________________________________________________________________\n",
      "dense_8 (Dense)              (None, 64)                131136    \n",
      "_________________________________________________________________\n",
      "dropout_17 (Dropout)         (None, 64)                0         \n",
      "_________________________________________________________________\n",
      "dense_9 (Dense)              (None, 10)                650       \n",
      "=================================================================\n",
      "Total params: 418,794\n",
      "Trainable params: 418,794\n",
      "Non-trainable params: 0\n",
      "_________________________________________________________________\n"
     ]
    }
   ],
   "source": [
    "cnn.compile(loss='sparse_categorical_crossentropy',\n",
    "            optimizer=tf.keras.optimizers.Adam(), metrics=['accuracy'])\n",
    "\n",
    "cnn.summary()"
   ]
  },
  {
   "cell_type": "code",
   "execution_count": 14,
   "metadata": {
    "colab": {
     "base_uri": "https://localhost:8080/"
    },
    "id": "Rsq5HiT5yEA_",
    "outputId": "5b0a7693-ac23-4029-e6e9-538d6d0b1d22"
   },
   "outputs": [
    {
     "name": "stdout",
     "output_type": "stream",
     "text": [
      "Epoch 1/30\n",
      "391/391 [==============================] - 13s 31ms/step - loss: 1.8633 - accuracy: 0.2996 - val_loss: 1.4137 - val_accuracy: 0.4813\n",
      "Epoch 2/30\n",
      "391/391 [==============================] - 12s 30ms/step - loss: 1.4477 - accuracy: 0.4699 - val_loss: 1.1714 - val_accuracy: 0.5763\n",
      "Epoch 3/30\n",
      "391/391 [==============================] - 12s 30ms/step - loss: 1.2601 - accuracy: 0.5530 - val_loss: 1.0662 - val_accuracy: 0.6212\n",
      "Epoch 4/30\n",
      "391/391 [==============================] - 12s 30ms/step - loss: 1.1445 - accuracy: 0.5950 - val_loss: 0.9503 - val_accuracy: 0.6668\n",
      "Epoch 5/30\n",
      "391/391 [==============================] - 12s 30ms/step - loss: 1.0661 - accuracy: 0.6282 - val_loss: 0.8788 - val_accuracy: 0.6910\n",
      "Epoch 6/30\n",
      "391/391 [==============================] - 12s 30ms/step - loss: 0.9817 - accuracy: 0.6571 - val_loss: 0.8084 - val_accuracy: 0.7136\n",
      "Epoch 7/30\n",
      "391/391 [==============================] - 12s 30ms/step - loss: 0.9248 - accuracy: 0.6801 - val_loss: 0.7608 - val_accuracy: 0.7314\n",
      "Epoch 8/30\n",
      "391/391 [==============================] - 12s 30ms/step - loss: 0.8680 - accuracy: 0.7030 - val_loss: 0.7418 - val_accuracy: 0.7421\n",
      "Epoch 9/30\n",
      "391/391 [==============================] - 12s 30ms/step - loss: 0.8301 - accuracy: 0.7189 - val_loss: 0.7356 - val_accuracy: 0.7468\n",
      "Epoch 10/30\n",
      "391/391 [==============================] - 12s 30ms/step - loss: 0.7927 - accuracy: 0.7298 - val_loss: 0.7022 - val_accuracy: 0.7591\n",
      "Epoch 11/30\n",
      "391/391 [==============================] - 12s 30ms/step - loss: 0.7625 - accuracy: 0.7409 - val_loss: 0.6532 - val_accuracy: 0.7735\n",
      "Epoch 12/30\n",
      "391/391 [==============================] - 12s 30ms/step - loss: 0.7288 - accuracy: 0.7539 - val_loss: 0.6406 - val_accuracy: 0.7809\n",
      "Epoch 13/30\n",
      "391/391 [==============================] - 12s 30ms/step - loss: 0.7014 - accuracy: 0.7635 - val_loss: 0.6659 - val_accuracy: 0.7729\n",
      "Epoch 14/30\n",
      "391/391 [==============================] - 12s 30ms/step - loss: 0.6818 - accuracy: 0.7706 - val_loss: 0.6141 - val_accuracy: 0.7889\n",
      "Epoch 15/30\n",
      "391/391 [==============================] - 12s 30ms/step - loss: 0.6548 - accuracy: 0.7780 - val_loss: 0.6171 - val_accuracy: 0.7946\n",
      "Epoch 16/30\n",
      "391/391 [==============================] - 12s 31ms/step - loss: 0.6453 - accuracy: 0.7823 - val_loss: 0.5804 - val_accuracy: 0.8034\n",
      "Epoch 17/30\n",
      "391/391 [==============================] - 12s 30ms/step - loss: 0.6265 - accuracy: 0.7888 - val_loss: 0.5907 - val_accuracy: 0.8086\n",
      "Epoch 18/30\n",
      "391/391 [==============================] - 12s 30ms/step - loss: 0.6072 - accuracy: 0.7936 - val_loss: 0.6141 - val_accuracy: 0.7996\n",
      "Epoch 19/30\n",
      "391/391 [==============================] - 12s 30ms/step - loss: 0.5968 - accuracy: 0.7979 - val_loss: 0.6003 - val_accuracy: 0.7997\n",
      "Epoch 20/30\n",
      "391/391 [==============================] - 12s 30ms/step - loss: 0.5847 - accuracy: 0.8028 - val_loss: 0.6056 - val_accuracy: 0.8007\n",
      "Epoch 21/30\n",
      "391/391 [==============================] - 12s 30ms/step - loss: 0.5747 - accuracy: 0.8051 - val_loss: 0.5871 - val_accuracy: 0.8077\n",
      "Epoch 22/30\n",
      "391/391 [==============================] - 12s 30ms/step - loss: 0.5651 - accuracy: 0.8110 - val_loss: 0.5770 - val_accuracy: 0.8105\n",
      "Epoch 23/30\n",
      "391/391 [==============================] - 12s 30ms/step - loss: 0.5501 - accuracy: 0.8125 - val_loss: 0.6427 - val_accuracy: 0.7978\n",
      "Epoch 24/30\n",
      "391/391 [==============================] - 12s 30ms/step - loss: 0.5354 - accuracy: 0.8165 - val_loss: 0.5883 - val_accuracy: 0.8076\n",
      "Epoch 25/30\n",
      "391/391 [==============================] - 12s 30ms/step - loss: 0.5343 - accuracy: 0.8189 - val_loss: 0.5871 - val_accuracy: 0.8049\n",
      "Epoch 26/30\n",
      "391/391 [==============================] - 12s 30ms/step - loss: 0.5125 - accuracy: 0.8248 - val_loss: 0.5946 - val_accuracy: 0.8094\n",
      "Epoch 27/30\n",
      "391/391 [==============================] - 12s 30ms/step - loss: 0.5120 - accuracy: 0.8259 - val_loss: 0.5752 - val_accuracy: 0.8122\n",
      "Epoch 28/30\n",
      "391/391 [==============================] - 59s 150ms/step - loss: 0.5069 - accuracy: 0.8277 - val_loss: 0.5793 - val_accuracy: 0.8194\n",
      "Epoch 29/30\n",
      "391/391 [==============================] - 12s 30ms/step - loss: 0.5012 - accuracy: 0.8290 - val_loss: 0.5538 - val_accuracy: 0.8217\n",
      "Epoch 30/30\n",
      "391/391 [==============================] - 12s 30ms/step - loss: 0.4875 - accuracy: 0.8339 - val_loss: 0.5675 - val_accuracy: 0.8224\n",
      "elapsed time =>  0:07:23.124023\n"
     ]
    }
   ],
   "source": [
    "from datetime import datetime\n",
    "\n",
    "start_time = datetime.now()\n",
    "\n",
    "hist = cnn.fit(x_train, y_train, batch_size=128, \n",
    "               epochs=30, validation_data=(x_test, y_test))\n",
    "\n",
    "end_time = datetime.now()\n",
    "\n",
    "print('elapsed time => ', end_time-start_time)"
   ]
  },
  {
   "cell_type": "code",
   "execution_count": 15,
   "metadata": {
    "colab": {
     "base_uri": "https://localhost:8080/"
    },
    "id": "TNQbhxp_yOU4",
    "outputId": "a80af955-4a10-48ff-c86c-b394e34c6d42"
   },
   "outputs": [
    {
     "name": "stdout",
     "output_type": "stream",
     "text": [
      "313/313 [==============================] - 2s 6ms/step - loss: 0.5675 - accuracy: 0.8224\n"
     ]
    },
    {
     "data": {
      "text/plain": [
       "[0.5674734711647034, 0.8223999738693237]"
      ]
     },
     "execution_count": 15,
     "metadata": {
      "tags": []
     },
     "output_type": "execute_result"
    }
   ],
   "source": [
    "cnn.evaluate(x_test, y_test)"
   ]
  },
  {
   "cell_type": "code",
   "execution_count": 16,
   "metadata": {
    "colab": {
     "base_uri": "https://localhost:8080/",
     "height": 295
    },
    "id": "z7hIF36fyR6O",
    "outputId": "8f1a6d04-e39c-43e4-8ae3-37289329271d"
   },
   "outputs": [
    {
     "data": {
      "image/png": "[encoded data removed]",
      "text/plain": [
       "<Figure size 432x288 with 1 Axes>"
      ]
     },
     "metadata": {
      "needs_background": "light",
      "tags": []
     },
     "output_type": "display_data"
    }
   ],
   "source": [
    "import matplotlib.pyplot as plt\n",
    "\n",
    "plt.plot(hist.history['accuracy'])\n",
    "plt.plot(hist.history['val_accuracy'])\n",
    "plt.title('Accuracy Trend')\n",
    "plt.ylabel('accuracy')\n",
    "plt.xlabel('epoch')\n",
    "plt.legend(['train','validation'], loc='best')\n",
    "plt.grid()\n",
    "plt.show()"
   ]
  },
  {
   "cell_type": "code",
   "execution_count": 17,
   "metadata": {
    "colab": {
     "base_uri": "https://localhost:8080/",
     "height": 295
    },
    "id": "ikuZTLbMybAQ",
    "outputId": "56c72ec3-c66d-4a9f-c003-f6669322f8f4"
   },
   "outputs": [
    {
     "data": {
      "image/png": "[encoded data removed]",
      "text/plain": [
       "<Figure size 432x288 with 1 Axes>"
      ]
     },
     "metadata": {
      "needs_background": "light",
      "tags": []
     },
     "output_type": "display_data"
    }
   ],
   "source": [
    "plt.plot(hist.history['loss'])\n",
    "plt.plot(hist.history['val_loss'])\n",
    "plt.title('Loss Trend')\n",
    "plt.ylabel('loss')\n",
    "plt.xlabel('epoch')\n",
    "plt.legend(['train','validation'], loc='best')\n",
    "plt.grid()\n",
    "plt.show()"
   ]
  },
  {
   "cell_type": "code",
   "execution_count": 20,
   "metadata": {
    "colab": {
     "base_uri": "https://localhost:8080/"
    },
    "id": "PByUMR0n0Z8B",
    "outputId": "a2ee7c42-931d-473f-ecf4-ceb34e11d8c0"
   },
   "outputs": [
    {
     "name": "stdout",
     "output_type": "stream",
     "text": [
      "Done !!!\n"
     ]
    }
   ],
   "source": [
    "# 모델 저장\n",
    "\n",
    "try:\n",
    "\n",
    "    cnn.save('./cifar10_accuracy_82v2.h5')\n",
    "    print('Done !!!')\n",
    "\n",
    "except Exception as err:\n",
    "\n",
    "    print(str(err))"
   ]
  },
  {
   "cell_type": "code",
   "execution_count": null,
   "metadata": {
    "id": "5VYMS6VnSi7m"
   },
   "outputs": [],
   "source": []
  }
 ],
 "metadata": {
  "accelerator": "GPU",
  "colab": {
   "collapsed_sections": [],
   "name": "TF_2_x_CNN_Example_9_CCPCCPCCP_same.ipynb",
   "provenance": []
  },
  "kernelspec": {
   "display_name": "Python 3 (ipykernel)",
   "language": "python",
   "name": "python3"
  },
  "language_info": {
   "codemirror_mode": {
    "name": "ipython",
    "version": 3
   },
   "file_extension": ".py",
   "mimetype": "text/x-python",
   "name": "python",
   "nbconvert_exporter": "python",
   "pygments_lexer": "ipython3",
   "version": "3.9.12"
  }
 },
 "nbformat": 4,
 "nbformat_minor": 1
}
