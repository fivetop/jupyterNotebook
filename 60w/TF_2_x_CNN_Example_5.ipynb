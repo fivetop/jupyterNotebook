{
  "nbformat": 4,
  "nbformat_minor": 0,
  "metadata": {
    "colab": {
      "name": "TF_2_x_CNN_Example_5.ipynb",
      "provenance": [],
      "collapsed_sections": []
    },
    "kernelspec": {
      "name": "python3",
      "display_name": "Python 3"
    },
    "accelerator": "GPU"
  },
  "cells": [
    {
      "cell_type": "code",
      "metadata": {
        "id": "Mz7L7JQA0zBd"
      },
      "source": [
        "import tensorflow as tf\n",
        "\n",
        "from tensorflow.keras.layers import Flatten, Dense, Conv2D, MaxPooling2D, Dropout\n",
        "from tensorflow.keras.models import Sequential\n",
        "from tensorflow.keras.optimizers import Adam\n",
        "from tensorflow.keras.datasets import mnist\n",
        "\n",
        "import numpy as np\n",
        "from datetime import datetime\n",
        "import matplotlib.pyplot as plt"
      ],
      "execution_count": 1,
      "outputs": []
    },
    {
      "cell_type": "code",
      "metadata": {
        "id": "hWSWQdg61_pp",
        "colab": {
          "base_uri": "https://localhost:8080/"
        },
        "outputId": "5d2cc8fd-5367-46d9-be3b-8ab37f2ef92b"
      },
      "source": [
        "(x_train, t_train), (x_test, t_test) = mnist.load_data()\n",
        "\n",
        "x_train = x_train / 255.0\n",
        "x_test = x_test / 255.0\n",
        "\n",
        "print('x_train.shape = ', x_train.shape, ' , x_test.shape = ', x_test.shape)\n",
        "print('t_train.shape = ', t_train.shape, ' , t_test.shape = ', t_test.shape)"
      ],
      "execution_count": 2,
      "outputs": [
        {
          "output_type": "stream",
          "name": "stdout",
          "text": [
            "Downloading data from https://storage.googleapis.com/tensorflow/tf-keras-datasets/mnist.npz\n",
            "11493376/11490434 [==============================] - 0s 0us/step\n",
            "11501568/11490434 [==============================] - 0s 0us/step\n",
            "x_train.shape =  (60000, 28, 28)  , x_test.shape =  (10000, 28, 28)\n",
            "t_train.shape =  (60000,)  , t_test.shape =  (10000,)\n"
          ]
        }
      ]
    },
    {
      "cell_type": "code",
      "metadata": {
        "id": "8dvRVX7M_0dY",
        "colab": {
          "base_uri": "https://localhost:8080/",
          "height": 589
        },
        "outputId": "2f15be59-147d-451c-8c2d-ea22ca4a22e7"
      },
      "source": [
        "# 데이터 출력\n",
        "\n",
        "plt.figure(figsize=(10,10))\n",
        "\n",
        "for index in range(25):\n",
        "\n",
        "    plt.subplot(5, 5, index+1)\n",
        "    plt.xticks([])\n",
        "    plt.yticks([])\n",
        "    plt.grid(False)\n",
        "    plt.imshow(x_train[index], cmap='gray')\n",
        "    plt.xlabel(str(t_train[index]))\n",
        "\n",
        "plt.show()"
      ],
      "execution_count": 3,
      "outputs": [
        {
          "output_type": "display_data",
          "data": {
            "text/plain": [
              "<Figure size 720x720 with 25 Axes>"
            ],
            "image/png": "[encoded data removed]"
          },
          "metadata": {}
        }
      ]
    },
    {
      "cell_type": "code",
      "metadata": {
        "id": "TyTj4TLi3L2Q"
      },
      "source": [
        "# sequential model construction\n",
        "\n",
        "model = Sequential()\n",
        "\n",
        "model.add(Conv2D(input_shape=(28,28,1), kernel_size=3, filters=32, strides=(1,1), activation='relu', padding='SAME'))\n",
        "model.add(Conv2D(kernel_size=3, filters=32, strides=(1,1), activation='relu', padding='SAME'))\n",
        "model.add(MaxPooling2D(pool_size=(2,2), padding='SAME'))\n",
        "model.add(Dropout(0.5))\n",
        "\n",
        "\n",
        "model.add(Conv2D(kernel_size=3, filters=64, strides=(1,1), activation='relu', padding='SAME'))\n",
        "model.add(Conv2D(kernel_size=3, filters=64, strides=(1,1), activation='relu', padding='SAME'))\n",
        "model.add(MaxPooling2D(pool_size=(2,2), padding='SAME'))\n",
        "model.add(Dropout(0.5))\n",
        "\n",
        "model.add(Flatten())\n",
        "\n",
        "model.add(Dense(10, activation='softmax'))"
      ],
      "execution_count": 12,
      "outputs": []
    },
    {
      "cell_type": "code",
      "metadata": {
        "id": "PRkYkMr6Dk1H"
      },
      "source": [
        "model.compile(optimizer=Adam(), loss='sparse_categorical_crossentropy', metrics=['accuracy'])"
      ],
      "execution_count": 13,
      "outputs": []
    },
    {
      "cell_type": "code",
      "metadata": {
        "id": "EB7zqH_H5MTO",
        "colab": {
          "base_uri": "https://localhost:8080/"
        },
        "outputId": "6def53b8-953f-4115-f416-8995729cb839"
      },
      "source": [
        "model.summary()"
      ],
      "execution_count": 14,
      "outputs": [
        {
          "output_type": "stream",
          "name": "stdout",
          "text": [
            "Model: \"sequential_1\"\n",
            "_________________________________________________________________\n",
            " Layer (type)                Output Shape              Param #   \n",
            "=================================================================\n",
            " conv2d_4 (Conv2D)           (None, 28, 28, 32)        320       \n",
            "                                                                 \n",
            " conv2d_5 (Conv2D)           (None, 28, 28, 32)        9248      \n",
            "                                                                 \n",
            " max_pooling2d_2 (MaxPooling  (None, 14, 14, 32)       0         \n",
            " 2D)                                                             \n",
            "                                                                 \n",
            " dropout (Dropout)           (None, 14, 14, 32)        0         \n",
            "                                                                 \n",
            " conv2d_6 (Conv2D)           (None, 14, 14, 64)        18496     \n",
            "                                                                 \n",
            " conv2d_7 (Conv2D)           (None, 14, 14, 64)        36928     \n",
            "                                                                 \n",
            " max_pooling2d_3 (MaxPooling  (None, 7, 7, 64)         0         \n",
            " 2D)                                                             \n",
            "                                                                 \n",
            " dropout_1 (Dropout)         (None, 7, 7, 64)          0         \n",
            "                                                                 \n",
            " flatten_1 (Flatten)         (None, 3136)              0         \n",
            "                                                                 \n",
            " dense_1 (Dense)             (None, 10)                31370     \n",
            "                                                                 \n",
            "=================================================================\n",
            "Total params: 96,362\n",
            "Trainable params: 96,362\n",
            "Non-trainable params: 0\n",
            "_________________________________________________________________\n"
          ]
        }
      ]
    },
    {
      "cell_type": "code",
      "metadata": {
        "id": "8Exi8cMrwJAo"
      },
      "source": [
        "x_train = x_train.reshape(-1,28,28,1)\n",
        "x_test = x_test.reshape(-1,28,28,1)"
      ],
      "execution_count": 15,
      "outputs": []
    },
    {
      "cell_type": "code",
      "metadata": {
        "id": "lWC9NA-G5vvz",
        "colab": {
          "base_uri": "https://localhost:8080/"
        },
        "outputId": "cf0dde46-a807-4ebf-a572-bed006d200bf"
      },
      "source": [
        "start_time = datetime.now()\n",
        "\n",
        "hist = model.fit(x_train, t_train, batch_size=50, epochs=50, validation_data=(x_test, t_test))\n",
        "\n",
        "end_time = datetime.now()\n",
        "\n",
        "print('\\n\\nElapsed Time => ', end_time - start_time)"
      ],
      "execution_count": 16,
      "outputs": [
        {
          "output_type": "stream",
          "name": "stdout",
          "text": [
            "Epoch 1/50\n",
            "1200/1200 [==============================] - 6s 5ms/step - loss: 0.2176 - accuracy: 0.9302 - val_loss: 0.0384 - val_accuracy: 0.9873\n",
            "Epoch 2/50\n",
            "1200/1200 [==============================] - 6s 5ms/step - loss: 0.0712 - accuracy: 0.9780 - val_loss: 0.0480 - val_accuracy: 0.9853\n",
            "Epoch 3/50\n",
            "1200/1200 [==============================] - 6s 5ms/step - loss: 0.0559 - accuracy: 0.9827 - val_loss: 0.0273 - val_accuracy: 0.9917\n",
            "Epoch 4/50\n",
            "1200/1200 [==============================] - 6s 5ms/step - loss: 0.0482 - accuracy: 0.9853 - val_loss: 0.0232 - val_accuracy: 0.9909\n",
            "Epoch 5/50\n",
            "1200/1200 [==============================] - 6s 5ms/step - loss: 0.0418 - accuracy: 0.9867 - val_loss: 0.0191 - val_accuracy: 0.9942\n",
            "Epoch 6/50\n",
            "1200/1200 [==============================] - 6s 5ms/step - loss: 0.0380 - accuracy: 0.9878 - val_loss: 0.0195 - val_accuracy: 0.9930\n",
            "Epoch 7/50\n",
            "1200/1200 [==============================] - 6s 5ms/step - loss: 0.0358 - accuracy: 0.9887 - val_loss: 0.0193 - val_accuracy: 0.9937\n",
            "Epoch 8/50\n",
            "1200/1200 [==============================] - 6s 5ms/step - loss: 0.0334 - accuracy: 0.9893 - val_loss: 0.0191 - val_accuracy: 0.9936\n",
            "Epoch 9/50\n",
            "1200/1200 [==============================] - 6s 5ms/step - loss: 0.0307 - accuracy: 0.9908 - val_loss: 0.0182 - val_accuracy: 0.9940\n",
            "Epoch 10/50\n",
            "1200/1200 [==============================] - 6s 5ms/step - loss: 0.0308 - accuracy: 0.9898 - val_loss: 0.0224 - val_accuracy: 0.9919\n",
            "Epoch 11/50\n",
            "1200/1200 [==============================] - 6s 5ms/step - loss: 0.0282 - accuracy: 0.9911 - val_loss: 0.0191 - val_accuracy: 0.9937\n",
            "Epoch 12/50\n",
            "1200/1200 [==============================] - 6s 5ms/step - loss: 0.0262 - accuracy: 0.9918 - val_loss: 0.0182 - val_accuracy: 0.9940\n",
            "Epoch 13/50\n",
            "1200/1200 [==============================] - 6s 5ms/step - loss: 0.0263 - accuracy: 0.9917 - val_loss: 0.0175 - val_accuracy: 0.9942\n",
            "Epoch 14/50\n",
            "1200/1200 [==============================] - 6s 5ms/step - loss: 0.0248 - accuracy: 0.9919 - val_loss: 0.0173 - val_accuracy: 0.9945\n",
            "Epoch 15/50\n",
            "1200/1200 [==============================] - 6s 5ms/step - loss: 0.0252 - accuracy: 0.9916 - val_loss: 0.0156 - val_accuracy: 0.9941\n",
            "Epoch 16/50\n",
            "1200/1200 [==============================] - 6s 5ms/step - loss: 0.0228 - accuracy: 0.9923 - val_loss: 0.0170 - val_accuracy: 0.9945\n",
            "Epoch 17/50\n",
            "1200/1200 [==============================] - 6s 5ms/step - loss: 0.0228 - accuracy: 0.9925 - val_loss: 0.0165 - val_accuracy: 0.9947\n",
            "Epoch 18/50\n",
            "1200/1200 [==============================] - 6s 5ms/step - loss: 0.0229 - accuracy: 0.9924 - val_loss: 0.0145 - val_accuracy: 0.9949\n",
            "Epoch 19/50\n",
            "1200/1200 [==============================] - 6s 5ms/step - loss: 0.0210 - accuracy: 0.9933 - val_loss: 0.0179 - val_accuracy: 0.9947\n",
            "Epoch 20/50\n",
            "1200/1200 [==============================] - 6s 5ms/step - loss: 0.0212 - accuracy: 0.9932 - val_loss: 0.0136 - val_accuracy: 0.9959\n",
            "Epoch 21/50\n",
            "1200/1200 [==============================] - 6s 5ms/step - loss: 0.0208 - accuracy: 0.9931 - val_loss: 0.0160 - val_accuracy: 0.9950\n",
            "Epoch 22/50\n",
            "1200/1200 [==============================] - 6s 5ms/step - loss: 0.0202 - accuracy: 0.9935 - val_loss: 0.0156 - val_accuracy: 0.9954\n",
            "Epoch 23/50\n",
            "1200/1200 [==============================] - 6s 5ms/step - loss: 0.0195 - accuracy: 0.9934 - val_loss: 0.0151 - val_accuracy: 0.9953\n",
            "Epoch 24/50\n",
            "1200/1200 [==============================] - 6s 5ms/step - loss: 0.0200 - accuracy: 0.9936 - val_loss: 0.0157 - val_accuracy: 0.9953\n",
            "Epoch 25/50\n",
            "1200/1200 [==============================] - 6s 5ms/step - loss: 0.0190 - accuracy: 0.9936 - val_loss: 0.0181 - val_accuracy: 0.9947\n",
            "Epoch 26/50\n",
            "1200/1200 [==============================] - 6s 5ms/step - loss: 0.0193 - accuracy: 0.9937 - val_loss: 0.0154 - val_accuracy: 0.9954\n",
            "Epoch 27/50\n",
            "1200/1200 [==============================] - 6s 5ms/step - loss: 0.0184 - accuracy: 0.9942 - val_loss: 0.0196 - val_accuracy: 0.9946\n",
            "Epoch 28/50\n",
            "1200/1200 [==============================] - 6s 5ms/step - loss: 0.0182 - accuracy: 0.9940 - val_loss: 0.0170 - val_accuracy: 0.9948\n",
            "Epoch 29/50\n",
            "1200/1200 [==============================] - 6s 5ms/step - loss: 0.0191 - accuracy: 0.9936 - val_loss: 0.0168 - val_accuracy: 0.9944\n",
            "Epoch 30/50\n",
            "1200/1200 [==============================] - 6s 5ms/step - loss: 0.0170 - accuracy: 0.9946 - val_loss: 0.0185 - val_accuracy: 0.9941\n",
            "Epoch 31/50\n",
            "1200/1200 [==============================] - 6s 5ms/step - loss: 0.0181 - accuracy: 0.9938 - val_loss: 0.0164 - val_accuracy: 0.9951\n",
            "Epoch 32/50\n",
            "1200/1200 [==============================] - 6s 5ms/step - loss: 0.0187 - accuracy: 0.9937 - val_loss: 0.0158 - val_accuracy: 0.9947\n",
            "Epoch 33/50\n",
            "1200/1200 [==============================] - 6s 5ms/step - loss: 0.0174 - accuracy: 0.9943 - val_loss: 0.0177 - val_accuracy: 0.9949\n",
            "Epoch 34/50\n",
            "1200/1200 [==============================] - 6s 5ms/step - loss: 0.0187 - accuracy: 0.9938 - val_loss: 0.0174 - val_accuracy: 0.9943\n",
            "Epoch 35/50\n",
            "1200/1200 [==============================] - 6s 5ms/step - loss: 0.0158 - accuracy: 0.9949 - val_loss: 0.0177 - val_accuracy: 0.9948\n",
            "Epoch 36/50\n",
            "1200/1200 [==============================] - 6s 5ms/step - loss: 0.0182 - accuracy: 0.9939 - val_loss: 0.0183 - val_accuracy: 0.9940\n",
            "Epoch 37/50\n",
            "1200/1200 [==============================] - 6s 5ms/step - loss: 0.0166 - accuracy: 0.9947 - val_loss: 0.0200 - val_accuracy: 0.9942\n",
            "Epoch 38/50\n",
            "1200/1200 [==============================] - 6s 5ms/step - loss: 0.0156 - accuracy: 0.9948 - val_loss: 0.0200 - val_accuracy: 0.9950\n",
            "Epoch 39/50\n",
            "1200/1200 [==============================] - 6s 5ms/step - loss: 0.0167 - accuracy: 0.9945 - val_loss: 0.0182 - val_accuracy: 0.9950\n",
            "Epoch 40/50\n",
            "1200/1200 [==============================] - 6s 5ms/step - loss: 0.0172 - accuracy: 0.9944 - val_loss: 0.0197 - val_accuracy: 0.9951\n",
            "Epoch 41/50\n",
            "1200/1200 [==============================] - 6s 5ms/step - loss: 0.0161 - accuracy: 0.9946 - val_loss: 0.0185 - val_accuracy: 0.9949\n",
            "Epoch 42/50\n",
            "1200/1200 [==============================] - 6s 5ms/step - loss: 0.0157 - accuracy: 0.9950 - val_loss: 0.0213 - val_accuracy: 0.9939\n",
            "Epoch 43/50\n",
            "1200/1200 [==============================] - 6s 5ms/step - loss: 0.0152 - accuracy: 0.9951 - val_loss: 0.0152 - val_accuracy: 0.9956\n",
            "Epoch 44/50\n",
            "1200/1200 [==============================] - 6s 5ms/step - loss: 0.0150 - accuracy: 0.9950 - val_loss: 0.0193 - val_accuracy: 0.9950\n",
            "Epoch 45/50\n",
            "1200/1200 [==============================] - 6s 5ms/step - loss: 0.0177 - accuracy: 0.9943 - val_loss: 0.0183 - val_accuracy: 0.9947\n",
            "Epoch 46/50\n",
            "1200/1200 [==============================] - 6s 5ms/step - loss: 0.0142 - accuracy: 0.9952 - val_loss: 0.0148 - val_accuracy: 0.9957\n",
            "Epoch 47/50\n",
            "1200/1200 [==============================] - 6s 5ms/step - loss: 0.0161 - accuracy: 0.9947 - val_loss: 0.0182 - val_accuracy: 0.9955\n",
            "Epoch 48/50\n",
            "1200/1200 [==============================] - 6s 5ms/step - loss: 0.0163 - accuracy: 0.9945 - val_loss: 0.0178 - val_accuracy: 0.9951\n",
            "Epoch 49/50\n",
            "1200/1200 [==============================] - 6s 5ms/step - loss: 0.0146 - accuracy: 0.9952 - val_loss: 0.0171 - val_accuracy: 0.9949\n",
            "Epoch 50/50\n",
            "1200/1200 [==============================] - 6s 5ms/step - loss: 0.0155 - accuracy: 0.9952 - val_loss: 0.0186 - val_accuracy: 0.9944\n",
            "\n",
            "\n",
            "Elapsed Time =>  0:04:49.672458\n"
          ]
        }
      ]
    },
    {
      "cell_type": "code",
      "metadata": {
        "id": "2C2fV-8K6XsU",
        "colab": {
          "base_uri": "https://localhost:8080/"
        },
        "outputId": "fa06eb43-197d-44f4-b4de-85d660ba5ee8"
      },
      "source": [
        "# x_test 도 마찬가지로 데이터를 4차원으로 reshape 으로 변환 해주지 않으면 error\n",
        "\n",
        "model.evaluate(x_test, t_test)"
      ],
      "execution_count": 17,
      "outputs": [
        {
          "output_type": "stream",
          "name": "stdout",
          "text": [
            "313/313 [==============================] - 1s 3ms/step - loss: 0.0186 - accuracy: 0.9944\n"
          ]
        },
        {
          "output_type": "execute_result",
          "data": {
            "text/plain": [
              "[0.018574601039290428, 0.9944000244140625]"
            ]
          },
          "metadata": {},
          "execution_count": 17
        }
      ]
    },
    {
      "cell_type": "code",
      "metadata": {
        "id": "V2H-ARVci04l",
        "colab": {
          "base_uri": "https://localhost:8080/",
          "height": 295
        },
        "outputId": "28f82767-aab3-459b-adb1-8de53153bc0a"
      },
      "source": [
        "import matplotlib.pyplot as plt\n",
        "\n",
        "plt.plot(hist.history['accuracy'])\n",
        "plt.plot(hist.history['val_accuracy'])\n",
        "plt.title('Accuracy Trend')\n",
        "plt.ylabel('accuracy')\n",
        "plt.xlabel('epoch')\n",
        "plt.legend(['train','validation'], loc='best')\n",
        "plt.grid()\n",
        "plt.show()"
      ],
      "execution_count": 18,
      "outputs": [
        {
          "output_type": "display_data",
          "data": {
            "text/plain": [
              "<Figure size 432x288 with 1 Axes>"
            ],
            "image/png": "[encoded data removed]"
          },
          "metadata": {
            "needs_background": "light"
          }
        }
      ]
    },
    {
      "cell_type": "code",
      "metadata": {
        "colab": {
          "base_uri": "https://localhost:8080/",
          "height": 295
        },
        "id": "kxmiD7y7WBe0",
        "outputId": "95d99470-f3d3-4c8a-92c1-49863e8498ef"
      },
      "source": [
        "plt.plot(hist.history['loss'])\n",
        "plt.plot(hist.history['val_loss'])\n",
        "plt.title('Loss Trend')\n",
        "plt.ylabel('loss')\n",
        "plt.xlabel('epoch')\n",
        "plt.legend(['train','validation'], loc='best')\n",
        "plt.grid()\n",
        "plt.show()"
      ],
      "execution_count": 19,
      "outputs": [
        {
          "output_type": "display_data",
          "data": {
            "text/plain": [
              "<Figure size 432x288 with 1 Axes>"
            ],
            "image/png": "[encoded data removed]"
          },
          "metadata": {
            "needs_background": "light"
          }
        }
      ]
    },
    {
      "cell_type": "code",
      "metadata": {
        "id": "bFx1CcBGWEfl"
      },
      "source": [
        ""
      ],
      "execution_count": null,
      "outputs": []
    }
  ]
}