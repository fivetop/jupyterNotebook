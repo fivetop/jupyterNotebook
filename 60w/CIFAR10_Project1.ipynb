{
 "cells": [
  {
   "cell_type": "code",
   "execution_count": 1,
   "metadata": {
    "id": "nWhPUUnPveS3"
   },
   "outputs": [],
   "source": [
    "import numpy as np\n",
    "import tensorflow as tf\n",
    "from tensorflow.keras.datasets import cifar10\n",
    "from tensorflow.keras.models import Sequential\n",
    "from tensorflow.keras.layers import Conv2D, MaxPool2D\n",
    "from tensorflow.keras.layers import Flatten, Dense, Dropout"
   ]
  },
  {
   "cell_type": "code",
   "execution_count": 2,
   "metadata": {
    "colab": {
     "base_uri": "https://localhost:8080/"
    },
    "id": "Q4Xh-9FkvsKE",
    "outputId": "18b2e8ed-c9a1-4773-de73-f1c9e50056ca"
   },
   "outputs": [
    {
     "name": "stdout",
     "output_type": "stream",
     "text": [
      "Downloading data from https://www.cs.toronto.edu/~kriz/cifar-10-python.tar.gz\n",
      "170500096/170498071 [==============================] - 3s 0us/step\n",
      "170508288/170498071 [==============================] - 3s 0us/step\n",
      "(50000, 32, 32, 3) (10000, 32, 32, 3)\n",
      "(50000, 1) (10000, 1)\n"
     ]
    }
   ],
   "source": [
    "(x_train, y_train),(x_test, y_test) = cifar10.load_data()\n",
    "\n",
    "x_train=x_train.reshape(-1, 32, 32, 3)\n",
    "x_test=x_test.reshape(-1, 32, 32, 3)\n",
    "\n",
    "print(x_train.shape, x_test.shape)\n",
    "print(y_train.shape, y_test.shape)\n",
    "\n",
    "x_train = x_train.astype(np.float32) / 255.0\n",
    "x_test = x_test.astype(np.float32) / 255.0"
   ]
  },
  {
   "cell_type": "code",
   "execution_count": 3,
   "metadata": {
    "id": "ISOTB0okwnAc"
   },
   "outputs": [],
   "source": [
    "cnn = Sequential()\n",
    "\n",
    "cnn.add(Conv2D(input_shape=(32,32,3), kernel_size=(3,3), filters=32, activation='relu', padding='same'))\n",
    "cnn.add(Conv2D(kernel_size=(3,3), filters=32, activation='relu', padding='same'))\n",
    "cnn.add(MaxPool2D(pool_size=(2,2)))\n",
    "cnn.add(Dropout(0.25))\n",
    "\n",
    "cnn.add(Conv2D(kernel_size=(3,3), filters=64, activation='relu', padding='same'))\n",
    "cnn.add(Conv2D(kernel_size=(3,3), filters=64, activation='relu', padding='same'))\n",
    "cnn.add(MaxPool2D(pool_size=(2,2)))\n",
    "cnn.add(Dropout(0.25))\n",
    "\n",
    "cnn.add(Conv2D(kernel_size=(3,3), filters=128, activation='relu', padding='same'))\n",
    "cnn.add(MaxPool2D(pool_size=(2,2)))\n",
    "cnn.add(Dropout(0.25))\n",
    "\n",
    "cnn.add(Conv2D(kernel_size=(3,3), filters=128, activation='relu', padding='same'))\n",
    "cnn.add(MaxPool2D(pool_size=(2,2)))\n",
    "cnn.add(Dropout(0.25))\n",
    "\n",
    "cnn.add(Conv2D(kernel_size=(3,3), filters=256, activation='relu', padding='same'))\n",
    "cnn.add(MaxPool2D(pool_size=(2,2)))\n",
    "cnn.add(Dropout(0.25))\n",
    "\n",
    "cnn.add(Flatten())\n",
    "\n",
    "cnn.add(Dense(256, activation='relu'))\n",
    "cnn.add(Dropout(0.5))\n",
    "cnn.add(Dense(128, activation='relu'))\n",
    "cnn.add(Dropout(0.5))\n",
    "cnn.add(Dense(10, activation='softmax'))"
   ]
  },
  {
   "cell_type": "code",
   "execution_count": 4,
   "metadata": {
    "colab": {
     "base_uri": "https://localhost:8080/"
    },
    "id": "ndPGvLsXx0XF",
    "outputId": "ed2419eb-8d03-4508-aedd-e3f1fdfbe21c"
   },
   "outputs": [
    {
     "name": "stdout",
     "output_type": "stream",
     "text": [
      "Model: \"sequential\"\n",
      "_________________________________________________________________\n",
      " Layer (type)                Output Shape              Param #   \n",
      "=================================================================\n",
      " conv2d (Conv2D)             (None, 32, 32, 32)        896       \n",
      "                                                                 \n",
      " conv2d_1 (Conv2D)           (None, 32, 32, 32)        9248      \n",
      "                                                                 \n",
      " max_pooling2d (MaxPooling2D  (None, 16, 16, 32)       0         \n",
      " )                                                               \n",
      "                                                                 \n",
      " dropout (Dropout)           (None, 16, 16, 32)        0         \n",
      "                                                                 \n",
      " conv2d_2 (Conv2D)           (None, 16, 16, 64)        18496     \n",
      "                                                                 \n",
      " conv2d_3 (Conv2D)           (None, 16, 16, 64)        36928     \n",
      "                                                                 \n",
      " max_pooling2d_1 (MaxPooling  (None, 8, 8, 64)         0         \n",
      " 2D)                                                             \n",
      "                                                                 \n",
      " dropout_1 (Dropout)         (None, 8, 8, 64)          0         \n",
      "                                                                 \n",
      " conv2d_4 (Conv2D)           (None, 8, 8, 128)         73856     \n",
      "                                                                 \n",
      " max_pooling2d_2 (MaxPooling  (None, 4, 4, 128)        0         \n",
      " 2D)                                                             \n",
      "                                                                 \n",
      " dropout_2 (Dropout)         (None, 4, 4, 128)         0         \n",
      "                                                                 \n",
      " conv2d_5 (Conv2D)           (None, 4, 4, 128)         147584    \n",
      "                                                                 \n",
      " max_pooling2d_3 (MaxPooling  (None, 2, 2, 128)        0         \n",
      " 2D)                                                             \n",
      "                                                                 \n",
      " dropout_3 (Dropout)         (None, 2, 2, 128)         0         \n",
      "                                                                 \n",
      " conv2d_6 (Conv2D)           (None, 2, 2, 256)         295168    \n",
      "                                                                 \n",
      " max_pooling2d_4 (MaxPooling  (None, 1, 1, 256)        0         \n",
      " 2D)                                                             \n",
      "                                                                 \n",
      " dropout_4 (Dropout)         (None, 1, 1, 256)         0         \n",
      "                                                                 \n",
      " flatten (Flatten)           (None, 256)               0         \n",
      "                                                                 \n",
      " dense (Dense)               (None, 256)               65792     \n",
      "                                                                 \n",
      " dropout_5 (Dropout)         (None, 256)               0         \n",
      "                                                                 \n",
      " dense_1 (Dense)             (None, 128)               32896     \n",
      "                                                                 \n",
      " dropout_6 (Dropout)         (None, 128)               0         \n",
      "                                                                 \n",
      " dense_2 (Dense)             (None, 10)                1290      \n",
      "                                                                 \n",
      "=================================================================\n",
      "Total params: 682,154\n",
      "Trainable params: 682,154\n",
      "Non-trainable params: 0\n",
      "_________________________________________________________________\n"
     ]
    }
   ],
   "source": [
    "cnn.compile(loss='sparse_categorical_crossentropy',\n",
    "            optimizer=tf.keras.optimizers.Adam(), metrics=['accuracy'])\n",
    "\n",
    "cnn.summary()"
   ]
  },
  {
   "cell_type": "code",
   "execution_count": 5,
   "metadata": {
    "colab": {
     "base_uri": "https://localhost:8080/"
    },
    "id": "Rsq5HiT5yEA_",
    "outputId": "da4d14a7-5628-411a-ba75-b148cd4dcf8a"
   },
   "outputs": [
    {
     "name": "stdout",
     "output_type": "stream",
     "text": [
      "Epoch 1/100\n",
      "391/391 [==============================] - 18s 16ms/step - loss: 2.1783 - accuracy: 0.1505 - val_loss: 1.8913 - val_accuracy: 0.2638\n",
      "Epoch 2/100\n",
      "391/391 [==============================] - 6s 15ms/step - loss: 1.6819 - accuracy: 0.3535 - val_loss: 1.4637 - val_accuracy: 0.4534\n",
      "Epoch 3/100\n",
      "391/391 [==============================] - 6s 14ms/step - loss: 1.4442 - accuracy: 0.4674 - val_loss: 1.3038 - val_accuracy: 0.5212\n",
      "Epoch 4/100\n",
      "391/391 [==============================] - 6s 14ms/step - loss: 1.2981 - accuracy: 0.5340 - val_loss: 1.1516 - val_accuracy: 0.5895\n",
      "Epoch 5/100\n",
      "391/391 [==============================] - 6s 14ms/step - loss: 1.1955 - accuracy: 0.5781 - val_loss: 1.0759 - val_accuracy: 0.6236\n",
      "Epoch 6/100\n",
      "391/391 [==============================] - 6s 14ms/step - loss: 1.1158 - accuracy: 0.6130 - val_loss: 0.9869 - val_accuracy: 0.6508\n",
      "Epoch 7/100\n",
      "391/391 [==============================] - 6s 14ms/step - loss: 1.0574 - accuracy: 0.6327 - val_loss: 0.9686 - val_accuracy: 0.6620\n",
      "Epoch 8/100\n",
      "391/391 [==============================] - 6s 14ms/step - loss: 1.0146 - accuracy: 0.6489 - val_loss: 0.9007 - val_accuracy: 0.6798\n",
      "Epoch 9/100\n",
      "391/391 [==============================] - 6s 14ms/step - loss: 0.9740 - accuracy: 0.6631 - val_loss: 0.8662 - val_accuracy: 0.6943\n",
      "Epoch 10/100\n",
      "391/391 [==============================] - 6s 14ms/step - loss: 0.9402 - accuracy: 0.6751 - val_loss: 0.8187 - val_accuracy: 0.7136\n",
      "Epoch 11/100\n",
      "391/391 [==============================] - 6s 14ms/step - loss: 0.9166 - accuracy: 0.6867 - val_loss: 0.8171 - val_accuracy: 0.7200\n",
      "Epoch 12/100\n",
      "391/391 [==============================] - 6s 15ms/step - loss: 0.8940 - accuracy: 0.6938 - val_loss: 0.8595 - val_accuracy: 0.7071\n",
      "Epoch 13/100\n",
      "391/391 [==============================] - 6s 14ms/step - loss: 0.8706 - accuracy: 0.7031 - val_loss: 0.7811 - val_accuracy: 0.7309\n",
      "Epoch 14/100\n",
      "391/391 [==============================] - 6s 15ms/step - loss: 0.8480 - accuracy: 0.7111 - val_loss: 0.8132 - val_accuracy: 0.7204\n",
      "Epoch 15/100\n",
      "391/391 [==============================] - 6s 15ms/step - loss: 0.8329 - accuracy: 0.7167 - val_loss: 0.7362 - val_accuracy: 0.7488\n",
      "Epoch 16/100\n",
      "391/391 [==============================] - 6s 15ms/step - loss: 0.8132 - accuracy: 0.7259 - val_loss: 0.7233 - val_accuracy: 0.7552\n",
      "Epoch 17/100\n",
      "391/391 [==============================] - 6s 14ms/step - loss: 0.7961 - accuracy: 0.7318 - val_loss: 0.7315 - val_accuracy: 0.7476\n",
      "Epoch 18/100\n",
      "391/391 [==============================] - 6s 15ms/step - loss: 0.7852 - accuracy: 0.7350 - val_loss: 0.6986 - val_accuracy: 0.7624\n",
      "Epoch 19/100\n",
      "391/391 [==============================] - 6s 15ms/step - loss: 0.7810 - accuracy: 0.7370 - val_loss: 0.7020 - val_accuracy: 0.7619\n",
      "Epoch 20/100\n",
      "391/391 [==============================] - 6s 15ms/step - loss: 0.7701 - accuracy: 0.7446 - val_loss: 0.6976 - val_accuracy: 0.7629\n",
      "Epoch 21/100\n",
      "391/391 [==============================] - 6s 15ms/step - loss: 0.7496 - accuracy: 0.7476 - val_loss: 0.6746 - val_accuracy: 0.7709\n",
      "Epoch 22/100\n",
      "391/391 [==============================] - 6s 15ms/step - loss: 0.7428 - accuracy: 0.7522 - val_loss: 0.6439 - val_accuracy: 0.7788\n",
      "Epoch 23/100\n",
      "391/391 [==============================] - 6s 15ms/step - loss: 0.7372 - accuracy: 0.7525 - val_loss: 0.6937 - val_accuracy: 0.7624\n",
      "Epoch 24/100\n",
      "391/391 [==============================] - 6s 14ms/step - loss: 0.7291 - accuracy: 0.7576 - val_loss: 0.6555 - val_accuracy: 0.7780\n",
      "Epoch 25/100\n",
      "391/391 [==============================] - 6s 15ms/step - loss: 0.7174 - accuracy: 0.7602 - val_loss: 0.6609 - val_accuracy: 0.7756\n",
      "Epoch 26/100\n",
      "391/391 [==============================] - 6s 15ms/step - loss: 0.7018 - accuracy: 0.7664 - val_loss: 0.6376 - val_accuracy: 0.7805\n",
      "Epoch 27/100\n",
      "391/391 [==============================] - 6s 15ms/step - loss: 0.6999 - accuracy: 0.7672 - val_loss: 0.6716 - val_accuracy: 0.7694\n",
      "Epoch 28/100\n",
      "391/391 [==============================] - 6s 15ms/step - loss: 0.6919 - accuracy: 0.7699 - val_loss: 0.6468 - val_accuracy: 0.7878\n",
      "Epoch 29/100\n",
      "391/391 [==============================] - 6s 15ms/step - loss: 0.6907 - accuracy: 0.7694 - val_loss: 0.6479 - val_accuracy: 0.7816\n",
      "Epoch 30/100\n",
      "391/391 [==============================] - 6s 15ms/step - loss: 0.6876 - accuracy: 0.7711 - val_loss: 0.6508 - val_accuracy: 0.7826\n",
      "Epoch 31/100\n",
      "391/391 [==============================] - 6s 15ms/step - loss: 0.6802 - accuracy: 0.7735 - val_loss: 0.6609 - val_accuracy: 0.7810\n",
      "Epoch 32/100\n",
      "391/391 [==============================] - 6s 15ms/step - loss: 0.6816 - accuracy: 0.7752 - val_loss: 0.6282 - val_accuracy: 0.7875\n",
      "Epoch 33/100\n",
      "391/391 [==============================] - 6s 15ms/step - loss: 0.6690 - accuracy: 0.7772 - val_loss: 0.6310 - val_accuracy: 0.7881\n",
      "Epoch 34/100\n",
      "391/391 [==============================] - 6s 15ms/step - loss: 0.6628 - accuracy: 0.7793 - val_loss: 0.6398 - val_accuracy: 0.7858\n",
      "Epoch 35/100\n",
      "391/391 [==============================] - 6s 15ms/step - loss: 0.6533 - accuracy: 0.7835 - val_loss: 0.5927 - val_accuracy: 0.8015\n",
      "Epoch 36/100\n",
      "391/391 [==============================] - 6s 15ms/step - loss: 0.6545 - accuracy: 0.7824 - val_loss: 0.5897 - val_accuracy: 0.8024\n",
      "Epoch 37/100\n",
      "391/391 [==============================] - 6s 15ms/step - loss: 0.6498 - accuracy: 0.7834 - val_loss: 0.5796 - val_accuracy: 0.8055\n",
      "Epoch 38/100\n",
      "391/391 [==============================] - 6s 15ms/step - loss: 0.6378 - accuracy: 0.7891 - val_loss: 0.6163 - val_accuracy: 0.7930\n",
      "Epoch 39/100\n",
      "391/391 [==============================] - 6s 15ms/step - loss: 0.6428 - accuracy: 0.7873 - val_loss: 0.5992 - val_accuracy: 0.7999\n",
      "Epoch 40/100\n",
      "391/391 [==============================] - 6s 15ms/step - loss: 0.6360 - accuracy: 0.7885 - val_loss: 0.5865 - val_accuracy: 0.8044\n",
      "Epoch 41/100\n",
      "391/391 [==============================] - 6s 15ms/step - loss: 0.6365 - accuracy: 0.7902 - val_loss: 0.5975 - val_accuracy: 0.8007\n",
      "Epoch 42/100\n",
      "391/391 [==============================] - 6s 15ms/step - loss: 0.6224 - accuracy: 0.7951 - val_loss: 0.5907 - val_accuracy: 0.8017\n",
      "Epoch 43/100\n",
      "391/391 [==============================] - 6s 15ms/step - loss: 0.6271 - accuracy: 0.7948 - val_loss: 0.5874 - val_accuracy: 0.8064\n",
      "Epoch 44/100\n",
      "391/391 [==============================] - 6s 14ms/step - loss: 0.6308 - accuracy: 0.7938 - val_loss: 0.5822 - val_accuracy: 0.8031\n",
      "Epoch 45/100\n",
      "391/391 [==============================] - 6s 15ms/step - loss: 0.6201 - accuracy: 0.7948 - val_loss: 0.5847 - val_accuracy: 0.8031\n",
      "Epoch 46/100\n",
      "391/391 [==============================] - 6s 15ms/step - loss: 0.6145 - accuracy: 0.7978 - val_loss: 0.6227 - val_accuracy: 0.7929\n",
      "Epoch 47/100\n",
      "391/391 [==============================] - 6s 15ms/step - loss: 0.6141 - accuracy: 0.7955 - val_loss: 0.5860 - val_accuracy: 0.8050\n",
      "Epoch 48/100\n",
      "391/391 [==============================] - 6s 15ms/step - loss: 0.6122 - accuracy: 0.7980 - val_loss: 0.5903 - val_accuracy: 0.8028\n",
      "Epoch 49/100\n",
      "391/391 [==============================] - 6s 15ms/step - loss: 0.6039 - accuracy: 0.8012 - val_loss: 0.5901 - val_accuracy: 0.8049\n",
      "Epoch 50/100\n",
      "391/391 [==============================] - 6s 15ms/step - loss: 0.6065 - accuracy: 0.7993 - val_loss: 0.5810 - val_accuracy: 0.8087\n",
      "Epoch 51/100\n",
      "391/391 [==============================] - 6s 15ms/step - loss: 0.5988 - accuracy: 0.8007 - val_loss: 0.5811 - val_accuracy: 0.8085\n",
      "Epoch 52/100\n",
      "391/391 [==============================] - 6s 15ms/step - loss: 0.6065 - accuracy: 0.8013 - val_loss: 0.5796 - val_accuracy: 0.8112\n",
      "Epoch 53/100\n",
      "391/391 [==============================] - 6s 15ms/step - loss: 0.5935 - accuracy: 0.8057 - val_loss: 0.5811 - val_accuracy: 0.8035\n",
      "Epoch 54/100\n",
      "391/391 [==============================] - 6s 15ms/step - loss: 0.5903 - accuracy: 0.8048 - val_loss: 0.5870 - val_accuracy: 0.8045\n",
      "Epoch 55/100\n",
      "391/391 [==============================] - 6s 15ms/step - loss: 0.5992 - accuracy: 0.8049 - val_loss: 0.5625 - val_accuracy: 0.8118\n",
      "Epoch 56/100\n",
      "391/391 [==============================] - 6s 15ms/step - loss: 0.5944 - accuracy: 0.8044 - val_loss: 0.5849 - val_accuracy: 0.8102\n",
      "Epoch 57/100\n",
      "391/391 [==============================] - 6s 15ms/step - loss: 0.5923 - accuracy: 0.8060 - val_loss: 0.5808 - val_accuracy: 0.8126\n",
      "Epoch 58/100\n",
      "391/391 [==============================] - 6s 14ms/step - loss: 0.5943 - accuracy: 0.8053 - val_loss: 0.5785 - val_accuracy: 0.8076\n",
      "Epoch 59/100\n",
      "391/391 [==============================] - 6s 15ms/step - loss: 0.5783 - accuracy: 0.8108 - val_loss: 0.5729 - val_accuracy: 0.8109\n",
      "Epoch 60/100\n",
      "391/391 [==============================] - 6s 14ms/step - loss: 0.5877 - accuracy: 0.8084 - val_loss: 0.5574 - val_accuracy: 0.8139\n",
      "Epoch 61/100\n",
      "391/391 [==============================] - 6s 15ms/step - loss: 0.5806 - accuracy: 0.8097 - val_loss: 0.5666 - val_accuracy: 0.8155\n",
      "Epoch 62/100\n",
      "391/391 [==============================] - 6s 15ms/step - loss: 0.5808 - accuracy: 0.8084 - val_loss: 0.5621 - val_accuracy: 0.8150\n",
      "Epoch 63/100\n",
      "391/391 [==============================] - 6s 15ms/step - loss: 0.5793 - accuracy: 0.8127 - val_loss: 0.5746 - val_accuracy: 0.8125\n",
      "Epoch 64/100\n",
      "391/391 [==============================] - 6s 15ms/step - loss: 0.5717 - accuracy: 0.8132 - val_loss: 0.5408 - val_accuracy: 0.8179\n",
      "Epoch 65/100\n",
      "391/391 [==============================] - 6s 14ms/step - loss: 0.5704 - accuracy: 0.8145 - val_loss: 0.5534 - val_accuracy: 0.8142\n",
      "Epoch 66/100\n",
      "391/391 [==============================] - 6s 15ms/step - loss: 0.5692 - accuracy: 0.8127 - val_loss: 0.5672 - val_accuracy: 0.8148\n",
      "Epoch 67/100\n",
      "391/391 [==============================] - 6s 15ms/step - loss: 0.5702 - accuracy: 0.8143 - val_loss: 0.5660 - val_accuracy: 0.8156\n",
      "Epoch 68/100\n",
      "391/391 [==============================] - 6s 15ms/step - loss: 0.5621 - accuracy: 0.8160 - val_loss: 0.5657 - val_accuracy: 0.8168\n",
      "Epoch 69/100\n",
      "391/391 [==============================] - 6s 15ms/step - loss: 0.5711 - accuracy: 0.8142 - val_loss: 0.5691 - val_accuracy: 0.8128\n",
      "Epoch 70/100\n",
      "391/391 [==============================] - 6s 15ms/step - loss: 0.5623 - accuracy: 0.8146 - val_loss: 0.5602 - val_accuracy: 0.8141\n",
      "Epoch 71/100\n",
      "391/391 [==============================] - 6s 14ms/step - loss: 0.5648 - accuracy: 0.8166 - val_loss: 0.5820 - val_accuracy: 0.8165\n",
      "Epoch 72/100\n",
      "391/391 [==============================] - 6s 15ms/step - loss: 0.5604 - accuracy: 0.8174 - val_loss: 0.5811 - val_accuracy: 0.8095\n",
      "Epoch 73/100\n",
      "391/391 [==============================] - 6s 15ms/step - loss: 0.5616 - accuracy: 0.8176 - val_loss: 0.5698 - val_accuracy: 0.8170\n",
      "Epoch 74/100\n",
      "391/391 [==============================] - 6s 14ms/step - loss: 0.5424 - accuracy: 0.8224 - val_loss: 0.5902 - val_accuracy: 0.8088\n",
      "Epoch 75/100\n",
      "391/391 [==============================] - 6s 15ms/step - loss: 0.5484 - accuracy: 0.8211 - val_loss: 0.5670 - val_accuracy: 0.8107\n",
      "Epoch 76/100\n",
      "391/391 [==============================] - 6s 15ms/step - loss: 0.5522 - accuracy: 0.8196 - val_loss: 0.5890 - val_accuracy: 0.8044\n",
      "Epoch 77/100\n",
      "391/391 [==============================] - 6s 15ms/step - loss: 0.5474 - accuracy: 0.8226 - val_loss: 0.5472 - val_accuracy: 0.8228\n",
      "Epoch 78/100\n",
      "391/391 [==============================] - 6s 15ms/step - loss: 0.5515 - accuracy: 0.8203 - val_loss: 0.5548 - val_accuracy: 0.8222\n",
      "Epoch 79/100\n",
      "391/391 [==============================] - 6s 15ms/step - loss: 0.5550 - accuracy: 0.8195 - val_loss: 0.5551 - val_accuracy: 0.8193\n",
      "Epoch 80/100\n",
      "391/391 [==============================] - 6s 14ms/step - loss: 0.5399 - accuracy: 0.8232 - val_loss: 0.5484 - val_accuracy: 0.8218\n",
      "Epoch 81/100\n",
      "391/391 [==============================] - 6s 15ms/step - loss: 0.5448 - accuracy: 0.8234 - val_loss: 0.5704 - val_accuracy: 0.8145\n",
      "Epoch 82/100\n",
      "391/391 [==============================] - 6s 15ms/step - loss: 0.5508 - accuracy: 0.8195 - val_loss: 0.5388 - val_accuracy: 0.8199\n",
      "Epoch 83/100\n",
      "391/391 [==============================] - 6s 15ms/step - loss: 0.5482 - accuracy: 0.8215 - val_loss: 0.5496 - val_accuracy: 0.8191\n",
      "Epoch 84/100\n",
      "391/391 [==============================] - 6s 15ms/step - loss: 0.5442 - accuracy: 0.8234 - val_loss: 0.5575 - val_accuracy: 0.8190\n",
      "Epoch 85/100\n",
      "391/391 [==============================] - 6s 14ms/step - loss: 0.5485 - accuracy: 0.8202 - val_loss: 0.5885 - val_accuracy: 0.8044\n",
      "Epoch 86/100\n",
      "391/391 [==============================] - 6s 15ms/step - loss: 0.5438 - accuracy: 0.8242 - val_loss: 0.5707 - val_accuracy: 0.8177\n",
      "Epoch 87/100\n",
      "391/391 [==============================] - 6s 15ms/step - loss: 0.5367 - accuracy: 0.8243 - val_loss: 0.5793 - val_accuracy: 0.8121\n",
      "Epoch 88/100\n",
      "391/391 [==============================] - 6s 15ms/step - loss: 0.5321 - accuracy: 0.8258 - val_loss: 0.5639 - val_accuracy: 0.8140\n",
      "Epoch 89/100\n",
      "391/391 [==============================] - 6s 15ms/step - loss: 0.5363 - accuracy: 0.8269 - val_loss: 0.5787 - val_accuracy: 0.8131\n",
      "Epoch 90/100\n",
      "391/391 [==============================] - 6s 15ms/step - loss: 0.5379 - accuracy: 0.8272 - val_loss: 0.5429 - val_accuracy: 0.8247\n",
      "Epoch 91/100\n",
      "391/391 [==============================] - 6s 15ms/step - loss: 0.5355 - accuracy: 0.8274 - val_loss: 0.5360 - val_accuracy: 0.8170\n",
      "Epoch 92/100\n",
      "391/391 [==============================] - 6s 14ms/step - loss: 0.5356 - accuracy: 0.8265 - val_loss: 0.5405 - val_accuracy: 0.8212\n",
      "Epoch 93/100\n",
      "391/391 [==============================] - 6s 14ms/step - loss: 0.5269 - accuracy: 0.8289 - val_loss: 0.5913 - val_accuracy: 0.8089\n",
      "Epoch 94/100\n",
      "391/391 [==============================] - 6s 15ms/step - loss: 0.5286 - accuracy: 0.8277 - val_loss: 0.5885 - val_accuracy: 0.8109\n",
      "Epoch 95/100\n",
      "391/391 [==============================] - 6s 15ms/step - loss: 0.5401 - accuracy: 0.8258 - val_loss: 0.5604 - val_accuracy: 0.8197\n",
      "Epoch 96/100\n",
      "391/391 [==============================] - 6s 15ms/step - loss: 0.5304 - accuracy: 0.8287 - val_loss: 0.5543 - val_accuracy: 0.8198\n",
      "Epoch 97/100\n",
      "391/391 [==============================] - 6s 15ms/step - loss: 0.5190 - accuracy: 0.8335 - val_loss: 0.5382 - val_accuracy: 0.8242\n",
      "Epoch 98/100\n",
      "391/391 [==============================] - 6s 15ms/step - loss: 0.5309 - accuracy: 0.8271 - val_loss: 0.5718 - val_accuracy: 0.8181\n",
      "Epoch 99/100\n",
      "391/391 [==============================] - 6s 15ms/step - loss: 0.5185 - accuracy: 0.8310 - val_loss: 0.5533 - val_accuracy: 0.8221\n",
      "Epoch 100/100\n",
      "391/391 [==============================] - 6s 15ms/step - loss: 0.5211 - accuracy: 0.8321 - val_loss: 0.5482 - val_accuracy: 0.8212\n",
      "elapsed time =>  0:10:23.786305\n"
     ]
    }
   ],
   "source": [
    "from datetime import datetime\n",
    "\n",
    "start_time = datetime.now()\n",
    "\n",
    "hist = cnn.fit(x_train, y_train, batch_size=128, \n",
    "               epochs=100, validation_data=(x_test, y_test))\n",
    "\n",
    "end_time = datetime.now()\n",
    "\n",
    "print('elapsed time => ', end_time-start_time)"
   ]
  },
  {
   "cell_type": "code",
   "execution_count": 6,
   "metadata": {
    "colab": {
     "base_uri": "https://localhost:8080/"
    },
    "id": "TNQbhxp_yOU4",
    "outputId": "caf7286f-f8a9-49a1-f84b-006397f7deb1"
   },
   "outputs": [
    {
     "name": "stdout",
     "output_type": "stream",
     "text": [
      "313/313 [==============================] - 1s 3ms/step - loss: 0.5482 - accuracy: 0.8212\n"
     ]
    },
    {
     "data": {
      "text/plain": [
       "[0.5482078194618225, 0.8212000131607056]"
      ]
     },
     "execution_count": 6,
     "metadata": {},
     "output_type": "execute_result"
    }
   ],
   "source": [
    "cnn.evaluate(x_test, y_test)"
   ]
  },
  {
   "cell_type": "code",
   "execution_count": 7,
   "metadata": {
    "colab": {
     "base_uri": "https://localhost:8080/",
     "height": 295
    },
    "id": "z7hIF36fyR6O",
    "outputId": "cc1b5fc2-35b8-40e4-a5c8-f7422e509a74"
   },
   "outputs": [
    {
     "data": {
      "image/png": "[encoded data removed]",
      "text/plain": [
       "<Figure size 432x288 with 1 Axes>"
      ]
     },
     "metadata": {
      "needs_background": "light"
     },
     "output_type": "display_data"
    }
   ],
   "source": [
    "import matplotlib.pyplot as plt\n",
    "\n",
    "plt.plot(hist.history['accuracy'])\n",
    "plt.plot(hist.history['val_accuracy'])\n",
    "plt.title('Accuracy Trend')\n",
    "plt.ylabel('accuracy')\n",
    "plt.xlabel('epoch')\n",
    "plt.legend(['train','validation'], loc='best')\n",
    "plt.grid()\n",
    "plt.show()"
   ]
  },
  {
   "cell_type": "code",
   "execution_count": 8,
   "metadata": {
    "colab": {
     "base_uri": "https://localhost:8080/",
     "height": 295
    },
    "id": "ikuZTLbMybAQ",
    "outputId": "28ceffda-6da7-4db6-ca74-c3f3cc4f9b83"
   },
   "outputs": [
    {
     "data": {
      "image/png": "[encoded data removed]",
      "text/plain": [
       "<Figure size 432x288 with 1 Axes>"
      ]
     },
     "metadata": {
      "needs_background": "light"
     },
     "output_type": "display_data"
    }
   ],
   "source": [
    "plt.plot(hist.history['loss'])\n",
    "plt.plot(hist.history['val_loss'])\n",
    "plt.title('Loss Trend')\n",
    "plt.ylabel('loss')\n",
    "plt.xlabel('epoch')\n",
    "plt.legend(['train','validation'], loc='best')\n",
    "plt.grid()\n",
    "plt.show()"
   ]
  },
  {
   "cell_type": "code",
   "execution_count": 9,
   "metadata": {
    "colab": {
     "base_uri": "https://localhost:8080/"
    },
    "id": "PByUMR0n0Z8B",
    "outputId": "b2083459-42ce-49b0-bf41-391afeab679e"
   },
   "outputs": [
    {
     "name": "stdout",
     "output_type": "stream",
     "text": [
      "Done !!!\n"
     ]
    }
   ],
   "source": [
    "# 모델 저장\n",
    "\n",
    "try:\n",
    "    cnn.save('./cifar10_accuracy_80.h5')\n",
    "    print('Done !!!')\n",
    "\n",
    "except Exception as err:\n",
    "\n",
    "    print(str(err))"
   ]
  },
  {
   "cell_type": "code",
   "execution_count": null,
   "metadata": {
    "id": "Lv6aur79Ky2L"
   },
   "outputs": [],
   "source": []
  }
 ],
 "metadata": {
  "accelerator": "GPU",
  "colab": {
   "collapsed_sections": [],
   "name": "CIFAR10_Project1.ipynb",
   "provenance": []
  },
  "kernelspec": {
   "display_name": "Python 3 (ipykernel)",
   "language": "python",
   "name": "python3"
  },
  "language_info": {
   "codemirror_mode": {
    "name": "ipython",
    "version": 3
   },
   "file_extension": ".py",
   "mimetype": "text/x-python",
   "name": "python",
   "nbconvert_exporter": "python",
   "pygments_lexer": "ipython3",
   "version": "3.9.12"
  }
 },
 "nbformat": 4,
 "nbformat_minor": 1
}
