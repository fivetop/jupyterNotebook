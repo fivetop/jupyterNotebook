{
  "cells": [
    {
      "cell_type": "markdown",
      "metadata": {
        "id": "view-in-github",
        "colab_type": "text"
      },
      "source": [
        "<a href=\"https://colab.research.google.com/github/fivetop/romee/blob/main/Python_sps_LinearRegression_Example.ipynb\" target=\"_parent\"><img src=\"https://colab.research.google.com/assets/colab-badge.svg\" alt=\"Open In Colab\"/></a>"
      ]
    },
    {
      "cell_type": "markdown",
      "metadata": {
        "id": "cJrKO-pINB-v"
      },
      "source": [
        "### 4개의 입력데이터 연산 (A1-A2+A3-A4) 예측하는 Linear Regression Batch 예제"
      ]
    },
    {
      "cell_type": "markdown",
      "source": [
        "### data definition"
      ],
      "metadata": {
        "id": "NXhuxscyNMFd"
      }
    },
    {
      "cell_type": "code",
      "execution_count": null,
      "metadata": {
        "colab": {
          "base_uri": "https://localhost:8080/"
        },
        "id": "Nm-_94JYNB_H",
        "outputId": "c27861df-189a-4cc2-87b5-ae3e1285553b"
      },
      "outputs": [
        {
          "output_type": "stream",
          "name": "stdout",
          "text": [
            "loaded_data.ndim =  2 , loaded_data.shape =  (50, 5)\n",
            "x_data.ndim =  2 , x_data.shape =  (50, 4)\n",
            "t_data.ndim =  2 , t_data.shape =  (50, 1)\n"
          ]
        }
      ],
      "source": [
        "import numpy as np\n",
        "from datetime import datetime\n",
        "\n",
        "loaded_data = np.loadtxt('./sps.csv', delimiter=',', dtype=np.float32)\n",
        "\n",
        "x_data = loaded_data[ :, 1:]\n",
        "t_data = loaded_data[ :, [0]]\n",
        "\n",
        "# 데이터 차원 및 shape 확인\n",
        "print(\"loaded_data.ndim = \", loaded_data.ndim, \", loaded_data.shape = \", loaded_data.shape)\n",
        "print(\"x_data.ndim = \", x_data.ndim, \", x_data.shape = \", x_data.shape)\n",
        "print(\"t_data.ndim = \", t_data.ndim, \", t_data.shape = \", t_data.shape) "
      ]
    },
    {
      "cell_type": "markdown",
      "source": [
        "## initialize weights and bias"
      ],
      "metadata": {
        "id": "c0v1B4YZNShN"
      }
    },
    {
      "cell_type": "code",
      "execution_count": null,
      "metadata": {
        "id": "rvZmnbXVNB_N"
      },
      "outputs": [],
      "source": [
        "np.random.seed(0)\n",
        "\n",
        "W = np.random.rand(4,1)  \n",
        "b = np.random.rand(1)  "
      ]
    },
    {
      "cell_type": "code",
      "source": [
        "print(\"W = \", W, \", W.shape = \", W.shape, \", b = \", b, \", b.shape = \", b.shape)"
      ],
      "metadata": {
        "colab": {
          "base_uri": "https://localhost:8080/"
        },
        "id": "tgYm4vCa-Vd7",
        "outputId": "ea38abed-2647-4046-e97e-076286d119fd"
      },
      "execution_count": null,
      "outputs": [
        {
          "output_type": "stream",
          "name": "stdout",
          "text": [
            "W =  [[0.5488135 ]\n",
            " [0.71518937]\n",
            " [0.60276338]\n",
            " [0.54488318]] , W.shape =  (4, 1) , b =  [0.4236548] , b.shape =  (1,)\n"
          ]
        }
      ]
    },
    {
      "cell_type": "markdown",
      "source": [
        "## define loss function and output, y"
      ],
      "metadata": {
        "id": "CRk7220zNeqJ"
      }
    },
    {
      "cell_type": "code",
      "execution_count": null,
      "metadata": {
        "id": "6h-6zXtZNB_P"
      },
      "outputs": [],
      "source": [
        "def loss_func(x, t):\n",
        "    \n",
        "    y = np.dot(x,W) + b\n",
        "    \n",
        "    return ( np.sum( (t - y)**2 ) ) / ( len(x) )"
      ]
    },
    {
      "cell_type": "code",
      "execution_count": null,
      "metadata": {
        "id": "rtTPkawENB_R"
      },
      "outputs": [],
      "source": [
        "def numerical_derivative(f, x):\n",
        "    delta_x = 1e-4 # 0.0001\n",
        "    grad = np.zeros_like(x)\n",
        "    \n",
        "    it = np.nditer(x, flags=['multi_index'], op_flags=['readwrite'])\n",
        "    \n",
        "    while not it.finished:\n",
        "        idx = it.multi_index        \n",
        "        tmp_val = x[idx]\n",
        "        x[idx] = float(tmp_val) + delta_x\n",
        "        fx1 = f(x) # f(x+delta_x)\n",
        "        \n",
        "        x[idx] = float(tmp_val) - delta_x \n",
        "        fx2 = f(x) # f(x-delta_x)\n",
        "        grad[idx] = (fx1 - fx2) / (2*delta_x)\n",
        "        \n",
        "        x[idx] = tmp_val \n",
        "        it.iternext()   \n",
        "        \n",
        "    return grad"
      ]
    },
    {
      "cell_type": "markdown",
      "source": [
        "## learning"
      ],
      "metadata": {
        "id": "P1Z0Z9j-NwCA"
      }
    },
    {
      "cell_type": "code",
      "execution_count": null,
      "metadata": {
        "colab": {
          "base_uri": "https://localhost:8080/"
        },
        "id": "Jfl1gz3fNB_c",
        "outputId": "f53ec16d-7bb5-4e1e-862a-a6616fc01fbe"
      },
      "outputs": [
        {
          "output_type": "stream",
          "name": "stdout",
          "text": [
            "Initial loss value =  64.38302549674624 Initial W =  [[0.5488135 ]\n",
            " [0.71518937]\n",
            " [0.60276338]\n",
            " [0.54488318]] \n",
            " , b =  [0.4236548]\n",
            "step =  0 loss value =  33.91925396320136\n",
            "step =  500 loss value =  1.1402962624026252e-06\n",
            "step =  1000 loss value =  2.5047031755403355e-11\n",
            "step =  1500 loss value =  5.501673661157898e-16\n",
            "step =  2000 loss value =  1.2084681492942894e-20\n",
            "\n",
            "Elapsed Time =>  0:00:00.405205\n"
          ]
        }
      ],
      "source": [
        "learning_rate = 1e-2  # \n",
        "\n",
        "f = lambda x : loss_func(x_data,t_data)\n",
        "\n",
        "print(\"Initial loss value = \", loss_func(x_data, t_data), \"Initial W = \", W, \"\\n\", \", b = \", b )\n",
        "\n",
        "start_time = datetime.now()\n",
        "\n",
        "for step in  range(2001):    \n",
        "        \n",
        "    W -= learning_rate * numerical_derivative(f, W)\n",
        "    \n",
        "    b -= learning_rate * numerical_derivative(f, b)\n",
        "   \n",
        "    if (step % 500 == 0):\n",
        "        print(\"step = \", step, \"loss value = \", loss_func(x_data, t_data) )\n",
        "        \n",
        "end_time = datetime.now()\n",
        "        \n",
        "print(\"\")\n",
        "print(\"Elapsed Time => \", end_time - start_time)"
      ]
    },
    {
      "cell_type": "code",
      "source": [
        "print(W)\n",
        "print(b)"
      ],
      "metadata": {
        "colab": {
          "base_uri": "https://localhost:8080/"
        },
        "id": "lrenRpCx8rnc",
        "outputId": "f063e0ae-af3f-41ff-9766-b03ff525743c"
      },
      "execution_count": null,
      "outputs": [
        {
          "output_type": "stream",
          "name": "stdout",
          "text": [
            "[[ 1.]\n",
            " [-1.]\n",
            " [ 1.]\n",
            " [-1.]]\n",
            "[1.491869e-10]\n"
          ]
        }
      ]
    },
    {
      "cell_type": "markdown",
      "source": [
        "## evaluate and predict"
      ],
      "metadata": {
        "id": "fKiwSBsEN0Pm"
      }
    },
    {
      "cell_type": "code",
      "source": [
        "# 학습을 마친 후, 임의의 데이터에 대해 미래 값 예측 함수\n",
        "# 입력변수 x : numpy type\n",
        "\n",
        "def predict(x):\n",
        "    y = np.dot(x,W) + b\n",
        "    \n",
        "    return y"
      ],
      "metadata": {
        "id": "ZWvNo66gN30W"
      },
      "execution_count": null,
      "outputs": []
    },
    {
      "cell_type": "code",
      "execution_count": null,
      "metadata": {
        "colab": {
          "base_uri": "https://localhost:8080/"
        },
        "id": "Z680IDClNB_g",
        "outputId": "adf1d330-897d-489a-e8ce-3a985a0ba396"
      },
      "outputs": [
        {
          "output_type": "stream",
          "name": "stdout",
          "text": [
            "predicted value =  [-1.58726218e-11]\n"
          ]
        }
      ],
      "source": [
        "ex_data_01 = np.array([4, 4, 4, 4])    #  4 - 4 + 4 - 4 = 0\n",
        "\n",
        "print(\"predicted value = \", predict(ex_data_01) ) "
      ]
    },
    {
      "cell_type": "code",
      "execution_count": null,
      "metadata": {
        "colab": {
          "base_uri": "https://localhost:8080/"
        },
        "id": "s9HXxtTUNB_i",
        "outputId": "c39016ac-b698-4bbc-e652-807d42ac9eb4"
      },
      "outputs": [
        {
          "output_type": "stream",
          "name": "stdout",
          "text": [
            "predicted value =  [7.]\n"
          ]
        }
      ],
      "source": [
        "ex_data_02 = np.array([-3, 0, 9, -1])    #  -3 -0 +9 -(-1) = 7\n",
        "\n",
        "print(\"predicted value = \", predict(ex_data_02) ) "
      ]
    },
    {
      "cell_type": "code",
      "execution_count": null,
      "metadata": {
        "colab": {
          "base_uri": "https://localhost:8080/"
        },
        "id": "CYp10NQiNB_l",
        "outputId": "cb32e44f-0d75-499d-af2c-c3bbf169017c"
      },
      "outputs": [
        {
          "output_type": "stream",
          "name": "stdout",
          "text": [
            "predicted value =  [-8.]\n"
          ]
        }
      ],
      "source": [
        "ex_data_03 = np.array([-7, -9, -2, 8])   # -7 -(-9) + (-2) -8 = -8\n",
        "\n",
        "print(\"predicted value = \", predict(ex_data_03) ) "
      ]
    },
    {
      "cell_type": "code",
      "execution_count": null,
      "metadata": {
        "colab": {
          "base_uri": "https://localhost:8080/"
        },
        "id": "WCYP69aGNB_n",
        "outputId": "be8c9bd4-be53-447c-ac86-fefec3b04b41"
      },
      "outputs": [
        {
          "output_type": "stream",
          "name": "stdout",
          "text": [
            "predicted value =  [8.]\n"
          ]
        }
      ],
      "source": [
        "ex_data_04 = np.array([1, -2, 3, -2])   # 1 -(-2) + 3 -(-2) = 8\n",
        "\n",
        "print(\"predicted value = \", predict(ex_data_04) ) "
      ]
    },
    {
      "cell_type": "code",
      "execution_count": null,
      "metadata": {
        "colab": {
          "base_uri": "https://localhost:8080/"
        },
        "id": "BqChYYioNB_s",
        "outputId": "14c1526d-bf6b-427b-f33d-ee1292ba5a98"
      },
      "outputs": [
        {
          "output_type": "stream",
          "name": "stdout",
          "text": [
            "predicted value =  [107.]\n"
          ]
        }
      ],
      "source": [
        "ex_data_05 = np.array([19, -12, 0, -76])   # 19 -(-12) + 0 -(-76) = 107\n",
        "\n",
        "print(\"predicted value = \", predict(ex_data_05) ) "
      ]
    },
    {
      "cell_type": "code",
      "execution_count": null,
      "metadata": {
        "id": "6z1DEwutNB_3"
      },
      "outputs": [],
      "source": []
    }
  ],
  "metadata": {
    "anaconda-cloud": {},
    "kernelspec": {
      "display_name": "Python 3",
      "language": "python",
      "name": "python3"
    },
    "language_info": {
      "codemirror_mode": {
        "name": "ipython",
        "version": 3
      },
      "file_extension": ".py",
      "mimetype": "text/x-python",
      "name": "python",
      "nbconvert_exporter": "python",
      "pygments_lexer": "ipython3",
      "version": "3.7.3"
    },
    "colab": {
      "provenance": [],
      "collapsed_sections": [],
      "include_colab_link": true
    }
  },
  "nbformat": 4,
  "nbformat_minor": 0
}