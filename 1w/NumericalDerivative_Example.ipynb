{
 "cells": [
  {
   "cell_type": "markdown",
   "metadata": {
    "id": "JY3IDuifIIiN"
   },
   "source": [
    "## 미분 예제\n",
    "\n",
    "\n",
    "### [예제1] f(x) = x**2 미분"
   ]
  },
  {
   "cell_type": "code",
   "execution_count": 1,
   "metadata": {
    "id": "Y1TRQNxrIIiQ"
   },
   "outputs": [],
   "source": [
    "import numpy as np\n",
    "\n",
    "def numerical_derivative(f, x):    \n",
    "    delta_x = 1e-4 \n",
    "    grad = np.zeros_like(x)\n",
    "    \n",
    "    it = np.nditer(x, flags=['multi_index'], op_flags=['readwrite'])\n",
    "    \n",
    "    while not it.finished:\n",
    "        idx = it.multi_index\n",
    "        \n",
    "        print(\"debug 3. idx = \", idx, \", x[idx] = \", x[idx])   \n",
    "        \n",
    "        tmp_val = x[idx]\n",
    "        x[idx] = float(tmp_val) + delta_x\n",
    "        fx1 = f(x)   # f(x+delta_x)\n",
    "        \n",
    "        x[idx] = float(tmp_val) - delta_x \n",
    "        fx2 = f(x)   # f(x-delta_x)\n",
    "        grad[idx] = (fx1 - fx2) / (2*delta_x)\n",
    "        \n",
    "        x[idx] = tmp_val\n",
    "        it.iternext()   \n",
    "        \n",
    "    return grad"
   ]
  },
  {
   "cell_type": "code",
   "execution_count": 2,
   "metadata": {
    "colab": {
     "base_uri": "https://localhost:8080/"
    },
    "id": "zZk-th1zIIiS",
    "outputId": "ffa5e83b-161a-4683-b26e-d49c9f29b4e7"
   },
   "outputs": [
    {
     "name": "stdout",
     "output_type": "stream",
     "text": [
      "debug 3. idx =  (0,) , x[idx] =  3.0\n",
      "type(ret) =  <class 'numpy.ndarray'> , ret_val =  [6.]\n"
     ]
    }
   ],
   "source": [
    "# 입력변수 1 개인 함수 f(x) = x**2\n",
    "\n",
    "def func1(W):    \n",
    "    \n",
    "    x = W\n",
    "    \n",
    "    return  x**2  \n",
    "\n",
    "\n",
    "# lambda function 정의\n",
    "f = lambda W : func1(W)\n",
    "\n",
    "W = np.array([3.0])\n",
    "\n",
    "# x = 3.0 에서의 편미분 값\n",
    "ret = numerical_derivative( f, W ) \n",
    "\n",
    "print('type(ret) = ', type(ret), ', ret_val = ', ret) "
   ]
  },
  {
   "cell_type": "markdown",
   "metadata": {
    "id": "JACPxoITIIiV"
   },
   "source": [
    "### [예제 2]  f(x,y) = 2x + 3xy + y^3 편미분"
   ]
  },
  {
   "cell_type": "code",
   "execution_count": 3,
   "metadata": {
    "colab": {
     "base_uri": "https://localhost:8080/"
    },
    "id": "nEeBCkx0IIiW",
    "outputId": "32971161-ba8f-4b6c-c820-5ee8b3878abf"
   },
   "outputs": [
    {
     "name": "stdout",
     "output_type": "stream",
     "text": [
      "debug 3. idx =  (0,) , x[idx] =  1.0\n",
      "debug 3. idx =  (1,) , x[idx] =  2.0\n",
      "[ 8.         15.00000001]\n"
     ]
    }
   ],
   "source": [
    "# 입력변수 2 개인 함수 f(x, y) = 2x + 3xy + y^3\n",
    "def func2(W):    \n",
    "    \n",
    "    x = W[0]\n",
    "    y = W[1] \n",
    "    \n",
    "    return  ( 2*x + 3*x*y + np.power(y,3) )   \n",
    "\n",
    "# lambda function 정의\n",
    "f = lambda W : func2(W)\n",
    "\n",
    "# (x,y) = (1.0, 2.0) 에서의 편미분 값\n",
    "W = np.array([1.0, 2.0]) \n",
    "\n",
    "ret = numerical_derivative( f, W ) \n",
    "\n",
    "print(ret)"
   ]
  },
  {
   "cell_type": "markdown",
   "metadata": {
    "id": "SwDiUAg4IIiY"
   },
   "source": [
    "### [예제 3]"
   ]
  },
  {
   "cell_type": "code",
   "execution_count": 4,
   "metadata": {
    "colab": {
     "base_uri": "https://localhost:8080/"
    },
    "id": "npPUYMUCIIiY",
    "outputId": "0709112b-ea0e-4062-e3fe-7d448fd6ecb5"
   },
   "outputs": [
    {
     "name": "stdout",
     "output_type": "stream",
     "text": [
      "debug 3. idx =  (0, 0) , x[idx] =  1.0\n",
      "debug 3. idx =  (0, 1) , x[idx] =  2.0\n",
      "debug 3. idx =  (1, 0) , x[idx] =  3.0\n",
      "debug 3. idx =  (1, 1) , x[idx] =  4.0\n",
      "[[ 5. 13.]\n",
      " [32. 15.]]\n"
     ]
    }
   ],
   "source": [
    "# 입력변수 4 개인 함수 \n",
    "# f(w,x,y,z) = wx + xyz + 3w + zy^2\n",
    "# input_data 는 행렬\n",
    "\n",
    "def func(input_data):    \n",
    "    \n",
    "    w = input_data[0, 0]\n",
    "    x = input_data[0, 1] \n",
    "    y = input_data[1, 0]\n",
    "    z = input_data[1, 1] \n",
    "    \n",
    "    return  ( w*x + x*y*z + 3*w + z*np.power(y,2) )   \n",
    "\n",
    "# lambda function 정의\n",
    "f = lambda W : func(W)\n",
    "\n",
    "# 입력을 2X2 행렬로 구성함\n",
    "input_data = np.array([ [1.0, 2.0], [3.0, 4.0] ]) \n",
    "\n",
    "ret = numerical_derivative( f, input_data ) \n",
    "\n",
    "print(ret)"
   ]
  }
 ],
 "metadata": {
  "anaconda-cloud": {},
  "colab": {
   "collapsed_sections": [],
   "name": "NumericalDerivative_Example.ipynb",
   "provenance": []
  },
  "kernelspec": {
   "display_name": "Python 3",
   "language": "python",
   "name": "python3"
  },
  "language_info": {
   "codemirror_mode": {
    "name": "ipython",
    "version": 3
   },
   "file_extension": ".py",
   "mimetype": "text/x-python",
   "name": "python",
   "nbconvert_exporter": "python",
   "pygments_lexer": "ipython3",
   "version": "3.9.13"
  }
 },
 "nbformat": 4,
 "nbformat_minor": 1
}
