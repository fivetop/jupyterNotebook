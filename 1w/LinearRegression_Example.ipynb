{
 "cells": [
  {
   "cell_type": "markdown",
   "metadata": {
    "id": "cJrKO-pINB-v"
   },
   "source": [
    "### 4개의 입력데이터 연산 (A1-A2+A3-A4) 예측하는 Linear Regression Batch 예제"
   ]
  },
  {
   "cell_type": "markdown",
   "metadata": {
    "id": "NXhuxscyNMFd"
   },
   "source": [
    "### data definition"
   ]
  },
  {
   "cell_type": "code",
   "execution_count": 1,
   "metadata": {
    "colab": {
     "base_uri": "https://localhost:8080/"
    },
    "id": "Nm-_94JYNB_H",
    "outputId": "21ccc4d3-20e8-4a3e-ee86-39db2d0a6133"
   },
   "outputs": [
    {
     "name": "stdout",
     "output_type": "stream",
     "text": [
      "loaded_data.ndim =  2 , loaded_data.shape =  (50, 5)\n",
      "x_data.ndim =  2 , x_data.shape =  (50, 4)\n",
      "t_data.ndim =  2 , t_data.shape =  (50, 1)\n"
     ]
    }
   ],
   "source": [
    "import numpy as np\n",
    "from datetime import datetime\n",
    "\n",
    "loaded_data = np.loadtxt('./sps.csv', delimiter=',', dtype=np.float32)\n",
    "\n",
    "x_data = loaded_data[ :, 1:]\n",
    "t_data = loaded_data[ :, [0]]\n",
    "\n",
    "# 데이터 차원 및 shape 확인\n",
    "print(\"loaded_data.ndim = \", loaded_data.ndim, \", loaded_data.shape = \", loaded_data.shape)\n",
    "print(\"x_data.ndim = \", x_data.ndim, \", x_data.shape = \", x_data.shape)\n",
    "print(\"t_data.ndim = \", t_data.ndim, \", t_data.shape = \", t_data.shape) "
   ]
  },
  {
   "cell_type": "markdown",
   "metadata": {
    "id": "c0v1B4YZNShN"
   },
   "source": [
    "## initialize weights and bias"
   ]
  },
  {
   "cell_type": "code",
   "execution_count": 87,
   "metadata": {
    "colab": {
     "base_uri": "https://localhost:8080/"
    },
    "id": "rvZmnbXVNB_N",
    "outputId": "e83245ae-bf74-4714-8a01-6065df9db8ab"
   },
   "outputs": [
    {
     "name": "stdout",
     "output_type": "stream",
     "text": [
      "W =  [[0.5488135 ]\n",
      " [0.71518937]\n",
      " [0.60276338]\n",
      " [0.54488318]] , W.shape =  (4, 1) , b =  [0.4236548] , b.shape =  (1,)\n"
     ]
    }
   ],
   "source": [
    "np.random.seed(0)\n",
    "\n",
    "W = np.random.rand(4,1)  # 4X1 행렬\n",
    "b = np.random.rand(1)  \n",
    "print(\"W = \", W, \", W.shape = \", W.shape, \", b = \", b, \", b.shape = \", b.shape)"
   ]
  },
  {
   "cell_type": "markdown",
   "metadata": {
    "id": "CRk7220zNeqJ"
   },
   "source": [
    "## define loss function and output, y"
   ]
  },
  {
   "cell_type": "code",
   "execution_count": 88,
   "metadata": {
    "id": "6h-6zXtZNB_P"
   },
   "outputs": [],
   "source": [
    "def loss_func(x, t):\n",
    "    \n",
    "    y = np.dot(x,W) + b\n",
    "    \n",
    "    return ( np.sum( (t - y)**2 ) ) / ( len(x) )"
   ]
  },
  {
   "cell_type": "code",
   "execution_count": 89,
   "metadata": {
    "id": "rtTPkawENB_R"
   },
   "outputs": [],
   "source": [
    "def numerical_derivative(f, x):\n",
    "    delta_x = 1e-4 # 0.0001\n",
    "    grad = np.zeros_like(x)\n",
    "    \n",
    "    it = np.nditer(x, flags=['multi_index'], op_flags=['readwrite'])\n",
    "    \n",
    "    while not it.finished:\n",
    "        idx = it.multi_index        \n",
    "        tmp_val = x[idx]\n",
    "        x[idx] = float(tmp_val) + delta_x\n",
    "        fx1 = f(x) # f(x+delta_x)\n",
    "        \n",
    "        x[idx] = float(tmp_val) - delta_x \n",
    "        fx2 = f(x) # f(x-delta_x)\n",
    "        grad[idx] = (fx1 - fx2) / (2*delta_x)\n",
    "        \n",
    "        x[idx] = tmp_val \n",
    "        it.iternext()   \n",
    "        \n",
    "    return grad"
   ]
  },
  {
   "cell_type": "code",
   "execution_count": 90,
   "metadata": {
    "id": "ujn5nDleNB_Y"
   },
   "outputs": [],
   "source": [
    "# 손실함수 값 계산 함수\n",
    "# 입력변수 x, t : numpy type\n",
    "def error_val(x, t):\n",
    "    y = np.dot(x,W) + b\n",
    "    \n",
    "    return ( np.sum( (t - y)**2 ) ) / ( len(x) )"
   ]
  },
  {
   "cell_type": "markdown",
   "metadata": {
    "id": "P1Z0Z9j-NwCA"
   },
   "source": [
    "## learning"
   ]
  },
  {
   "cell_type": "code",
   "execution_count": 91,
   "metadata": {
    "colab": {
     "base_uri": "https://localhost:8080/"
    },
    "id": "Jfl1gz3fNB_c",
    "outputId": "1a4a0d3a-a5d1-4606-ec3e-3ef62c9c5e37"
   },
   "outputs": [
    {
     "name": "stdout",
     "output_type": "stream",
     "text": [
      "Initial error value =  64.38302549674624 Initial W =  [[0.5488135 ]\n",
      " [0.71518937]\n",
      " [0.60276338]\n",
      " [0.54488318]] \n",
      " , b =  [0.4236548]\n",
      "step =  0 error value =  60.604776072341444\n",
      "step =  500 error value =  0.01167190429026227\n",
      "step =  1000 error value =  0.004047845907167936\n",
      "step =  1500 error value =  0.0014043526649038332\n",
      "step =  2000 error value =  0.00048722369128301977\n",
      "step =  2500 error value =  0.00016903654707396402\n",
      "step =  3000 error value =  5.864524808192556e-05\n",
      "step =  3500 error value =  2.0346281216250795e-05\n",
      "step =  4000 error value =  7.0589037112171215e-06\n",
      "step =  4500 error value =  2.4490038781355694e-06\n",
      "step =  5000 error value =  8.496531813563435e-07\n",
      "step =  5500 error value =  2.9477720922949027e-07\n",
      "step =  6000 error value =  1.0226949652836696e-07\n",
      "step =  6500 error value =  3.5481202727676135e-08\n",
      "step =  7000 error value =  1.230978727513882e-08\n",
      "step =  7500 error value =  4.2707363649495105e-09\n",
      "step =  8000 error value =  1.4816819081469759e-09\n",
      "step =  8500 error value =  5.14052165565946e-10\n",
      "step =  9000 error value =  1.7834437166114527e-10\n",
      "step =  9500 error value =  6.187448869478846e-11\n",
      "step =  10000 error value =  2.1466628382414438e-11\n",
      "step =  10500 error value =  7.447595024911832e-12\n",
      "step =  11000 error value =  2.583855772566766e-12\n",
      "step =  11500 error value =  8.964384646654429e-13\n",
      "step =  12000 error value =  3.1100881478795545e-13\n",
      "step =  12500 error value =  1.0790086188891214e-13\n",
      "step =  13000 error value =  3.7434938904037783e-14\n",
      "step =  13500 error value =  1.2987613159065e-14\n",
      "step =  14000 error value =  4.5059000875171345e-15\n",
      "step =  14500 error value =  1.5632692166840009e-15\n",
      "step =  15000 error value =  5.423579204531311e-16\n",
      "step =  15500 error value =  1.8816472159910655e-16\n",
      "step =  16000 error value =  6.528154409141282e-17\n",
      "step =  16500 error value =  2.2648666703984575e-17\n",
      "step =  17000 error value =  7.857690960008845e-18\n",
      "step =  17500 error value =  2.726133322193127e-18\n",
      "step =  18000 error value =  9.458002967175832e-19\n",
      "step =  18500 error value =  3.2813425922981097e-19\n",
      "step =  19000 error value =  1.1384228300504383e-19\n",
      "step =  19500 error value =  3.9496353646178484e-20\n",
      "step =  20000 error value =  1.370281435831186e-20\n",
      "step =  20500 error value =  4.754125218582716e-21\n",
      "step =  21000 error value =  1.6494531600977032e-21\n",
      "step =  21500 error value =  5.723172523227641e-22\n",
      "step =  22000 error value =  1.9859337893496504e-22\n",
      "step =  22500 error value =  6.893889116469676e-23\n",
      "step =  23000 error value =  2.3940569803507154e-23\n",
      "step =  23500 error value =  8.318580669294951e-24\n",
      "step =  24000 error value =  2.8926538754400545e-24\n",
      "step =  24500 error value =  1.007017095562386e-24\n",
      "step =  25000 error value =  3.5189776953551637e-25\n",
      "step =  25500 error value =  1.2368469252287204e-25\n",
      "step =  26000 error value =  4.4692299850792143e-26\n",
      "step =  26500 error value =  1.692665607750921e-26\n",
      "step =  27000 error value =  6.981567293526183e-27\n",
      "step =  27500 error value =  3.257963561703718e-27\n",
      "step =  28000 error value =  1.7847429561181468e-27\n",
      "step =  28500 error value =  1.1894827601256653e-27\n",
      "step =  29000 error value =  9.176150809230155e-28\n",
      "step =  29500 error value =  7.812023703927484e-28\n",
      "step =  30000 error value =  7.296706880293302e-28\n",
      "\n",
      "Elapsed Time =>  0:00:06.304803\n"
     ]
    }
   ],
   "source": [
    "learning_rate = 1e-3  # \n",
    "\n",
    "f = lambda x : loss_func(x_data,t_data)\n",
    "\n",
    "print(\"Initial error value = \", error_val(x_data, t_data), \"Initial W = \", W, \"\\n\", \", b = \", b )\n",
    "\n",
    "start_time = datetime.now()\n",
    "\n",
    "for step in  range(30001):    # 3만번 반복수행\n",
    "    \n",
    "    W -= learning_rate * numerical_derivative(f, W)\n",
    "    \n",
    "    b -= learning_rate * numerical_derivative(f, b)\n",
    "   \n",
    "    if (step % 500 == 0):\n",
    "        print(\"step = \", step, \"error value = \", error_val(x_data, t_data) )\n",
    "        \n",
    "end_time = datetime.now()\n",
    "        \n",
    "print(\"\")\n",
    "print(\"Elapsed Time => \", end_time - start_time)"
   ]
  },
  {
   "cell_type": "code",
   "execution_count": 92,
   "metadata": {
    "colab": {
     "base_uri": "https://localhost:8080/"
    },
    "id": "lrenRpCx8rnc",
    "outputId": "7947d5ab-1d82-406b-ce2c-d654ed69dda5"
   },
   "outputs": [
    {
     "name": "stdout",
     "output_type": "stream",
     "text": [
      "[[ 1.]\n",
      " [-1.]\n",
      " [ 1.]\n",
      " [-1.]]\n",
      "[2.38435128e-14]\n"
     ]
    }
   ],
   "source": [
    "print(W)\n",
    "print(b)"
   ]
  },
  {
   "cell_type": "markdown",
   "metadata": {
    "id": "fKiwSBsEN0Pm"
   },
   "source": [
    "## evaluate and predict"
   ]
  },
  {
   "cell_type": "code",
   "execution_count": 93,
   "metadata": {
    "id": "ZWvNo66gN30W"
   },
   "outputs": [],
   "source": [
    "# 학습을 마친 후, 임의의 데이터에 대해 미래 값 예측 함수\n",
    "# 입력변수 x : numpy type\n",
    "\n",
    "def predict(x):\n",
    "    y = np.dot(x,W) + b\n",
    "    \n",
    "    return y"
   ]
  },
  {
   "cell_type": "code",
   "execution_count": 94,
   "metadata": {
    "colab": {
     "base_uri": "https://localhost:8080/"
    },
    "id": "Z680IDClNB_g",
    "outputId": "facbfb72-e54c-4306-cfa8-a7aaf50832c6"
   },
   "outputs": [
    {
     "name": "stdout",
     "output_type": "stream",
     "text": [
      "predicted value =  [-3.21117277e-14]\n"
     ]
    }
   ],
   "source": [
    "ex_data_01 = np.array([4, 4, 4, 4])    #  4 - 4 + 4 - 4 = 0\n",
    "\n",
    "print(\"predicted value = \", predict(ex_data_01) ) "
   ]
  },
  {
   "cell_type": "code",
   "execution_count": 95,
   "metadata": {
    "colab": {
     "base_uri": "https://localhost:8080/"
    },
    "id": "s9HXxtTUNB_i",
    "outputId": "1002c4fb-3746-4989-adc5-9a703f6dde35"
   },
   "outputs": [
    {
     "name": "stdout",
     "output_type": "stream",
     "text": [
      "predicted value =  [7.]\n"
     ]
    }
   ],
   "source": [
    "ex_data_02 = np.array([-3, 0, 9, -1])    #  -3 -0 +9 -(-1) = 7\n",
    "\n",
    "print(\"predicted value = \", predict(ex_data_02) ) "
   ]
  },
  {
   "cell_type": "code",
   "execution_count": 96,
   "metadata": {
    "colab": {
     "base_uri": "https://localhost:8080/"
    },
    "id": "CYp10NQiNB_l",
    "outputId": "c078f7e4-405b-453d-c011-8d4af54d7a59"
   },
   "outputs": [
    {
     "name": "stdout",
     "output_type": "stream",
     "text": [
      "predicted value =  [-8.]\n"
     ]
    }
   ],
   "source": [
    "ex_data_03 = np.array([-7, -9, -2, 8])   # -7 -(-9) + (-2) -8 = -8\n",
    "\n",
    "print(\"predicted value = \", predict(ex_data_03) ) "
   ]
  },
  {
   "cell_type": "code",
   "execution_count": 97,
   "metadata": {
    "colab": {
     "base_uri": "https://localhost:8080/"
    },
    "id": "WCYP69aGNB_n",
    "outputId": "5e4fb989-ab83-49c9-a01e-01e3d9f021e3"
   },
   "outputs": [
    {
     "name": "stdout",
     "output_type": "stream",
     "text": [
      "predicted value =  [8.]\n"
     ]
    }
   ],
   "source": [
    "ex_data_04 = np.array([1, -2, 3, -2])   # 1 -(-2) + 3 -(-2) = 8\n",
    "\n",
    "print(\"predicted value = \", predict(ex_data_04) ) "
   ]
  },
  {
   "cell_type": "code",
   "execution_count": 98,
   "metadata": {
    "colab": {
     "base_uri": "https://localhost:8080/"
    },
    "id": "BqChYYioNB_s",
    "outputId": "8b7d124b-1e82-46f3-aa18-16ab37d588cc"
   },
   "outputs": [
    {
     "name": "stdout",
     "output_type": "stream",
     "text": [
      "predicted value =  [107.]\n"
     ]
    }
   ],
   "source": [
    "ex_data_05 = np.array([19, -12, 0, -76])   # 19 -(-12) + 0 -(-76) = 107\n",
    "\n",
    "print(\"predicted value = \", predict(ex_data_05) ) "
   ]
  },
  {
   "cell_type": "code",
   "execution_count": 99,
   "metadata": {
    "colab": {
     "base_uri": "https://localhost:8080/"
    },
    "id": "j4Ipuda_NB_u",
    "outputId": "3e72481b-df88-4f2a-bc6f-91c84f4ec51c"
   },
   "outputs": [
    {
     "name": "stdout",
     "output_type": "stream",
     "text": [
      "predicted value =  [2080.]\n"
     ]
    }
   ],
   "source": [
    "ex_data_06 = np.array([2001, -1, 109, 31])   # 2001 -(-1) + 109 -(31) = 2080\n",
    "\n",
    "print(\"predicted value = \", predict(ex_data_06) ) "
   ]
  },
  {
   "cell_type": "code",
   "execution_count": 100,
   "metadata": {
    "colab": {
     "base_uri": "https://localhost:8080/"
    },
    "id": "A8_nvwaPNB_w",
    "outputId": "b323a82a-8717-4330-cdad-d064416b1d78"
   },
   "outputs": [
    {
     "name": "stdout",
     "output_type": "stream",
     "text": [
      "predicted value =  [-1112412.00000001]\n"
     ]
    }
   ],
   "source": [
    "ex_data_07 = np.array([99999, -8911, 10009, 1231331])   # 99999 -(-8911) + 10009 -(1231331) = -1112412\n",
    "\n",
    "print(\"predicted value = \", predict(ex_data_07) ) "
   ]
  },
  {
   "cell_type": "code",
   "execution_count": null,
   "metadata": {
    "id": "6z1DEwutNB_3"
   },
   "outputs": [],
   "source": []
  }
 ],
 "metadata": {
  "anaconda-cloud": {},
  "colab": {
   "collapsed_sections": [],
   "name": "LinearRegression_Example.ipynb",
   "provenance": []
  },
  "kernelspec": {
   "display_name": "Python 3",
   "language": "python",
   "name": "python3"
  },
  "language_info": {
   "codemirror_mode": {
    "name": "ipython",
    "version": 3
   },
   "file_extension": ".py",
   "mimetype": "text/x-python",
   "name": "python",
   "nbconvert_exporter": "python",
   "pygments_lexer": "ipython3",
   "version": "3.9.13"
  }
 },
 "nbformat": 4,
 "nbformat_minor": 1
}
