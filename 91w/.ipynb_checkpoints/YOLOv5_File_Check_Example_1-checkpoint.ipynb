{
 "cells": [
  {
   "cell_type": "markdown",
   "metadata": {
    "id": "L42P7D8tpHIO"
   },
   "source": [
    "## 1. 압축파일 풀기 > test, train, valid 폴더 이미지와 레이블 비교 처리 \n",
    "\n",
    "\n",
    "\n",
    "\n",
    "# ROOT_DIR 설정"
   ]
  },
  {
   "cell_type": "code",
   "execution_count": 1,
   "metadata": {
    "executionInfo": {
     "elapsed": 439,
     "status": "ok",
     "timestamp": 1669445531199,
     "user": {
      "displayName": "Romy Oh",
      "userId": "09196160195813226599"
     },
     "user_tz": -540
    },
    "id": "t3wPatBeoKdv"
   },
   "outputs": [],
   "source": [
    "ROOT_DIR = '/content'    # Colab root dir"
   ]
  },
  {
   "cell_type": "markdown",
   "metadata": {
    "id": "YFFufLoYpKIX"
   },
   "source": [
    "# DATA_ROOT_DIR 설정"
   ]
  },
  {
   "cell_type": "code",
   "execution_count": 4,
   "metadata": {
    "executionInfo": {
     "elapsed": 2,
     "status": "ok",
     "timestamp": 1669445533638,
     "user": {
      "displayName": "Romy Oh",
      "userId": "09196160195813226599"
     },
     "user_tz": -540
    },
    "id": "CTArMydroa3C"
   },
   "outputs": [
    {
     "name": "stdout",
     "output_type": "stream",
     "text": [
      "E:\\jupyterNotebook\\9w\n"
     ]
    }
   ],
   "source": [
    "import os\n",
    "\n",
    "ROOT_DIR = os.getcwd()\n",
    "\n",
    "print(ROOT_DIR)\n",
    "DATA_ROOT_DIR = os.path.join(ROOT_DIR, 'Mask_Data')  # Custom Data"
   ]
  },
  {
   "cell_type": "code",
   "execution_count": 6,
   "metadata": {
    "executionInfo": {
     "elapsed": 2,
     "status": "ok",
     "timestamp": 1669445535845,
     "user": {
      "displayName": "Romy Oh",
      "userId": "09196160195813226599"
     },
     "user_tz": -540
    },
    "id": "mXffXa2AqwGH"
   },
   "outputs": [],
   "source": [
    "import os\n",
    "import shutil\n",
    "\n",
    "if os.path.exists(DATA_ROOT_DIR):\n",
    "    \n",
    "    shutil.rmtree(DATA_ROOT_DIR)\n",
    "    print(DATA_ROOT_DIR + ' is removed !!')"
   ]
  },
  {
   "cell_type": "markdown",
   "metadata": {
    "id": "wiIFve7vpN8Y"
   },
   "source": [
    "# 압축 파일 풀기"
   ]
  },
  {
   "cell_type": "code",
   "execution_count": 7,
   "metadata": {
    "executionInfo": {
     "elapsed": 619,
     "status": "ok",
     "timestamp": 1669445562570,
     "user": {
      "displayName": "Romy Oh",
      "userId": "09196160195813226599"
     },
     "user_tz": -540
    },
    "id": "DgkOQAInohrq"
   },
   "outputs": [],
   "source": [
    "import os\n",
    "import zipfile\n",
    "\n",
    "with zipfile.ZipFile(os.path.join(ROOT_DIR, 'Mask_Data.zip'), 'r') as target_fle:\n",
    "\n",
    "    target_fle.extractall(DATA_ROOT_DIR)"
   ]
  },
  {
   "cell_type": "markdown",
   "metadata": {
    "id": "kbAgKJXUpz2w"
   },
   "source": [
    "# train image / label 개수 및 파일이름 체크\n",
    "# valid image / label 개수 및 파일이름 체크"
   ]
  },
  {
   "cell_type": "code",
   "execution_count": 8,
   "metadata": {
    "executionInfo": {
     "elapsed": 435,
     "status": "ok",
     "timestamp": 1669445567251,
     "user": {
      "displayName": "Romy Oh",
      "userId": "09196160195813226599"
     },
     "user_tz": -540
    },
    "id": "Q9qijEb3pqu0"
   },
   "outputs": [],
   "source": [
    "TRAIN_IMAGE_DATA_DIR = os.path.join(DATA_ROOT_DIR, 'train/images/')\n",
    "TRAIN_LABEL_DATA_DIR = os.path.join(DATA_ROOT_DIR, 'train/labels/')\n",
    "\n",
    "VALID_IMAGE_DATA_DIR = os.path.join(DATA_ROOT_DIR, 'valid/images/')\n",
    "VALID_LABEL_DATA_DIR = os.path.join(DATA_ROOT_DIR, 'valid/labels/')"
   ]
  },
  {
   "cell_type": "markdown",
   "metadata": {
    "id": "VHOKc5mxsLE4"
   },
   "source": [
    "### TRAIN_IMAGE_DATA_DIR, TRAIN_LABEL_DATA_DIR 파일이름 비교\n",
    "\n",
    "## 이미지와 레이블에 이상이 없는지 점검"
   ]
  },
  {
   "cell_type": "code",
   "execution_count": 9,
   "metadata": {
    "colab": {
     "base_uri": "https://localhost:8080/"
    },
    "executionInfo": {
     "elapsed": 507,
     "status": "ok",
     "timestamp": 1669445580275,
     "user": {
      "displayName": "Romy Oh",
      "userId": "09196160195813226599"
     },
     "user_tz": -540
    },
    "id": "S8rJYSX2rgsm",
    "outputId": "5264f4ab-b0db-4bae-9c6a-b9b849d5dfce"
   },
   "outputs": [
    {
     "name": "stdout",
     "output_type": "stream",
     "text": [
      "====================================================================\n",
      "[train] compare image file nums with label file nums\n",
      "====================================================================\n",
      ">>> image is exactly same as label  <<<\n"
     ]
    }
   ],
   "source": [
    "train_image_file_list = []\n",
    "train_label_file_list = []\n",
    "\n",
    "train_image_file_name_list = []\n",
    "train_label_file_name_list = []\n",
    "\n",
    "train_image_file_name_set = set()\n",
    "train_label_file_name_set = set()\n",
    "\n",
    "train_image_label_difference_set = set()\n",
    "train_image_label_intersection_set = set()\n",
    "\n",
    "# train data\n",
    "\n",
    "print('====================================================================')\n",
    "print('[train] compare image file nums with label file nums')\n",
    "print('====================================================================')\n",
    "train_image_file_list = os.listdir(TRAIN_IMAGE_DATA_DIR)\n",
    "train_label_file_list = os.listdir(TRAIN_LABEL_DATA_DIR)\n",
    "\n",
    "train_image_file_list.sort()\n",
    "train_label_file_list.sort()\n",
    "\n",
    "\n",
    "# image file name 추출\n",
    "for index in range(len(train_image_file_list)):\n",
    "    image_name = train_image_file_list[index].split('.jpg')[0] # image file name\n",
    "    train_image_file_name_list.append(image_name)\n",
    "    \n",
    "train_image_file_name_set = set(train_image_file_name_list)  # 이미지 파일 이름 집합생성\n",
    "\n",
    "\n",
    "# label file name 추출\n",
    "for index in range(len(train_label_file_list)):\n",
    "    label_name = train_label_file_list[index].split('.txt')[0]  # label file name\n",
    "    train_label_file_name_list.append(label_name)\n",
    "\n",
    "\n",
    "train_label_file_name_set = set(train_label_file_name_list)  # 정답 파일 이름 집합생성\n",
    "\n",
    "########################################################\n",
    "# image file / label file name 비교\n",
    "########################################################\n",
    "train_image_label_difference_set = train_image_file_name_set - train_label_file_name_set  # 차집합\n",
    "\n",
    "train_image_label_intersection_set = train_image_file_name_set & train_label_file_name_set  # 교집합\n",
    "\n",
    "#####################################################\n",
    "# image file / label file 개수가 같은 경우\n",
    "#####################################################\n",
    "\n",
    "if len(train_image_label_difference_set) == 0:\n",
    "    print('>>> image is exactly same as label  <<<')\n",
    "\n",
    "#####################################################\n",
    "# image file / label file 개수가 다른 경우\n",
    "#####################################################   \n",
    "\n",
    "else:\n",
    "\n",
    "    print('--------------------------------------------------------------------')\n",
    "    print('[train] image file != label file ')\n",
    "    print('--------------------------------------------------------------------')\n",
    "\n",
    "    #########################################\n",
    "    ##  TO-DO\n",
    "    #########################################\n"
   ]
  },
  {
   "cell_type": "markdown",
   "metadata": {
    "id": "uC8ONEE6r_zf"
   },
   "source": [
    "### VALID_IMAGE_DATA_DIR, VALID_LABEL_DATA_DIR 파일이름 비교\n",
    "\n",
    "## 파일 이름을 집합으로 생성 비교처리함."
   ]
  },
  {
   "cell_type": "code",
   "execution_count": 10,
   "metadata": {
    "colab": {
     "base_uri": "https://localhost:8080/"
    },
    "executionInfo": {
     "elapsed": 639,
     "status": "ok",
     "timestamp": 1669445596915,
     "user": {
      "displayName": "Romy Oh",
      "userId": "09196160195813226599"
     },
     "user_tz": -540
    },
    "id": "u_mJwKxLs2F5",
    "outputId": "e461909d-8ebd-4e57-a063-a1cb9f2b598d"
   },
   "outputs": [
    {
     "name": "stdout",
     "output_type": "stream",
     "text": [
      "====================================================================\n",
      "[valid] compare image file nums with label file nums\n",
      "====================================================================\n",
      ">>> image is exactly same as label  <<<\n"
     ]
    }
   ],
   "source": [
    "valid_image_file_list = []\n",
    "valid_label_file_list = []\n",
    "\n",
    "valid_image_file_name_list = []\n",
    "valid_label_file_name_list = []\n",
    "\n",
    "valid_image_file_name_set = set()\n",
    "valid_label_file_name_set = set()\n",
    "\n",
    "valid_image_label_difference_set = set()\n",
    "valid_image_label_intersection_set = set()\n",
    "\n",
    "# valid data\n",
    "\n",
    "print('====================================================================')\n",
    "print('[valid] compare image file nums with label file nums')\n",
    "print('====================================================================')\n",
    "valid_image_file_list = os.listdir(VALID_IMAGE_DATA_DIR)\n",
    "valid_label_file_list = os.listdir(VALID_LABEL_DATA_DIR)\n",
    "\n",
    "valid_image_file_list.sort()\n",
    "valid_label_file_list.sort()\n",
    "\n",
    "\n",
    "# image file name 추출\n",
    "for index in range(len(valid_image_file_list)):\n",
    "    image_name = valid_image_file_list[index].split('.jpg')[0] # image file name\n",
    "    valid_image_file_name_list.append(image_name)\n",
    "    \n",
    "valid_image_file_name_set = set(valid_image_file_name_list)  # 이미지 파일 이름 집합생성\n",
    "\n",
    "\n",
    "# label file name 추출\n",
    "for index in range(len(valid_label_file_list)):\n",
    "    label_name = valid_label_file_list[index].split('.txt')[0]  # label file name\n",
    "    valid_label_file_name_list.append(label_name)\n",
    "\n",
    "\n",
    "valid_label_file_name_set = set(valid_label_file_name_list)  # 정답 파일 이름 집합생성\n",
    "\n",
    "########################################################\n",
    "# image file / label file name 비교\n",
    "########################################################\n",
    "valid_image_label_difference_set = valid_image_file_name_set - valid_label_file_name_set  # 차집합\n",
    "\n",
    "valid_image_label_intersection_set = valid_image_file_name_set & valid_label_file_name_set  # 교집합\n",
    "\n",
    "#####################################################\n",
    "# image file / label file 개수가 같은 경우\n",
    "#####################################################\n",
    "\n",
    "if len(valid_image_label_difference_set) == 0:\n",
    "    print('>>> image is exactly same as label  <<<')\n",
    "\n",
    "#####################################################\n",
    "# image file / label file 개수가 다른 경우\n",
    "#####################################################   \n",
    "\n",
    "else:\n",
    "\n",
    "    print('--------------------------------------------------------------------')\n",
    "    print('[valid] image file != label file')\n",
    "    print('--------------------------------------------------------------------')\n",
    "\n",
    "    #########################################\n",
    "    ##  TO-DO\n",
    "    #########################################\n"
   ]
  },
  {
   "cell_type": "code",
   "execution_count": null,
   "metadata": {
    "id": "63YT5Dn4Exwz"
   },
   "outputs": [],
   "source": []
  }
 ],
 "metadata": {
  "colab": {
   "provenance": []
  },
  "kernelspec": {
   "display_name": "Python 3",
   "language": "python",
   "name": "python3"
  },
  "language_info": {
   "codemirror_mode": {
    "name": "ipython",
    "version": 3
   },
   "file_extension": ".py",
   "mimetype": "text/x-python",
   "name": "python",
   "nbconvert_exporter": "python",
   "pygments_lexer": "ipython3",
   "version": "3.9.13"
  }
 },
 "nbformat": 4,
 "nbformat_minor": 1
}
