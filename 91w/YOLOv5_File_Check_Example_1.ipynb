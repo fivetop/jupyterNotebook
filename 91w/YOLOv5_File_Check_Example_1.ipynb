{
  "nbformat": 4,
  "nbformat_minor": 0,
  "metadata": {
    "colab": {
      "name": "YOLOv5_File_Check_Example_1.ipynb",
      "provenance": [],
      "collapsed_sections": []
    },
    "kernelspec": {
      "name": "python3",
      "display_name": "Python 3"
    },
    "language_info": {
      "name": "python"
    }
  },
  "cells": [
    {
      "cell_type": "markdown",
      "source": [
        "# ROOT_DIR 설정"
      ],
      "metadata": {
        "id": "L42P7D8tpHIO"
      }
    },
    {
      "cell_type": "code",
      "execution_count": 1,
      "metadata": {
        "id": "t3wPatBeoKdv"
      },
      "outputs": [],
      "source": [
        "ROOT_DIR = '/content'    # Colab root dir"
      ]
    },
    {
      "cell_type": "markdown",
      "source": [
        "# DATA_ROOT_DIR 설정"
      ],
      "metadata": {
        "id": "YFFufLoYpKIX"
      }
    },
    {
      "cell_type": "code",
      "source": [
        "import os\n",
        "\n",
        "DATA_ROOT_DIR = os.path.join(ROOT_DIR, 'Mask_Data')  # Custom Data"
      ],
      "metadata": {
        "id": "CTArMydroa3C"
      },
      "execution_count": 2,
      "outputs": []
    },
    {
      "cell_type": "code",
      "source": [
        "import os\n",
        "import shutil\n",
        "\n",
        "if os.path.exists(DATA_ROOT_DIR):\n",
        "    \n",
        "    shutil.rmtree(DATA_ROOT_DIR)\n",
        "    print(DATA_ROOT_DIR + ' is removed !!')"
      ],
      "metadata": {
        "colab": {
          "base_uri": "https://localhost:8080/"
        },
        "id": "mXffXa2AqwGH",
        "outputId": "18428252-d583-41c0-96d6-8376fc77a009"
      },
      "execution_count": 11,
      "outputs": [
        {
          "output_type": "stream",
          "name": "stdout",
          "text": [
            "/content/Mask_Data is removed !!\n"
          ]
        }
      ]
    },
    {
      "cell_type": "markdown",
      "source": [
        "# 압축 파일 풀기"
      ],
      "metadata": {
        "id": "wiIFve7vpN8Y"
      }
    },
    {
      "cell_type": "code",
      "source": [
        "import os\n",
        "import zipfile\n",
        "\n",
        "with zipfile.ZipFile(os.path.join(ROOT_DIR, 'Mask_Data.zip'), 'r') as target_fle:\n",
        "\n",
        "    target_fle.extractall(DATA_ROOT_DIR)"
      ],
      "metadata": {
        "id": "DgkOQAInohrq"
      },
      "execution_count": 12,
      "outputs": []
    },
    {
      "cell_type": "markdown",
      "source": [
        "# train image / label 개수 및 파일이름 체크\n",
        "# valid image / label 개수 및 파일이름 체크"
      ],
      "metadata": {
        "id": "kbAgKJXUpz2w"
      }
    },
    {
      "cell_type": "code",
      "source": [
        "TRAIN_IMAGE_DATA_DIR = os.path.join(DATA_ROOT_DIR, 'train/images/')\n",
        "TRAIN_LABEL_DATA_DIR = os.path.join(DATA_ROOT_DIR, 'train/labels/')\n",
        "\n",
        "VALID_IMAGE_DATA_DIR = os.path.join(DATA_ROOT_DIR, 'valid/images/')\n",
        "VALID_LABEL_DATA_DIR = os.path.join(DATA_ROOT_DIR, 'valid/labels/')"
      ],
      "metadata": {
        "id": "Q9qijEb3pqu0"
      },
      "execution_count": 13,
      "outputs": []
    },
    {
      "cell_type": "markdown",
      "source": [
        "### TRAIN_IMAGE_DATA_DIR, TRAIN_LABEL_DATA_DIR 파일이름 비교"
      ],
      "metadata": {
        "id": "VHOKc5mxsLE4"
      }
    },
    {
      "cell_type": "code",
      "source": [
        "train_image_file_list = []\n",
        "train_label_file_list = []\n",
        "\n",
        "train_image_file_name_list = []\n",
        "train_label_file_name_list = []\n",
        "\n",
        "train_image_file_name_set = set()\n",
        "train_label_file_name_set = set()\n",
        "\n",
        "train_image_label_difference_set = set()\n",
        "train_image_label_intersection_set = set()\n",
        "\n",
        "# train data\n",
        "\n",
        "print('====================================================================')\n",
        "print('[train] compare image file nums with label file nums')\n",
        "print('====================================================================')\n",
        "train_image_file_list = os.listdir(TRAIN_IMAGE_DATA_DIR)\n",
        "train_label_file_list = os.listdir(TRAIN_LABEL_DATA_DIR)\n",
        "\n",
        "train_image_file_list.sort()\n",
        "train_label_file_list.sort()\n",
        "\n",
        "\n",
        "# image file name 추출\n",
        "for index in range(len(train_image_file_list)):\n",
        "    image_name = train_image_file_list[index].split('.jpg')[0] # image file name\n",
        "    train_image_file_name_list.append(image_name)\n",
        "    \n",
        "train_image_file_name_set = set(train_image_file_name_list)  # 이미지 파일 이름 집합생성\n",
        "\n",
        "\n",
        "# label file name 추출\n",
        "for index in range(len(train_label_file_list)):\n",
        "    label_name = train_label_file_list[index].split('.txt')[0]  # label file name\n",
        "    train_label_file_name_list.append(label_name)\n",
        "\n",
        "\n",
        "train_label_file_name_set = set(train_label_file_name_list)  # 정답 파일 이름 집합생성\n",
        "\n",
        "########################################################\n",
        "# image file / label file name 비교\n",
        "########################################################\n",
        "train_image_label_difference_set = train_image_file_name_set - train_label_file_name_set  # 차집합\n",
        "\n",
        "train_image_label_intersection_set = train_image_file_name_set & train_label_file_name_set  # 교집합\n",
        "\n",
        "#####################################################\n",
        "# image file / label file 개수가 같은 경우\n",
        "#####################################################\n",
        "\n",
        "if len(train_image_label_difference_set) == 0:\n",
        "    print('>>> image is exactly same as label  <<<')\n",
        "\n",
        "#####################################################\n",
        "# image file / label file 개수가 다른 경우\n",
        "#####################################################   \n",
        "\n",
        "else:\n",
        "\n",
        "    print('--------------------------------------------------------------------')\n",
        "    print('[train] image file != label file ')\n",
        "    print('--------------------------------------------------------------------')\n",
        "\n",
        "    #########################################\n",
        "    ##  TO-DO\n",
        "    #########################################\n"
      ],
      "metadata": {
        "colab": {
          "base_uri": "https://localhost:8080/"
        },
        "id": "S8rJYSX2rgsm",
        "outputId": "6cc57323-d7db-482c-b04b-231f88081174"
      },
      "execution_count": 14,
      "outputs": [
        {
          "output_type": "stream",
          "name": "stdout",
          "text": [
            "====================================================================\n",
            "[train] compare image file nums with label file nums\n",
            "====================================================================\n",
            ">>> image is exactly same as label  <<<\n"
          ]
        }
      ]
    },
    {
      "cell_type": "markdown",
      "source": [
        "### VALID_IMAGE_DATA_DIR, VALID_LABEL_DATA_DIR 파일이름 비교"
      ],
      "metadata": {
        "id": "uC8ONEE6r_zf"
      }
    },
    {
      "cell_type": "code",
      "source": [
        "valid_image_file_list = []\n",
        "valid_label_file_list = []\n",
        "\n",
        "valid_image_file_name_list = []\n",
        "valid_label_file_name_list = []\n",
        "\n",
        "valid_image_file_name_set = set()\n",
        "valid_label_file_name_set = set()\n",
        "\n",
        "valid_image_label_difference_set = set()\n",
        "valid_image_label_intersection_set = set()\n",
        "\n",
        "# valid data\n",
        "\n",
        "print('====================================================================')\n",
        "print('[valid] compare image file nums with label file nums')\n",
        "print('====================================================================')\n",
        "valid_image_file_list = os.listdir(VALID_IMAGE_DATA_DIR)\n",
        "valid_label_file_list = os.listdir(VALID_LABEL_DATA_DIR)\n",
        "\n",
        "valid_image_file_list.sort()\n",
        "valid_label_file_list.sort()\n",
        "\n",
        "\n",
        "# image file name 추출\n",
        "for index in range(len(valid_image_file_list)):\n",
        "    image_name = valid_image_file_list[index].split('.jpg')[0] # image file name\n",
        "    valid_image_file_name_list.append(image_name)\n",
        "    \n",
        "valid_image_file_name_set = set(valid_image_file_name_list)  # 이미지 파일 이름 집합생성\n",
        "\n",
        "\n",
        "# label file name 추출\n",
        "for index in range(len(valid_label_file_list)):\n",
        "    label_name = valid_label_file_list[index].split('.txt')[0]  # label file name\n",
        "    valid_label_file_name_list.append(label_name)\n",
        "\n",
        "\n",
        "valid_label_file_name_set = set(valid_label_file_name_list)  # 정답 파일 이름 집합생성\n",
        "\n",
        "########################################################\n",
        "# image file / label file name 비교\n",
        "########################################################\n",
        "valid_image_label_difference_set = valid_image_file_name_set - valid_label_file_name_set  # 차집합\n",
        "\n",
        "valid_image_label_intersection_set = valid_image_file_name_set & valid_label_file_name_set  # 교집합\n",
        "\n",
        "#####################################################\n",
        "# image file / label file 개수가 같은 경우\n",
        "#####################################################\n",
        "\n",
        "if len(valid_image_label_difference_set) == 0:\n",
        "    print('>>> image is exactly same as label  <<<')\n",
        "\n",
        "#####################################################\n",
        "# image file / label file 개수가 다른 경우\n",
        "#####################################################   \n",
        "\n",
        "else:\n",
        "\n",
        "    print('--------------------------------------------------------------------')\n",
        "    print('[valid] image file != label file')\n",
        "    print('--------------------------------------------------------------------')\n",
        "\n",
        "    #########################################\n",
        "    ##  TO-DO\n",
        "    #########################################\n"
      ],
      "metadata": {
        "id": "u_mJwKxLs2F5",
        "colab": {
          "base_uri": "https://localhost:8080/"
        },
        "outputId": "b9b86c47-bd5f-4f17-f459-9be54b0c58b6"
      },
      "execution_count": 15,
      "outputs": [
        {
          "output_type": "stream",
          "name": "stdout",
          "text": [
            "====================================================================\n",
            "[valid] compare image file nums with label file nums\n",
            "====================================================================\n",
            ">>> image is exactly same as label  <<<\n"
          ]
        }
      ]
    },
    {
      "cell_type": "code",
      "source": [
        ""
      ],
      "metadata": {
        "id": "63YT5Dn4Exwz"
      },
      "execution_count": null,
      "outputs": []
    }
  ]
}