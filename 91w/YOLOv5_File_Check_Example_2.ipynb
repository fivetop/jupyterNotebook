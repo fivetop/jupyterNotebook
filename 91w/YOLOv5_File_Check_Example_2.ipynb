{
  "nbformat": 4,
  "nbformat_minor": 0,
  "metadata": {
    "colab": {
      "name": "YOLOv5_File_Check_Example_2.ipynb",
      "provenance": [],
      "collapsed_sections": []
    },
    "kernelspec": {
      "name": "python3",
      "display_name": "Python 3"
    },
    "language_info": {
      "name": "python"
    }
  },
  "cells": [
    {
      "cell_type": "markdown",
      "source": [
        "# ROOT_DIR 설정"
      ],
      "metadata": {
        "id": "L42P7D8tpHIO"
      }
    },
    {
      "cell_type": "code",
      "execution_count": 1,
      "metadata": {
        "id": "t3wPatBeoKdv"
      },
      "outputs": [],
      "source": [
        "ROOT_DIR = '/content'    # Colab root dir"
      ]
    },
    {
      "cell_type": "markdown",
      "source": [
        "# DATA_ROOT_DIR 설정"
      ],
      "metadata": {
        "id": "YFFufLoYpKIX"
      }
    },
    {
      "cell_type": "code",
      "source": [
        "import os\n",
        "\n",
        "DATA_ROOT_DIR = os.path.join(ROOT_DIR, 'Mask_Data')  # Custom Data"
      ],
      "metadata": {
        "id": "CTArMydroa3C"
      },
      "execution_count": 2,
      "outputs": []
    },
    {
      "cell_type": "code",
      "source": [
        "import os\n",
        "import shutil\n",
        "\n",
        "if os.path.exists(DATA_ROOT_DIR):\n",
        "    \n",
        "    shutil.rmtree(DATA_ROOT_DIR)\n",
        "    print(DATA_ROOT_DIR + ' is removed !!')"
      ],
      "metadata": {
        "colab": {
          "base_uri": "https://localhost:8080/"
        },
        "id": "mXffXa2AqwGH",
        "outputId": "85ccec74-f4e2-4e16-b408-126e2bbeb6b7"
      },
      "execution_count": 46,
      "outputs": [
        {
          "output_type": "stream",
          "name": "stdout",
          "text": [
            "/content/Mask_Data is removed !!\n"
          ]
        }
      ]
    },
    {
      "cell_type": "markdown",
      "source": [
        "# 압축 파일 풀기"
      ],
      "metadata": {
        "id": "wiIFve7vpN8Y"
      }
    },
    {
      "cell_type": "code",
      "source": [
        "import os\n",
        "import zipfile\n",
        "\n",
        "with zipfile.ZipFile(os.path.join(ROOT_DIR, 'Mask_Data.zip'), 'r') as target_fle:\n",
        "\n",
        "    target_fle.extractall(DATA_ROOT_DIR)"
      ],
      "metadata": {
        "id": "DgkOQAInohrq"
      },
      "execution_count": 47,
      "outputs": []
    },
    {
      "cell_type": "markdown",
      "source": [
        "# DATA_ROOT_DIR 설정"
      ],
      "metadata": {
        "id": "q1NIJnXhGu4B"
      }
    },
    {
      "cell_type": "code",
      "source": [
        "TRAIN_IMAGE_DATA_DIR = os.path.join(DATA_ROOT_DIR, 'train/images/')\n",
        "TRAIN_LABEL_DATA_DIR = os.path.join(DATA_ROOT_DIR, 'train/labels/')\n",
        "\n",
        "\n",
        "NEW_TRAIN_IMAGE_DATA_DIR = os.path.join(DATA_ROOT_DIR, 'new_train/images/')\n",
        "NEW_TRAIN_LABEL_DATA_DIR = os.path.join(DATA_ROOT_DIR, 'new_train/labels/')\n",
        "\n",
        "\n",
        "VALID_IMAGE_DATA_DIR = os.path.join(DATA_ROOT_DIR, 'valid/images/')\n",
        "VALID_LABEL_DATA_DIR = os.path.join(DATA_ROOT_DIR, 'valid/labels/')\n",
        "\n",
        "\n",
        "NEW_VALID_IMAGE_DATA_DIR = os.path.join(DATA_ROOT_DIR, 'new_valid/images/')\n",
        "NEW_VALID_LABEL_DATA_DIR = os.path.join(DATA_ROOT_DIR, 'new_valid/labels/')"
      ],
      "metadata": {
        "id": "Q9qijEb3pqu0"
      },
      "execution_count": 48,
      "outputs": []
    },
    {
      "cell_type": "markdown",
      "source": [
        "# 임의의 train 이미지 파일 2개, 임의의 train 정답 파일 3개 삭제"
      ],
      "metadata": {
        "id": "w3prfDFozEUE"
      }
    },
    {
      "cell_type": "code",
      "source": [
        "import os\n",
        "import glob\n",
        "import random\n",
        "\n",
        "train_image_file_path_list = glob.glob(TRAIN_IMAGE_DATA_DIR+'*')\n",
        "train_label_file_path_list = glob.glob(TRAIN_LABEL_DATA_DIR+'*')\n",
        "\n",
        "print('[before os.remove] nums of image file path = ', len(train_image_file_path_list))\n",
        "print('[before os.remove] nums of label file path = ', len(train_label_file_path_list))\n",
        "\n",
        "random.shuffle(train_image_file_path_list)  # image shuffle\n",
        "random.shuffle(train_label_file_path_list)  # label shuffle\n",
        "\n",
        "###################################\n",
        "# remove train 2 images\n",
        "###################################\n",
        "removed_image_nums = 2\n",
        "\n",
        "for removed_image_file in train_image_file_path_list[:removed_image_nums]:\n",
        "\n",
        "    print(removed_image_file+ ' is removing...')\n",
        "    os.remove(removed_image_file)\n",
        "\n",
        "\n",
        "###################################\n",
        "# remove train 3 labels\n",
        "###################################\n",
        "removed_label_nums = 3\n",
        "\n",
        "for removed_label_file in train_label_file_path_list[:removed_label_nums]:\n",
        "    \n",
        "    print(removed_label_file+' is removing...')\n",
        "    os.remove(removed_label_file)\n",
        "\n",
        "#############################################################################################\n",
        "\n",
        "train_image_file_path_list = glob.glob(TRAIN_IMAGE_DATA_DIR+'*')\n",
        "train_label_file_path_list = glob.glob(TRAIN_LABEL_DATA_DIR+'*')\n",
        "\n",
        "print('[after os.remove] nums of image file path = ', len(train_image_file_path_list))\n",
        "print('[after os.remove] nums of label file path = ', len(train_label_file_path_list))"
      ],
      "metadata": {
        "colab": {
          "base_uri": "https://localhost:8080/"
        },
        "id": "k_rFRhiRzRd7",
        "outputId": "1a82c9cf-6e67-47d0-b9aa-497ec345f574"
      },
      "execution_count": 49,
      "outputs": [
        {
          "output_type": "stream",
          "name": "stdout",
          "text": [
            "[before os.remove] nums of image file path =  105\n",
            "[before os.remove] nums of label file path =  105\n",
            "/content/Mask_Data/train/images/PhotoGrid_1580452532909_jpg.rf.775b14bea12734249ff8fb91ba036856.jpg is removing...\n",
            "/content/Mask_Data/train/images/0209-00176-076b1_jpg.rf.e9d992f7258f2c5ae8c29f76a727efda.jpg is removing...\n",
            "/content/Mask_Data/train/labels/1140-travelers-at-hong-kong-airport_jpg.rf.df931ff698a201d616311ed661b6a185.txt is removing...\n",
            "/content/Mask_Data/train/labels/1303078448-China-Coronavirus-Death-Toll-Hits-304_jpg.rf.353f9ffe10e6823c6c363687d88441ba.txt is removing...\n",
            "/content/Mask_Data/train/labels/1024x737_09186876046_jpg.rf.e999eaf25d69174a9c12b9777042b267.txt is removing...\n",
            "[after os.remove] nums of image file path =  103\n",
            "[after os.remove] nums of label file path =  102\n"
          ]
        }
      ]
    },
    {
      "cell_type": "markdown",
      "source": [
        "# TRAIN_IMAGE_DATA_DIR, TRAIN_LABEL_DATA_DIR 파일이름 비교 후 train -> new_train 복사코드"
      ],
      "metadata": {
        "id": "VHOKc5mxsLE4"
      }
    },
    {
      "cell_type": "code",
      "source": [
        "import os\n",
        "import shutil\n",
        "\n",
        "\n",
        "train_image_file_list = []\n",
        "train_label_file_list = []\n",
        "\n",
        "train_image_file_name_list = []\n",
        "train_label_file_name_list = []\n",
        "\n",
        "train_image_file_name_set = set()\n",
        "train_label_file_name_set = set()\n",
        "\n",
        "train_image_label_difference_set = set()\n",
        "train_image_label_intersection_set = set()\n",
        "\n",
        "# train data\n",
        "\n",
        "print('====================================================================')\n",
        "print('[train] compare image file nums with label file nums')\n",
        "print('====================================================================')\n",
        "train_image_file_list = os.listdir(TRAIN_IMAGE_DATA_DIR)\n",
        "train_label_file_list = os.listdir(TRAIN_LABEL_DATA_DIR)\n",
        "\n",
        "train_image_file_list.sort()\n",
        "train_label_file_list.sort()\n",
        "\n",
        "\n",
        "# image file name 추출\n",
        "for index in range(len(train_image_file_list)):\n",
        "    image_name = train_image_file_list[index].split('.jpg')[0] # image file name\n",
        "    train_image_file_name_list.append(image_name)\n",
        "    \n",
        "train_image_file_name_set = set(train_image_file_name_list)  # 이미지 파일 이름 집합생성\n",
        "\n",
        "\n",
        "# label file name 추출\n",
        "for index in range(len(train_label_file_list)):\n",
        "    label_name = train_label_file_list[index].split('.txt')[0]  # label file name\n",
        "    train_label_file_name_list.append(label_name)\n",
        "\n",
        "\n",
        "train_label_file_name_set = set(train_label_file_name_list)  # 정답 파일 이름 집합생성\n",
        "\n",
        "########################################################\n",
        "# image file / label file name 비교\n",
        "########################################################\n",
        "train_image_label_difference_set = train_image_file_name_set - train_label_file_name_set  # 차집합\n",
        "\n",
        "train_image_label_intersection_set = train_image_file_name_set & train_label_file_name_set  # 교집합\n",
        "\n",
        "#####################################################\n",
        "# image file / label file 개수가 같은 경우\n",
        "#####################################################\n",
        "\n",
        "if len(train_image_label_difference_set) == 0:\n",
        "    print('>>> image is exactly same as label  <<<')\n",
        "\n",
        "#####################################################\n",
        "# image file / label file 개수가 다른 경우\n",
        "#####################################################   \n",
        "\n",
        "else:\n",
        "\n",
        "    print('--------------------------------------------------------------------')\n",
        "    print('[train] image file != label file')\n",
        "    print('--------------------------------------------------------------------')\n",
        "\n",
        "    # image file name 추출\n",
        "    for index in range(len(train_image_file_list)):\n",
        "        image_name = train_image_file_list[index].split('.jpg')[0] # image file name\n",
        "        train_image_file_name_list.append(image_name)\n",
        "    \n",
        "    train_image_file_name_set = set(train_image_file_name_list)  # 이미지 파일 이름 집합생성\n",
        "\n",
        "\n",
        "    # label file name 추출\n",
        "    for index in range(len(train_label_file_list)):\n",
        "        label_name = train_label_file_list[index].split('.txt')[0]  # label file name\n",
        "        train_label_file_name_list.append(label_name)\n",
        "\n",
        "    train_label_file_name_set = set(train_label_file_name_list)  # 정답 파일 이름 집합생성\n",
        "\n",
        "\n",
        "    # new_train/images, new_train/labels 디렉토리 생성\n",
        "\n",
        "    if not os.path.exists(os.path.join(DATA_ROOT_DIR, 'new_train')):\n",
        "        os.mkdir(os.path.join(DATA_ROOT_DIR, 'new_train'))\n",
        "        print(os.path.join(DATA_ROOT_DIR, 'new_train') + ' is created !!!')\n",
        "\n",
        "\n",
        "    if not os.path.exists(NEW_TRAIN_IMAGE_DATA_DIR):\n",
        "        os.mkdir(NEW_TRAIN_IMAGE_DATA_DIR)\n",
        "        print(NEW_TRAIN_IMAGE_DATA_DIR + ' is created !!!')\n",
        "\n",
        "\n",
        "    if not os.path.exists(NEW_TRAIN_LABEL_DATA_DIR):\n",
        "        os.mkdir(NEW_TRAIN_LABEL_DATA_DIR)\n",
        "        print(NEW_TRAIN_LABEL_DATA_DIR + ' is created !!!')\n",
        "\n",
        "    # image / label 교집합 생성\n",
        "    train_image_label_intersection_set = train_image_file_name_set & train_label_file_name_set  # 교집합\n",
        "\n",
        "    print('nums of image_label intersection set => ', len(train_image_label_intersection_set))\n",
        "\n",
        "    # src / dst path 설정\n",
        "    src_image_path = TRAIN_IMAGE_DATA_DIR\n",
        "    dst_image_path = NEW_TRAIN_IMAGE_DATA_DIR\n",
        "\n",
        "    src_label_path = TRAIN_LABEL_DATA_DIR\n",
        "    dst_label_path = NEW_TRAIN_LABEL_DATA_DIR\n",
        "\n",
        "    # src -> dst 교집합 파일 복사\n",
        "\n",
        "    copy_nums = 0\n",
        "\n",
        "    for file_name in train_image_label_intersection_set:\n",
        "\n",
        "        # image file copy\n",
        "        shutil.copy(os.path.join(src_image_path, file_name+'.jpg'),\n",
        "                    os.path.join(dst_image_path, file_name+'.jpg'))\n",
        "        \n",
        "        # label file copy\n",
        "        shutil.copy(os.path.join(src_label_path, file_name+'.txt'),\n",
        "                    os.path.join(dst_label_path, file_name+'.txt'))\n",
        "\n",
        "        copy_nums += 1\n",
        "\n",
        "    print('total copy nums (src->dst) = ', copy_nums)"
      ],
      "metadata": {
        "colab": {
          "base_uri": "https://localhost:8080/"
        },
        "id": "S8rJYSX2rgsm",
        "outputId": "c7a82b38-f67d-4205-c1f4-fbbbd22f27f0"
      },
      "execution_count": 50,
      "outputs": [
        {
          "output_type": "stream",
          "name": "stdout",
          "text": [
            "====================================================================\n",
            "[train] compare image file nums with label file nums\n",
            "====================================================================\n",
            "--------------------------------------------------------------------\n",
            "[train] image file != label file\n",
            "--------------------------------------------------------------------\n",
            "/content/Mask_Data/new_train is created !!!\n",
            "/content/Mask_Data/new_train/images/ is created !!!\n",
            "/content/Mask_Data/new_train/labels/ is created !!!\n",
            "nums of image_label intersection set =>  100\n",
            "total copy nums (src->dst) =  100\n"
          ]
        }
      ]
    },
    {
      "cell_type": "markdown",
      "source": [
        "# 임의의 valid 이미지 파일 3개, 임의의 train 정답 파일 1개 삭제"
      ],
      "metadata": {
        "id": "rkukXm3HJHgm"
      }
    },
    {
      "cell_type": "code",
      "source": [
        "import os\n",
        "import glob\n",
        "import random\n",
        "\n",
        "valid_image_file_path_list = glob.glob(VALID_IMAGE_DATA_DIR+'*')\n",
        "valid_label_file_path_list = glob.glob(VALID_LABEL_DATA_DIR+'*')\n",
        "\n",
        "print('[before os.remove] nums of image file path = ', len(valid_image_file_path_list))\n",
        "print('[before os.remove] nums of label file path = ', len(valid_label_file_path_list))\n",
        "\n",
        "random.shuffle(valid_image_file_path_list)  # image shuffle\n",
        "random.shuffle(valid_label_file_path_list)  # label shuffle\n",
        "\n",
        "###################################\n",
        "# remove valid 3 images\n",
        "###################################\n",
        "removed_image_nums = 3\n",
        "\n",
        "for removed_image_file in valid_image_file_path_list[:removed_image_nums]:\n",
        "\n",
        "    print(removed_image_file+ ' is removing...')\n",
        "    os.remove(removed_image_file)\n",
        "\n",
        "\n",
        "###################################\n",
        "# remove train 1 labels\n",
        "###################################\n",
        "removed_label_nums = 1\n",
        "\n",
        "for removed_label_file in valid_label_file_path_list[:removed_label_nums]:\n",
        "    \n",
        "    print(removed_label_file+' is removing...')\n",
        "    os.remove(removed_label_file)\n",
        "\n",
        "#############################################################################################\n",
        "\n",
        "valid_image_file_path_list = glob.glob(VALID_IMAGE_DATA_DIR+'*')\n",
        "valid_label_file_path_list = glob.glob(VALID_LABEL_DATA_DIR+'*')\n",
        "\n",
        "print('[after os.remove] nums of image file path = ', len(valid_image_file_path_list))\n",
        "print('[after os.remove] nums of label file path = ', len(valid_label_file_path_list))"
      ],
      "metadata": {
        "colab": {
          "base_uri": "https://localhost:8080/"
        },
        "id": "ZPF9lro0JOjF",
        "outputId": "59677a21-d64b-4926-d7bd-7929ea03b92a"
      },
      "execution_count": 51,
      "outputs": [
        {
          "output_type": "stream",
          "name": "stdout",
          "text": [
            "[before os.remove] nums of image file path =  29\n",
            "[before os.remove] nums of label file path =  29\n",
            "/content/Mask_Data/valid/images/1197315184_jpg_0_jpg.rf.39eb63061e0efb89a8f12a31d676daea.jpg is removing...\n",
            "/content/Mask_Data/valid/images/r1400018548960op29s_jpg.rf.d052eff94795b87ea6ad365aef959779.jpg is removing...\n",
            "/content/Mask_Data/valid/images/1125506397_15801322206581n_jpg.rf.e5618d107f187fa409de96fcc56148ff.jpg is removing...\n",
            "/content/Mask_Data/valid/labels/15391513321824spp815on8_jpg.rf.0fb7d846ae187777d61da0d24f67114c.txt is removing...\n",
            "[after os.remove] nums of image file path =  26\n",
            "[after os.remove] nums of label file path =  28\n"
          ]
        }
      ]
    },
    {
      "cell_type": "markdown",
      "source": [
        "# VALID_IMAGE_DATA_DIR, VALID_LABEL_DATA_DIR 파일이름 비교"
      ],
      "metadata": {
        "id": "uC8ONEE6r_zf"
      }
    },
    {
      "cell_type": "code",
      "source": [
        "valid_image_file_list = []\n",
        "valid_label_file_list = []\n",
        "\n",
        "valid_image_file_name_list = []\n",
        "valid_label_file_name_list = []\n",
        "\n",
        "valid_image_file_name_set = set()\n",
        "valid_label_file_name_set = set()\n",
        "\n",
        "valid_image_label_difference_set = set()\n",
        "valid_image_label_intersection_set = set()\n",
        "\n",
        "# valid data\n",
        "\n",
        "print('====================================================================')\n",
        "print('[valid] compare image file nums with label file nums')\n",
        "print('====================================================================')\n",
        "valid_image_file_list = os.listdir(VALID_IMAGE_DATA_DIR)\n",
        "valid_label_file_list = os.listdir(VALID_LABEL_DATA_DIR)\n",
        "\n",
        "valid_image_file_list.sort()\n",
        "valid_label_file_list.sort()\n",
        "\n",
        "\n",
        "# image file name 추출\n",
        "for index in range(len(valid_image_file_list)):\n",
        "    image_name = valid_image_file_list[index].split('.jpg')[0] # image file name\n",
        "    valid_image_file_name_list.append(image_name)\n",
        "    \n",
        "valid_image_file_name_set = set(valid_image_file_name_list)  # 이미지 파일 이름 집합생성\n",
        "\n",
        "\n",
        "# label file name 추출\n",
        "for index in range(len(valid_label_file_list)):\n",
        "    label_name = valid_label_file_list[index].split('.txt')[0]  # label file name\n",
        "    valid_label_file_name_list.append(label_name)\n",
        "\n",
        "\n",
        "valid_label_file_name_set = set(valid_label_file_name_list)  # 정답 파일 이름 집합생성\n",
        "\n",
        "########################################################\n",
        "# image file / label file name 비교\n",
        "########################################################\n",
        "valid_image_label_difference_set = valid_image_file_name_set - valid_label_file_name_set  # 차집합\n",
        "\n",
        "valid_image_label_intersection_set = valid_image_file_name_set & valid_label_file_name_set  # 교집합\n",
        "\n",
        "#####################################################\n",
        "# image file / label file 개수가 같은 경우\n",
        "#####################################################\n",
        "\n",
        "if len(valid_image_label_difference_set) == 0:\n",
        "    print('>>> image is exactly same as label  <<<')\n",
        "\n",
        "#####################################################\n",
        "# image file / label file 개수가 다른 경우\n",
        "#####################################################   \n",
        "\n",
        "else:\n",
        "\n",
        "    print('--------------------------------------------------------------------')\n",
        "    print('[valid] image file != label file')\n",
        "    print('--------------------------------------------------------------------')\n",
        "\n",
        "    # image file name 추출\n",
        "    for index in range(len(valid_image_file_list)):\n",
        "        image_name = valid_image_file_list[index].split('.jpg')[0] # image file name\n",
        "        valid_image_file_name_list.append(image_name)\n",
        "    \n",
        "    valid_image_file_name_set = set(valid_image_file_name_list)  # 이미지 파일 이름 집합생성\n",
        "\n",
        "\n",
        "    # label file name 추출\n",
        "    for index in range(len(valid_label_file_list)):\n",
        "        label_name = valid_label_file_list[index].split('.txt')[0]  # label file name\n",
        "        valid_label_file_name_list.append(label_name)\n",
        "\n",
        "    valid_label_file_name_set = set(valid_label_file_name_list)  # 정답 파일 이름 집합생성\n",
        "\n",
        "\n",
        "    # new_valid/images, new_valid/labels 디렉토리 생성\n",
        "\n",
        "    if not os.path.exists(os.path.join(DATA_ROOT_DIR, 'new_valid')):\n",
        "        os.mkdir(os.path.join(DATA_ROOT_DIR, 'new_valid'))\n",
        "        print(os.path.join(DATA_ROOT_DIR, 'new_valid') + ' is created !!!')\n",
        "\n",
        "\n",
        "    if not os.path.exists(NEW_VALID_IMAGE_DATA_DIR):\n",
        "        os.mkdir(NEW_VALID_IMAGE_DATA_DIR)\n",
        "        print(NEW_VALID_IMAGE_DATA_DIR + ' is created !!!')\n",
        "\n",
        "\n",
        "    if not os.path.exists(NEW_VALID_LABEL_DATA_DIR):\n",
        "        os.mkdir(NEW_VALID_LABEL_DATA_DIR)\n",
        "        print(NEW_VALID_LABEL_DATA_DIR + ' is created !!!')\n",
        "\n",
        "    # image / label 교집합 생성\n",
        "    valid_image_label_intersection_set = valid_image_file_name_set & valid_label_file_name_set  # 교집합\n",
        "\n",
        "    print('nums of image_label intersection set => ', len(valid_image_label_intersection_set))\n",
        "\n",
        "    # src / dst path 설정\n",
        "    src_image_path = VALID_IMAGE_DATA_DIR\n",
        "    dst_image_path = NEW_VALID_IMAGE_DATA_DIR\n",
        "\n",
        "    src_label_path = VALID_LABEL_DATA_DIR\n",
        "    dst_label_path = NEW_VALID_LABEL_DATA_DIR\n",
        "\n",
        "    # src -> dst 교집합 파일 복사\n",
        "\n",
        "    copy_nums = 0\n",
        "\n",
        "    for file_name in valid_image_label_intersection_set:\n",
        "\n",
        "        # image file copy\n",
        "        shutil.copy(os.path.join(src_image_path, file_name+'.jpg'),\n",
        "                    os.path.join(dst_image_path, file_name+'.jpg'))\n",
        "        \n",
        "        # label file copy\n",
        "        shutil.copy(os.path.join(src_label_path, file_name+'.txt'),\n",
        "                    os.path.join(dst_label_path, file_name+'.txt'))\n",
        "\n",
        "        copy_nums += 1\n",
        "\n",
        "    print('total copy nums (src->dst) = ', copy_nums)"
      ],
      "metadata": {
        "colab": {
          "base_uri": "https://localhost:8080/"
        },
        "id": "cUdxzdhNr7cD",
        "outputId": "430bd804-5947-4a1f-af94-5a1822a1c143"
      },
      "execution_count": 52,
      "outputs": [
        {
          "output_type": "stream",
          "name": "stdout",
          "text": [
            "====================================================================\n",
            "[valid] compare image file nums with label file nums\n",
            "====================================================================\n",
            "--------------------------------------------------------------------\n",
            "[valid] image file != label file\n",
            "--------------------------------------------------------------------\n",
            "/content/Mask_Data/new_valid is created !!!\n",
            "/content/Mask_Data/new_valid/images/ is created !!!\n",
            "/content/Mask_Data/new_valid/labels/ is created !!!\n",
            "nums of image_label intersection set =>  25\n",
            "total copy nums (src->dst) =  25\n"
          ]
        }
      ]
    },
    {
      "cell_type": "markdown",
      "source": [
        "# new_train/images 파일과 new_train/labels 파일 비교"
      ],
      "metadata": {
        "id": "WTtFovc4G6UY"
      }
    },
    {
      "cell_type": "code",
      "source": [
        "# new_train data\n",
        "\n",
        "print('====================================================================')\n",
        "print('[new_train] compare image file nums with label file nums')\n",
        "print('====================================================================')\n",
        "new_train_image_file_list = os.listdir(NEW_TRAIN_IMAGE_DATA_DIR)\n",
        "new_train_label_file_list = os.listdir(NEW_TRAIN_LABEL_DATA_DIR)\n",
        "\n",
        "new_train_image_file_list.sort()\n",
        "new_train_label_file_list.sort()\n",
        "\n",
        "print('new image nums = ', len(new_train_image_file_list), ' , new label nums = ',len(new_train_label_file_list))\n",
        "print(new_train_image_file_list[:2], new_train_image_file_list[-2:])\n",
        "print(new_train_label_file_list[:2], new_train_label_file_list[-2:])"
      ],
      "metadata": {
        "id": "u_mJwKxLs2F5",
        "colab": {
          "base_uri": "https://localhost:8080/"
        },
        "outputId": "c24a13ff-436a-46fd-9dd1-73bcc8a56b7f"
      },
      "execution_count": 53,
      "outputs": [
        {
          "output_type": "stream",
          "name": "stdout",
          "text": [
            "====================================================================\n",
            "[new_train] compare image file nums with label file nums\n",
            "====================================================================\n",
            "new image nums =  100  , new label nums =  100\n",
            "['-1x-1_jpg.rf.8d697c00929e06e6655c08835cc66c02.jpg', '-I1-MS09uaqsLdGTFkgnS0Rcg1mmPyAj95ySg_eckoM_jpeg.rf.8f09ebde8b7b3ea6f9180eff345ec176.jpg'] ['w1240-p16x9-5f8aa310737f8e0e6c43d95a68a82b03b6f60106_jpg.rf.104bedd5b3bad4a0d0a453203e0617a3.jpg', 'w1240-p16x9-6f1db5e0460631cfa98d2d6d8032942f81700bb0_jpg.rf.8c642180c2f1fc98109dad7ff09fe24c.jpg']\n",
            "['-1x-1_jpg.rf.8d697c00929e06e6655c08835cc66c02.txt', '-I1-MS09uaqsLdGTFkgnS0Rcg1mmPyAj95ySg_eckoM_jpeg.rf.8f09ebde8b7b3ea6f9180eff345ec176.txt'] ['w1240-p16x9-5f8aa310737f8e0e6c43d95a68a82b03b6f60106_jpg.rf.104bedd5b3bad4a0d0a453203e0617a3.txt', 'w1240-p16x9-6f1db5e0460631cfa98d2d6d8032942f81700bb0_jpg.rf.8c642180c2f1fc98109dad7ff09fe24c.txt']\n"
          ]
        }
      ]
    },
    {
      "cell_type": "markdown",
      "source": [
        "# new_valid/images 파일과 new_valid/labels 파일 비교"
      ],
      "metadata": {
        "id": "mnTae9sUH6UB"
      }
    },
    {
      "cell_type": "code",
      "source": [
        "# new_valid data\n",
        "\n",
        "print('====================================================================')\n",
        "print('[new_valid] compare image file nums with label file nums')\n",
        "print('====================================================================')\n",
        "new_valid_image_file_list = os.listdir(NEW_VALID_IMAGE_DATA_DIR)\n",
        "new_valid_label_file_list = os.listdir(NEW_VALID_LABEL_DATA_DIR)\n",
        "\n",
        "new_valid_image_file_list.sort()\n",
        "new_valid_label_file_list.sort()\n",
        "\n",
        "print('new image nums = ', len(new_valid_image_file_list), ' , new label nums = ',len(new_valid_label_file_list))\n",
        "print(new_valid_image_file_list[:2], new_valid_image_file_list[-2:])\n",
        "print(new_valid_label_file_list[:2], new_valid_label_file_list[-2:])"
      ],
      "metadata": {
        "colab": {
          "base_uri": "https://localhost:8080/"
        },
        "id": "l-Cz153iHjBm",
        "outputId": "70d22daa-7a1c-47da-c9e2-a2713859bd29"
      },
      "execution_count": 54,
      "outputs": [
        {
          "output_type": "stream",
          "name": "stdout",
          "text": [
            "====================================================================\n",
            "[new_valid] compare image file nums with label file nums\n",
            "====================================================================\n",
            "new image nums =  25  , new label nums =  25\n",
            "['0009S6815V3PEU1N-C123-F4_jpg.rf.6b0befd018e6308b6029a17a2ee08c48.jpg', '000_1OC3DT_jpg.rf.0570a1f4ab79e324496c311456b6b1f8.jpg'] ['w1240-p16x9-CORONAVIRUS-CHINA-HEALTH-APPLE STORE_jpg.rf.8f83c6922f9fa841301e6722c35ec9e4.jpg', 'w1240-p16x9-coronavirus_CHINA-HEALTH_jpg.rf.73f3f135732ac6139a592ab1139f604a.jpg']\n",
            "['0009S6815V3PEU1N-C123-F4_jpg.rf.6b0befd018e6308b6029a17a2ee08c48.txt', '000_1OC3DT_jpg.rf.0570a1f4ab79e324496c311456b6b1f8.txt'] ['w1240-p16x9-CORONAVIRUS-CHINA-HEALTH-APPLE STORE_jpg.rf.8f83c6922f9fa841301e6722c35ec9e4.txt', 'w1240-p16x9-coronavirus_CHINA-HEALTH_jpg.rf.73f3f135732ac6139a592ab1139f604a.txt']\n"
          ]
        }
      ]
    },
    {
      "cell_type": "code",
      "source": [
        ""
      ],
      "metadata": {
        "id": "NM_bsWoDKIhQ"
      },
      "execution_count": null,
      "outputs": []
    }
  ]
}