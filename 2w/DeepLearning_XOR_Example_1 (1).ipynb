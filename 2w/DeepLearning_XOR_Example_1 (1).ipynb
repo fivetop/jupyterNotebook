{
 "cells": [
  {
   "cell_type": "markdown",
   "metadata": {
    "id": "HVPjIORrOxp8"
   },
   "source": [
    "## numerical_derivative, sigmoid 함수 정의\n",
    "\n",
    "## 딜러닝을 사용한 XOR 문제\n"
   ]
  },
  {
   "cell_type": "code",
   "execution_count": 1,
   "metadata": {
    "id": "ONLApAPKOxqO"
   },
   "outputs": [],
   "source": [
    "import numpy as np\n",
    "from datetime import datetime\n",
    "\n",
    "np.random.seed(0)\n",
    "\n",
    "def numerical_derivative(f, x):\n",
    "    delta_x = 1e-4 # 0.0001\n",
    "    grad = np.zeros_like(x)\n",
    "    \n",
    "    it = np.nditer(x, flags=['multi_index'], op_flags=['readwrite'])\n",
    "    \n",
    "    while not it.finished:\n",
    "        idx = it.multi_index        \n",
    "        tmp_val = x[idx]\n",
    "        x[idx] = float(tmp_val) + delta_x\n",
    "        fx1 = f(x) # f(x+delta_x)\n",
    "        \n",
    "        x[idx] = float(tmp_val) - delta_x \n",
    "        fx2 = f(x) # f(x-delta_x)\n",
    "        grad[idx] = (fx1 - fx2) / (2*delta_x)\n",
    "        \n",
    "        x[idx] = tmp_val \n",
    "        it.iternext()   \n",
    "        \n",
    "    return grad"
   ]
  },
  {
   "cell_type": "code",
   "execution_count": 2,
   "metadata": {
    "id": "l9KYhcJ6Oxqb"
   },
   "outputs": [],
   "source": [
    "# 최종출력은 y = sigmoid(Wx+b) 이며, 손실함수는 cross-entropy 로 나타냄\n",
    "\n",
    "def sigmoid(z):\n",
    "    return 1 / (1+np.exp(-z))"
   ]
  },
  {
   "cell_type": "markdown",
   "metadata": {
    "id": "KLkHhqE1PB_C"
   },
   "source": [
    "## data definition"
   ]
  },
  {
   "cell_type": "code",
   "execution_count": 3,
   "metadata": {
    "colab": {
     "base_uri": "https://localhost:8080/"
    },
    "id": "dR6A0Sc1Oxqc",
    "outputId": "fbd0f5ee-e7f1-4246-b662-93523624301f"
   },
   "outputs": [
    {
     "name": "stdout",
     "output_type": "stream",
     "text": [
      "xor_xdata.shape =  (4, 2) , xor_tdata.shape =  (4, 1)\n"
     ]
    }
   ],
   "source": [
    "xor_xdata = np.array([ [0,0], [0,1], [1,0], [1,1] ])  \n",
    "xor_tdata = np.array([0, 1, 1, 0]).reshape(4,1)\n",
    "\n",
    "print(\"xor_xdata.shape = \", xor_xdata.shape, \", xor_tdata.shape = \", xor_tdata.shape)"
   ]
  },
  {
   "cell_type": "markdown",
   "metadata": {
    "id": "sFnhA47FPFzp"
   },
   "source": [
    "## initialize weights and bias"
   ]
  },
  {
   "cell_type": "code",
   "execution_count": 4,
   "metadata": {
    "colab": {
     "base_uri": "https://localhost:8080/"
    },
    "id": "9MtmDwl2Oxqf",
    "outputId": "afde59a9-baaa-453f-df93-5b869d48d620"
   },
   "outputs": [
    {
     "name": "stdout",
     "output_type": "stream",
     "text": [
      "[[0.5488135  0.71518937 0.60276338]\n",
      " [0.54488318 0.4236548  0.64589411]] [0.38344152 0.79172504 0.52889492]\n",
      "[[0.43758721]\n",
      " [0.891773  ]\n",
      " [0.96366276]] [0.56804456]\n"
     ]
    }
   ],
   "source": [
    "input_nodes = 2\n",
    "hidden_nodes = 3\n",
    "output_nodes = 1\n",
    "\n",
    "W2 = np.random.rand(input_nodes, hidden_nodes)  \n",
    "W3 = np.random.rand(hidden_nodes, output_nodes)  \n",
    "\n",
    "b2 = np.random.rand(hidden_nodes)   \n",
    "b3 = np.random.rand(output_nodes)\n",
    "\n",
    "print(W2, b2)\n",
    "print(W3, b3)"
   ]
  },
  {
   "cell_type": "markdown",
   "metadata": {
    "id": "BIrUcRvcPQeG"
   },
   "source": [
    "## define loss function and output, y"
   ]
  },
  {
   "cell_type": "code",
   "execution_count": 5,
   "metadata": {
    "id": "ldAtOucnOxqg"
   },
   "outputs": [],
   "source": [
    "def loss_func(x, t):\n",
    "    \n",
    "    delta = 1e-7    # log 무한대 발산 방지\n",
    "    \n",
    "    z2 = np.dot(x, W2) + b2\n",
    "    a2 = sigmoid(z2)\n",
    "\n",
    "    z3 = np.dot(a2, W3) + b3\n",
    "    y = a3 = sigmoid(z3)\n",
    "    \n",
    "    # cross-entropy \n",
    "    return  -np.sum( t*np.log(y + delta) + (1-t)*np.log((1 - y)+delta ) ) \n",
    "\n",
    "    # MSE\n",
    "    #return np.sum((t-y)**2) / len(x)"
   ]
  },
  {
   "cell_type": "markdown",
   "metadata": {
    "id": "0OAKzLBvPU5e"
   },
   "source": [
    "## XOR learning"
   ]
  },
  {
   "cell_type": "code",
   "execution_count": 6,
   "metadata": {
    "colab": {
     "base_uri": "https://localhost:8080/"
    },
    "id": "4uaeY4ijOxqi",
    "outputId": "0ca50e18-2c47-494b-9236-8e572374daf6"
   },
   "outputs": [
    {
     "name": "stdout",
     "output_type": "stream",
     "text": [
      "Initial loss value =  4.960819395352136\n",
      "step =  0 loss value =  4.888498363507611\n",
      "step =  500 loss value =  2.765225987463843\n",
      "step =  1000 loss value =  2.7625317902790005\n",
      "step =  1500 loss value =  2.758906438412254\n",
      "step =  2000 loss value =  2.7538241166594917\n",
      "step =  2500 loss value =  2.7464988238515207\n",
      "step =  3000 loss value =  2.7357702061672624\n",
      "step =  3500 loss value =  2.7199761415146915\n",
      "step =  4000 loss value =  2.696816614186704\n",
      "step =  4500 loss value =  2.6632264534858137\n",
      "step =  5000 loss value =  2.615476998931758\n",
      "step =  5500 loss value =  2.550232724697394\n",
      "step =  6000 loss value =  2.4670858162414637\n",
      "step =  6500 loss value =  2.370434090588483\n",
      "step =  7000 loss value =  2.267054189300695\n",
      "step =  7500 loss value =  2.1606085254639056\n",
      "step =  8000 loss value =  2.0475671280823553\n",
      "step =  8500 loss value =  1.9159895091800485\n",
      "step =  9000 loss value =  1.7481383801392802\n",
      "step =  9500 loss value =  1.5318162456956954\n",
      "step =  10000 loss value =  1.2793474217898821\n",
      "step =  10500 loss value =  1.0294331461542192\n",
      "step =  11000 loss value =  0.8174720900702781\n",
      "step =  11500 loss value =  0.6542148549107014\n",
      "step =  12000 loss value =  0.5332097312879522\n",
      "step =  12500 loss value =  0.4437348533268509\n",
      "step =  13000 loss value =  0.3766082134327967\n",
      "step =  13500 loss value =  0.3252074789931755\n",
      "step =  14000 loss value =  0.2850020682983146\n",
      "step =  14500 loss value =  0.2529176669128415\n",
      "step =  15000 loss value =  0.22684701403771187\n",
      "step =  15500 loss value =  0.205320529818015\n",
      "step =  16000 loss value =  0.18729309080404016\n",
      "step =  16500 loss value =  0.17200669425488543\n",
      "step =  17000 loss value =  0.1589011862512204\n",
      "step =  17500 loss value =  0.14755534160705594\n",
      "step =  18000 loss value =  0.13764728782860133\n",
      "step =  18500 loss value =  0.12892743825634115\n",
      "step =  19000 loss value =  0.12119965074161569\n",
      "step =  19500 loss value =  0.11430788929708831\n",
      "step =  20000 loss value =  0.1081266305001217\n",
      "step =  20500 loss value =  0.10255386025569074\n",
      "step =  21000 loss value =  0.09750589045206347\n",
      "step =  21500 loss value =  0.09291347305658687\n",
      "step =  22000 loss value =  0.08871885196612092\n",
      "step =  22500 loss value =  0.08487350140177896\n",
      "step =  23000 loss value =  0.08133637300405896\n",
      "step =  23500 loss value =  0.07807252410819157\n",
      "step =  24000 loss value =  0.07505203466047625\n",
      "step =  24500 loss value =  0.07224914486064324\n",
      "step =  25000 loss value =  0.0696415631568738\n",
      "step =  25500 loss value =  0.06720990685701052\n",
      "step =  26000 loss value =  0.06493724682039398\n",
      "step =  26500 loss value =  0.06280873446096337\n",
      "step =  27000 loss value =  0.06081129431555045\n",
      "step =  27500 loss value =  0.05893336919354336\n",
      "step =  28000 loss value =  0.05716470776677862\n",
      "step =  28500 loss value =  0.05549618662224399\n",
      "step =  29000 loss value =  0.05391966046100147\n",
      "step =  29500 loss value =  0.05242783540985873\n",
      "step =  30000 loss value =  0.05101416141071786\n",
      "\n",
      "Elapsed Time =>  0:00:30.198768\n"
     ]
    }
   ],
   "source": [
    "learning_rate = 1e-2  \n",
    "\n",
    "f = lambda x : loss_func(xor_xdata, xor_tdata)  \n",
    "\n",
    "print(\"Initial loss value = \", loss_func(xor_xdata, xor_tdata) )\n",
    "\n",
    "start_time = datetime.now()\n",
    "\n",
    "for step in range(30001):  \n",
    "    \n",
    "    W2 -= learning_rate * numerical_derivative(f, W2)\n",
    "    \n",
    "    b2 -= learning_rate * numerical_derivative(f, b2)\n",
    "\n",
    "    W3 -= learning_rate * numerical_derivative(f, W3)\n",
    "    \n",
    "    b3 -= learning_rate * numerical_derivative(f, b3)\n",
    "    \n",
    "    if (step % 500 == 0):\n",
    "        print(\"step = \", step, \"loss value = \", loss_func(xor_xdata, xor_tdata) )\n",
    "        \n",
    "end_time = datetime.now()\n",
    "        \n",
    "print(\"\")\n",
    "print(\"Elapsed Time => \", end_time - start_time)"
   ]
  },
  {
   "cell_type": "markdown",
   "metadata": {
    "id": "MdCQM7SiPL_N"
   },
   "source": [
    "## evaluate and predict"
   ]
  },
  {
   "cell_type": "code",
   "execution_count": 9,
   "metadata": {
    "id": "Eb-JN1wnPOkt"
   },
   "outputs": [],
   "source": [
    "# 학습을 마친 후, 임의의 데이터에 대해 미래 값 예측 함수\n",
    "# 입력변수 test_data : numpy type\n",
    "def predict(test_data):\n",
    "    \n",
    "    z2 = np.dot(test_data, W2) + b2\n",
    "    a2 = sigmoid(z2)\n",
    "\n",
    "    z3 = np.dot(a2, W3) + b3\n",
    "    y = a3 = sigmoid(z3)\n",
    "    \n",
    "    if y > 0.5:\n",
    "        pred_val = 1\n",
    "    else:\n",
    "        pred_val = 0\n",
    "\n",
    "    return y, pred_val"
   ]
  },
  {
   "cell_type": "code",
   "execution_count": 10,
   "metadata": {
    "colab": {
     "base_uri": "https://localhost:8080/"
    },
    "id": "kypteKwcOxqk",
    "outputId": "36e41ed7-3c1f-4eb5-b4dc-0bf5ad3c4711"
   },
   "outputs": [
    {
     "name": "stdout",
     "output_type": "stream",
     "text": [
      "(array([0.01388329]), 0)\n",
      "(array([0.98846867]), 1)\n",
      "(array([0.98776726]), 1)\n",
      "(array([0.01304169]), 0)\n"
     ]
    }
   ],
   "source": [
    "test_data = np.array([ [0, 0], [0, 1], [1, 0], [1, 1] ])\n",
    "\n",
    "for input_data in test_data:\n",
    "\n",
    "    print(predict(input_data))"
   ]
  },
  {
   "cell_type": "code",
   "execution_count": null,
   "metadata": {
    "id": "eBEvqwwhOxqt"
   },
   "outputs": [],
   "source": []
  }
 ],
 "metadata": {
  "anaconda-cloud": {},
  "colab": {
   "collapsed_sections": [],
   "name": "DeepLearning_XOR_Example.ipynb",
   "provenance": []
  },
  "kernelspec": {
   "display_name": "Python 3",
   "language": "python",
   "name": "python3"
  },
  "language_info": {
   "codemirror_mode": {
    "name": "ipython",
    "version": 3
   },
   "file_extension": ".py",
   "mimetype": "text/x-python",
   "name": "python",
   "nbconvert_exporter": "python",
   "pygments_lexer": "ipython3",
   "version": "3.9.13"
  }
 },
 "nbformat": 4,
 "nbformat_minor": 1
}
