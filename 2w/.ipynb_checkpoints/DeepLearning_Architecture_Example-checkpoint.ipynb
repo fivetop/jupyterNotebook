{
 "cells": [
  {
   "cell_type": "code",
   "execution_count": null,
   "metadata": {},
   "outputs": [],
   "source": [
    "DeepLearning_Architecture_Example\n",
    "딥러닝의 기본 구조 - # 활성화함수 sigmoid - 가중치와 바이어스 "
   ]
  },
  {
   "cell_type": "code",
   "execution_count": 1,
   "metadata": {
    "colab": {
     "base_uri": "https://localhost:8080/"
    },
    "executionInfo": {
     "elapsed": 486,
     "status": "ok",
     "timestamp": 1664607425039,
     "user": {
      "displayName": "Romy Oh",
      "userId": "09196160195813226599"
     },
     "user_tz": -540
    },
    "id": "jbWNJCmyUo5e",
    "outputId": "e634386a-de1c-4392-a5b7-ddcadafc0ac2"
   },
   "outputs": [
    {
     "name": "stdout",
     "output_type": "stream",
     "text": [
      "W2 =  [[0.9299136  0.58650569]\n",
      " [0.02281165 0.0927593 ]] , W2.shape =  (2, 2)\n",
      "b2 =  [0.22965754 0.48987214] , b2.shape =  (2,)\n",
      "W3 =  [[0.30540166 0.87100863]\n",
      " [0.89771931 0.96692293]] , W3.shape =  (2, 2)\n",
      "b3 =  [0.45119513 0.68890607] , b3.shape =  (2,)\n"
     ]
    }
   ],
   "source": [
    "import numpy as np\n",
    "\n",
    "# 활성화함수 sigmoid\n",
    "def sigmoid(x):\n",
    "    \n",
    "    return 1 / (1 + np.exp(-x))\n",
    "\n",
    "input_data = np.array([ [1, 1], [4, 3] ])\n",
    "target_data = np.array([ 0, 1 ])\n",
    "\n",
    "input_nodes = 2    # 입력노드\n",
    "hidden_nodes = 2   # 은닉노드\n",
    "output_nodes = 2   # 출력노드\n",
    "\n",
    "W2 = np.random.rand(input_nodes, hidden_nodes)\n",
    "b2 = np.random.rand(hidden_nodes)\n",
    "\n",
    "W3 = np.random.rand(hidden_nodes, output_nodes)\n",
    "b3 = np.random.rand(output_nodes)\n",
    "\n",
    "print(\"W2 = \", W2, \", W2.shape = \", W2.shape)\n",
    "print(\"b2 = \", b2, \", b2.shape = \", b2.shape)\n",
    "print(\"W3 = \", W3, \", W3.shape = \", W3.shape)\n",
    "print(\"b3 = \", b3, \", b3.shape = \", b3.shape)\n"
   ]
  },
  {
   "cell_type": "code",
   "execution_count": 2,
   "metadata": {
    "colab": {
     "base_uri": "https://localhost:8080/"
    },
    "executionInfo": {
     "elapsed": 477,
     "status": "ok",
     "timestamp": 1664607487026,
     "user": {
      "displayName": "Romy Oh",
      "userId": "09196160195813226599"
     },
     "user_tz": -540
    },
    "id": "SfcgXj9iVViM",
    "outputId": "41e01fc9-a021-46e6-b514-2a6310dd3102"
   },
   "outputs": [
    {
     "name": "stdout",
     "output_type": "stream",
     "text": [
      "W2 =  [[0.92430718 0.4548063 ]\n",
      " [0.90420529 0.47942234]\n",
      " [0.51938359 0.8464155 ]\n",
      " [0.59629269 0.4482588 ]] , W2.shape =  (4, 2)\n",
      "b2 =  [0.83691976 0.59867206] , b2.shape =  (2,)\n",
      "W3 =  [[0.42874621 0.3110884 ]\n",
      " [0.67002313 0.64520301]] , W3.shape =  (2, 2)\n",
      "b3 =  [0.92669705 0.85309794] , b3.shape =  (2,)\n"
     ]
    }
   ],
   "source": [
    "\n",
    "input_data = np.array([ [1, 2, 3, 4], [0, 1, 2, 0], [0, 0, 1, 1] ])\n",
    "target_data = np.array([ 0, 1, 0 ])\n",
    "\n",
    "input_nodes = 4    # 입력노드\n",
    "hidden_nodes = 2   # 은닉노드\n",
    "output_nodes = 2   # 출력노드\n",
    "\n",
    "W2 = np.random.rand(input_nodes, hidden_nodes)\n",
    "b2 = np.random.rand(hidden_nodes)\n",
    "\n",
    "W3 = np.random.rand(hidden_nodes, output_nodes)\n",
    "b3 = np.random.rand(output_nodes)\n",
    "\n",
    "print(\"W2 = \", W2, \", W2.shape = \", W2.shape)\n",
    "print(\"b2 = \", b2, \", b2.shape = \", b2.shape)\n",
    "print(\"W3 = \", W3, \", W3.shape = \", W3.shape)\n",
    "print(\"b3 = \", b3, \", b3.shape = \", b3.shape)\n"
   ]
  },
  {
   "cell_type": "code",
   "execution_count": null,
   "metadata": {},
   "outputs": [],
   "source": []
  },
  {
   "cell_type": "code",
   "execution_count": null,
   "metadata": {},
   "outputs": [],
   "source": []
  }
 ],
 "metadata": {
  "colab": {
   "authorship_tag": "ABX9TyMtslUwb1OOnZ6q9Lgj+7/6",
   "provenance": []
  },
  "kernelspec": {
   "display_name": "Python 3",
   "language": "python",
   "name": "python3"
  },
  "language_info": {
   "codemirror_mode": {
    "name": "ipython",
    "version": 3
   },
   "file_extension": ".py",
   "mimetype": "text/x-python",
   "name": "python",
   "nbconvert_exporter": "python",
   "pygments_lexer": "ipython3",
   "version": "3.9.13"
  }
 },
 "nbformat": 4,
 "nbformat_minor": 1
}
