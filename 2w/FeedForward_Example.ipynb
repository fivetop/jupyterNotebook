{
 "cells": [
  {
   "cell_type": "markdown",
   "metadata": {},
   "source": [
    "### [예제 1]  Feed Forward 이해 및 계산 연습"
   ]
  },
  {
   "cell_type": "code",
   "execution_count": 1,
   "metadata": {},
   "outputs": [],
   "source": [
    "import numpy as np\n",
    "\n",
    "# 활성화함수 sigmoid\n",
    "def sigmoid(x):\n",
    "    \n",
    "    return 1 / (1 + np.exp(-x))"
   ]
  },
  {
   "cell_type": "code",
   "execution_count": 2,
   "metadata": {},
   "outputs": [],
   "source": [
    "input_data = np.array([1, 2])    # 입력데이터\n",
    "target_data = np.array([1])      # 정답데이터"
   ]
  },
  {
   "cell_type": "markdown",
   "metadata": {},
   "source": [
    "#### 신경망 아키텍처 그려볼것"
   ]
  },
  {
   "cell_type": "code",
   "execution_count": 3,
   "metadata": {},
   "outputs": [],
   "source": [
    "input_nodes = 2    # 입력노드\n",
    "hidden_nodes = 3   # 은닉노드\n",
    "output_nodes = 1   # 출력노드"
   ]
  },
  {
   "cell_type": "markdown",
   "metadata": {},
   "source": [
    "#### 신경망 아키텍처 그려볼것"
   ]
  },
  {
   "cell_type": "code",
   "execution_count": 4,
   "metadata": {},
   "outputs": [
    {
     "name": "stdout",
     "output_type": "stream",
     "text": [
      "W2 =  [[0.28344889 0.85330606 0.15144335]\n",
      " [0.48588835 0.33458854 0.41656901]] , W2.shape =  (2, 3)\n",
      "b2 =  [0.47258453 0.26064422 0.50579538] , b2.shape =  (3,)\n",
      "W3 =  [[0.24779251]\n",
      " [0.05628677]\n",
      " [0.63474067]] , W3.shape =  (3, 1)\n",
      "b3 =  [0.96095362] , b3.shape =  (1,)\n"
     ]
    }
   ],
   "source": [
    "W2 = np.random.rand(input_nodes, hidden_nodes)\n",
    "b2 = np.random.rand(hidden_nodes)\n",
    "\n",
    "W3 = np.random.rand(hidden_nodes, output_nodes)\n",
    "b3 = np.random.rand(output_nodes)\n",
    "\n",
    "print(\"W2 = \", W2, \", W2.shape = \", W2.shape)\n",
    "print(\"b2 = \", b2, \", b2.shape = \", b2.shape)\n",
    "print(\"W3 = \", W3, \", W3.shape = \", W3.shape)\n",
    "print(\"b3 = \", b3, \", b3.shape = \", b3.shape)"
   ]
  },
  {
   "cell_type": "markdown",
   "metadata": {},
   "source": [
    "#### Z2, A2, Z3, y(=A3), loss 값을 신경망 아키텍처에서 설명해볼것"
   ]
  },
  {
   "cell_type": "code",
   "execution_count": 9,
   "metadata": {},
   "outputs": [],
   "source": [
    "def feed_forward(xdata):\n",
    "    \n",
    "    Z2 = np.dot(xdata, W2) + b2\n",
    "    \n",
    "    print(\"[feed_forward function]\\n\")\n",
    "    \n",
    "    print(\"Z2 = \", Z2)\n",
    "    \n",
    "    A2 = sigmoid(Z2)\n",
    "    \n",
    "    print(\"A2 = \", A2)\n",
    "    \n",
    "    Z3 = np.dot(A2, W3) + b3\n",
    "    \n",
    "    print(\"Z3 = \", Z3)\n",
    "    \n",
    "    Y = A3 = sigmoid(Z3)\n",
    "    \n",
    "    print(\"Y = \", Y, \", A3 = \", A3)\n",
    "    \n",
    "    loss = np.sum((target_data-Y)**2) / (1)\n",
    "    \n",
    "    print('current loss val = ', loss)\n",
    "    \n",
    "    print(\"\\n[feed_forward function]\\n\")\n",
    "        \n",
    "    return loss"
   ]
  },
  {
   "cell_type": "code",
   "execution_count": 10,
   "metadata": {},
   "outputs": [
    {
     "name": "stdout",
     "output_type": "stream",
     "text": [
      "[feed_forward function]\n",
      "\n",
      "Z2 =  [1.72781011 1.78312735 1.49037675]\n",
      "A2 =  [0.84913209 0.8560826  0.81613481]\n",
      "Z3 =  [1.73758227]\n",
      "Y =  [0.85037971] , A3 =  [0.85037971]\n",
      "current loss val =  0.022386231683567077\n",
      "\n",
      "[feed_forward function]\n",
      "\n"
     ]
    }
   ],
   "source": [
    "loss_val = feed_forward(input_data)"
   ]
  },
  {
   "cell_type": "code",
   "execution_count": null,
   "metadata": {},
   "outputs": [],
   "source": []
  }
 ],
 "metadata": {
  "anaconda-cloud": {},
  "kernelspec": {
   "display_name": "Python 3",
   "language": "python",
   "name": "python3"
  },
  "language_info": {
   "codemirror_mode": {
    "name": "ipython",
    "version": 3
   },
   "file_extension": ".py",
   "mimetype": "text/x-python",
   "name": "python",
   "nbconvert_exporter": "python",
   "pygments_lexer": "ipython3",
   "version": "3.9.13"
  }
 },
 "nbformat": 4,
 "nbformat_minor": 1
}
